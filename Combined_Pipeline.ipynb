{
 "cells": [
  {
   "cell_type": "code",
   "execution_count": null,
   "metadata": {},
   "outputs": [],
   "source": [
    "from pandas import read_csv\n",
    "from autoencoder.autoencoder import AnomalyDetector\n",
    "from turtleIsolationForests.isolationForest import IsolationForest\n",
    "from turtleIsolationForests.preprocessFeatures import minmax_preprocess_features\n",
    "from turtleIsolationForests.printResults import notebook_visual_printout, csv_printout\n",
    "from pipelineUtils.runPipeline import run_pipeline"
   ]
  },
  {
   "cell_type": "code",
   "execution_count": null,
   "metadata": {},
   "outputs": [],
   "source": [
    "train_dataframe = read_csv(\"./eda_simple_classification/network_data_mod_train.csv\", index_col=0)\n",
    "test_dataframe = read_csv(\"./eda_simple_classification/network_data_mod_test.csv\", index_col=0)\n",
    "X_train, X_test, train_labels, test_labels = minmax_preprocess_features(train_dataframe, test_dataframe)\n",
    "contamination = sum(train_labels) / len(train_labels)\n",
    "contamination"
   ]
  },
  {
   "cell_type": "code",
   "execution_count": null,
   "metadata": {},
   "outputs": [],
   "source": [
    "autoenc = AnomalyDetector()\n",
    "autoenc.compile(optimizer='adam', loss='mae')"
   ]
  },
  {
   "cell_type": "code",
   "execution_count": null,
   "metadata": {},
   "outputs": [],
   "source": [
    "iForest = IsolationForest(contamination = contamination, random_state = None)"
   ]
  },
  {
   "cell_type": "code",
   "execution_count": null,
   "metadata": {},
   "outputs": [],
   "source": [
    "run_pipeline(X_train, X_test, train_labels, test_labels, autoenc, iForest, intermediatePrint=True, printHistory=True, epochs=50)"
   ]
  },
  {
   "cell_type": "code",
   "execution_count": null,
   "metadata": {},
   "outputs": [],
   "source": []
  }
 ],
 "metadata": {
  "kernelspec": {
   "display_name": "Python 3",
   "language": "python",
   "name": "python3"
  },
  "language_info": {
   "codemirror_mode": {
    "name": "ipython",
    "version": 3
   },
   "file_extension": ".py",
   "mimetype": "text/x-python",
   "name": "python",
   "nbconvert_exporter": "python",
   "pygments_lexer": "ipython3",
   "version": "3.10.9"
  },
  "orig_nbformat": 4
 },
 "nbformat": 4,
 "nbformat_minor": 2
}
