{
 "cells": [
  {
   "cell_type": "markdown",
   "metadata": {
    "collapsed": false,
    "pycharm": {
     "name": "#%% md\n"
    }
   },
   "source": [
    "### Load data from datasets"
   ]
  },
  {
   "cell_type": "code",
   "execution_count": 2,
   "outputs": [
    {
     "name": "stderr",
     "output_type": "stream",
     "text": [
      "C:\\Users\\joshu\\AppData\\Local\\Temp\\ipykernel_19288\\2194499188.py:16: ParserWarning: Length of header or names does not match length of data. This leads to a loss of data with index_col=False.\n",
      "  df = pd.read_csv(data_loc + a1, names=data, index_col=False)\n",
      "C:\\Users\\joshu\\AppData\\Local\\Temp\\ipykernel_19288\\2194499188.py:17: ParserWarning: Length of header or names does not match length of data. This leads to a loss of data with index_col=False.\n",
      "  df_test = pd.read_csv(data_loc + a2, names=data, index_col=False)\n"
     ]
    }
   ],
   "source": [
    "import numpy as np\n",
    "import pandas as pd\n",
    "import matplotlib.pyplot as plt\n",
    "import sklearn as skl\n",
    "\n",
    "data_loc = \"nsl-kdd/\"\n",
    "a1 = \"KDDTrain+.txt\"\n",
    "a2 = \"KDDTest+.txt\"\n",
    "\n",
    "import csv\n",
    "file = open(\"nsl-kdd/labels.txt\", \"r\")\n",
    "data = list(csv.reader(file, delimiter=\",\"))\n",
    "data = data[0]\n",
    "\n",
    "df_columns = pd.read_csv(\"nsl-kdd/labels.txt\")\n",
    "df = pd.read_csv(data_loc + a1, names=data, index_col=False)\n",
    "df_test = pd.read_csv(data_loc + a2, names=data, index_col=False)\n",
    "\n",
    "\n",
    "#df_labels_columns = [0]\n",
    "#df_labels = pd.read_csv(\"ServerMachineDataset/test_label/machine-1-1.txt\")"
   ],
   "metadata": {
    "collapsed": false,
    "pycharm": {
     "name": "#%%\n"
    }
   }
  },
  {
   "cell_type": "markdown",
   "source": [
    "### Data imported, time to analyze"
   ],
   "metadata": {
    "collapsed": false,
    "pycharm": {
     "name": "#%% md\n"
    }
   }
  },
  {
   "cell_type": "code",
   "execution_count": 3,
   "outputs": [
    {
     "data": {
      "text/plain": "           duration     src_bytes     dst_bytes           land  \\\ncount  125973.00000  1.259730e+05  1.259730e+05  125973.000000   \nmean      287.14465  4.556674e+04  1.977911e+04       0.000198   \nstd      2604.51531  5.870331e+06  4.021269e+06       0.014086   \nmin         0.00000  0.000000e+00  0.000000e+00       0.000000   \n25%         0.00000  0.000000e+00  0.000000e+00       0.000000   \n50%         0.00000  4.400000e+01  0.000000e+00       0.000000   \n75%         0.00000  2.760000e+02  5.160000e+02       0.000000   \nmax     42908.00000  1.379964e+09  1.309937e+09       1.000000   \n\n       wrong_fragment         urgent            hot  num_failed_logins  \\\ncount   125973.000000  125973.000000  125973.000000      125973.000000   \nmean         0.022687       0.000111       0.204409           0.001222   \nstd          0.253530       0.014366       2.149968           0.045239   \nmin          0.000000       0.000000       0.000000           0.000000   \n25%          0.000000       0.000000       0.000000           0.000000   \n50%          0.000000       0.000000       0.000000           0.000000   \n75%          0.000000       0.000000       0.000000           0.000000   \nmax          3.000000       3.000000      77.000000           5.000000   \n\n           logged_in  num_compromised  ...  dst_host_count  \\\ncount  125973.000000    125973.000000  ...   125973.000000   \nmean        0.395736         0.279250  ...      182.148945   \nstd         0.489010        23.942042  ...       99.206213   \nmin         0.000000         0.000000  ...        0.000000   \n25%         0.000000         0.000000  ...       82.000000   \n50%         0.000000         0.000000  ...      255.000000   \n75%         1.000000         0.000000  ...      255.000000   \nmax         1.000000      7479.000000  ...      255.000000   \n\n       dst_host_srv_count  dst_host_same_srv_rate  dst_host_diff_srv_rate  \\\ncount       125973.000000           125973.000000           125973.000000   \nmean           115.653005                0.521242                0.082951   \nstd            110.702741                0.448949                0.188922   \nmin              0.000000                0.000000                0.000000   \n25%             10.000000                0.050000                0.000000   \n50%             63.000000                0.510000                0.020000   \n75%            255.000000                1.000000                0.070000   \nmax            255.000000                1.000000                1.000000   \n\n       dst_host_same_src_port_rate  dst_host_srv_diff_host_rate  \\\ncount                125973.000000                125973.000000   \nmean                      0.148379                     0.032542   \nstd                       0.308997                     0.112564   \nmin                       0.000000                     0.000000   \n25%                       0.000000                     0.000000   \n50%                       0.000000                     0.000000   \n75%                       0.060000                     0.020000   \nmax                       1.000000                     1.000000   \n\n       dst_host_serror_rate  dst_host_srv_serror_rate  dst_host_rerror_rate  \\\ncount         125973.000000             125973.000000         125973.000000   \nmean               0.284452                  0.278485              0.118832   \nstd                0.444784                  0.445669              0.306557   \nmin                0.000000                  0.000000              0.000000   \n25%                0.000000                  0.000000              0.000000   \n50%                0.000000                  0.000000              0.000000   \n75%                1.000000                  1.000000              0.000000   \nmax                1.000000                  1.000000              1.000000   \n\n       dst_host_srv_rerror_rate  \ncount             125973.000000  \nmean                   0.120240  \nstd                    0.319459  \nmin                    0.000000  \n25%                    0.000000  \n50%                    0.000000  \n75%                    0.000000  \nmax                    1.000000  \n\n[8 rows x 38 columns]",
      "text/html": "<div>\n<style scoped>\n    .dataframe tbody tr th:only-of-type {\n        vertical-align: middle;\n    }\n\n    .dataframe tbody tr th {\n        vertical-align: top;\n    }\n\n    .dataframe thead th {\n        text-align: right;\n    }\n</style>\n<table border=\"1\" class=\"dataframe\">\n  <thead>\n    <tr style=\"text-align: right;\">\n      <th></th>\n      <th>duration</th>\n      <th>src_bytes</th>\n      <th>dst_bytes</th>\n      <th>land</th>\n      <th>wrong_fragment</th>\n      <th>urgent</th>\n      <th>hot</th>\n      <th>num_failed_logins</th>\n      <th>logged_in</th>\n      <th>num_compromised</th>\n      <th>...</th>\n      <th>dst_host_count</th>\n      <th>dst_host_srv_count</th>\n      <th>dst_host_same_srv_rate</th>\n      <th>dst_host_diff_srv_rate</th>\n      <th>dst_host_same_src_port_rate</th>\n      <th>dst_host_srv_diff_host_rate</th>\n      <th>dst_host_serror_rate</th>\n      <th>dst_host_srv_serror_rate</th>\n      <th>dst_host_rerror_rate</th>\n      <th>dst_host_srv_rerror_rate</th>\n    </tr>\n  </thead>\n  <tbody>\n    <tr>\n      <th>count</th>\n      <td>125973.00000</td>\n      <td>1.259730e+05</td>\n      <td>1.259730e+05</td>\n      <td>125973.000000</td>\n      <td>125973.000000</td>\n      <td>125973.000000</td>\n      <td>125973.000000</td>\n      <td>125973.000000</td>\n      <td>125973.000000</td>\n      <td>125973.000000</td>\n      <td>...</td>\n      <td>125973.000000</td>\n      <td>125973.000000</td>\n      <td>125973.000000</td>\n      <td>125973.000000</td>\n      <td>125973.000000</td>\n      <td>125973.000000</td>\n      <td>125973.000000</td>\n      <td>125973.000000</td>\n      <td>125973.000000</td>\n      <td>125973.000000</td>\n    </tr>\n    <tr>\n      <th>mean</th>\n      <td>287.14465</td>\n      <td>4.556674e+04</td>\n      <td>1.977911e+04</td>\n      <td>0.000198</td>\n      <td>0.022687</td>\n      <td>0.000111</td>\n      <td>0.204409</td>\n      <td>0.001222</td>\n      <td>0.395736</td>\n      <td>0.279250</td>\n      <td>...</td>\n      <td>182.148945</td>\n      <td>115.653005</td>\n      <td>0.521242</td>\n      <td>0.082951</td>\n      <td>0.148379</td>\n      <td>0.032542</td>\n      <td>0.284452</td>\n      <td>0.278485</td>\n      <td>0.118832</td>\n      <td>0.120240</td>\n    </tr>\n    <tr>\n      <th>std</th>\n      <td>2604.51531</td>\n      <td>5.870331e+06</td>\n      <td>4.021269e+06</td>\n      <td>0.014086</td>\n      <td>0.253530</td>\n      <td>0.014366</td>\n      <td>2.149968</td>\n      <td>0.045239</td>\n      <td>0.489010</td>\n      <td>23.942042</td>\n      <td>...</td>\n      <td>99.206213</td>\n      <td>110.702741</td>\n      <td>0.448949</td>\n      <td>0.188922</td>\n      <td>0.308997</td>\n      <td>0.112564</td>\n      <td>0.444784</td>\n      <td>0.445669</td>\n      <td>0.306557</td>\n      <td>0.319459</td>\n    </tr>\n    <tr>\n      <th>min</th>\n      <td>0.00000</td>\n      <td>0.000000e+00</td>\n      <td>0.000000e+00</td>\n      <td>0.000000</td>\n      <td>0.000000</td>\n      <td>0.000000</td>\n      <td>0.000000</td>\n      <td>0.000000</td>\n      <td>0.000000</td>\n      <td>0.000000</td>\n      <td>...</td>\n      <td>0.000000</td>\n      <td>0.000000</td>\n      <td>0.000000</td>\n      <td>0.000000</td>\n      <td>0.000000</td>\n      <td>0.000000</td>\n      <td>0.000000</td>\n      <td>0.000000</td>\n      <td>0.000000</td>\n      <td>0.000000</td>\n    </tr>\n    <tr>\n      <th>25%</th>\n      <td>0.00000</td>\n      <td>0.000000e+00</td>\n      <td>0.000000e+00</td>\n      <td>0.000000</td>\n      <td>0.000000</td>\n      <td>0.000000</td>\n      <td>0.000000</td>\n      <td>0.000000</td>\n      <td>0.000000</td>\n      <td>0.000000</td>\n      <td>...</td>\n      <td>82.000000</td>\n      <td>10.000000</td>\n      <td>0.050000</td>\n      <td>0.000000</td>\n      <td>0.000000</td>\n      <td>0.000000</td>\n      <td>0.000000</td>\n      <td>0.000000</td>\n      <td>0.000000</td>\n      <td>0.000000</td>\n    </tr>\n    <tr>\n      <th>50%</th>\n      <td>0.00000</td>\n      <td>4.400000e+01</td>\n      <td>0.000000e+00</td>\n      <td>0.000000</td>\n      <td>0.000000</td>\n      <td>0.000000</td>\n      <td>0.000000</td>\n      <td>0.000000</td>\n      <td>0.000000</td>\n      <td>0.000000</td>\n      <td>...</td>\n      <td>255.000000</td>\n      <td>63.000000</td>\n      <td>0.510000</td>\n      <td>0.020000</td>\n      <td>0.000000</td>\n      <td>0.000000</td>\n      <td>0.000000</td>\n      <td>0.000000</td>\n      <td>0.000000</td>\n      <td>0.000000</td>\n    </tr>\n    <tr>\n      <th>75%</th>\n      <td>0.00000</td>\n      <td>2.760000e+02</td>\n      <td>5.160000e+02</td>\n      <td>0.000000</td>\n      <td>0.000000</td>\n      <td>0.000000</td>\n      <td>0.000000</td>\n      <td>0.000000</td>\n      <td>1.000000</td>\n      <td>0.000000</td>\n      <td>...</td>\n      <td>255.000000</td>\n      <td>255.000000</td>\n      <td>1.000000</td>\n      <td>0.070000</td>\n      <td>0.060000</td>\n      <td>0.020000</td>\n      <td>1.000000</td>\n      <td>1.000000</td>\n      <td>0.000000</td>\n      <td>0.000000</td>\n    </tr>\n    <tr>\n      <th>max</th>\n      <td>42908.00000</td>\n      <td>1.379964e+09</td>\n      <td>1.309937e+09</td>\n      <td>1.000000</td>\n      <td>3.000000</td>\n      <td>3.000000</td>\n      <td>77.000000</td>\n      <td>5.000000</td>\n      <td>1.000000</td>\n      <td>7479.000000</td>\n      <td>...</td>\n      <td>255.000000</td>\n      <td>255.000000</td>\n      <td>1.000000</td>\n      <td>1.000000</td>\n      <td>1.000000</td>\n      <td>1.000000</td>\n      <td>1.000000</td>\n      <td>1.000000</td>\n      <td>1.000000</td>\n      <td>1.000000</td>\n    </tr>\n  </tbody>\n</table>\n<p>8 rows × 38 columns</p>\n</div>"
     },
     "execution_count": 3,
     "metadata": {},
     "output_type": "execute_result"
    }
   ],
   "source": [
    "df.describe()"
   ],
   "metadata": {
    "collapsed": false,
    "pycharm": {
     "name": "#%%\n"
    }
   }
  },
  {
   "cell_type": "code",
   "execution_count": 4,
   "outputs": [
    {
     "data": {
      "text/plain": "   duration protocol_type   service flag  src_bytes  dst_bytes  land  \\\n0         0           tcp  ftp_data   SF        491          0     0   \n1         0           udp     other   SF        146          0     0   \n2         0           tcp   private   S0          0          0     0   \n3         0           tcp      http   SF        232       8153     0   \n4         0           tcp      http   SF        199        420     0   \n\n   wrong_fragment  urgent  hot  ...  dst_host_srv_count  \\\n0               0       0    0  ...                  25   \n1               0       0    0  ...                   1   \n2               0       0    0  ...                  26   \n3               0       0    0  ...                 255   \n4               0       0    0  ...                 255   \n\n   dst_host_same_srv_rate  dst_host_diff_srv_rate  \\\n0                    0.17                    0.03   \n1                    0.00                    0.60   \n2                    0.10                    0.05   \n3                    1.00                    0.00   \n4                    1.00                    0.00   \n\n   dst_host_same_src_port_rate  dst_host_srv_diff_host_rate  \\\n0                         0.17                         0.00   \n1                         0.88                         0.00   \n2                         0.00                         0.00   \n3                         0.03                         0.04   \n4                         0.00                         0.00   \n\n   dst_host_serror_rate  dst_host_srv_serror_rate  dst_host_rerror_rate  \\\n0                  0.00                      0.00                  0.05   \n1                  0.00                      0.00                  0.00   \n2                  1.00                      1.00                  0.00   \n3                  0.03                      0.01                  0.00   \n4                  0.00                      0.00                  0.00   \n\n   dst_host_srv_rerror_rate    class  \n0                      0.00   normal  \n1                      0.00   normal  \n2                      0.00  neptune  \n3                      0.01   normal  \n4                      0.00   normal  \n\n[5 rows x 42 columns]",
      "text/html": "<div>\n<style scoped>\n    .dataframe tbody tr th:only-of-type {\n        vertical-align: middle;\n    }\n\n    .dataframe tbody tr th {\n        vertical-align: top;\n    }\n\n    .dataframe thead th {\n        text-align: right;\n    }\n</style>\n<table border=\"1\" class=\"dataframe\">\n  <thead>\n    <tr style=\"text-align: right;\">\n      <th></th>\n      <th>duration</th>\n      <th>protocol_type</th>\n      <th>service</th>\n      <th>flag</th>\n      <th>src_bytes</th>\n      <th>dst_bytes</th>\n      <th>land</th>\n      <th>wrong_fragment</th>\n      <th>urgent</th>\n      <th>hot</th>\n      <th>...</th>\n      <th>dst_host_srv_count</th>\n      <th>dst_host_same_srv_rate</th>\n      <th>dst_host_diff_srv_rate</th>\n      <th>dst_host_same_src_port_rate</th>\n      <th>dst_host_srv_diff_host_rate</th>\n      <th>dst_host_serror_rate</th>\n      <th>dst_host_srv_serror_rate</th>\n      <th>dst_host_rerror_rate</th>\n      <th>dst_host_srv_rerror_rate</th>\n      <th>class</th>\n    </tr>\n  </thead>\n  <tbody>\n    <tr>\n      <th>0</th>\n      <td>0</td>\n      <td>tcp</td>\n      <td>ftp_data</td>\n      <td>SF</td>\n      <td>491</td>\n      <td>0</td>\n      <td>0</td>\n      <td>0</td>\n      <td>0</td>\n      <td>0</td>\n      <td>...</td>\n      <td>25</td>\n      <td>0.17</td>\n      <td>0.03</td>\n      <td>0.17</td>\n      <td>0.00</td>\n      <td>0.00</td>\n      <td>0.00</td>\n      <td>0.05</td>\n      <td>0.00</td>\n      <td>normal</td>\n    </tr>\n    <tr>\n      <th>1</th>\n      <td>0</td>\n      <td>udp</td>\n      <td>other</td>\n      <td>SF</td>\n      <td>146</td>\n      <td>0</td>\n      <td>0</td>\n      <td>0</td>\n      <td>0</td>\n      <td>0</td>\n      <td>...</td>\n      <td>1</td>\n      <td>0.00</td>\n      <td>0.60</td>\n      <td>0.88</td>\n      <td>0.00</td>\n      <td>0.00</td>\n      <td>0.00</td>\n      <td>0.00</td>\n      <td>0.00</td>\n      <td>normal</td>\n    </tr>\n    <tr>\n      <th>2</th>\n      <td>0</td>\n      <td>tcp</td>\n      <td>private</td>\n      <td>S0</td>\n      <td>0</td>\n      <td>0</td>\n      <td>0</td>\n      <td>0</td>\n      <td>0</td>\n      <td>0</td>\n      <td>...</td>\n      <td>26</td>\n      <td>0.10</td>\n      <td>0.05</td>\n      <td>0.00</td>\n      <td>0.00</td>\n      <td>1.00</td>\n      <td>1.00</td>\n      <td>0.00</td>\n      <td>0.00</td>\n      <td>neptune</td>\n    </tr>\n    <tr>\n      <th>3</th>\n      <td>0</td>\n      <td>tcp</td>\n      <td>http</td>\n      <td>SF</td>\n      <td>232</td>\n      <td>8153</td>\n      <td>0</td>\n      <td>0</td>\n      <td>0</td>\n      <td>0</td>\n      <td>...</td>\n      <td>255</td>\n      <td>1.00</td>\n      <td>0.00</td>\n      <td>0.03</td>\n      <td>0.04</td>\n      <td>0.03</td>\n      <td>0.01</td>\n      <td>0.00</td>\n      <td>0.01</td>\n      <td>normal</td>\n    </tr>\n    <tr>\n      <th>4</th>\n      <td>0</td>\n      <td>tcp</td>\n      <td>http</td>\n      <td>SF</td>\n      <td>199</td>\n      <td>420</td>\n      <td>0</td>\n      <td>0</td>\n      <td>0</td>\n      <td>0</td>\n      <td>...</td>\n      <td>255</td>\n      <td>1.00</td>\n      <td>0.00</td>\n      <td>0.00</td>\n      <td>0.00</td>\n      <td>0.00</td>\n      <td>0.00</td>\n      <td>0.00</td>\n      <td>0.00</td>\n      <td>normal</td>\n    </tr>\n  </tbody>\n</table>\n<p>5 rows × 42 columns</p>\n</div>"
     },
     "execution_count": 4,
     "metadata": {},
     "output_type": "execute_result"
    }
   ],
   "source": [
    "df.head()"
   ],
   "metadata": {
    "collapsed": false,
    "pycharm": {
     "name": "#%%\n"
    }
   }
  },
  {
   "cell_type": "code",
   "execution_count": 5,
   "outputs": [
    {
     "data": {
      "text/plain": "       duration protocol_type   service flag  src_bytes  dst_bytes  land  \\\n0             0           tcp  ftp_data   SF        491          0     0   \n1             0           udp     other   SF        146          0     0   \n2             0           tcp   private   S0          0          0     0   \n3             0           tcp      http   SF        232       8153     0   \n4             0           tcp      http   SF        199        420     0   \n...         ...           ...       ...  ...        ...        ...   ...   \n22539         0           tcp      smtp   SF        794        333     0   \n22540         0           tcp      http   SF        317        938     0   \n22541         0           tcp      http   SF      54540       8314     0   \n22542         0           udp  domain_u   SF         42         42     0   \n22543         0           tcp    sunrpc  REJ          0          0     0   \n\n       wrong_fragment  urgent  hot  ...  dst_host_srv_count  \\\n0                   0       0    0  ...                  25   \n1                   0       0    0  ...                   1   \n2                   0       0    0  ...                  26   \n3                   0       0    0  ...                 255   \n4                   0       0    0  ...                 255   \n...               ...     ...  ...  ...                 ...   \n22539               0       0    0  ...                 141   \n22540               0       0    0  ...                 255   \n22541               0       0    2  ...                 255   \n22542               0       0    0  ...                 252   \n22543               0       0    0  ...                  21   \n\n       dst_host_same_srv_rate  dst_host_diff_srv_rate  \\\n0                        0.17                    0.03   \n1                        0.00                    0.60   \n2                        0.10                    0.05   \n3                        1.00                    0.00   \n4                        1.00                    0.00   \n...                       ...                     ...   \n22539                    0.72                    0.06   \n22540                    1.00                    0.00   \n22541                    1.00                    0.00   \n22542                    0.99                    0.01   \n22543                    0.08                    0.03   \n\n       dst_host_same_src_port_rate  dst_host_srv_diff_host_rate  \\\n0                             0.17                         0.00   \n1                             0.88                         0.00   \n2                             0.00                         0.00   \n3                             0.03                         0.04   \n4                             0.00                         0.00   \n...                            ...                          ...   \n22539                         0.01                         0.01   \n22540                         0.01                         0.01   \n22541                         0.00                         0.00   \n22542                         0.00                         0.00   \n22543                         0.00                         0.00   \n\n       dst_host_serror_rate  dst_host_srv_serror_rate  dst_host_rerror_rate  \\\n0                      0.00                      0.00                  0.05   \n1                      0.00                      0.00                  0.00   \n2                      1.00                      1.00                  0.00   \n3                      0.03                      0.01                  0.00   \n4                      0.00                      0.00                  0.00   \n...                     ...                       ...                   ...   \n22539                  0.01                      0.00                  0.00   \n22540                  0.01                      0.00                  0.00   \n22541                  0.00                      0.00                  0.07   \n22542                  0.00                      0.00                  0.00   \n22543                  0.00                      0.00                  0.44   \n\n       dst_host_srv_rerror_rate    class  \n0                          0.00   normal  \n1                          0.00   normal  \n2                          0.00  neptune  \n3                          0.01   normal  \n4                          0.00   normal  \n...                         ...      ...  \n22539                      0.00   normal  \n22540                      0.00   normal  \n22541                      0.07     back  \n22542                      0.00   normal  \n22543                      1.00    mscan  \n\n[148517 rows x 42 columns]",
      "text/html": "<div>\n<style scoped>\n    .dataframe tbody tr th:only-of-type {\n        vertical-align: middle;\n    }\n\n    .dataframe tbody tr th {\n        vertical-align: top;\n    }\n\n    .dataframe thead th {\n        text-align: right;\n    }\n</style>\n<table border=\"1\" class=\"dataframe\">\n  <thead>\n    <tr style=\"text-align: right;\">\n      <th></th>\n      <th>duration</th>\n      <th>protocol_type</th>\n      <th>service</th>\n      <th>flag</th>\n      <th>src_bytes</th>\n      <th>dst_bytes</th>\n      <th>land</th>\n      <th>wrong_fragment</th>\n      <th>urgent</th>\n      <th>hot</th>\n      <th>...</th>\n      <th>dst_host_srv_count</th>\n      <th>dst_host_same_srv_rate</th>\n      <th>dst_host_diff_srv_rate</th>\n      <th>dst_host_same_src_port_rate</th>\n      <th>dst_host_srv_diff_host_rate</th>\n      <th>dst_host_serror_rate</th>\n      <th>dst_host_srv_serror_rate</th>\n      <th>dst_host_rerror_rate</th>\n      <th>dst_host_srv_rerror_rate</th>\n      <th>class</th>\n    </tr>\n  </thead>\n  <tbody>\n    <tr>\n      <th>0</th>\n      <td>0</td>\n      <td>tcp</td>\n      <td>ftp_data</td>\n      <td>SF</td>\n      <td>491</td>\n      <td>0</td>\n      <td>0</td>\n      <td>0</td>\n      <td>0</td>\n      <td>0</td>\n      <td>...</td>\n      <td>25</td>\n      <td>0.17</td>\n      <td>0.03</td>\n      <td>0.17</td>\n      <td>0.00</td>\n      <td>0.00</td>\n      <td>0.00</td>\n      <td>0.05</td>\n      <td>0.00</td>\n      <td>normal</td>\n    </tr>\n    <tr>\n      <th>1</th>\n      <td>0</td>\n      <td>udp</td>\n      <td>other</td>\n      <td>SF</td>\n      <td>146</td>\n      <td>0</td>\n      <td>0</td>\n      <td>0</td>\n      <td>0</td>\n      <td>0</td>\n      <td>...</td>\n      <td>1</td>\n      <td>0.00</td>\n      <td>0.60</td>\n      <td>0.88</td>\n      <td>0.00</td>\n      <td>0.00</td>\n      <td>0.00</td>\n      <td>0.00</td>\n      <td>0.00</td>\n      <td>normal</td>\n    </tr>\n    <tr>\n      <th>2</th>\n      <td>0</td>\n      <td>tcp</td>\n      <td>private</td>\n      <td>S0</td>\n      <td>0</td>\n      <td>0</td>\n      <td>0</td>\n      <td>0</td>\n      <td>0</td>\n      <td>0</td>\n      <td>...</td>\n      <td>26</td>\n      <td>0.10</td>\n      <td>0.05</td>\n      <td>0.00</td>\n      <td>0.00</td>\n      <td>1.00</td>\n      <td>1.00</td>\n      <td>0.00</td>\n      <td>0.00</td>\n      <td>neptune</td>\n    </tr>\n    <tr>\n      <th>3</th>\n      <td>0</td>\n      <td>tcp</td>\n      <td>http</td>\n      <td>SF</td>\n      <td>232</td>\n      <td>8153</td>\n      <td>0</td>\n      <td>0</td>\n      <td>0</td>\n      <td>0</td>\n      <td>...</td>\n      <td>255</td>\n      <td>1.00</td>\n      <td>0.00</td>\n      <td>0.03</td>\n      <td>0.04</td>\n      <td>0.03</td>\n      <td>0.01</td>\n      <td>0.00</td>\n      <td>0.01</td>\n      <td>normal</td>\n    </tr>\n    <tr>\n      <th>4</th>\n      <td>0</td>\n      <td>tcp</td>\n      <td>http</td>\n      <td>SF</td>\n      <td>199</td>\n      <td>420</td>\n      <td>0</td>\n      <td>0</td>\n      <td>0</td>\n      <td>0</td>\n      <td>...</td>\n      <td>255</td>\n      <td>1.00</td>\n      <td>0.00</td>\n      <td>0.00</td>\n      <td>0.00</td>\n      <td>0.00</td>\n      <td>0.00</td>\n      <td>0.00</td>\n      <td>0.00</td>\n      <td>normal</td>\n    </tr>\n    <tr>\n      <th>...</th>\n      <td>...</td>\n      <td>...</td>\n      <td>...</td>\n      <td>...</td>\n      <td>...</td>\n      <td>...</td>\n      <td>...</td>\n      <td>...</td>\n      <td>...</td>\n      <td>...</td>\n      <td>...</td>\n      <td>...</td>\n      <td>...</td>\n      <td>...</td>\n      <td>...</td>\n      <td>...</td>\n      <td>...</td>\n      <td>...</td>\n      <td>...</td>\n      <td>...</td>\n      <td>...</td>\n    </tr>\n    <tr>\n      <th>22539</th>\n      <td>0</td>\n      <td>tcp</td>\n      <td>smtp</td>\n      <td>SF</td>\n      <td>794</td>\n      <td>333</td>\n      <td>0</td>\n      <td>0</td>\n      <td>0</td>\n      <td>0</td>\n      <td>...</td>\n      <td>141</td>\n      <td>0.72</td>\n      <td>0.06</td>\n      <td>0.01</td>\n      <td>0.01</td>\n      <td>0.01</td>\n      <td>0.00</td>\n      <td>0.00</td>\n      <td>0.00</td>\n      <td>normal</td>\n    </tr>\n    <tr>\n      <th>22540</th>\n      <td>0</td>\n      <td>tcp</td>\n      <td>http</td>\n      <td>SF</td>\n      <td>317</td>\n      <td>938</td>\n      <td>0</td>\n      <td>0</td>\n      <td>0</td>\n      <td>0</td>\n      <td>...</td>\n      <td>255</td>\n      <td>1.00</td>\n      <td>0.00</td>\n      <td>0.01</td>\n      <td>0.01</td>\n      <td>0.01</td>\n      <td>0.00</td>\n      <td>0.00</td>\n      <td>0.00</td>\n      <td>normal</td>\n    </tr>\n    <tr>\n      <th>22541</th>\n      <td>0</td>\n      <td>tcp</td>\n      <td>http</td>\n      <td>SF</td>\n      <td>54540</td>\n      <td>8314</td>\n      <td>0</td>\n      <td>0</td>\n      <td>0</td>\n      <td>2</td>\n      <td>...</td>\n      <td>255</td>\n      <td>1.00</td>\n      <td>0.00</td>\n      <td>0.00</td>\n      <td>0.00</td>\n      <td>0.00</td>\n      <td>0.00</td>\n      <td>0.07</td>\n      <td>0.07</td>\n      <td>back</td>\n    </tr>\n    <tr>\n      <th>22542</th>\n      <td>0</td>\n      <td>udp</td>\n      <td>domain_u</td>\n      <td>SF</td>\n      <td>42</td>\n      <td>42</td>\n      <td>0</td>\n      <td>0</td>\n      <td>0</td>\n      <td>0</td>\n      <td>...</td>\n      <td>252</td>\n      <td>0.99</td>\n      <td>0.01</td>\n      <td>0.00</td>\n      <td>0.00</td>\n      <td>0.00</td>\n      <td>0.00</td>\n      <td>0.00</td>\n      <td>0.00</td>\n      <td>normal</td>\n    </tr>\n    <tr>\n      <th>22543</th>\n      <td>0</td>\n      <td>tcp</td>\n      <td>sunrpc</td>\n      <td>REJ</td>\n      <td>0</td>\n      <td>0</td>\n      <td>0</td>\n      <td>0</td>\n      <td>0</td>\n      <td>0</td>\n      <td>...</td>\n      <td>21</td>\n      <td>0.08</td>\n      <td>0.03</td>\n      <td>0.00</td>\n      <td>0.00</td>\n      <td>0.00</td>\n      <td>0.00</td>\n      <td>0.44</td>\n      <td>1.00</td>\n      <td>mscan</td>\n    </tr>\n  </tbody>\n</table>\n<p>148517 rows × 42 columns</p>\n</div>"
     },
     "execution_count": 5,
     "metadata": {},
     "output_type": "execute_result"
    }
   ],
   "source": [
    "traintest = pd.concat([df, df_test])\n",
    "traintest"
   ],
   "metadata": {
    "collapsed": false,
    "pycharm": {
     "name": "#%%\n"
    }
   }
  },
  {
   "cell_type": "code",
   "execution_count": 6,
   "outputs": [
    {
     "name": "stderr",
     "output_type": "stream",
     "text": [
      "E:\\CodingProjects\\network-anomaly-detection\\venv\\lib\\site-packages\\sklearn\\preprocessing\\_encoders.py:828: FutureWarning: `sparse` was renamed to `sparse_output` in version 1.2 and will be removed in 1.4. `sparse_output` is ignored unless you leave `sparse` to its default value.\n",
      "  warnings.warn(\n"
     ]
    }
   ],
   "source": [
    "from sklearn.preprocessing import OneHotEncoder\n",
    "\n",
    "enc = OneHotEncoder(sparse=False)\n",
    "enc = enc.fit(traintest[[\"protocol_type\", \"service\", \"flag\", \"class\"]])\n",
    "ohe_columns = enc.get_feature_names_out()\n",
    "\n",
    "ohe_df = pd.DataFrame(enc.transform(df[[\"protocol_type\", \"service\", \"flag\", \"class\"]]))\n",
    "ohe_df_test = pd.DataFrame(enc.transform(df_test[[\"protocol_type\", \"service\", \"flag\", \"class\"]]))\n",
    "ohe_df.columns = ohe_columns\n",
    "ohe_df_test.columns = ohe_columns"
   ],
   "metadata": {
    "collapsed": false,
    "pycharm": {
     "name": "#%%\n"
    }
   }
  },
  {
   "cell_type": "code",
   "execution_count": 7,
   "outputs": [
    {
     "data": {
      "text/plain": "array(['protocol_type_icmp', 'protocol_type_tcp', 'protocol_type_udp',\n       'service_IRC', 'service_X11', 'service_Z39_50', 'service_aol',\n       'service_auth', 'service_bgp', 'service_courier',\n       'service_csnet_ns', 'service_ctf', 'service_daytime',\n       'service_discard', 'service_domain', 'service_domain_u',\n       'service_echo', 'service_eco_i', 'service_ecr_i', 'service_efs',\n       'service_exec', 'service_finger', 'service_ftp',\n       'service_ftp_data', 'service_gopher', 'service_harvest',\n       'service_hostnames', 'service_http', 'service_http_2784',\n       'service_http_443', 'service_http_8001', 'service_imap4',\n       'service_iso_tsap', 'service_klogin', 'service_kshell',\n       'service_ldap', 'service_link', 'service_login', 'service_mtp',\n       'service_name', 'service_netbios_dgm', 'service_netbios_ns',\n       'service_netbios_ssn', 'service_netstat', 'service_nnsp',\n       'service_nntp', 'service_ntp_u', 'service_other',\n       'service_pm_dump', 'service_pop_2', 'service_pop_3',\n       'service_printer', 'service_private', 'service_red_i',\n       'service_remote_job', 'service_rje', 'service_shell',\n       'service_smtp', 'service_sql_net', 'service_ssh', 'service_sunrpc',\n       'service_supdup', 'service_systat', 'service_telnet',\n       'service_tftp_u', 'service_tim_i', 'service_time', 'service_urh_i',\n       'service_urp_i', 'service_uucp', 'service_uucp_path',\n       'service_vmnet', 'service_whois', 'flag_OTH', 'flag_REJ',\n       'flag_RSTO', 'flag_RSTOS0', 'flag_RSTR', 'flag_S0', 'flag_S1',\n       'flag_S2', 'flag_S3', 'flag_SF', 'flag_SH', 'class_apache2',\n       'class_back', 'class_buffer_overflow', 'class_ftp_write',\n       'class_guess_passwd', 'class_httptunnel', 'class_imap',\n       'class_ipsweep', 'class_land', 'class_loadmodule',\n       'class_mailbomb', 'class_mscan', 'class_multihop', 'class_named',\n       'class_neptune', 'class_nmap', 'class_normal', 'class_perl',\n       'class_phf', 'class_pod', 'class_portsweep', 'class_processtable',\n       'class_ps', 'class_rootkit', 'class_saint', 'class_satan',\n       'class_sendmail', 'class_smurf', 'class_snmpgetattack',\n       'class_snmpguess', 'class_spy', 'class_sqlattack',\n       'class_teardrop', 'class_udpstorm', 'class_warezclient',\n       'class_warezmaster', 'class_worm', 'class_xlock', 'class_xsnoop',\n       'class_xterm'], dtype=object)"
     },
     "execution_count": 7,
     "metadata": {},
     "output_type": "execute_result"
    }
   ],
   "source": [
    "enc.get_feature_names_out()"
   ],
   "metadata": {
    "collapsed": false,
    "pycharm": {
     "name": "#%%\n"
    }
   }
  },
  {
   "cell_type": "markdown",
   "source": [],
   "metadata": {
    "collapsed": false,
    "pycharm": {
     "name": "#%% md\n"
    }
   }
  },
  {
   "cell_type": "code",
   "execution_count": 8,
   "outputs": [],
   "source": [
    "ohe_df = ohe_df.join(df.drop(columns=[\"protocol_type\", \"service\", \"flag\", \"class\"]))\n",
    "ohe_df_test = ohe_df_test.join(df_test.drop(columns=[\"protocol_type\", \"service\", \"flag\", \"class\"]))"
   ],
   "metadata": {
    "collapsed": false,
    "pycharm": {
     "name": "#%%\n"
    }
   }
  },
  {
   "cell_type": "code",
   "execution_count": 9,
   "outputs": [
    {
     "data": {
      "text/plain": "        protocol_type_icmp  protocol_type_tcp  protocol_type_udp  service_IRC  \\\n0                      0.0                1.0                0.0          0.0   \n1                      0.0                0.0                1.0          0.0   \n2                      0.0                1.0                0.0          0.0   \n3                      0.0                1.0                0.0          0.0   \n4                      0.0                1.0                0.0          0.0   \n...                    ...                ...                ...          ...   \n125968                 0.0                1.0                0.0          0.0   \n125969                 0.0                0.0                1.0          0.0   \n125970                 0.0                1.0                0.0          0.0   \n125971                 0.0                1.0                0.0          0.0   \n125972                 0.0                1.0                0.0          0.0   \n\n        service_X11  service_Z39_50  service_aol  service_auth  service_bgp  \\\n0               0.0             0.0          0.0           0.0          0.0   \n1               0.0             0.0          0.0           0.0          0.0   \n2               0.0             0.0          0.0           0.0          0.0   \n3               0.0             0.0          0.0           0.0          0.0   \n4               0.0             0.0          0.0           0.0          0.0   \n...             ...             ...          ...           ...          ...   \n125968          0.0             0.0          0.0           0.0          0.0   \n125969          0.0             0.0          0.0           0.0          0.0   \n125970          0.0             0.0          0.0           0.0          0.0   \n125971          0.0             0.0          0.0           0.0          0.0   \n125972          0.0             0.0          0.0           0.0          0.0   \n\n        service_courier  ...  dst_host_count  dst_host_srv_count  \\\n0                   0.0  ...             150                  25   \n1                   0.0  ...             255                   1   \n2                   0.0  ...             255                  26   \n3                   0.0  ...              30                 255   \n4                   0.0  ...             255                 255   \n...                 ...  ...             ...                 ...   \n125968              0.0  ...             255                  25   \n125969              0.0  ...             255                 244   \n125970              0.0  ...             255                  30   \n125971              0.0  ...             255                   8   \n125972              0.0  ...             255                  77   \n\n        dst_host_same_srv_rate  dst_host_diff_srv_rate  \\\n0                         0.17                    0.03   \n1                         0.00                    0.60   \n2                         0.10                    0.05   \n3                         1.00                    0.00   \n4                         1.00                    0.00   \n...                        ...                     ...   \n125968                    0.10                    0.06   \n125969                    0.96                    0.01   \n125970                    0.12                    0.06   \n125971                    0.03                    0.05   \n125972                    0.30                    0.03   \n\n        dst_host_same_src_port_rate  dst_host_srv_diff_host_rate  \\\n0                              0.17                         0.00   \n1                              0.88                         0.00   \n2                              0.00                         0.00   \n3                              0.03                         0.04   \n4                              0.00                         0.00   \n...                             ...                          ...   \n125968                         0.00                         0.00   \n125969                         0.01                         0.00   \n125970                         0.00                         0.00   \n125971                         0.00                         0.00   \n125972                         0.30                         0.00   \n\n        dst_host_serror_rate  dst_host_srv_serror_rate  dst_host_rerror_rate  \\\n0                       0.00                      0.00                  0.05   \n1                       0.00                      0.00                  0.00   \n2                       1.00                      1.00                  0.00   \n3                       0.03                      0.01                  0.00   \n4                       0.00                      0.00                  0.00   \n...                      ...                       ...                   ...   \n125968                  1.00                      1.00                  0.00   \n125969                  0.00                      0.00                  0.00   \n125970                  0.72                      0.00                  0.01   \n125971                  1.00                      1.00                  0.00   \n125972                  0.00                      0.00                  0.00   \n\n        dst_host_srv_rerror_rate  \n0                           0.00  \n1                           0.00  \n2                           0.00  \n3                           0.01  \n4                           0.00  \n...                          ...  \n125968                      0.00  \n125969                      0.00  \n125970                      0.00  \n125971                      0.00  \n125972                      0.00  \n\n[125973 rows x 162 columns]",
      "text/html": "<div>\n<style scoped>\n    .dataframe tbody tr th:only-of-type {\n        vertical-align: middle;\n    }\n\n    .dataframe tbody tr th {\n        vertical-align: top;\n    }\n\n    .dataframe thead th {\n        text-align: right;\n    }\n</style>\n<table border=\"1\" class=\"dataframe\">\n  <thead>\n    <tr style=\"text-align: right;\">\n      <th></th>\n      <th>protocol_type_icmp</th>\n      <th>protocol_type_tcp</th>\n      <th>protocol_type_udp</th>\n      <th>service_IRC</th>\n      <th>service_X11</th>\n      <th>service_Z39_50</th>\n      <th>service_aol</th>\n      <th>service_auth</th>\n      <th>service_bgp</th>\n      <th>service_courier</th>\n      <th>...</th>\n      <th>dst_host_count</th>\n      <th>dst_host_srv_count</th>\n      <th>dst_host_same_srv_rate</th>\n      <th>dst_host_diff_srv_rate</th>\n      <th>dst_host_same_src_port_rate</th>\n      <th>dst_host_srv_diff_host_rate</th>\n      <th>dst_host_serror_rate</th>\n      <th>dst_host_srv_serror_rate</th>\n      <th>dst_host_rerror_rate</th>\n      <th>dst_host_srv_rerror_rate</th>\n    </tr>\n  </thead>\n  <tbody>\n    <tr>\n      <th>0</th>\n      <td>0.0</td>\n      <td>1.0</td>\n      <td>0.0</td>\n      <td>0.0</td>\n      <td>0.0</td>\n      <td>0.0</td>\n      <td>0.0</td>\n      <td>0.0</td>\n      <td>0.0</td>\n      <td>0.0</td>\n      <td>...</td>\n      <td>150</td>\n      <td>25</td>\n      <td>0.17</td>\n      <td>0.03</td>\n      <td>0.17</td>\n      <td>0.00</td>\n      <td>0.00</td>\n      <td>0.00</td>\n      <td>0.05</td>\n      <td>0.00</td>\n    </tr>\n    <tr>\n      <th>1</th>\n      <td>0.0</td>\n      <td>0.0</td>\n      <td>1.0</td>\n      <td>0.0</td>\n      <td>0.0</td>\n      <td>0.0</td>\n      <td>0.0</td>\n      <td>0.0</td>\n      <td>0.0</td>\n      <td>0.0</td>\n      <td>...</td>\n      <td>255</td>\n      <td>1</td>\n      <td>0.00</td>\n      <td>0.60</td>\n      <td>0.88</td>\n      <td>0.00</td>\n      <td>0.00</td>\n      <td>0.00</td>\n      <td>0.00</td>\n      <td>0.00</td>\n    </tr>\n    <tr>\n      <th>2</th>\n      <td>0.0</td>\n      <td>1.0</td>\n      <td>0.0</td>\n      <td>0.0</td>\n      <td>0.0</td>\n      <td>0.0</td>\n      <td>0.0</td>\n      <td>0.0</td>\n      <td>0.0</td>\n      <td>0.0</td>\n      <td>...</td>\n      <td>255</td>\n      <td>26</td>\n      <td>0.10</td>\n      <td>0.05</td>\n      <td>0.00</td>\n      <td>0.00</td>\n      <td>1.00</td>\n      <td>1.00</td>\n      <td>0.00</td>\n      <td>0.00</td>\n    </tr>\n    <tr>\n      <th>3</th>\n      <td>0.0</td>\n      <td>1.0</td>\n      <td>0.0</td>\n      <td>0.0</td>\n      <td>0.0</td>\n      <td>0.0</td>\n      <td>0.0</td>\n      <td>0.0</td>\n      <td>0.0</td>\n      <td>0.0</td>\n      <td>...</td>\n      <td>30</td>\n      <td>255</td>\n      <td>1.00</td>\n      <td>0.00</td>\n      <td>0.03</td>\n      <td>0.04</td>\n      <td>0.03</td>\n      <td>0.01</td>\n      <td>0.00</td>\n      <td>0.01</td>\n    </tr>\n    <tr>\n      <th>4</th>\n      <td>0.0</td>\n      <td>1.0</td>\n      <td>0.0</td>\n      <td>0.0</td>\n      <td>0.0</td>\n      <td>0.0</td>\n      <td>0.0</td>\n      <td>0.0</td>\n      <td>0.0</td>\n      <td>0.0</td>\n      <td>...</td>\n      <td>255</td>\n      <td>255</td>\n      <td>1.00</td>\n      <td>0.00</td>\n      <td>0.00</td>\n      <td>0.00</td>\n      <td>0.00</td>\n      <td>0.00</td>\n      <td>0.00</td>\n      <td>0.00</td>\n    </tr>\n    <tr>\n      <th>...</th>\n      <td>...</td>\n      <td>...</td>\n      <td>...</td>\n      <td>...</td>\n      <td>...</td>\n      <td>...</td>\n      <td>...</td>\n      <td>...</td>\n      <td>...</td>\n      <td>...</td>\n      <td>...</td>\n      <td>...</td>\n      <td>...</td>\n      <td>...</td>\n      <td>...</td>\n      <td>...</td>\n      <td>...</td>\n      <td>...</td>\n      <td>...</td>\n      <td>...</td>\n      <td>...</td>\n    </tr>\n    <tr>\n      <th>125968</th>\n      <td>0.0</td>\n      <td>1.0</td>\n      <td>0.0</td>\n      <td>0.0</td>\n      <td>0.0</td>\n      <td>0.0</td>\n      <td>0.0</td>\n      <td>0.0</td>\n      <td>0.0</td>\n      <td>0.0</td>\n      <td>...</td>\n      <td>255</td>\n      <td>25</td>\n      <td>0.10</td>\n      <td>0.06</td>\n      <td>0.00</td>\n      <td>0.00</td>\n      <td>1.00</td>\n      <td>1.00</td>\n      <td>0.00</td>\n      <td>0.00</td>\n    </tr>\n    <tr>\n      <th>125969</th>\n      <td>0.0</td>\n      <td>0.0</td>\n      <td>1.0</td>\n      <td>0.0</td>\n      <td>0.0</td>\n      <td>0.0</td>\n      <td>0.0</td>\n      <td>0.0</td>\n      <td>0.0</td>\n      <td>0.0</td>\n      <td>...</td>\n      <td>255</td>\n      <td>244</td>\n      <td>0.96</td>\n      <td>0.01</td>\n      <td>0.01</td>\n      <td>0.00</td>\n      <td>0.00</td>\n      <td>0.00</td>\n      <td>0.00</td>\n      <td>0.00</td>\n    </tr>\n    <tr>\n      <th>125970</th>\n      <td>0.0</td>\n      <td>1.0</td>\n      <td>0.0</td>\n      <td>0.0</td>\n      <td>0.0</td>\n      <td>0.0</td>\n      <td>0.0</td>\n      <td>0.0</td>\n      <td>0.0</td>\n      <td>0.0</td>\n      <td>...</td>\n      <td>255</td>\n      <td>30</td>\n      <td>0.12</td>\n      <td>0.06</td>\n      <td>0.00</td>\n      <td>0.00</td>\n      <td>0.72</td>\n      <td>0.00</td>\n      <td>0.01</td>\n      <td>0.00</td>\n    </tr>\n    <tr>\n      <th>125971</th>\n      <td>0.0</td>\n      <td>1.0</td>\n      <td>0.0</td>\n      <td>0.0</td>\n      <td>0.0</td>\n      <td>0.0</td>\n      <td>0.0</td>\n      <td>0.0</td>\n      <td>0.0</td>\n      <td>0.0</td>\n      <td>...</td>\n      <td>255</td>\n      <td>8</td>\n      <td>0.03</td>\n      <td>0.05</td>\n      <td>0.00</td>\n      <td>0.00</td>\n      <td>1.00</td>\n      <td>1.00</td>\n      <td>0.00</td>\n      <td>0.00</td>\n    </tr>\n    <tr>\n      <th>125972</th>\n      <td>0.0</td>\n      <td>1.0</td>\n      <td>0.0</td>\n      <td>0.0</td>\n      <td>0.0</td>\n      <td>0.0</td>\n      <td>0.0</td>\n      <td>0.0</td>\n      <td>0.0</td>\n      <td>0.0</td>\n      <td>...</td>\n      <td>255</td>\n      <td>77</td>\n      <td>0.30</td>\n      <td>0.03</td>\n      <td>0.30</td>\n      <td>0.00</td>\n      <td>0.00</td>\n      <td>0.00</td>\n      <td>0.00</td>\n      <td>0.00</td>\n    </tr>\n  </tbody>\n</table>\n<p>125973 rows × 162 columns</p>\n</div>"
     },
     "execution_count": 9,
     "metadata": {},
     "output_type": "execute_result"
    }
   ],
   "source": [
    "ohe_df"
   ],
   "metadata": {
    "collapsed": false,
    "pycharm": {
     "name": "#%%\n"
    }
   }
  },
  {
   "cell_type": "code",
   "execution_count": 10,
   "outputs": [],
   "source": [
    "ohe_df.to_csv(\"data_OHE.csv\")\n",
    "ohe_df_test.to_csv(\"test_data_OHE.csv\")"
   ],
   "metadata": {
    "collapsed": false,
    "pycharm": {
     "name": "#%%\n"
    }
   }
  },
  {
   "cell_type": "code",
   "execution_count": 10,
   "metadata": {
    "collapsed": false,
    "pycharm": {
     "name": "#%%\n"
    }
   },
   "outputs": [],
   "source": [
    "ohe_df.to_csv(\"data_OHE.csv\")\n",
    "ohe_df_test.to_csv(\"test_data_OHE.csv\")"
   ]
  },
  {
   "cell_type": "code",
   "execution_count": 11,
   "outputs": [
    {
     "data": {
      "text/plain": "        protocol_type_icmp  protocol_type_tcp  protocol_type_udp  service_IRC  \\\n0                      0.0                1.0                0.0          0.0   \n1                      0.0                0.0                1.0          0.0   \n2                      0.0                1.0                0.0          0.0   \n3                      0.0                1.0                0.0          0.0   \n4                      0.0                1.0                0.0          0.0   \n...                    ...                ...                ...          ...   \n125968                 0.0                1.0                0.0          0.0   \n125969                 0.0                0.0                1.0          0.0   \n125970                 0.0                1.0                0.0          0.0   \n125971                 0.0                1.0                0.0          0.0   \n125972                 0.0                1.0                0.0          0.0   \n\n        service_X11  service_Z39_50  service_aol  service_auth  service_bgp  \\\n0               0.0             0.0          0.0           0.0          0.0   \n1               0.0             0.0          0.0           0.0          0.0   \n2               0.0             0.0          0.0           0.0          0.0   \n3               0.0             0.0          0.0           0.0          0.0   \n4               0.0             0.0          0.0           0.0          0.0   \n...             ...             ...          ...           ...          ...   \n125968          0.0             0.0          0.0           0.0          0.0   \n125969          0.0             0.0          0.0           0.0          0.0   \n125970          0.0             0.0          0.0           0.0          0.0   \n125971          0.0             0.0          0.0           0.0          0.0   \n125972          0.0             0.0          0.0           0.0          0.0   \n\n        service_courier  ...  dst_host_count  dst_host_srv_count  \\\n0                   0.0  ...             150                  25   \n1                   0.0  ...             255                   1   \n2                   0.0  ...             255                  26   \n3                   0.0  ...              30                 255   \n4                   0.0  ...             255                 255   \n...                 ...  ...             ...                 ...   \n125968              0.0  ...             255                  25   \n125969              0.0  ...             255                 244   \n125970              0.0  ...             255                  30   \n125971              0.0  ...             255                   8   \n125972              0.0  ...             255                  77   \n\n        dst_host_same_srv_rate  dst_host_diff_srv_rate  \\\n0                         0.17                    0.03   \n1                         0.00                    0.60   \n2                         0.10                    0.05   \n3                         1.00                    0.00   \n4                         1.00                    0.00   \n...                        ...                     ...   \n125968                    0.10                    0.06   \n125969                    0.96                    0.01   \n125970                    0.12                    0.06   \n125971                    0.03                    0.05   \n125972                    0.30                    0.03   \n\n        dst_host_same_src_port_rate  dst_host_srv_diff_host_rate  \\\n0                              0.17                         0.00   \n1                              0.88                         0.00   \n2                              0.00                         0.00   \n3                              0.03                         0.04   \n4                              0.00                         0.00   \n...                             ...                          ...   \n125968                         0.00                         0.00   \n125969                         0.01                         0.00   \n125970                         0.00                         0.00   \n125971                         0.00                         0.00   \n125972                         0.30                         0.00   \n\n        dst_host_serror_rate  dst_host_srv_serror_rate  dst_host_rerror_rate  \\\n0                       0.00                      0.00                  0.05   \n1                       0.00                      0.00                  0.00   \n2                       1.00                      1.00                  0.00   \n3                       0.03                      0.01                  0.00   \n4                       0.00                      0.00                  0.00   \n...                      ...                       ...                   ...   \n125968                  1.00                      1.00                  0.00   \n125969                  0.00                      0.00                  0.00   \n125970                  0.72                      0.00                  0.01   \n125971                  1.00                      1.00                  0.00   \n125972                  0.00                      0.00                  0.00   \n\n        dst_host_srv_rerror_rate  \n0                           0.00  \n1                           0.00  \n2                           0.00  \n3                           0.01  \n4                           0.00  \n...                          ...  \n125968                      0.00  \n125969                      0.00  \n125970                      0.00  \n125971                      0.00  \n125972                      0.00  \n\n[125973 rows x 162 columns]",
      "text/html": "<div>\n<style scoped>\n    .dataframe tbody tr th:only-of-type {\n        vertical-align: middle;\n    }\n\n    .dataframe tbody tr th {\n        vertical-align: top;\n    }\n\n    .dataframe thead th {\n        text-align: right;\n    }\n</style>\n<table border=\"1\" class=\"dataframe\">\n  <thead>\n    <tr style=\"text-align: right;\">\n      <th></th>\n      <th>protocol_type_icmp</th>\n      <th>protocol_type_tcp</th>\n      <th>protocol_type_udp</th>\n      <th>service_IRC</th>\n      <th>service_X11</th>\n      <th>service_Z39_50</th>\n      <th>service_aol</th>\n      <th>service_auth</th>\n      <th>service_bgp</th>\n      <th>service_courier</th>\n      <th>...</th>\n      <th>dst_host_count</th>\n      <th>dst_host_srv_count</th>\n      <th>dst_host_same_srv_rate</th>\n      <th>dst_host_diff_srv_rate</th>\n      <th>dst_host_same_src_port_rate</th>\n      <th>dst_host_srv_diff_host_rate</th>\n      <th>dst_host_serror_rate</th>\n      <th>dst_host_srv_serror_rate</th>\n      <th>dst_host_rerror_rate</th>\n      <th>dst_host_srv_rerror_rate</th>\n    </tr>\n  </thead>\n  <tbody>\n    <tr>\n      <th>0</th>\n      <td>0.0</td>\n      <td>1.0</td>\n      <td>0.0</td>\n      <td>0.0</td>\n      <td>0.0</td>\n      <td>0.0</td>\n      <td>0.0</td>\n      <td>0.0</td>\n      <td>0.0</td>\n      <td>0.0</td>\n      <td>...</td>\n      <td>150</td>\n      <td>25</td>\n      <td>0.17</td>\n      <td>0.03</td>\n      <td>0.17</td>\n      <td>0.00</td>\n      <td>0.00</td>\n      <td>0.00</td>\n      <td>0.05</td>\n      <td>0.00</td>\n    </tr>\n    <tr>\n      <th>1</th>\n      <td>0.0</td>\n      <td>0.0</td>\n      <td>1.0</td>\n      <td>0.0</td>\n      <td>0.0</td>\n      <td>0.0</td>\n      <td>0.0</td>\n      <td>0.0</td>\n      <td>0.0</td>\n      <td>0.0</td>\n      <td>...</td>\n      <td>255</td>\n      <td>1</td>\n      <td>0.00</td>\n      <td>0.60</td>\n      <td>0.88</td>\n      <td>0.00</td>\n      <td>0.00</td>\n      <td>0.00</td>\n      <td>0.00</td>\n      <td>0.00</td>\n    </tr>\n    <tr>\n      <th>2</th>\n      <td>0.0</td>\n      <td>1.0</td>\n      <td>0.0</td>\n      <td>0.0</td>\n      <td>0.0</td>\n      <td>0.0</td>\n      <td>0.0</td>\n      <td>0.0</td>\n      <td>0.0</td>\n      <td>0.0</td>\n      <td>...</td>\n      <td>255</td>\n      <td>26</td>\n      <td>0.10</td>\n      <td>0.05</td>\n      <td>0.00</td>\n      <td>0.00</td>\n      <td>1.00</td>\n      <td>1.00</td>\n      <td>0.00</td>\n      <td>0.00</td>\n    </tr>\n    <tr>\n      <th>3</th>\n      <td>0.0</td>\n      <td>1.0</td>\n      <td>0.0</td>\n      <td>0.0</td>\n      <td>0.0</td>\n      <td>0.0</td>\n      <td>0.0</td>\n      <td>0.0</td>\n      <td>0.0</td>\n      <td>0.0</td>\n      <td>...</td>\n      <td>30</td>\n      <td>255</td>\n      <td>1.00</td>\n      <td>0.00</td>\n      <td>0.03</td>\n      <td>0.04</td>\n      <td>0.03</td>\n      <td>0.01</td>\n      <td>0.00</td>\n      <td>0.01</td>\n    </tr>\n    <tr>\n      <th>4</th>\n      <td>0.0</td>\n      <td>1.0</td>\n      <td>0.0</td>\n      <td>0.0</td>\n      <td>0.0</td>\n      <td>0.0</td>\n      <td>0.0</td>\n      <td>0.0</td>\n      <td>0.0</td>\n      <td>0.0</td>\n      <td>...</td>\n      <td>255</td>\n      <td>255</td>\n      <td>1.00</td>\n      <td>0.00</td>\n      <td>0.00</td>\n      <td>0.00</td>\n      <td>0.00</td>\n      <td>0.00</td>\n      <td>0.00</td>\n      <td>0.00</td>\n    </tr>\n    <tr>\n      <th>...</th>\n      <td>...</td>\n      <td>...</td>\n      <td>...</td>\n      <td>...</td>\n      <td>...</td>\n      <td>...</td>\n      <td>...</td>\n      <td>...</td>\n      <td>...</td>\n      <td>...</td>\n      <td>...</td>\n      <td>...</td>\n      <td>...</td>\n      <td>...</td>\n      <td>...</td>\n      <td>...</td>\n      <td>...</td>\n      <td>...</td>\n      <td>...</td>\n      <td>...</td>\n      <td>...</td>\n    </tr>\n    <tr>\n      <th>125968</th>\n      <td>0.0</td>\n      <td>1.0</td>\n      <td>0.0</td>\n      <td>0.0</td>\n      <td>0.0</td>\n      <td>0.0</td>\n      <td>0.0</td>\n      <td>0.0</td>\n      <td>0.0</td>\n      <td>0.0</td>\n      <td>...</td>\n      <td>255</td>\n      <td>25</td>\n      <td>0.10</td>\n      <td>0.06</td>\n      <td>0.00</td>\n      <td>0.00</td>\n      <td>1.00</td>\n      <td>1.00</td>\n      <td>0.00</td>\n      <td>0.00</td>\n    </tr>\n    <tr>\n      <th>125969</th>\n      <td>0.0</td>\n      <td>0.0</td>\n      <td>1.0</td>\n      <td>0.0</td>\n      <td>0.0</td>\n      <td>0.0</td>\n      <td>0.0</td>\n      <td>0.0</td>\n      <td>0.0</td>\n      <td>0.0</td>\n      <td>...</td>\n      <td>255</td>\n      <td>244</td>\n      <td>0.96</td>\n      <td>0.01</td>\n      <td>0.01</td>\n      <td>0.00</td>\n      <td>0.00</td>\n      <td>0.00</td>\n      <td>0.00</td>\n      <td>0.00</td>\n    </tr>\n    <tr>\n      <th>125970</th>\n      <td>0.0</td>\n      <td>1.0</td>\n      <td>0.0</td>\n      <td>0.0</td>\n      <td>0.0</td>\n      <td>0.0</td>\n      <td>0.0</td>\n      <td>0.0</td>\n      <td>0.0</td>\n      <td>0.0</td>\n      <td>...</td>\n      <td>255</td>\n      <td>30</td>\n      <td>0.12</td>\n      <td>0.06</td>\n      <td>0.00</td>\n      <td>0.00</td>\n      <td>0.72</td>\n      <td>0.00</td>\n      <td>0.01</td>\n      <td>0.00</td>\n    </tr>\n    <tr>\n      <th>125971</th>\n      <td>0.0</td>\n      <td>1.0</td>\n      <td>0.0</td>\n      <td>0.0</td>\n      <td>0.0</td>\n      <td>0.0</td>\n      <td>0.0</td>\n      <td>0.0</td>\n      <td>0.0</td>\n      <td>0.0</td>\n      <td>...</td>\n      <td>255</td>\n      <td>8</td>\n      <td>0.03</td>\n      <td>0.05</td>\n      <td>0.00</td>\n      <td>0.00</td>\n      <td>1.00</td>\n      <td>1.00</td>\n      <td>0.00</td>\n      <td>0.00</td>\n    </tr>\n    <tr>\n      <th>125972</th>\n      <td>0.0</td>\n      <td>1.0</td>\n      <td>0.0</td>\n      <td>0.0</td>\n      <td>0.0</td>\n      <td>0.0</td>\n      <td>0.0</td>\n      <td>0.0</td>\n      <td>0.0</td>\n      <td>0.0</td>\n      <td>...</td>\n      <td>255</td>\n      <td>77</td>\n      <td>0.30</td>\n      <td>0.03</td>\n      <td>0.30</td>\n      <td>0.00</td>\n      <td>0.00</td>\n      <td>0.00</td>\n      <td>0.00</td>\n      <td>0.00</td>\n    </tr>\n  </tbody>\n</table>\n<p>125973 rows × 162 columns</p>\n</div>"
     },
     "execution_count": 11,
     "metadata": {},
     "output_type": "execute_result"
    }
   ],
   "source": [
    "ohe_df"
   ],
   "metadata": {
    "collapsed": false,
    "pycharm": {
     "name": "#%%\n"
    }
   }
  },
  {
   "cell_type": "code",
   "execution_count": 14,
   "outputs": [
    {
     "data": {
      "text/plain": "duration  protocol_type  service  flag  src_bytes  dst_bytes  land  wrong_fragment  urgent  hot  num_failed_logins  logged_in  num_compromised  root_shell  su_attempted  num_root  num_file_creations  num_shells  num_access_files  num_outbound_cmds  is_host_login  is_guest_login  count  srv_count  serror_rate  srv_serror_rate  rerror_rate  srv_rerror_rate  same_srv_rate  diff_srv_rate  srv_diff_host_rate  dst_host_count  dst_host_srv_count  dst_host_same_srv_rate  dst_host_diff_srv_rate  dst_host_same_src_port_rate  dst_host_srv_diff_host_rate  dst_host_serror_rate  dst_host_srv_serror_rate  dst_host_rerror_rate  dst_host_srv_rerror_rate  class    \n0         icmp           eco_i    SF    8          0          0     0               0       0    0                  0          0                0           0             0         0                   0           0                 0                  0              0               1      1          0.0          0.0              0.0          0.0              1.00           0.00           0.0                 1               1                   1.00                    0.00                    1.00                         0.00                         0.0                   0.00                      0.00                  0.0                       ipsweep      1\n          tcp            private  S0    0          0          0     0               0       0    0                  0          0                0           0             0         0                   0           0                 0                  0              0               133    12         1.0          1.0              0.0          0.0              0.09           0.06           0.0                 241             8                   0.03                    0.08                    0.00                         0.00                         1.0                   1.00                      0.00                  0.0                       neptune      1\n                                                                                                                                                                                                                                                                                                                                                                                                                        131             9                   0.07                    0.11                    0.01                         0.00                         1.0                   1.00                      0.00                  0.0                       neptune      1\n                                                                                                                                                                                                                                                                                                                                                                                     0.05           0.0                 255             12                  0.05                    0.05                    0.00                         0.00                         1.0                   1.00                      0.00                  0.0                       neptune      1\n                                                                                                                                                                                                                                                                                               11         1.0          1.0              0.0          0.0              0.08           0.08           0.0                 255             14                  0.05                    0.07                    0.00                         0.00                         1.0                   1.00                      0.00                  0.0                       neptune      1\n                                                                                                                                                                                                                                                                                                                                                                                                                                                                                                                                                                                                                                                                                  ..\n                         http     SF    227        6265       0     0               0       0    0                  1          0                0           0             0         0                   0           0                 0                  0              0               5      5          0.0          0.0              0.0          0.0              1.00           0.00           0.0                 17              255                 1.00                    0.00                    0.06                         0.05                         0.0                   0.00                      0.00                  0.0                       normal       1\n                                                   6128       0     0               0       0    0                  1          0                0           0             0         0                   0           0                 0                  0              0               8      20         0.0          0.0              0.0          0.0              1.00           0.00           0.1                 8               255                 1.00                    0.00                    0.12                         0.05                         0.0                   0.01                      0.00                  0.0                       normal       1\n                                                   5839       0     0               0       0    0                  1          0                0           0             0         0                   0           0                 0                  0              0               5      5          0.0          0.0              0.0          0.0              1.00           0.00           0.0                 32              255                 1.00                    0.00                    0.03                         0.02                         0.0                   0.00                      0.00                  0.0                       normal       1\n                                                   5835       0     0               0       0    0                  1          0                0           0             0         0                   0           0                 0                  0              0               6      6          0.0          0.0              0.0          0.0              1.00           0.00           0.0                 255             255                 1.00                    0.00                    0.00                         0.00                         0.0                   0.00                      0.00                  0.0                       normal       1\n42908     tcp            private  RSTR  1          0          0     0               0       0    0                  0          0                0           0             0         0                   0           0                 0                  0              0               2      2          0.0          0.0              1.0          1.0              1.00           0.00           0.0                 122             2                   0.02                    0.03                    0.02                         0.00                         0.0                   0.00                      0.02                  1.0                       portsweep    1\nLength: 125973, dtype: int64"
     },
     "execution_count": 14,
     "metadata": {},
     "output_type": "execute_result"
    }
   ],
   "source": [
    "df.value_counts()"
   ],
   "metadata": {
    "collapsed": false,
    "pycharm": {
     "name": "#%%\n"
    }
   }
  },
  {
   "cell_type": "code",
   "execution_count": null,
   "outputs": [],
   "source": [],
   "metadata": {
    "collapsed": false,
    "pycharm": {
     "name": "#%%\n"
    }
   }
  },
  {
   "cell_type": "code",
   "execution_count": null,
   "metadata": {
    "collapsed": false,
    "pycharm": {
     "name": "#%%\n"
    }
   },
   "outputs": [],
   "source": []
  }
 ],
 "metadata": {
  "kernelspec": {
   "display_name": "Python 3",
   "language": "python",
   "name": "python3"
  },
  "language_info": {
   "codemirror_mode": {
    "name": "ipython",
    "version": 3
   },
   "file_extension": ".py",
   "mimetype": "text/x-python",
   "name": "python",
   "nbconvert_exporter": "python",
   "pygments_lexer": "ipython3",
   "version": "3.10.9"
  },
  "vscode": {
   "interpreter": {
    "hash": "e97064513f0d268e2f073204e543b8077386c7433ee9f7232070081c2302a999"
   }
  }
 },
 "nbformat": 4,
 "nbformat_minor": 0
}