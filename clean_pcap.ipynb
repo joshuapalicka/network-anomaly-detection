{
 "cells": [
  {
   "cell_type": "code",
   "execution_count": 67,
   "metadata": {},
   "outputs": [
    {
     "name": "stdout",
     "output_type": "stream",
     "text": [
      "Index(['No.', 'Time', 'Source', 'Destination', 'Protocol', 'Length', 'Info'], dtype='object')\n"
     ]
    }
   ],
   "source": [
    "# test\n",
    "import pandas as pd\n",
    "import numpy as np\n",
    "\n",
    "#Export PCAP to CSV\n",
    "cleaned_PCAP = pd.read_csv('Converted_PCAP.csv')\n",
    "\n",
    "\n",
    "print(cleaned_PCAP.columns)\n",
    "\n",
    "cleaned_PCAP['Start_port'] = 0\n",
    "cleaned_PCAP['End_port'] = 0\n",
    "cleaned_PCAP['Syn'] = 0\n",
    "cleaned_PCAP['Seq'] = 0 \n",
    "cleaned_PCAP['Win'] = 0 \n",
    "cleaned_PCAP['Len'] = 0 \n",
    "cleaned_PCAP['MSS'] = 0 \n",
    "\n",
    "cleaned_PCAP['TCP Retransmission'] = 0\n",
    "cleaned_PCAP['PSH, ACK'] = 0\n",
    "cleaned_PCAP['Ack'] = 0\n",
    "cleaned_PCAP['TSval'] = 0 \n",
    "cleaned_PCAP['TSecr'] = 0\n",
    "#59434  >  13530 [SYN] Seq=0 Win=1024 Len=0\n",
    "#[TCP Retransmission] 33268  >  22 [PSH, ACK] Seq=1 Ack=1 Win=24576 Len=36 TSval=4239907771 TSecr=3409435846\n",
    "\n",
    "#print(cleaned_PCAP)"
   ]
  },
  {
   "cell_type": "code",
   "execution_count": 68,
   "metadata": {},
   "outputs": [],
   "source": [
    "import re\n",
    "for i in range(len(cleaned_PCAP)):\n",
    "    #print(cleaned_PCAP.loc[i, \"Info\"])\n",
    "    info = str(cleaned_PCAP.loc[i, \"Info\"])\n",
    "    pattern1 = r\"SYN\"\n",
    "    pattern2 = r\"PSH, ACK\"\n",
    "    pattern3 = r\"TCP Retransmission\"\n",
    "    \n",
    "    match = re.search(pattern1, info)\n",
    "    if match:\n",
    "        cleaned_PCAP.loc[i, \"Syn\"] = 1\n",
    "    \n",
    "    match = re.search(pattern2, info)\n",
    "    if match:\n",
    "        cleaned_PCAP.loc[i, \"PSH, ACK\"] = 1\n",
    "    \n",
    "    \n",
    "\n",
    "    p = re.compile('\\d+')\n",
    "    p = p.findall(info)\n",
    "\n",
    "    #print(info)\n",
    "    #print(p)\n",
    "    match = re.search(pattern3, info)\n",
    "    if match and len(p) >= 8:\n",
    "        cleaned_PCAP.loc[i, \"TCP Retransmission\"] = 1\n",
    "\n",
    "        #[TCP Retransmission] 33268  >  22 [PSH, ACK] Seq=1 Ack=1 Win=24576 Len=36 TSval=4239907771 TSecr=3409435846\n",
    "        \n",
    "        cleaned_PCAP.loc[i, \"Start_port\"] = p[0]\n",
    "        cleaned_PCAP.loc[i, \"End_port\"] = p[1]\n",
    "        cleaned_PCAP.loc[i, \"Seq\"] = p[2]\n",
    "        cleaned_PCAP.loc[i, \"Ack\"] = p[3]\n",
    "        cleaned_PCAP.loc[i, \"Win\"] = p[4]\n",
    "        cleaned_PCAP.loc[i, \"Len\"] = p[5]\n",
    "        cleaned_PCAP.loc[i, \"TSval\"] = p[6]\n",
    "        cleaned_PCAP.loc[i, \"TSecr\"] = p[7]\n",
    "    elif len(p) >= 5 :\n",
    "        cleaned_PCAP.loc[i, \"Start_port\"] = p[0]\n",
    "        cleaned_PCAP.loc[i, \"End_port\"] = p[1]\n",
    "        cleaned_PCAP.loc[i, \"Seq\"] = p[2]\n",
    "        cleaned_PCAP.loc[i, \"Win\"] = p[3]\n",
    "        cleaned_PCAP.loc[i, \"Len\"] = p[4]\n",
    "    else:\n",
    "        cleaned_PCAP.loc[i, \"Start_port\"] = -1\n",
    "        \n",
    "    \n",
    "        \n"
   ]
  },
  {
   "cell_type": "code",
   "execution_count": 69,
   "metadata": {},
   "outputs": [],
   "source": [
    "\n",
    "cleaned_PCAP = cleaned_PCAP[cleaned_PCAP['Start_port'] != -1]\n",
    "cleaned_PCAP = cleaned_PCAP.drop(['No.', 'Source', 'Destination'], axis=1)\n"
   ]
  },
  {
   "cell_type": "code",
   "execution_count": 70,
   "metadata": {},
   "outputs": [],
   "source": [
    "one_hot = pd.get_dummies(cleaned_PCAP['Protocol'])\n",
    "# Drop column B as it is now encoded\n",
    "cleaned_PCAP = cleaned_PCAP.drop('Protocol',axis = 1)\n",
    "# Join the encoded df\n",
    "cleaned_PCAP = cleaned_PCAP.join(one_hot)"
   ]
  },
  {
   "cell_type": "code",
   "execution_count": 71,
   "metadata": {},
   "outputs": [],
   "source": [
    "cleaned_PCAP.to_csv(\"cleaned_PCAP.csv\",  encoding='utf-8')"
   ]
  },
  {
   "cell_type": "markdown",
   "metadata": {},
   "source": []
  }
 ],
 "metadata": {
  "kernelspec": {
   "display_name": "Python 3",
   "language": "python",
   "name": "python3"
  },
  "language_info": {
   "codemirror_mode": {
    "name": "ipython",
    "version": 3
   },
   "file_extension": ".py",
   "mimetype": "text/x-python",
   "name": "python",
   "nbconvert_exporter": "python",
   "pygments_lexer": "ipython3",
   "version": "3.10.9"
  },
  "orig_nbformat": 4,
  "vscode": {
   "interpreter": {
    "hash": "bbc3c3d932324566a9bf4b4a52ddf64063695fc3adbf25b3fda92572428493bb"
   }
  }
 },
 "nbformat": 4,
 "nbformat_minor": 2
}
