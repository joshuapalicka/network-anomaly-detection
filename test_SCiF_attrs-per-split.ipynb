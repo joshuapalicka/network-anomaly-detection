{
 "cells": [
  {
   "cell_type": "code",
   "execution_count": 1,
   "metadata": {},
   "outputs": [],
   "source": [
    "from pandas import read_csv\n",
    "from turtleIsolationForests.sciForest import SCIsolationForest\n",
    "from turtleIsolationForests.printResults import notebook_visual_printout, csv_printout\n",
    "from turtleIsolationForests.preprocessFeatures import preprocess_features"
   ]
  },
  {
   "cell_type": "code",
   "execution_count": 2,
   "metadata": {},
   "outputs": [
    {
     "data": {
      "text/plain": [
       "0.4654171925730117"
      ]
     },
     "execution_count": 2,
     "metadata": {},
     "output_type": "execute_result"
    }
   ],
   "source": [
    "train_dataframe = read_csv(\"./eda_simple_classification/network_data_mod_train.csv\", index_col=0)\n",
    "test_dataframe = read_csv(\"./eda_simple_classification/network_data_mod_test.csv\", index_col=0)\n",
    "X_train, X_test, train_labels, test_labels = preprocess_features(train_dataframe, test_dataframe)\n",
    "contamination = sum(train_labels) / len(train_labels)\n",
    "contamination"
   ]
  },
  {
   "cell_type": "code",
   "execution_count": 3,
   "metadata": {},
   "outputs": [
    {
     "name": "stdout",
     "output_type": "stream",
     "text": [
      "run,precision,recall,f1,auroc,test_predict_time\n",
      "0,0.8881602268699043,0.7809553494895971,0.8311149811336401,0.8898425222989435,51.67791414260864\n",
      "1,0.9007659574468085,0.8247486947712928,0.8610828621405036,0.9050446150589888,49.80439281463623\n",
      "2,0.8447595263030694,0.8171121327826697,0.8307058543927751,0.8826712300291805,50.73778462409973\n",
      "3,0.863230010861392,0.805111821086262,0.8331586162406258,0.8890231677398422,51.103331089019775\n",
      "4,0.8963528263377407,0.7871113535416504,0.8381877022653721,0.8824705700503132,50.302701473236084\n"
     ]
    }
   ],
   "source": [
    "model = SCIsolationForest(num_hyperplanes_per_split = 10, num_attributes_per_split = 2, contamination = contamination, random_state = None)\n",
    "#notebook_visual_printout(X_train, X_test, train_labels, test_labels, model)\n",
    "csv_printout(5, X_train, X_test, train_labels, test_labels, model)"
   ]
  },
  {
   "cell_type": "code",
   "execution_count": 4,
   "metadata": {},
   "outputs": [
    {
     "name": "stdout",
     "output_type": "stream",
     "text": [
      "run,precision,recall,f1,auroc,test_predict_time\n",
      "0,0.8348854961832061,0.8522559027507208,0.8434812786796746,0.9056099961047579,54.023627281188965\n",
      "1,0.8598932211616244,0.8283332034598301,0.843818217900377,0.899101231224081,52.98654365539551\n",
      "2,0.8507750381495462,0.8254500116886153,0.837921214997627,0.9142415407874657,53.004120111465454\n",
      "3,0.8807391269264908,0.8505415725083768,0.8653769919923887,0.9279650977377751,53.15927267074585\n",
      "4,0.837531887755102,0.8186706148211642,0.8279938527012648,0.904509144639306,56.26334309577942\n"
     ]
    }
   ],
   "source": [
    "model = SCIsolationForest(num_hyperplanes_per_split = 10, num_attributes_per_split = 5, contamination = contamination, random_state = None)\n",
    "csv_printout(5, X_train, X_test, train_labels, test_labels, model)"
   ]
  },
  {
   "cell_type": "code",
   "execution_count": 5,
   "metadata": {},
   "outputs": [
    {
     "name": "stdout",
     "output_type": "stream",
     "text": [
      "run,precision,recall,f1,auroc,test_predict_time\n",
      "0,0.8056206088992974,0.8577885139873763,0.8308865154545797,0.8879861978288568,55.645665407180786\n",
      "1,0.835082685192177,0.8617626431855373,0.8482129160914251,0.8977656284866894,54.23260259628296\n",
      "2,0.8166654473626453,0.8698667497857088,0.8424269866425175,0.8934556376627318,59.376585721969604\n",
      "3,0.8079248772853382,0.8849840255591054,0.8447006322052807,0.8910984115126486,55.21093726158142\n",
      "4,0.8027225583405359,0.8684641159510637,0.8343002582625294,0.8941616367665925,55.262885093688965\n"
     ]
    }
   ],
   "source": [
    "model = SCIsolationForest(num_hyperplanes_per_split = 10, num_attributes_per_split = 10, contamination = contamination, random_state = None)\n",
    "csv_printout(5, X_train, X_test, train_labels, test_labels, model)"
   ]
  },
  {
   "cell_type": "code",
   "execution_count": 7,
   "metadata": {},
   "outputs": [
    {
     "name": "stdout",
     "output_type": "stream",
     "text": [
      "run,precision,recall,f1,auroc,test_predict_time\n",
      "0,0.8126774614381091,0.8252162393828412,0.8188988555521189,0.8727809073801476,56.678194761276245\n",
      "1,0.8142280894756142,0.8651133795683005,0.8388998035363457,0.8817573290041203,56.42950248718262\n",
      "2,0.8258215254748267,0.8538143847892153,0.8395846902417532,0.8902152195328015,56.336124420166016\n",
      "3,0.8130182725471491,0.8633211252240318,0.8374149659863945,0.8865631661909894,56.22494649887085\n",
      "4,0.7890359441672091,0.8501519519987533,0.8184546136534133,0.8683048614264166,56.94209957122803\n"
     ]
    }
   ],
   "source": [
    "model = SCIsolationForest(num_hyperplanes_per_split = 10, num_attributes_per_split = 15, contamination = contamination, random_state = None)\n",
    "csv_printout(5, X_train, X_test, train_labels, test_labels, model)"
   ]
  },
  {
   "cell_type": "code",
   "execution_count": 8,
   "metadata": {},
   "outputs": [
    {
     "name": "stdout",
     "output_type": "stream",
     "text": [
      "run,precision,recall,f1,auroc,test_predict_time\n",
      "0,0.781670970894116,0.8726720174549988,0.8246686303387334,0.8541941313818974,62.95041489601135\n",
      "1,0.8147821614870325,0.8641782903452038,0.8387535924973528,0.8718354627813394,59.89539861679077\n",
      "2,0.7774742592981719,0.864957531364451,0.8188860199188491,0.8403856330680904,64.47083258628845\n",
      "3,0.8037021396396397,0.8898153198784384,0.8445693576420991,0.8676227466897042,60.633538484573364\n",
      "4,0.8007707409292518,0.8581781344969999,0.8284811554953736,0.8601363998373215,61.31232190132141\n"
     ]
    }
   ],
   "source": [
    "model = SCIsolationForest(num_hyperplanes_per_split = 10, num_attributes_per_split = 20, contamination = contamination, random_state = None)\n",
    "csv_printout(5, X_train, X_test, train_labels, test_labels, model)"
   ]
  },
  {
   "cell_type": "code",
   "execution_count": 9,
   "metadata": {},
   "outputs": [
    {
     "name": "stdout",
     "output_type": "stream",
     "text": [
      "run,precision,recall,f1,auroc,test_predict_time\n",
      "0,0.8150645208061476,0.8761006779396867,0.8444811657340293,0.8642211522122032,63.93554472923279\n",
      "1,0.8014500035891178,0.8700225979895582,0.8343296966073831,0.8469012667605527,63.93818736076355\n",
      "2,0.7799835808642436,0.8143847892153043,0.7968130527599878,0.8187405386831941,64.60736060142517\n",
      "3,0.7858539057409687,0.8458661263928933,0.8147564362380845,0.8317610695375475,65.06423783302307\n",
      "4,0.7894440534834624,0.8741525753915687,0.8296416817660762,0.834896292938389,64.35318875312805\n"
     ]
    }
   ],
   "source": [
    "model = SCIsolationForest(num_hyperplanes_per_split = 10, num_attributes_per_split = 46, contamination = contamination, random_state = None)\n",
    "csv_printout(5, X_train, X_test, train_labels, test_labels, model)"
   ]
  },
  {
   "cell_type": "code",
   "execution_count": null,
   "metadata": {},
   "outputs": [],
   "source": []
  }
 ],
 "metadata": {
  "kernelspec": {
   "display_name": "Python 3",
   "language": "python",
   "name": "python3"
  },
  "language_info": {
   "codemirror_mode": {
    "name": "ipython",
    "version": 3
   },
   "file_extension": ".py",
   "mimetype": "text/x-python",
   "name": "python",
   "nbconvert_exporter": "python",
   "pygments_lexer": "ipython3",
   "version": "3.10.9"
  },
  "orig_nbformat": 4,
  "vscode": {
   "interpreter": {
    "hash": "e97064513f0d268e2f073204e543b8077386c7433ee9f7232070081c2302a999"
   }
  }
 },
 "nbformat": 4,
 "nbformat_minor": 2
}
