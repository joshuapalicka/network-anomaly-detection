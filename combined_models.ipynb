{
 "cells": [
  {
   "cell_type": "code",
   "execution_count": 1,
   "outputs": [],
   "source": [
    "import matplotlib.pyplot as plt\n",
    "import numpy as np\n",
    "import pandas as pd\n",
    "import tensorflow as tf\n",
    "\n",
    "from sklearn.metrics import accuracy_score, precision_score, recall_score\n",
    "from sklearn.model_selection import train_test_split"
   ],
   "metadata": {
    "collapsed": false
   }
  },
  {
   "cell_type": "code",
   "execution_count": 2,
   "outputs": [],
   "source": [
    "import autoencoder.aecExtraFeatures as Z_calculations\n",
    "\n",
    "def addZToPrediction(model, data_point):\n",
    "    encoded = model.encoder(data_point)\n",
    "    reconstruction = model.decoder(encoded)\n",
    "\n",
    "    Z_features = [Z_calculations.getZVector(data_point, reconstruction, encoded)]\n",
    "\n",
    "    Z_features_tensor = tf.convert_to_tensor(Z_features, dtype=tf.float32)\n",
    "    data_point = tf.convert_to_tensor(data_point, dtype=tf.float32)\n",
    "\n",
    "    data_point = tf.concat([data_point, Z_features_tensor], 1)\n",
    "\n",
    "    return data_point"
   ],
   "metadata": {
    "collapsed": false
   }
  },
  {
   "cell_type": "code",
   "execution_count": 3,
   "outputs": [],
   "source": [
    "def isAnomaly(data_point, model_1, model_2, threshold):\n",
    "\n",
    "    # need autoencoder to return boolean isAnomaly\n",
    "    isAnomaly = tf.math.less(tf.keras.losses.mae(model_1(data_point), data_point), threshold)\n",
    "\n",
    "    # if the autoencoder doesn't find anything out of the ordinary, return False\n",
    "    if not isAnomaly:\n",
    "        return False\n",
    "\n",
    "    data_point = addZToPrediction(model_1, data_point)\n",
    "\n",
    "    # if the autoencoder sees something weird, run it through the isolation forest to make sure\n",
    "    return model_2.predict(data_point)"
   ],
   "metadata": {
    "collapsed": false
   }
  },
  {
   "cell_type": "code",
   "execution_count": 4,
   "outputs": [],
   "source": [
    "from turtleIsolationForests.preprocessFeatures import preprocess_features\n",
    "\n",
    "train_dataframe = pd.read_csv(\"eda_simple_classification/network_data_mod_train.csv\", index_col=0)\n",
    "test_dataframe = pd.read_csv(\"eda_simple_classification/network_data_mod_test.csv\", index_col=0)\n",
    "\n",
    "train_data, test_data, train_labels, test_labels = preprocess_features(train_dataframe, test_dataframe)"
   ],
   "metadata": {
    "collapsed": false
   }
  },
  {
   "cell_type": "code",
   "execution_count": 5,
   "outputs": [],
   "source": [
    "#train_data, test_data, train_labels, test_labels = train_data[:1000], test_data[:1000], train_labels[:1000], test_labels[:1000]"
   ],
   "metadata": {
    "collapsed": false
   }
  },
  {
   "cell_type": "code",
   "execution_count": 6,
   "outputs": [],
   "source": [
    "np_train_labels = train_labels.to_numpy()\n",
    "np_test_labels = test_labels.to_numpy()"
   ],
   "metadata": {
    "collapsed": false
   }
  },
  {
   "cell_type": "code",
   "execution_count": 7,
   "outputs": [],
   "source": [
    "np_train_data = train_data.to_numpy()\n",
    "np_test_data = test_data.to_numpy()"
   ],
   "metadata": {
    "collapsed": false
   }
  },
  {
   "cell_type": "code",
   "execution_count": 8,
   "outputs": [],
   "source": [
    "np_train_data = tf.cast(np_train_data, tf.float32)\n",
    "np_test_data = tf.cast(np_test_data, tf.float32)"
   ],
   "metadata": {
    "collapsed": false
   }
  },
  {
   "cell_type": "code",
   "execution_count": 9,
   "outputs": [],
   "source": [
    "np_train_labels = np_train_labels.astype(bool)\n",
    "np_test_labels = np_test_labels.astype(bool)\n",
    "\n",
    "normal_train_data = np_train_data[np_train_labels]\n",
    "normal_test_data = np_test_data[np_test_labels]\n",
    "\n",
    "anomalous_train_data = np_train_data[~np_train_labels]\n",
    "anomalous_test_data = np_test_data[~np_test_labels]"
   ],
   "metadata": {
    "collapsed": false
   }
  },
  {
   "cell_type": "code",
   "execution_count": 10,
   "outputs": [],
   "source": [
    "from autoencoder.autoencoder import AnomalyDetector\n",
    "autoencoder = AnomalyDetector()"
   ],
   "metadata": {
    "collapsed": false
   }
  },
  {
   "cell_type": "code",
   "execution_count": 11,
   "outputs": [],
   "source": [
    "autoencoder.compile(optimizer='adam', loss='mae')"
   ],
   "metadata": {
    "collapsed": false
   }
  },
  {
   "cell_type": "code",
   "execution_count": 12,
   "outputs": [
    {
     "name": "stdout",
     "output_type": "stream",
     "text": [
      "Epoch 1/100\n",
      "Tensor(\"anomaly_detector/sequential/dense_2/Relu:0\", shape=(None, 8), dtype=float32)\n",
      "Tensor(\"anomaly_detector/sequential_1/dense_5/Sigmoid:0\", shape=(None, 46), dtype=float32)\n",
      "Tensor(\"anomaly_detector/sequential/dense_2/Relu:0\", shape=(None, 8), dtype=float32)\n",
      "Tensor(\"anomaly_detector/sequential_1/dense_5/Sigmoid:0\", shape=(None, 46), dtype=float32)\n",
      "2081/2105 [============================>.] - ETA: 0s - loss: 0.3031Tensor(\"anomaly_detector/sequential/dense_2/Relu:0\", shape=(None, 8), dtype=float32)\n",
      "Tensor(\"anomaly_detector/sequential_1/dense_5/Sigmoid:0\", shape=(None, 46), dtype=float32)\n",
      "2105/2105 [==============================] - 5s 2ms/step - loss: 0.3030 - val_loss: 0.4182\n",
      "Epoch 2/100\n",
      "2105/2105 [==============================] - 4s 2ms/step - loss: 0.2856 - val_loss: 0.4077\n",
      "Epoch 3/100\n",
      "2105/2105 [==============================] - 4s 2ms/step - loss: 0.2848 - val_loss: 0.4058\n",
      "Epoch 4/100\n",
      "2105/2105 [==============================] - 4s 2ms/step - loss: 0.2788 - val_loss: 0.4008\n",
      "Epoch 5/100\n",
      "2105/2105 [==============================] - 4s 2ms/step - loss: 0.2756 - val_loss: 0.4005\n",
      "Epoch 6/100\n",
      "2105/2105 [==============================] - 3s 2ms/step - loss: 0.2755 - val_loss: 0.4005\n",
      "Epoch 7/100\n",
      "2105/2105 [==============================] - 4s 2ms/step - loss: 0.2754 - val_loss: 0.3994\n",
      "Epoch 8/100\n",
      "2105/2105 [==============================] - 4s 2ms/step - loss: 0.2753 - val_loss: 0.4006\n",
      "Epoch 9/100\n",
      "2105/2105 [==============================] - 4s 2ms/step - loss: 0.2753 - val_loss: 0.4006\n",
      "Epoch 10/100\n",
      "2105/2105 [==============================] - 4s 2ms/step - loss: 0.2752 - val_loss: 0.3986\n",
      "Epoch 11/100\n",
      "2105/2105 [==============================] - 4s 2ms/step - loss: 0.2732 - val_loss: 0.3986\n",
      "Epoch 12/100\n",
      "2105/2105 [==============================] - 4s 2ms/step - loss: 0.2728 - val_loss: 0.3980\n",
      "Epoch 13/100\n",
      "2105/2105 [==============================] - 4s 2ms/step - loss: 0.2727 - val_loss: 0.3976\n",
      "Epoch 14/100\n",
      "2105/2105 [==============================] - 5s 2ms/step - loss: 0.2721 - val_loss: 0.3975\n",
      "Epoch 15/100\n",
      "2105/2105 [==============================] - 5s 2ms/step - loss: 0.2716 - val_loss: 0.3984\n",
      "Epoch 16/100\n",
      "2105/2105 [==============================] - 5s 2ms/step - loss: 0.2715 - val_loss: 0.3985\n",
      "Epoch 17/100\n",
      "2105/2105 [==============================] - 5s 2ms/step - loss: 0.2715 - val_loss: 0.4005\n",
      "Epoch 18/100\n",
      "2105/2105 [==============================] - 5s 2ms/step - loss: 0.2714 - val_loss: 0.4004\n",
      "Epoch 19/100\n",
      "2105/2105 [==============================] - 5s 2ms/step - loss: 0.2714 - val_loss: 0.4004\n",
      "Epoch 20/100\n",
      "2105/2105 [==============================] - 4s 2ms/step - loss: 0.2714 - val_loss: 0.3997\n",
      "Epoch 21/100\n",
      "2105/2105 [==============================] - 4s 2ms/step - loss: 0.2714 - val_loss: 0.4001\n",
      "Epoch 22/100\n",
      "2105/2105 [==============================] - 4s 2ms/step - loss: 0.2713 - val_loss: 0.4000\n",
      "Epoch 23/100\n",
      "2105/2105 [==============================] - 4s 2ms/step - loss: 0.2713 - val_loss: 0.4007\n",
      "Epoch 24/100\n",
      "2105/2105 [==============================] - 4s 2ms/step - loss: 0.2712 - val_loss: 0.4002\n",
      "Epoch 25/100\n",
      "2105/2105 [==============================] - 4s 2ms/step - loss: 0.2712 - val_loss: 0.3999\n",
      "Epoch 26/100\n",
      "2105/2105 [==============================] - 4s 2ms/step - loss: 0.2712 - val_loss: 0.3984\n",
      "Epoch 27/100\n",
      "2105/2105 [==============================] - 4s 2ms/step - loss: 0.2712 - val_loss: 0.3996\n",
      "Epoch 28/100\n",
      "2105/2105 [==============================] - 4s 2ms/step - loss: 0.2711 - val_loss: 0.3977\n",
      "Epoch 29/100\n",
      "2105/2105 [==============================] - 4s 2ms/step - loss: 0.2711 - val_loss: 0.3985\n",
      "Epoch 30/100\n",
      "2105/2105 [==============================] - 4s 2ms/step - loss: 0.2711 - val_loss: 0.3990\n",
      "Epoch 31/100\n",
      "2105/2105 [==============================] - 4s 2ms/step - loss: 0.2711 - val_loss: 0.3966\n",
      "Epoch 32/100\n",
      "2105/2105 [==============================] - 4s 2ms/step - loss: 0.2710 - val_loss: 0.3959\n",
      "Epoch 33/100\n",
      "2105/2105 [==============================] - 4s 2ms/step - loss: 0.2710 - val_loss: 0.3976\n",
      "Epoch 34/100\n",
      "2105/2105 [==============================] - 4s 2ms/step - loss: 0.2710 - val_loss: 0.3978\n",
      "Epoch 35/100\n",
      "2105/2105 [==============================] - 4s 2ms/step - loss: 0.2710 - val_loss: 0.3965\n",
      "Epoch 36/100\n",
      "2105/2105 [==============================] - 4s 2ms/step - loss: 0.2710 - val_loss: 0.3981\n",
      "Epoch 37/100\n",
      "2105/2105 [==============================] - 4s 2ms/step - loss: 0.2710 - val_loss: 0.3945\n",
      "Epoch 38/100\n",
      "2105/2105 [==============================] - 4s 2ms/step - loss: 0.2710 - val_loss: 0.3952\n",
      "Epoch 39/100\n",
      "2105/2105 [==============================] - 4s 2ms/step - loss: 0.2710 - val_loss: 0.3974\n",
      "Epoch 40/100\n",
      "2105/2105 [==============================] - 4s 2ms/step - loss: 0.2710 - val_loss: 0.3974\n",
      "Epoch 41/100\n",
      "2105/2105 [==============================] - 3s 2ms/step - loss: 0.2709 - val_loss: 0.3973\n",
      "Epoch 42/100\n",
      "2105/2105 [==============================] - 3s 2ms/step - loss: 0.2709 - val_loss: 0.3970\n",
      "Epoch 43/100\n",
      "2105/2105 [==============================] - 3s 2ms/step - loss: 0.2709 - val_loss: 0.3971\n",
      "Epoch 44/100\n",
      "2105/2105 [==============================] - 3s 2ms/step - loss: 0.2709 - val_loss: 0.3972\n",
      "Epoch 45/100\n",
      "2105/2105 [==============================] - 3s 2ms/step - loss: 0.2708 - val_loss: 0.3972\n",
      "Epoch 46/100\n",
      "2105/2105 [==============================] - 3s 1ms/step - loss: 0.2708 - val_loss: 0.3930\n",
      "Epoch 47/100\n",
      "2105/2105 [==============================] - 3s 1ms/step - loss: 0.2708 - val_loss: 0.3939\n",
      "Epoch 48/100\n",
      "2105/2105 [==============================] - 3s 1ms/step - loss: 0.2708 - val_loss: 0.3922\n",
      "Epoch 49/100\n",
      "2105/2105 [==============================] - 3s 1ms/step - loss: 0.2707 - val_loss: 0.3911\n",
      "Epoch 50/100\n",
      "2105/2105 [==============================] - 3s 1ms/step - loss: 0.2707 - val_loss: 0.3931\n",
      "Epoch 51/100\n",
      "2105/2105 [==============================] - 3s 1ms/step - loss: 0.2707 - val_loss: 0.3949\n",
      "Epoch 52/100\n",
      "2105/2105 [==============================] - 3s 2ms/step - loss: 0.2707 - val_loss: 0.3932\n",
      "Epoch 53/100\n",
      "2105/2105 [==============================] - 3s 2ms/step - loss: 0.2707 - val_loss: 0.3937\n",
      "Epoch 54/100\n",
      "2105/2105 [==============================] - 3s 2ms/step - loss: 0.2707 - val_loss: 0.3930\n",
      "Epoch 55/100\n",
      "2105/2105 [==============================] - 3s 2ms/step - loss: 0.2707 - val_loss: 0.3924\n",
      "Epoch 56/100\n",
      "2105/2105 [==============================] - 3s 2ms/step - loss: 0.2707 - val_loss: 0.3922\n",
      "Epoch 57/100\n",
      "2105/2105 [==============================] - 3s 2ms/step - loss: 0.2707 - val_loss: 0.3930\n",
      "Epoch 58/100\n",
      "2105/2105 [==============================] - 3s 2ms/step - loss: 0.2707 - val_loss: 0.3930\n",
      "Epoch 59/100\n",
      "2105/2105 [==============================] - 3s 1ms/step - loss: 0.2706 - val_loss: 0.3930\n",
      "Epoch 60/100\n",
      "2105/2105 [==============================] - 3s 1ms/step - loss: 0.2706 - val_loss: 0.3934\n",
      "Epoch 61/100\n",
      "2105/2105 [==============================] - 3s 1ms/step - loss: 0.2706 - val_loss: 0.3948\n",
      "Epoch 62/100\n",
      "2105/2105 [==============================] - 3s 1ms/step - loss: 0.2706 - val_loss: 0.3930\n",
      "Epoch 63/100\n",
      "2105/2105 [==============================] - 3s 1ms/step - loss: 0.2706 - val_loss: 0.3951\n",
      "Epoch 64/100\n",
      "2105/2105 [==============================] - 3s 2ms/step - loss: 0.2706 - val_loss: 0.3932\n",
      "Epoch 65/100\n",
      "2105/2105 [==============================] - 3s 1ms/step - loss: 0.2706 - val_loss: 0.3914\n",
      "Epoch 66/100\n",
      "2105/2105 [==============================] - 3s 1ms/step - loss: 0.2706 - val_loss: 0.3948\n",
      "Epoch 67/100\n",
      "2105/2105 [==============================] - 3s 2ms/step - loss: 0.2700 - val_loss: 0.3899\n",
      "Epoch 68/100\n",
      "2105/2105 [==============================] - 3s 1ms/step - loss: 0.2693 - val_loss: 0.3911\n",
      "Epoch 69/100\n",
      "2105/2105 [==============================] - 3s 2ms/step - loss: 0.2664 - val_loss: 0.3900\n",
      "Epoch 70/100\n",
      "2105/2105 [==============================] - 3s 2ms/step - loss: 0.2661 - val_loss: 0.3894\n",
      "Epoch 71/100\n",
      "2105/2105 [==============================] - 3s 2ms/step - loss: 0.2661 - val_loss: 0.3894\n",
      "Epoch 72/100\n",
      "2105/2105 [==============================] - 3s 2ms/step - loss: 0.2661 - val_loss: 0.3879\n",
      "Epoch 73/100\n",
      "2105/2105 [==============================] - 3s 2ms/step - loss: 0.2661 - val_loss: 0.3893\n",
      "Epoch 74/100\n",
      "2105/2105 [==============================] - 3s 2ms/step - loss: 0.2660 - val_loss: 0.3876\n",
      "Epoch 75/100\n",
      "2105/2105 [==============================] - 3s 2ms/step - loss: 0.2660 - val_loss: 0.3879\n",
      "Epoch 76/100\n",
      "2105/2105 [==============================] - 3s 2ms/step - loss: 0.2660 - val_loss: 0.3870\n",
      "Epoch 77/100\n",
      "2105/2105 [==============================] - 3s 2ms/step - loss: 0.2660 - val_loss: 0.3876\n",
      "Epoch 78/100\n",
      "2105/2105 [==============================] - 3s 2ms/step - loss: 0.2660 - val_loss: 0.3883\n",
      "Epoch 79/100\n",
      "2105/2105 [==============================] - 3s 2ms/step - loss: 0.2660 - val_loss: 0.3873\n",
      "Epoch 80/100\n",
      "2105/2105 [==============================] - 3s 2ms/step - loss: 0.2660 - val_loss: 0.3868\n",
      "Epoch 81/100\n",
      "2105/2105 [==============================] - 4s 2ms/step - loss: 0.2660 - val_loss: 0.3874\n",
      "Epoch 82/100\n",
      "2105/2105 [==============================] - 3s 2ms/step - loss: 0.2660 - val_loss: 0.3875\n",
      "Epoch 83/100\n",
      "2105/2105 [==============================] - 4s 2ms/step - loss: 0.2660 - val_loss: 0.3876\n",
      "Epoch 84/100\n",
      "2105/2105 [==============================] - 3s 2ms/step - loss: 0.2659 - val_loss: 0.3878\n",
      "Epoch 85/100\n",
      "2105/2105 [==============================] - 4s 2ms/step - loss: 0.2660 - val_loss: 0.3875\n",
      "Epoch 86/100\n",
      "2105/2105 [==============================] - 3s 2ms/step - loss: 0.2660 - val_loss: 0.3865\n",
      "Epoch 87/100\n",
      "2105/2105 [==============================] - 3s 2ms/step - loss: 0.2659 - val_loss: 0.3864\n",
      "Epoch 88/100\n",
      "2105/2105 [==============================] - 4s 2ms/step - loss: 0.2659 - val_loss: 0.3862\n",
      "Epoch 89/100\n",
      "2105/2105 [==============================] - 4s 2ms/step - loss: 0.2659 - val_loss: 0.3861\n",
      "Epoch 90/100\n",
      "2105/2105 [==============================] - 3s 2ms/step - loss: 0.2659 - val_loss: 0.3863\n",
      "Epoch 91/100\n",
      "2105/2105 [==============================] - 3s 2ms/step - loss: 0.2659 - val_loss: 0.3874\n",
      "Epoch 92/100\n",
      "2105/2105 [==============================] - 3s 2ms/step - loss: 0.2659 - val_loss: 0.3878\n",
      "Epoch 93/100\n",
      "2105/2105 [==============================] - 3s 2ms/step - loss: 0.2659 - val_loss: 0.3861\n",
      "Epoch 94/100\n",
      "2105/2105 [==============================] - 4s 2ms/step - loss: 0.2659 - val_loss: 0.3863\n",
      "Epoch 95/100\n",
      "2105/2105 [==============================] - 3s 2ms/step - loss: 0.2659 - val_loss: 0.3877\n",
      "Epoch 96/100\n",
      "2105/2105 [==============================] - 3s 2ms/step - loss: 0.2659 - val_loss: 0.3843\n",
      "Epoch 97/100\n",
      "2105/2105 [==============================] - 4s 2ms/step - loss: 0.2659 - val_loss: 0.3869\n",
      "Epoch 98/100\n",
      "2105/2105 [==============================] - 4s 2ms/step - loss: 0.2659 - val_loss: 0.3862\n",
      "Epoch 99/100\n",
      "2105/2105 [==============================] - 3s 2ms/step - loss: 0.2659 - val_loss: 0.3860\n",
      "Epoch 100/100\n",
      "2105/2105 [==============================] - 4s 2ms/step - loss: 0.2659 - val_loss: 0.3864\n"
     ]
    }
   ],
   "source": [
    "history = autoencoder.fit(normal_train_data, normal_train_data,\n",
    "          epochs=100,\n",
    "          validation_data=(test_data, test_data),\n",
    "          shuffle=True)"
   ],
   "metadata": {
    "collapsed": false
   }
  },
  {
   "cell_type": "code",
   "execution_count": 13,
   "outputs": [
    {
     "data": {
      "text/plain": "<Figure size 640x480 with 1 Axes>",
      "image/png": "[encoded data removed]"
     },
     "metadata": {},
     "output_type": "display_data"
    }
   ],
   "source": [
    "plt.plot(history.history[\"loss\"])\n",
    "plt.plot(history.history[\"val_loss\"])\n",
    "plt.title(\"Training Loss & Validation Loss over epochs\")\n",
    "plt.xlabel(\"Epochs\")\n",
    "plt.ylabel(\"Loss\")\n",
    "#plt.ylim([0,.0008])\n",
    "plt.legend([\"Loss\", \"Validation Loss\"])\n",
    "plt.show()"
   ],
   "metadata": {
    "collapsed": false
   }
  },
  {
   "cell_type": "code",
   "execution_count": 14,
   "outputs": [
    {
     "name": "stdout",
     "output_type": "stream",
     "text": [
      "Tensor(\"anomaly_detector/sequential/dense_2/Relu:0\", shape=(None, 8), dtype=float32)\n",
      "Tensor(\"anomaly_detector/sequential_1/dense_5/Sigmoid:0\", shape=(None, 46), dtype=float32)\n",
      "2105/2105 [==============================] - 2s 989us/step\n",
      "Threshold:  0.43404865\n"
     ]
    }
   ],
   "source": [
    "reconstructions = autoencoder.predict(normal_train_data)\n",
    "train_loss = tf.keras.losses.mae(reconstructions, normal_train_data)\n",
    "threshold = np.mean(train_loss) + np.std(train_loss)\n",
    "print(\"Threshold: \", threshold)"
   ],
   "metadata": {
    "collapsed": false
   }
  },
  {
   "cell_type": "code",
   "execution_count": 15,
   "outputs": [],
   "source": [
    "def predict(model, data, threshold):\n",
    "  reconstructions = model(data)\n",
    "  loss = tf.keras.losses.mae(data, reconstructions) # 0 = anomaly (same as data)\n",
    "  return tf.math.less(loss, threshold)\n",
    "\n",
    "def print_stats(predictions, labels):\n",
    "  print(\"Accuracy = {}\".format(accuracy_score(labels, predictions)))\n",
    "  print(\"Precision = {}\".format(precision_score(labels, predictions)))\n",
    "  print(\"Recall = {}\".format(recall_score(labels, predictions)))"
   ],
   "metadata": {
    "collapsed": false
   }
  },
  {
   "cell_type": "code",
   "execution_count": 16,
   "outputs": [
    {
     "name": "stdout",
     "output_type": "stream",
     "text": [
      "23.5 ms ± 1.27 ms per loop (mean ± std. dev. of 7 runs, 10 loops each)\n"
     ]
    }
   ],
   "source": [
    "%%timeit\n",
    "%%capture\n",
    "\n",
    "predict(autoencoder, np_test_data, threshold)"
   ],
   "metadata": {
    "collapsed": false
   }
  },
  {
   "cell_type": "code",
   "execution_count": 17,
   "outputs": [],
   "source": [
    "%%capture\n",
    "\n",
    "test_predictions = predict(autoencoder, np_test_data, threshold)"
   ],
   "metadata": {
    "collapsed": false
   }
  },
  {
   "cell_type": "markdown",
   "source": [
    "### Stats for whole dataset"
   ],
   "metadata": {
    "collapsed": false
   }
  },
  {
   "cell_type": "code",
   "execution_count": 18,
   "outputs": [
    {
     "name": "stdout",
     "output_type": "stream",
     "text": [
      "Accuracy = 0.7363378282469837\n",
      "Precision = 0.6248591315876699\n",
      "Recall = 0.9706518381217176\n"
     ]
    }
   ],
   "source": [
    "print_stats(test_predictions, test_labels)"
   ],
   "metadata": {
    "collapsed": false
   }
  },
  {
   "cell_type": "code",
   "execution_count": 19,
   "outputs": [
    {
     "name": "stdout",
     "output_type": "stream",
     "text": [
      "[[7174 5659]\n",
      " [ 285 9426]]\n"
     ]
    }
   ],
   "source": [
    "from sklearn.metrics import confusion_matrix\n",
    "\n",
    "print(confusion_matrix(test_labels, test_predictions))"
   ],
   "metadata": {
    "collapsed": false
   }
  },
  {
   "cell_type": "code",
   "execution_count": 20,
   "outputs": [],
   "source": [
    "test_labels_swap = []\n",
    "for i in range(len(test_labels)):\n",
    "    if test_labels[i]:\n",
    "        test_labels_swap.append(False)\n",
    "    else:\n",
    "        test_labels_swap.append(True)\n",
    "\n",
    "test_labels = test_labels_swap\n",
    "np_test_labels = test_labels"
   ],
   "metadata": {
    "collapsed": false
   }
  },
  {
   "cell_type": "markdown",
   "source": [
    "### Stats for all predicted anomalous data"
   ],
   "metadata": {
    "collapsed": false
   }
  },
  {
   "cell_type": "code",
   "execution_count": 21,
   "outputs": [
    {
     "name": "stdout",
     "output_type": "stream",
     "text": [
      "true anomalies: 9426\n",
      "false anomalies: 5659\n",
      "false normals: 285\n",
      "true normals: 7174\n",
      "precision: 0.6248591315876699\n",
      "recall: 0.9706518381217176\n",
      "f1-score: 0.7602839167607679\n"
     ]
    }
   ],
   "source": [
    "from pandas import DataFrame\n",
    "from turtleIsolationForests.printResults import print_results\n",
    "\n",
    "test_predictions_np = test_predictions.numpy()\n",
    "\n",
    "autoec_predictions = DataFrame()\n",
    "\n",
    "autoec_predictions['predicted_as_anomaly'] = test_predictions_np\n",
    "autoec_predictions['is_normal'] = test_labels\n",
    "\n",
    "print_results(autoec_predictions)"
   ],
   "metadata": {
    "collapsed": false
   }
  },
  {
   "cell_type": "code",
   "execution_count": 22,
   "outputs": [],
   "source": [
    "def addZToData(data, model):\n",
    "    data_with_Z = []\n",
    "    for i in range(1, len(data)+1):\n",
    "        data_with_Z.append(addZToPrediction(model, data[i-1:i]))\n",
    "\n",
    "    data_with_Z_rf = []\n",
    "    for i in range(len(data_with_Z)):\n",
    "        data_with_Z_rf.append(np.append(np_train_data[:][:][i].numpy().reshape(1,46).squeeze(), data_with_Z[i]))\n",
    "\n",
    "    return pd.DataFrame(data_with_Z_rf)"
   ],
   "metadata": {
    "collapsed": false
   }
  },
  {
   "cell_type": "code",
   "execution_count": 23,
   "outputs": [],
   "source": [
    "train_data_with_Z_df = addZToData(np_train_data, autoencoder)"
   ],
   "metadata": {
    "collapsed": false
   }
  },
  {
   "cell_type": "code",
   "execution_count": 24,
   "outputs": [
    {
     "data": {
      "text/plain": "              0         1        2         3         4         5         6   \\\n0      -0.019113 -0.312889 -0.11205 -0.028606 -0.139982 -0.618438 -0.053906   \n1      -0.019113 -0.312889 -0.11205 -0.028606 -0.139982 -0.618438 -0.053906   \n2      -0.019113 -0.312889 -0.11205 -0.028606 -0.139982  1.616978 -0.053906   \n3      -0.019113 -0.312889 -0.11205 -0.028606 -0.139982 -0.618438 -0.053906   \n4      -0.019113 -0.312889 -0.11205 -0.028606 -0.139982 -0.618438 -0.053906   \n...          ...       ...      ...       ...       ...       ...       ...   \n125968 -0.019113 -0.312889 -0.11205 -0.028606 -0.139982  1.616978 -0.053906   \n125969 -0.019113 -0.312889 -0.11205 -0.028606 -0.139982 -0.618438 -0.053906   \n125970 -0.019113 -0.312889 -0.11205 -0.028606 -0.139982 -0.618438 -0.053906   \n125971 -0.019113 -0.312889 -0.11205 -0.028606 -0.139982  1.616978 -0.053906   \n125972 -0.019113 -0.312889 -0.11205 -0.028606 -0.139982 -0.618438 -0.053906   \n\n              7         8         9   ...        85        86        87  \\\n0      -0.031767 -0.019726  0.825150  ... -0.280282  0.069972 -0.289103   \n1      -0.031767 -0.019726  0.825150  ...  2.736852  2.367737 -0.289103   \n2      -0.031767 -0.019726 -1.211901  ... -0.174417 -0.480197 -0.289103   \n3      -0.031767 -0.019726  0.825150  ... -0.439078 -0.383108  0.066252   \n4      -0.031767 -0.019726  0.825150  ... -0.439078 -0.480197 -0.289103   \n...          ...       ...       ...  ...       ...       ...       ...   \n125968 -0.031767 -0.019726 -1.211901  ... -0.121485 -0.480197 -0.289103   \n125969 -0.031767 -0.019726  0.825150  ... -0.386146 -0.447834 -0.289103   \n125970 -0.031767 -0.019726  0.825150  ... -0.121485 -0.480197 -0.289103   \n125971 -0.031767 -0.019726 -1.211901  ... -0.174417 -0.480197 -0.289103   \n125972 -0.031767 -0.019726  0.825150  ... -0.280282  0.490690 -0.289103   \n\n              88        89        90        91        92        93        94  \n0      -0.639532 -0.624871 -0.224532 -0.376387  6.788234  2.396257  0.426340  \n1      -0.639532 -0.624871 -0.387635 -0.376387  5.030957  4.649899  0.240919  \n2       1.608759  1.618955 -0.387635 -0.376387  8.147187  4.531855  0.002381  \n3      -0.572083 -0.602433 -0.387635 -0.345084  2.860933  2.350209  0.707758  \n4      -0.639532 -0.624871 -0.387635 -0.376387  0.804795  1.926370  0.788824  \n...          ...       ...       ...       ...       ...       ...       ...  \n125968  1.608759  1.618955 -0.387635 -0.376387  7.380088  4.536170 -0.030376  \n125969 -0.639532 -0.624871 -0.387635 -0.376387  0.944327  2.178603  0.680804  \n125970  0.979238 -0.624871 -0.355014 -0.376387  6.999238  2.441846  0.597644  \n125971  1.608759  1.618955 -0.387635 -0.376387  8.420595  4.608039 -0.025003  \n125972 -0.639532 -0.624871 -0.387635 -0.376387  5.286558  2.116265  0.652306  \n\n[125973 rows x 95 columns]",
      "text/html": "<div>\n<style scoped>\n    .dataframe tbody tr th:only-of-type {\n        vertical-align: middle;\n    }\n\n    .dataframe tbody tr th {\n        vertical-align: top;\n    }\n\n    .dataframe thead th {\n        text-align: right;\n    }\n</style>\n<table border=\"1\" class=\"dataframe\">\n  <thead>\n    <tr style=\"text-align: right;\">\n      <th></th>\n      <th>0</th>\n      <th>1</th>\n      <th>2</th>\n      <th>3</th>\n      <th>4</th>\n      <th>5</th>\n      <th>6</th>\n      <th>7</th>\n      <th>8</th>\n      <th>9</th>\n      <th>...</th>\n      <th>85</th>\n      <th>86</th>\n      <th>87</th>\n      <th>88</th>\n      <th>89</th>\n      <th>90</th>\n      <th>91</th>\n      <th>92</th>\n      <th>93</th>\n      <th>94</th>\n    </tr>\n  </thead>\n  <tbody>\n    <tr>\n      <th>0</th>\n      <td>-0.019113</td>\n      <td>-0.312889</td>\n      <td>-0.11205</td>\n      <td>-0.028606</td>\n      <td>-0.139982</td>\n      <td>-0.618438</td>\n      <td>-0.053906</td>\n      <td>-0.031767</td>\n      <td>-0.019726</td>\n      <td>0.825150</td>\n      <td>...</td>\n      <td>-0.280282</td>\n      <td>0.069972</td>\n      <td>-0.289103</td>\n      <td>-0.639532</td>\n      <td>-0.624871</td>\n      <td>-0.224532</td>\n      <td>-0.376387</td>\n      <td>6.788234</td>\n      <td>2.396257</td>\n      <td>0.426340</td>\n    </tr>\n    <tr>\n      <th>1</th>\n      <td>-0.019113</td>\n      <td>-0.312889</td>\n      <td>-0.11205</td>\n      <td>-0.028606</td>\n      <td>-0.139982</td>\n      <td>-0.618438</td>\n      <td>-0.053906</td>\n      <td>-0.031767</td>\n      <td>-0.019726</td>\n      <td>0.825150</td>\n      <td>...</td>\n      <td>2.736852</td>\n      <td>2.367737</td>\n      <td>-0.289103</td>\n      <td>-0.639532</td>\n      <td>-0.624871</td>\n      <td>-0.387635</td>\n      <td>-0.376387</td>\n      <td>5.030957</td>\n      <td>4.649899</td>\n      <td>0.240919</td>\n    </tr>\n    <tr>\n      <th>2</th>\n      <td>-0.019113</td>\n      <td>-0.312889</td>\n      <td>-0.11205</td>\n      <td>-0.028606</td>\n      <td>-0.139982</td>\n      <td>1.616978</td>\n      <td>-0.053906</td>\n      <td>-0.031767</td>\n      <td>-0.019726</td>\n      <td>-1.211901</td>\n      <td>...</td>\n      <td>-0.174417</td>\n      <td>-0.480197</td>\n      <td>-0.289103</td>\n      <td>1.608759</td>\n      <td>1.618955</td>\n      <td>-0.387635</td>\n      <td>-0.376387</td>\n      <td>8.147187</td>\n      <td>4.531855</td>\n      <td>0.002381</td>\n    </tr>\n    <tr>\n      <th>3</th>\n      <td>-0.019113</td>\n      <td>-0.312889</td>\n      <td>-0.11205</td>\n      <td>-0.028606</td>\n      <td>-0.139982</td>\n      <td>-0.618438</td>\n      <td>-0.053906</td>\n      <td>-0.031767</td>\n      <td>-0.019726</td>\n      <td>0.825150</td>\n      <td>...</td>\n      <td>-0.439078</td>\n      <td>-0.383108</td>\n      <td>0.066252</td>\n      <td>-0.572083</td>\n      <td>-0.602433</td>\n      <td>-0.387635</td>\n      <td>-0.345084</td>\n      <td>2.860933</td>\n      <td>2.350209</td>\n      <td>0.707758</td>\n    </tr>\n    <tr>\n      <th>4</th>\n      <td>-0.019113</td>\n      <td>-0.312889</td>\n      <td>-0.11205</td>\n      <td>-0.028606</td>\n      <td>-0.139982</td>\n      <td>-0.618438</td>\n      <td>-0.053906</td>\n      <td>-0.031767</td>\n      <td>-0.019726</td>\n      <td>0.825150</td>\n      <td>...</td>\n      <td>-0.439078</td>\n      <td>-0.480197</td>\n      <td>-0.289103</td>\n      <td>-0.639532</td>\n      <td>-0.624871</td>\n      <td>-0.387635</td>\n      <td>-0.376387</td>\n      <td>0.804795</td>\n      <td>1.926370</td>\n      <td>0.788824</td>\n    </tr>\n    <tr>\n      <th>...</th>\n      <td>...</td>\n      <td>...</td>\n      <td>...</td>\n      <td>...</td>\n      <td>...</td>\n      <td>...</td>\n      <td>...</td>\n      <td>...</td>\n      <td>...</td>\n      <td>...</td>\n      <td>...</td>\n      <td>...</td>\n      <td>...</td>\n      <td>...</td>\n      <td>...</td>\n      <td>...</td>\n      <td>...</td>\n      <td>...</td>\n      <td>...</td>\n      <td>...</td>\n      <td>...</td>\n    </tr>\n    <tr>\n      <th>125968</th>\n      <td>-0.019113</td>\n      <td>-0.312889</td>\n      <td>-0.11205</td>\n      <td>-0.028606</td>\n      <td>-0.139982</td>\n      <td>1.616978</td>\n      <td>-0.053906</td>\n      <td>-0.031767</td>\n      <td>-0.019726</td>\n      <td>-1.211901</td>\n      <td>...</td>\n      <td>-0.121485</td>\n      <td>-0.480197</td>\n      <td>-0.289103</td>\n      <td>1.608759</td>\n      <td>1.618955</td>\n      <td>-0.387635</td>\n      <td>-0.376387</td>\n      <td>7.380088</td>\n      <td>4.536170</td>\n      <td>-0.030376</td>\n    </tr>\n    <tr>\n      <th>125969</th>\n      <td>-0.019113</td>\n      <td>-0.312889</td>\n      <td>-0.11205</td>\n      <td>-0.028606</td>\n      <td>-0.139982</td>\n      <td>-0.618438</td>\n      <td>-0.053906</td>\n      <td>-0.031767</td>\n      <td>-0.019726</td>\n      <td>0.825150</td>\n      <td>...</td>\n      <td>-0.386146</td>\n      <td>-0.447834</td>\n      <td>-0.289103</td>\n      <td>-0.639532</td>\n      <td>-0.624871</td>\n      <td>-0.387635</td>\n      <td>-0.376387</td>\n      <td>0.944327</td>\n      <td>2.178603</td>\n      <td>0.680804</td>\n    </tr>\n    <tr>\n      <th>125970</th>\n      <td>-0.019113</td>\n      <td>-0.312889</td>\n      <td>-0.11205</td>\n      <td>-0.028606</td>\n      <td>-0.139982</td>\n      <td>-0.618438</td>\n      <td>-0.053906</td>\n      <td>-0.031767</td>\n      <td>-0.019726</td>\n      <td>0.825150</td>\n      <td>...</td>\n      <td>-0.121485</td>\n      <td>-0.480197</td>\n      <td>-0.289103</td>\n      <td>0.979238</td>\n      <td>-0.624871</td>\n      <td>-0.355014</td>\n      <td>-0.376387</td>\n      <td>6.999238</td>\n      <td>2.441846</td>\n      <td>0.597644</td>\n    </tr>\n    <tr>\n      <th>125971</th>\n      <td>-0.019113</td>\n      <td>-0.312889</td>\n      <td>-0.11205</td>\n      <td>-0.028606</td>\n      <td>-0.139982</td>\n      <td>1.616978</td>\n      <td>-0.053906</td>\n      <td>-0.031767</td>\n      <td>-0.019726</td>\n      <td>-1.211901</td>\n      <td>...</td>\n      <td>-0.174417</td>\n      <td>-0.480197</td>\n      <td>-0.289103</td>\n      <td>1.608759</td>\n      <td>1.618955</td>\n      <td>-0.387635</td>\n      <td>-0.376387</td>\n      <td>8.420595</td>\n      <td>4.608039</td>\n      <td>-0.025003</td>\n    </tr>\n    <tr>\n      <th>125972</th>\n      <td>-0.019113</td>\n      <td>-0.312889</td>\n      <td>-0.11205</td>\n      <td>-0.028606</td>\n      <td>-0.139982</td>\n      <td>-0.618438</td>\n      <td>-0.053906</td>\n      <td>-0.031767</td>\n      <td>-0.019726</td>\n      <td>0.825150</td>\n      <td>...</td>\n      <td>-0.280282</td>\n      <td>0.490690</td>\n      <td>-0.289103</td>\n      <td>-0.639532</td>\n      <td>-0.624871</td>\n      <td>-0.387635</td>\n      <td>-0.376387</td>\n      <td>5.286558</td>\n      <td>2.116265</td>\n      <td>0.652306</td>\n    </tr>\n  </tbody>\n</table>\n<p>125973 rows × 95 columns</p>\n</div>"
     },
     "execution_count": 24,
     "metadata": {},
     "output_type": "execute_result"
    }
   ],
   "source": [
    "train_data_with_Z_df"
   ],
   "metadata": {
    "collapsed": false
   }
  },
  {
   "cell_type": "code",
   "execution_count": 25,
   "outputs": [],
   "source": [
    "np_test_labels = np.array(np_test_labels)"
   ],
   "metadata": {
    "collapsed": false
   }
  },
  {
   "cell_type": "code",
   "execution_count": 26,
   "outputs": [],
   "source": [
    "predicted_anomalous = np_test_data[test_predictions.numpy()]"
   ],
   "metadata": {
    "collapsed": false
   }
  },
  {
   "cell_type": "code",
   "execution_count": 27,
   "outputs": [
    {
     "data": {
      "text/plain": "              0         1        2         3         4         5         6   \\\n0      -0.019113 -0.312889 -0.11205 -0.028606 -0.139982 -0.618438 -0.053906   \n1      -0.019113 -0.312889 -0.11205 -0.028606 -0.139982 -0.618438 -0.053906   \n2      -0.019113 -0.312889 -0.11205 -0.028606 -0.139982  1.616978 -0.053906   \n3      -0.019113 -0.312889 -0.11205 -0.028606 -0.139982 -0.618438 -0.053906   \n4      -0.019113 -0.312889 -0.11205 -0.028606 -0.139982 -0.618438 -0.053906   \n...          ...       ...      ...       ...       ...       ...       ...   \n125968 -0.019113 -0.312889 -0.11205 -0.028606 -0.139982  1.616978 -0.053906   \n125969 -0.019113 -0.312889 -0.11205 -0.028606 -0.139982 -0.618438 -0.053906   \n125970 -0.019113 -0.312889 -0.11205 -0.028606 -0.139982 -0.618438 -0.053906   \n125971 -0.019113 -0.312889 -0.11205 -0.028606 -0.139982  1.616978 -0.053906   \n125972 -0.019113 -0.312889 -0.11205 -0.028606 -0.139982 -0.618438 -0.053906   \n\n              7         8         9   ...        85        86        87  \\\n0      -0.031767 -0.019726  0.825150  ... -0.280282  0.069972 -0.289103   \n1      -0.031767 -0.019726  0.825150  ...  2.736852  2.367737 -0.289103   \n2      -0.031767 -0.019726 -1.211901  ... -0.174417 -0.480197 -0.289103   \n3      -0.031767 -0.019726  0.825150  ... -0.439078 -0.383108  0.066252   \n4      -0.031767 -0.019726  0.825150  ... -0.439078 -0.480197 -0.289103   \n...          ...       ...       ...  ...       ...       ...       ...   \n125968 -0.031767 -0.019726 -1.211901  ... -0.121485 -0.480197 -0.289103   \n125969 -0.031767 -0.019726  0.825150  ... -0.386146 -0.447834 -0.289103   \n125970 -0.031767 -0.019726  0.825150  ... -0.121485 -0.480197 -0.289103   \n125971 -0.031767 -0.019726 -1.211901  ... -0.174417 -0.480197 -0.289103   \n125972 -0.031767 -0.019726  0.825150  ... -0.280282  0.490690 -0.289103   \n\n              88        89        90        91        92        93        94  \n0      -0.639532 -0.624871 -0.224532 -0.376387  6.788234  2.396257  0.426340  \n1      -0.639532 -0.624871 -0.387635 -0.376387  5.030957  4.649899  0.240919  \n2       1.608759  1.618955 -0.387635 -0.376387  8.147187  4.531855  0.002381  \n3      -0.572083 -0.602433 -0.387635 -0.345084  2.860933  2.350209  0.707758  \n4      -0.639532 -0.624871 -0.387635 -0.376387  0.804795  1.926370  0.788824  \n...          ...       ...       ...       ...       ...       ...       ...  \n125968  1.608759  1.618955 -0.387635 -0.376387  7.380088  4.536170 -0.030376  \n125969 -0.639532 -0.624871 -0.387635 -0.376387  0.944327  2.178603  0.680804  \n125970  0.979238 -0.624871 -0.355014 -0.376387  6.999238  2.441846  0.597644  \n125971  1.608759  1.618955 -0.387635 -0.376387  8.420595  4.608039 -0.025003  \n125972 -0.639532 -0.624871 -0.387635 -0.376387  5.286558  2.116265  0.652306  \n\n[125973 rows x 95 columns]",
      "text/html": "<div>\n<style scoped>\n    .dataframe tbody tr th:only-of-type {\n        vertical-align: middle;\n    }\n\n    .dataframe tbody tr th {\n        vertical-align: top;\n    }\n\n    .dataframe thead th {\n        text-align: right;\n    }\n</style>\n<table border=\"1\" class=\"dataframe\">\n  <thead>\n    <tr style=\"text-align: right;\">\n      <th></th>\n      <th>0</th>\n      <th>1</th>\n      <th>2</th>\n      <th>3</th>\n      <th>4</th>\n      <th>5</th>\n      <th>6</th>\n      <th>7</th>\n      <th>8</th>\n      <th>9</th>\n      <th>...</th>\n      <th>85</th>\n      <th>86</th>\n      <th>87</th>\n      <th>88</th>\n      <th>89</th>\n      <th>90</th>\n      <th>91</th>\n      <th>92</th>\n      <th>93</th>\n      <th>94</th>\n    </tr>\n  </thead>\n  <tbody>\n    <tr>\n      <th>0</th>\n      <td>-0.019113</td>\n      <td>-0.312889</td>\n      <td>-0.11205</td>\n      <td>-0.028606</td>\n      <td>-0.139982</td>\n      <td>-0.618438</td>\n      <td>-0.053906</td>\n      <td>-0.031767</td>\n      <td>-0.019726</td>\n      <td>0.825150</td>\n      <td>...</td>\n      <td>-0.280282</td>\n      <td>0.069972</td>\n      <td>-0.289103</td>\n      <td>-0.639532</td>\n      <td>-0.624871</td>\n      <td>-0.224532</td>\n      <td>-0.376387</td>\n      <td>6.788234</td>\n      <td>2.396257</td>\n      <td>0.426340</td>\n    </tr>\n    <tr>\n      <th>1</th>\n      <td>-0.019113</td>\n      <td>-0.312889</td>\n      <td>-0.11205</td>\n      <td>-0.028606</td>\n      <td>-0.139982</td>\n      <td>-0.618438</td>\n      <td>-0.053906</td>\n      <td>-0.031767</td>\n      <td>-0.019726</td>\n      <td>0.825150</td>\n      <td>...</td>\n      <td>2.736852</td>\n      <td>2.367737</td>\n      <td>-0.289103</td>\n      <td>-0.639532</td>\n      <td>-0.624871</td>\n      <td>-0.387635</td>\n      <td>-0.376387</td>\n      <td>5.030957</td>\n      <td>4.649899</td>\n      <td>0.240919</td>\n    </tr>\n    <tr>\n      <th>2</th>\n      <td>-0.019113</td>\n      <td>-0.312889</td>\n      <td>-0.11205</td>\n      <td>-0.028606</td>\n      <td>-0.139982</td>\n      <td>1.616978</td>\n      <td>-0.053906</td>\n      <td>-0.031767</td>\n      <td>-0.019726</td>\n      <td>-1.211901</td>\n      <td>...</td>\n      <td>-0.174417</td>\n      <td>-0.480197</td>\n      <td>-0.289103</td>\n      <td>1.608759</td>\n      <td>1.618955</td>\n      <td>-0.387635</td>\n      <td>-0.376387</td>\n      <td>8.147187</td>\n      <td>4.531855</td>\n      <td>0.002381</td>\n    </tr>\n    <tr>\n      <th>3</th>\n      <td>-0.019113</td>\n      <td>-0.312889</td>\n      <td>-0.11205</td>\n      <td>-0.028606</td>\n      <td>-0.139982</td>\n      <td>-0.618438</td>\n      <td>-0.053906</td>\n      <td>-0.031767</td>\n      <td>-0.019726</td>\n      <td>0.825150</td>\n      <td>...</td>\n      <td>-0.439078</td>\n      <td>-0.383108</td>\n      <td>0.066252</td>\n      <td>-0.572083</td>\n      <td>-0.602433</td>\n      <td>-0.387635</td>\n      <td>-0.345084</td>\n      <td>2.860933</td>\n      <td>2.350209</td>\n      <td>0.707758</td>\n    </tr>\n    <tr>\n      <th>4</th>\n      <td>-0.019113</td>\n      <td>-0.312889</td>\n      <td>-0.11205</td>\n      <td>-0.028606</td>\n      <td>-0.139982</td>\n      <td>-0.618438</td>\n      <td>-0.053906</td>\n      <td>-0.031767</td>\n      <td>-0.019726</td>\n      <td>0.825150</td>\n      <td>...</td>\n      <td>-0.439078</td>\n      <td>-0.480197</td>\n      <td>-0.289103</td>\n      <td>-0.639532</td>\n      <td>-0.624871</td>\n      <td>-0.387635</td>\n      <td>-0.376387</td>\n      <td>0.804795</td>\n      <td>1.926370</td>\n      <td>0.788824</td>\n    </tr>\n    <tr>\n      <th>...</th>\n      <td>...</td>\n      <td>...</td>\n      <td>...</td>\n      <td>...</td>\n      <td>...</td>\n      <td>...</td>\n      <td>...</td>\n      <td>...</td>\n      <td>...</td>\n      <td>...</td>\n      <td>...</td>\n      <td>...</td>\n      <td>...</td>\n      <td>...</td>\n      <td>...</td>\n      <td>...</td>\n      <td>...</td>\n      <td>...</td>\n      <td>...</td>\n      <td>...</td>\n      <td>...</td>\n    </tr>\n    <tr>\n      <th>125968</th>\n      <td>-0.019113</td>\n      <td>-0.312889</td>\n      <td>-0.11205</td>\n      <td>-0.028606</td>\n      <td>-0.139982</td>\n      <td>1.616978</td>\n      <td>-0.053906</td>\n      <td>-0.031767</td>\n      <td>-0.019726</td>\n      <td>-1.211901</td>\n      <td>...</td>\n      <td>-0.121485</td>\n      <td>-0.480197</td>\n      <td>-0.289103</td>\n      <td>1.608759</td>\n      <td>1.618955</td>\n      <td>-0.387635</td>\n      <td>-0.376387</td>\n      <td>7.380088</td>\n      <td>4.536170</td>\n      <td>-0.030376</td>\n    </tr>\n    <tr>\n      <th>125969</th>\n      <td>-0.019113</td>\n      <td>-0.312889</td>\n      <td>-0.11205</td>\n      <td>-0.028606</td>\n      <td>-0.139982</td>\n      <td>-0.618438</td>\n      <td>-0.053906</td>\n      <td>-0.031767</td>\n      <td>-0.019726</td>\n      <td>0.825150</td>\n      <td>...</td>\n      <td>-0.386146</td>\n      <td>-0.447834</td>\n      <td>-0.289103</td>\n      <td>-0.639532</td>\n      <td>-0.624871</td>\n      <td>-0.387635</td>\n      <td>-0.376387</td>\n      <td>0.944327</td>\n      <td>2.178603</td>\n      <td>0.680804</td>\n    </tr>\n    <tr>\n      <th>125970</th>\n      <td>-0.019113</td>\n      <td>-0.312889</td>\n      <td>-0.11205</td>\n      <td>-0.028606</td>\n      <td>-0.139982</td>\n      <td>-0.618438</td>\n      <td>-0.053906</td>\n      <td>-0.031767</td>\n      <td>-0.019726</td>\n      <td>0.825150</td>\n      <td>...</td>\n      <td>-0.121485</td>\n      <td>-0.480197</td>\n      <td>-0.289103</td>\n      <td>0.979238</td>\n      <td>-0.624871</td>\n      <td>-0.355014</td>\n      <td>-0.376387</td>\n      <td>6.999238</td>\n      <td>2.441846</td>\n      <td>0.597644</td>\n    </tr>\n    <tr>\n      <th>125971</th>\n      <td>-0.019113</td>\n      <td>-0.312889</td>\n      <td>-0.11205</td>\n      <td>-0.028606</td>\n      <td>-0.139982</td>\n      <td>1.616978</td>\n      <td>-0.053906</td>\n      <td>-0.031767</td>\n      <td>-0.019726</td>\n      <td>-1.211901</td>\n      <td>...</td>\n      <td>-0.174417</td>\n      <td>-0.480197</td>\n      <td>-0.289103</td>\n      <td>1.608759</td>\n      <td>1.618955</td>\n      <td>-0.387635</td>\n      <td>-0.376387</td>\n      <td>8.420595</td>\n      <td>4.608039</td>\n      <td>-0.025003</td>\n    </tr>\n    <tr>\n      <th>125972</th>\n      <td>-0.019113</td>\n      <td>-0.312889</td>\n      <td>-0.11205</td>\n      <td>-0.028606</td>\n      <td>-0.139982</td>\n      <td>-0.618438</td>\n      <td>-0.053906</td>\n      <td>-0.031767</td>\n      <td>-0.019726</td>\n      <td>0.825150</td>\n      <td>...</td>\n      <td>-0.280282</td>\n      <td>0.490690</td>\n      <td>-0.289103</td>\n      <td>-0.639532</td>\n      <td>-0.624871</td>\n      <td>-0.387635</td>\n      <td>-0.376387</td>\n      <td>5.286558</td>\n      <td>2.116265</td>\n      <td>0.652306</td>\n    </tr>\n  </tbody>\n</table>\n<p>125973 rows × 95 columns</p>\n</div>"
     },
     "execution_count": 27,
     "metadata": {},
     "output_type": "execute_result"
    }
   ],
   "source": [
    "train_data_with_Z_df"
   ],
   "metadata": {
    "collapsed": false
   }
  },
  {
   "cell_type": "code",
   "execution_count": 28,
   "outputs": [],
   "source": [
    "predicted_anomalous_labels = np_test_labels[test_predictions.numpy()]"
   ],
   "metadata": {
    "collapsed": false
   }
  },
  {
   "cell_type": "code",
   "execution_count": 29,
   "outputs": [],
   "source": [
    "anomalous_test_data_with_Z_df = addZToData(predicted_anomalous, autoencoder)"
   ],
   "metadata": {
    "collapsed": false
   }
  },
  {
   "cell_type": "code",
   "execution_count": 30,
   "outputs": [],
   "source": [
    "contamination = sum(train_labels == 0) / len(train_labels)"
   ],
   "metadata": {
    "collapsed": false
   }
  },
  {
   "cell_type": "code",
   "execution_count": 31,
   "outputs": [],
   "source": [
    "# need test_predictions replaced at indices that autoencoder predicted anomalies"
   ],
   "metadata": {
    "collapsed": false
   }
  },
  {
   "cell_type": "code",
   "execution_count": 32,
   "outputs": [
    {
     "data": {
      "text/plain": "             0         1        2         3         4         5         6   \\\n0     -0.019113 -0.312889 -0.11205 -0.028606 -0.139982 -0.618438 -0.053906   \n1     -0.019113 -0.312889 -0.11205 -0.028606 -0.139982 -0.618438 -0.053906   \n2     -0.019113 -0.312889 -0.11205 -0.028606 -0.139982  1.616978 -0.053906   \n3     -0.019113 -0.312889 -0.11205 -0.028606 -0.139982 -0.618438 -0.053906   \n4     -0.019113 -0.312889 -0.11205 -0.028606 -0.139982 -0.618438 -0.053906   \n...         ...       ...      ...       ...       ...       ...       ...   \n15080 -0.019113  3.196020 -0.11205 -0.028606 -0.139982 -0.618438 -0.053906   \n15081 -0.019113 -0.312889 -0.11205 -0.028606 -0.139982 -0.618438 -0.053906   \n15082 -0.019113 -0.312889 -0.11205 -0.028606 -0.139982  1.616978 -0.053906   \n15083 -0.019113 -0.312889 -0.11205 -0.028606 -0.139982 -0.618438 -0.053906   \n15084 -0.019113  3.196020 -0.11205 -0.028606 -0.139982 -0.618438 -0.053906   \n\n             7         8         9   ...        85        86        87  \\\n0     -0.031767 -0.019726  0.825150  ... -0.227350  1.493939 -0.111426   \n1     -0.031767 -0.019726  0.825150  ... -0.439078  2.756092  2.198385   \n2     -0.031767 -0.019726 -1.211901  ... -0.439078 -0.447834 -0.022587   \n3     -0.031767 -0.019726  0.825150  ...  3.372038 -0.480197 -0.289103   \n4     -0.031767 -0.019726  0.825150  ... -0.439078 -0.447834 -0.022587   \n...         ...       ...       ...  ...       ...       ...       ...   \n15080 -0.031767 -0.019726 -1.211901  ... -0.439078  2.756092 -0.289103   \n15081 -0.031767 -0.019726  0.825150  ... -0.121485 -0.447834 -0.200265   \n15082 -0.031767 -0.019726 -1.211901  ... -0.439078 -0.447834 -0.200265   \n15083 -0.031767 -0.019726  0.825150  ... -0.439078 -0.480197 -0.289103   \n15084 -0.031767 -0.019726 -1.211901  ... -0.386146 -0.480197 -0.289103   \n\n             88        89        90        91        92        93        94  \n0     -0.639532 -0.624871 -0.387635 -0.376387  4.392317  2.629798  0.399301  \n1     -0.639532 -0.624871 -0.387635 -0.376387  4.787500  5.696764  0.267174  \n2     -0.617049 -0.624871 -0.387635 -0.376387  2.859691  2.038686  0.756717  \n3     -0.639532 -0.624871  1.961037 -0.251175  6.459633  5.691038  0.304314  \n4     -0.639532 -0.624871 -0.387635 -0.376387  1.253655  1.928996  0.776313  \n...         ...       ...       ...       ...       ...       ...       ...  \n15080 -0.639532 -0.624871 -0.387635 -0.376387  0.623444  3.422799  0.530172  \n15081 -0.617049 -0.624871 -0.387635 -0.376387  3.465312  2.150762  0.629530  \n15082 -0.617049 -0.624871 -0.387635 -0.376387  1.961879  2.013232  0.761405  \n15083 -0.639532 -0.624871 -0.159292 -0.157266  1.731618  2.150925  0.753762  \n15084 -0.639532 -0.624871 -0.387635 -0.376387  0.708319  2.325465  0.669863  \n\n[15085 rows x 95 columns]",
      "text/html": "<div>\n<style scoped>\n    .dataframe tbody tr th:only-of-type {\n        vertical-align: middle;\n    }\n\n    .dataframe tbody tr th {\n        vertical-align: top;\n    }\n\n    .dataframe thead th {\n        text-align: right;\n    }\n</style>\n<table border=\"1\" class=\"dataframe\">\n  <thead>\n    <tr style=\"text-align: right;\">\n      <th></th>\n      <th>0</th>\n      <th>1</th>\n      <th>2</th>\n      <th>3</th>\n      <th>4</th>\n      <th>5</th>\n      <th>6</th>\n      <th>7</th>\n      <th>8</th>\n      <th>9</th>\n      <th>...</th>\n      <th>85</th>\n      <th>86</th>\n      <th>87</th>\n      <th>88</th>\n      <th>89</th>\n      <th>90</th>\n      <th>91</th>\n      <th>92</th>\n      <th>93</th>\n      <th>94</th>\n    </tr>\n  </thead>\n  <tbody>\n    <tr>\n      <th>0</th>\n      <td>-0.019113</td>\n      <td>-0.312889</td>\n      <td>-0.11205</td>\n      <td>-0.028606</td>\n      <td>-0.139982</td>\n      <td>-0.618438</td>\n      <td>-0.053906</td>\n      <td>-0.031767</td>\n      <td>-0.019726</td>\n      <td>0.825150</td>\n      <td>...</td>\n      <td>-0.227350</td>\n      <td>1.493939</td>\n      <td>-0.111426</td>\n      <td>-0.639532</td>\n      <td>-0.624871</td>\n      <td>-0.387635</td>\n      <td>-0.376387</td>\n      <td>4.392317</td>\n      <td>2.629798</td>\n      <td>0.399301</td>\n    </tr>\n    <tr>\n      <th>1</th>\n      <td>-0.019113</td>\n      <td>-0.312889</td>\n      <td>-0.11205</td>\n      <td>-0.028606</td>\n      <td>-0.139982</td>\n      <td>-0.618438</td>\n      <td>-0.053906</td>\n      <td>-0.031767</td>\n      <td>-0.019726</td>\n      <td>0.825150</td>\n      <td>...</td>\n      <td>-0.439078</td>\n      <td>2.756092</td>\n      <td>2.198385</td>\n      <td>-0.639532</td>\n      <td>-0.624871</td>\n      <td>-0.387635</td>\n      <td>-0.376387</td>\n      <td>4.787500</td>\n      <td>5.696764</td>\n      <td>0.267174</td>\n    </tr>\n    <tr>\n      <th>2</th>\n      <td>-0.019113</td>\n      <td>-0.312889</td>\n      <td>-0.11205</td>\n      <td>-0.028606</td>\n      <td>-0.139982</td>\n      <td>1.616978</td>\n      <td>-0.053906</td>\n      <td>-0.031767</td>\n      <td>-0.019726</td>\n      <td>-1.211901</td>\n      <td>...</td>\n      <td>-0.439078</td>\n      <td>-0.447834</td>\n      <td>-0.022587</td>\n      <td>-0.617049</td>\n      <td>-0.624871</td>\n      <td>-0.387635</td>\n      <td>-0.376387</td>\n      <td>2.859691</td>\n      <td>2.038686</td>\n      <td>0.756717</td>\n    </tr>\n    <tr>\n      <th>3</th>\n      <td>-0.019113</td>\n      <td>-0.312889</td>\n      <td>-0.11205</td>\n      <td>-0.028606</td>\n      <td>-0.139982</td>\n      <td>-0.618438</td>\n      <td>-0.053906</td>\n      <td>-0.031767</td>\n      <td>-0.019726</td>\n      <td>0.825150</td>\n      <td>...</td>\n      <td>3.372038</td>\n      <td>-0.480197</td>\n      <td>-0.289103</td>\n      <td>-0.639532</td>\n      <td>-0.624871</td>\n      <td>1.961037</td>\n      <td>-0.251175</td>\n      <td>6.459633</td>\n      <td>5.691038</td>\n      <td>0.304314</td>\n    </tr>\n    <tr>\n      <th>4</th>\n      <td>-0.019113</td>\n      <td>-0.312889</td>\n      <td>-0.11205</td>\n      <td>-0.028606</td>\n      <td>-0.139982</td>\n      <td>-0.618438</td>\n      <td>-0.053906</td>\n      <td>-0.031767</td>\n      <td>-0.019726</td>\n      <td>0.825150</td>\n      <td>...</td>\n      <td>-0.439078</td>\n      <td>-0.447834</td>\n      <td>-0.022587</td>\n      <td>-0.639532</td>\n      <td>-0.624871</td>\n      <td>-0.387635</td>\n      <td>-0.376387</td>\n      <td>1.253655</td>\n      <td>1.928996</td>\n      <td>0.776313</td>\n    </tr>\n    <tr>\n      <th>...</th>\n      <td>...</td>\n      <td>...</td>\n      <td>...</td>\n      <td>...</td>\n      <td>...</td>\n      <td>...</td>\n      <td>...</td>\n      <td>...</td>\n      <td>...</td>\n      <td>...</td>\n      <td>...</td>\n      <td>...</td>\n      <td>...</td>\n      <td>...</td>\n      <td>...</td>\n      <td>...</td>\n      <td>...</td>\n      <td>...</td>\n      <td>...</td>\n      <td>...</td>\n      <td>...</td>\n    </tr>\n    <tr>\n      <th>15080</th>\n      <td>-0.019113</td>\n      <td>3.196020</td>\n      <td>-0.11205</td>\n      <td>-0.028606</td>\n      <td>-0.139982</td>\n      <td>-0.618438</td>\n      <td>-0.053906</td>\n      <td>-0.031767</td>\n      <td>-0.019726</td>\n      <td>-1.211901</td>\n      <td>...</td>\n      <td>-0.439078</td>\n      <td>2.756092</td>\n      <td>-0.289103</td>\n      <td>-0.639532</td>\n      <td>-0.624871</td>\n      <td>-0.387635</td>\n      <td>-0.376387</td>\n      <td>0.623444</td>\n      <td>3.422799</td>\n      <td>0.530172</td>\n    </tr>\n    <tr>\n      <th>15081</th>\n      <td>-0.019113</td>\n      <td>-0.312889</td>\n      <td>-0.11205</td>\n      <td>-0.028606</td>\n      <td>-0.139982</td>\n      <td>-0.618438</td>\n      <td>-0.053906</td>\n      <td>-0.031767</td>\n      <td>-0.019726</td>\n      <td>0.825150</td>\n      <td>...</td>\n      <td>-0.121485</td>\n      <td>-0.447834</td>\n      <td>-0.200265</td>\n      <td>-0.617049</td>\n      <td>-0.624871</td>\n      <td>-0.387635</td>\n      <td>-0.376387</td>\n      <td>3.465312</td>\n      <td>2.150762</td>\n      <td>0.629530</td>\n    </tr>\n    <tr>\n      <th>15082</th>\n      <td>-0.019113</td>\n      <td>-0.312889</td>\n      <td>-0.11205</td>\n      <td>-0.028606</td>\n      <td>-0.139982</td>\n      <td>1.616978</td>\n      <td>-0.053906</td>\n      <td>-0.031767</td>\n      <td>-0.019726</td>\n      <td>-1.211901</td>\n      <td>...</td>\n      <td>-0.439078</td>\n      <td>-0.447834</td>\n      <td>-0.200265</td>\n      <td>-0.617049</td>\n      <td>-0.624871</td>\n      <td>-0.387635</td>\n      <td>-0.376387</td>\n      <td>1.961879</td>\n      <td>2.013232</td>\n      <td>0.761405</td>\n    </tr>\n    <tr>\n      <th>15083</th>\n      <td>-0.019113</td>\n      <td>-0.312889</td>\n      <td>-0.11205</td>\n      <td>-0.028606</td>\n      <td>-0.139982</td>\n      <td>-0.618438</td>\n      <td>-0.053906</td>\n      <td>-0.031767</td>\n      <td>-0.019726</td>\n      <td>0.825150</td>\n      <td>...</td>\n      <td>-0.439078</td>\n      <td>-0.480197</td>\n      <td>-0.289103</td>\n      <td>-0.639532</td>\n      <td>-0.624871</td>\n      <td>-0.159292</td>\n      <td>-0.157266</td>\n      <td>1.731618</td>\n      <td>2.150925</td>\n      <td>0.753762</td>\n    </tr>\n    <tr>\n      <th>15084</th>\n      <td>-0.019113</td>\n      <td>3.196020</td>\n      <td>-0.11205</td>\n      <td>-0.028606</td>\n      <td>-0.139982</td>\n      <td>-0.618438</td>\n      <td>-0.053906</td>\n      <td>-0.031767</td>\n      <td>-0.019726</td>\n      <td>-1.211901</td>\n      <td>...</td>\n      <td>-0.386146</td>\n      <td>-0.480197</td>\n      <td>-0.289103</td>\n      <td>-0.639532</td>\n      <td>-0.624871</td>\n      <td>-0.387635</td>\n      <td>-0.376387</td>\n      <td>0.708319</td>\n      <td>2.325465</td>\n      <td>0.669863</td>\n    </tr>\n  </tbody>\n</table>\n<p>15085 rows × 95 columns</p>\n</div>"
     },
     "execution_count": 32,
     "metadata": {},
     "output_type": "execute_result"
    }
   ],
   "source": [
    "anomalous_test_data_with_Z_df"
   ],
   "metadata": {
    "collapsed": false
   }
  },
  {
   "cell_type": "code",
   "execution_count": 33,
   "outputs": [],
   "source": [
    "def getFinalPredictions(first_predictions, second_predictions):\n",
    "    f_p_copy = first_predictions.copy()\n",
    "    s_p_copy = second_predictions.copy()\n",
    "    indices = f_p_copy.index[f_p_copy[\"predicted_as_anomaly\"] == True]\n",
    "    s_p_copy.index = indices\n",
    "    f_p_copy.loc[indices, \"predicted_as_anomaly\"] = s_p_copy[\"predicted_as_anomaly\"]\n",
    "    print_results(f_p_copy)\n",
    "    print(\"auroc: \" + str(get_auroc_value(f_p_copy)))"
   ],
   "metadata": {
    "collapsed": false
   }
  },
  {
   "cell_type": "code",
   "execution_count": 34,
   "outputs": [],
   "source": [
    "from turtleIsolationForests.extendedIsolationForest import ExtendedIsolationForest\n",
    "from turtleIsolationForests.printResults import print_results\n",
    "from turtleIsolationForests.printResults import get_auroc_value\n",
    "\n",
    "eif = ExtendedIsolationForest(contamination = contamination, random_state = None)\n",
    "eif.fit(train_data_with_Z_df, train_labels)"
   ],
   "metadata": {
    "collapsed": false
   }
  },
  {
   "cell_type": "code",
   "execution_count": 35,
   "outputs": [
    {
     "name": "stdout",
     "output_type": "stream",
     "text": [
      "38.7 s ± 547 ms per loop (mean ± std. dev. of 7 runs, 1 loop each)\n"
     ]
    }
   ],
   "source": [
    "%%timeit\n",
    "\n",
    "eif.predict(anomalous_test_data_with_Z_df)"
   ],
   "metadata": {
    "collapsed": false
   }
  },
  {
   "cell_type": "code",
   "execution_count": 36,
   "outputs": [
    {
     "name": "stdout",
     "output_type": "stream",
     "text": [
      "true anomalies: 5691\n",
      "false anomalies: 4411\n",
      "false normals: 4020\n",
      "true normals: 8422\n",
      "precision: 0.5633537913284498\n",
      "recall: 0.586036453506333\n",
      "f1-score: 0.5744713067178115\n"
     ]
    },
    {
     "ename": "KeyError",
     "evalue": "'anomaly_score'",
     "output_type": "error",
     "traceback": [
      "\u001B[1;31m---------------------------------------------------------------------------\u001B[0m",
      "\u001B[1;31mKeyError\u001B[0m                                  Traceback (most recent call last)",
      "File \u001B[1;32mC:\\CodingProjects\\network-anomaly-detection\\venv\\lib\\site-packages\\pandas\\core\\indexes\\base.py:3802\u001B[0m, in \u001B[0;36mIndex.get_loc\u001B[1;34m(self, key, method, tolerance)\u001B[0m\n\u001B[0;32m   3801\u001B[0m \u001B[38;5;28;01mtry\u001B[39;00m:\n\u001B[1;32m-> 3802\u001B[0m     \u001B[38;5;28;01mreturn\u001B[39;00m \u001B[38;5;28;43mself\u001B[39;49m\u001B[38;5;241;43m.\u001B[39;49m\u001B[43m_engine\u001B[49m\u001B[38;5;241;43m.\u001B[39;49m\u001B[43mget_loc\u001B[49m\u001B[43m(\u001B[49m\u001B[43mcasted_key\u001B[49m\u001B[43m)\u001B[49m\n\u001B[0;32m   3803\u001B[0m \u001B[38;5;28;01mexcept\u001B[39;00m \u001B[38;5;167;01mKeyError\u001B[39;00m \u001B[38;5;28;01mas\u001B[39;00m err:\n",
      "File \u001B[1;32mC:\\CodingProjects\\network-anomaly-detection\\venv\\lib\\site-packages\\pandas\\_libs\\index.pyx:138\u001B[0m, in \u001B[0;36mpandas._libs.index.IndexEngine.get_loc\u001B[1;34m()\u001B[0m\n",
      "File \u001B[1;32mC:\\CodingProjects\\network-anomaly-detection\\venv\\lib\\site-packages\\pandas\\_libs\\index.pyx:165\u001B[0m, in \u001B[0;36mpandas._libs.index.IndexEngine.get_loc\u001B[1;34m()\u001B[0m\n",
      "File \u001B[1;32mpandas\\_libs\\hashtable_class_helper.pxi:5745\u001B[0m, in \u001B[0;36mpandas._libs.hashtable.PyObjectHashTable.get_item\u001B[1;34m()\u001B[0m\n",
      "File \u001B[1;32mpandas\\_libs\\hashtable_class_helper.pxi:5753\u001B[0m, in \u001B[0;36mpandas._libs.hashtable.PyObjectHashTable.get_item\u001B[1;34m()\u001B[0m\n",
      "\u001B[1;31mKeyError\u001B[0m: 'anomaly_score'",
      "\nThe above exception was the direct cause of the following exception:\n",
      "\u001B[1;31mKeyError\u001B[0m                                  Traceback (most recent call last)",
      "Cell \u001B[1;32mIn[36], line 5\u001B[0m\n\u001B[0;32m      2\u001B[0m eif_predictions[\u001B[38;5;124m'\u001B[39m\u001B[38;5;124mis_normal\u001B[39m\u001B[38;5;124m'\u001B[39m] \u001B[38;5;241m=\u001B[39m predicted_anomalous_labels\n\u001B[0;32m      4\u001B[0m \u001B[38;5;66;03m#print_results(eif_predictions)\u001B[39;00m\n\u001B[1;32m----> 5\u001B[0m \u001B[43mgetFinalPredictions\u001B[49m\u001B[43m(\u001B[49m\u001B[43mautoec_predictions\u001B[49m\u001B[43m,\u001B[49m\u001B[43m \u001B[49m\u001B[43meif_predictions\u001B[49m\u001B[43m)\u001B[49m\n",
      "Cell \u001B[1;32mIn[33], line 8\u001B[0m, in \u001B[0;36mgetFinalPredictions\u001B[1;34m(first_predictions, second_predictions)\u001B[0m\n\u001B[0;32m      6\u001B[0m f_p_copy\u001B[38;5;241m.\u001B[39mloc[indices, \u001B[38;5;124m\"\u001B[39m\u001B[38;5;124mpredicted_as_anomaly\u001B[39m\u001B[38;5;124m\"\u001B[39m] \u001B[38;5;241m=\u001B[39m s_p_copy[\u001B[38;5;124m\"\u001B[39m\u001B[38;5;124mpredicted_as_anomaly\u001B[39m\u001B[38;5;124m\"\u001B[39m]\n\u001B[0;32m      7\u001B[0m print_results(f_p_copy)\n\u001B[1;32m----> 8\u001B[0m \u001B[38;5;28mprint\u001B[39m(\u001B[38;5;124m\"\u001B[39m\u001B[38;5;124mauroc: \u001B[39m\u001B[38;5;124m\"\u001B[39m \u001B[38;5;241m+\u001B[39m \u001B[38;5;28mstr\u001B[39m(\u001B[43mget_auroc_value\u001B[49m\u001B[43m(\u001B[49m\u001B[43mf_p_copy\u001B[49m\u001B[43m)\u001B[49m))\n",
      "File \u001B[1;32mC:\\CodingProjects\\network-anomaly-detection\\turtleIsolationForests\\printResults.py:33\u001B[0m, in \u001B[0;36mget_auroc_value\u001B[1;34m(predictions)\u001B[0m\n\u001B[0;32m     32\u001B[0m \u001B[38;5;28;01mdef\u001B[39;00m \u001B[38;5;21mget_auroc_value\u001B[39m(predictions: DataFrame) \u001B[38;5;241m-\u001B[39m\u001B[38;5;241m>\u001B[39m \u001B[38;5;28mfloat\u001B[39m:\n\u001B[1;32m---> 33\u001B[0m     (fpr, tpr, _) \u001B[38;5;241m=\u001B[39m \u001B[43mget_auroc_points\u001B[49m\u001B[43m(\u001B[49m\u001B[43mpredictions\u001B[49m\u001B[43m)\u001B[49m\n\u001B[0;32m     34\u001B[0m     \u001B[38;5;28;01mreturn\u001B[39;00m get_auc(fpr, tpr)\n",
      "File \u001B[1;32mC:\\CodingProjects\\network-anomaly-detection\\turtleIsolationForests\\printResults.py:38\u001B[0m, in \u001B[0;36mget_auroc_points\u001B[1;34m(predictions)\u001B[0m\n\u001B[0;32m     36\u001B[0m \u001B[38;5;28;01mdef\u001B[39;00m \u001B[38;5;21mget_auroc_points\u001B[39m(predictions: DataFrame) \u001B[38;5;241m-\u001B[39m\u001B[38;5;241m>\u001B[39m \u001B[38;5;28mtuple\u001B[39m[np\u001B[38;5;241m.\u001B[39mndarray, np\u001B[38;5;241m.\u001B[39mndarray, np\u001B[38;5;241m.\u001B[39mndarray]:\n\u001B[0;32m     37\u001B[0m     y_true \u001B[38;5;241m=\u001B[39m predictions[\u001B[38;5;124m'\u001B[39m\u001B[38;5;124mis_normal\u001B[39m\u001B[38;5;124m'\u001B[39m]\n\u001B[1;32m---> 38\u001B[0m     y_score \u001B[38;5;241m=\u001B[39m \u001B[43mpredictions\u001B[49m\u001B[43m[\u001B[49m\u001B[38;5;124;43m'\u001B[39;49m\u001B[38;5;124;43manomaly_score\u001B[39;49m\u001B[38;5;124;43m'\u001B[39;49m\u001B[43m]\u001B[49m\n\u001B[0;32m     39\u001B[0m     \u001B[38;5;28;01mreturn\u001B[39;00m roc_curve(y_true, y_score, pos_label\u001B[38;5;241m=\u001B[39m\u001B[38;5;241m0\u001B[39m)\n",
      "File \u001B[1;32mC:\\CodingProjects\\network-anomaly-detection\\venv\\lib\\site-packages\\pandas\\core\\frame.py:3807\u001B[0m, in \u001B[0;36mDataFrame.__getitem__\u001B[1;34m(self, key)\u001B[0m\n\u001B[0;32m   3805\u001B[0m \u001B[38;5;28;01mif\u001B[39;00m \u001B[38;5;28mself\u001B[39m\u001B[38;5;241m.\u001B[39mcolumns\u001B[38;5;241m.\u001B[39mnlevels \u001B[38;5;241m>\u001B[39m \u001B[38;5;241m1\u001B[39m:\n\u001B[0;32m   3806\u001B[0m     \u001B[38;5;28;01mreturn\u001B[39;00m \u001B[38;5;28mself\u001B[39m\u001B[38;5;241m.\u001B[39m_getitem_multilevel(key)\n\u001B[1;32m-> 3807\u001B[0m indexer \u001B[38;5;241m=\u001B[39m \u001B[38;5;28;43mself\u001B[39;49m\u001B[38;5;241;43m.\u001B[39;49m\u001B[43mcolumns\u001B[49m\u001B[38;5;241;43m.\u001B[39;49m\u001B[43mget_loc\u001B[49m\u001B[43m(\u001B[49m\u001B[43mkey\u001B[49m\u001B[43m)\u001B[49m\n\u001B[0;32m   3808\u001B[0m \u001B[38;5;28;01mif\u001B[39;00m is_integer(indexer):\n\u001B[0;32m   3809\u001B[0m     indexer \u001B[38;5;241m=\u001B[39m [indexer]\n",
      "File \u001B[1;32mC:\\CodingProjects\\network-anomaly-detection\\venv\\lib\\site-packages\\pandas\\core\\indexes\\base.py:3804\u001B[0m, in \u001B[0;36mIndex.get_loc\u001B[1;34m(self, key, method, tolerance)\u001B[0m\n\u001B[0;32m   3802\u001B[0m     \u001B[38;5;28;01mreturn\u001B[39;00m \u001B[38;5;28mself\u001B[39m\u001B[38;5;241m.\u001B[39m_engine\u001B[38;5;241m.\u001B[39mget_loc(casted_key)\n\u001B[0;32m   3803\u001B[0m \u001B[38;5;28;01mexcept\u001B[39;00m \u001B[38;5;167;01mKeyError\u001B[39;00m \u001B[38;5;28;01mas\u001B[39;00m err:\n\u001B[1;32m-> 3804\u001B[0m     \u001B[38;5;28;01mraise\u001B[39;00m \u001B[38;5;167;01mKeyError\u001B[39;00m(key) \u001B[38;5;28;01mfrom\u001B[39;00m \u001B[38;5;21;01merr\u001B[39;00m\n\u001B[0;32m   3805\u001B[0m \u001B[38;5;28;01mexcept\u001B[39;00m \u001B[38;5;167;01mTypeError\u001B[39;00m:\n\u001B[0;32m   3806\u001B[0m     \u001B[38;5;66;03m# If we have a listlike key, _check_indexing_error will raise\u001B[39;00m\n\u001B[0;32m   3807\u001B[0m     \u001B[38;5;66;03m#  InvalidIndexError. Otherwise we fall through and re-raise\u001B[39;00m\n\u001B[0;32m   3808\u001B[0m     \u001B[38;5;66;03m#  the TypeError.\u001B[39;00m\n\u001B[0;32m   3809\u001B[0m     \u001B[38;5;28mself\u001B[39m\u001B[38;5;241m.\u001B[39m_check_indexing_error(key)\n",
      "\u001B[1;31mKeyError\u001B[0m: 'anomaly_score'"
     ]
    }
   ],
   "source": [
    "eif_predictions = eif.predict(anomalous_test_data_with_Z_df)\n",
    "eif_predictions['is_normal'] = predicted_anomalous_labels\n",
    "\n",
    "#print_results(eif_predictions)\n",
    "getFinalPredictions(autoec_predictions, eif_predictions)"
   ],
   "metadata": {
    "collapsed": false
   }
  },
  {
   "cell_type": "code",
   "execution_count": null,
   "outputs": [],
   "source": [
    "train_predictions = eif.train_scores\n",
    "train_predictions['is_normal'] = train_labels\n",
    "print_results(train_predictions)"
   ],
   "metadata": {
    "collapsed": false
   }
  },
  {
   "cell_type": "code",
   "execution_count": null,
   "outputs": [],
   "source": [
    "from turtleIsolationForests.sciForest import SCIsolationForest\n",
    "\n",
    "scif = SCIsolationForest(contamination = contamination, num_hyperplanes_per_split=5, random_state = None)\n",
    "scif.fit(train_data_with_Z_df, train_labels)"
   ],
   "metadata": {
    "collapsed": false
   }
  },
  {
   "cell_type": "code",
   "execution_count": null,
   "outputs": [],
   "source": [
    "%%timeit\n",
    "\n",
    "scif.predict(anomalous_test_data_with_Z_df)"
   ],
   "metadata": {
    "collapsed": false
   }
  },
  {
   "cell_type": "code",
   "execution_count": null,
   "outputs": [],
   "source": [
    "scif_predictions = scif.predict(anomalous_test_data_with_Z_df)\n",
    "scif_predictions['is_normal'] = predicted_anomalous_labels\n",
    "\n",
    "#print_results(scif_predictions)\n",
    "getFinalPredictions(autoec_predictions, scif_predictions)"
   ],
   "metadata": {
    "collapsed": false
   }
  },
  {
   "cell_type": "code",
   "execution_count": null,
   "outputs": [],
   "source": [
    "from turtleIsolationForests.isolationForest import IsolationForest\n",
    "\n",
    "isoforest = IsolationForest(contamination = contamination, random_state = None)\n",
    "isoforest.fit(train_data_with_Z_df, train_labels)"
   ],
   "metadata": {
    "collapsed": false
   }
  },
  {
   "cell_type": "code",
   "execution_count": null,
   "outputs": [],
   "source": [
    "%%timeit\n",
    "\n",
    "isoforest.predict(anomalous_test_data_with_Z_df)"
   ],
   "metadata": {
    "collapsed": false
   }
  },
  {
   "cell_type": "code",
   "execution_count": null,
   "outputs": [],
   "source": [
    "isoforest_predictions = isoforest.predict(anomalous_test_data_with_Z_df)\n",
    "isoforest_predictions['is_normal'] = predicted_anomalous_labels\n",
    "\n",
    "#print_results(isoforest_predictions)\n",
    "getFinalPredictions(autoec_predictions, isoforest_predictions)"
   ],
   "metadata": {
    "collapsed": false
   }
  },
  {
   "cell_type": "code",
   "execution_count": null,
   "outputs": [],
   "source": [
    "from turtleIsolationForests.FBIF import FBIsolationForest\n",
    "\n",
    "fbif = FBIsolationForest(contamination = contamination, random_state = None)\n",
    "fbif.fit(train_data_with_Z_df, train_labels)"
   ],
   "metadata": {
    "collapsed": false
   }
  },
  {
   "cell_type": "code",
   "execution_count": null,
   "outputs": [],
   "source": [
    "%%timeit\n",
    "\n",
    "fbif.predict(anomalous_test_data_with_Z_df)"
   ],
   "metadata": {
    "collapsed": false
   }
  },
  {
   "cell_type": "code",
   "execution_count": null,
   "outputs": [],
   "source": [
    "fbif_predictions = fbif.predict(anomalous_test_data_with_Z_df)\n",
    "fbif_predictions['is_normal'] = predicted_anomalous_labels\n",
    "\n",
    "#print_results(fbif_predictions)\n",
    "getFinalPredictions(autoec_predictions, fbif_predictions)"
   ],
   "metadata": {
    "collapsed": false
   }
  }
 ],
 "metadata": {
  "kernelspec": {
   "display_name": "Python 3",
   "language": "python",
   "name": "python3"
  },
  "language_info": {
   "codemirror_mode": {
    "name": "ipython",
    "version": 2
   },
   "file_extension": ".py",
   "mimetype": "text/x-python",
   "name": "python",
   "nbconvert_exporter": "python",
   "pygments_lexer": "ipython2",
   "version": "2.7.6"
  }
 },
 "nbformat": 4,
 "nbformat_minor": 0
}
