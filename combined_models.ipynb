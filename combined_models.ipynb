{
 "cells": [
  {
   "cell_type": "code",
   "execution_count": 333,
   "outputs": [],
   "source": [
    "import matplotlib.pyplot as plt\n",
    "import numpy as np\n",
    "import pandas as pd\n",
    "import tensorflow as tf\n",
    "\n",
    "from sklearn.metrics import accuracy_score, precision_score, recall_score\n",
    "from sklearn.model_selection import train_test_split"
   ],
   "metadata": {
    "collapsed": false
   }
  },
  {
   "cell_type": "code",
   "execution_count": 334,
   "outputs": [],
   "source": [
    "import autoencoder.aecExtraFeatures as Z_calculations\n",
    "\n",
    "def addZToPrediction(model, data_point):\n",
    "    encoded = model.encoder(data_point)\n",
    "    reconstruction = model.decoder(encoded)\n",
    "\n",
    "    Z_features = [Z_calculations.getZVector(data_point, reconstruction, encoded)]\n",
    "\n",
    "    Z_features_tensor = tf.convert_to_tensor(Z_features, dtype=tf.float32)\n",
    "    data_point = tf.convert_to_tensor(data_point, dtype=tf.float32)\n",
    "\n",
    "    data_point = tf.concat([data_point, Z_features_tensor], 1)\n",
    "\n",
    "    return data_point"
   ],
   "metadata": {
    "collapsed": false
   }
  },
  {
   "cell_type": "code",
   "execution_count": 335,
   "outputs": [],
   "source": [
    "def isAnomaly(data_point, model_1, model_2, threshold):\n",
    "\n",
    "    # need autoencoder to return boolean isAnomaly\n",
    "    isAnomaly = tf.math.less(tf.keras.losses.mae(model_1(data_point), data_point), threshold)\n",
    "\n",
    "    # if the autoencoder doesn't find anything out of the ordinary, return False\n",
    "    if not isAnomaly:\n",
    "        return False\n",
    "\n",
    "    data_point = addZToPrediction(model_1, data_point)\n",
    "\n",
    "    # if the autoencoder sees something weird, run it through the isolation forest to make sure\n",
    "    return model_2.predict(data_point)"
   ],
   "metadata": {
    "collapsed": false
   }
  },
  {
   "cell_type": "code",
   "execution_count": 336,
   "outputs": [],
   "source": [
    "from turtleIsolationForests.preprocessFeatures import preprocess_features\n",
    "\n",
    "train_dataframe = pd.read_csv(\"eda_simple_classification/network_data_mod_train.csv\", index_col=0)\n",
    "test_dataframe = pd.read_csv(\"eda_simple_classification/network_data_mod_test.csv\", index_col=0)\n",
    "\n",
    "train_data, test_data, train_labels, test_labels = preprocess_features(train_dataframe, test_dataframe)"
   ],
   "metadata": {
    "collapsed": false
   }
  },
  {
   "cell_type": "code",
   "execution_count": 337,
   "outputs": [],
   "source": [
    "train_data, test_data, train_labels, test_labels = train_data[:1000], test_data[:1000], train_labels[:1000], test_labels[:1000]"
   ],
   "metadata": {
    "collapsed": false,
    "pycharm": {
     "name": "#%%\n"
    }
   }
  },
  {
   "cell_type": "code",
   "execution_count": 338,
   "outputs": [],
   "source": [
    "np_train_labels = train_labels.to_numpy()\n",
    "np_test_labels = test_labels.to_numpy()"
   ],
   "metadata": {
    "collapsed": false
   }
  },
  {
   "cell_type": "code",
   "execution_count": 339,
   "outputs": [],
   "source": [
    "np_train_data = train_data.to_numpy()\n",
    "np_test_data = test_data.to_numpy()"
   ],
   "metadata": {
    "collapsed": false
   }
  },
  {
   "cell_type": "code",
   "execution_count": 340,
   "outputs": [],
   "source": [
    "np_train_data = tf.cast(np_train_data, tf.float32)\n",
    "np_test_data = tf.cast(np_test_data, tf.float32)"
   ],
   "metadata": {
    "collapsed": false
   }
  },
  {
   "cell_type": "code",
   "execution_count": 341,
   "outputs": [],
   "source": [
    "np_train_labels = np_train_labels.astype(bool)\n",
    "np_test_labels = np_test_labels.astype(bool)\n",
    "\n",
    "normal_train_data = np_train_data[np_train_labels]\n",
    "normal_test_data = np_test_data[np_test_labels]\n",
    "\n",
    "anomalous_train_data = np_train_data[~np_train_labels]\n",
    "anomalous_test_data = np_test_data[~np_test_labels]"
   ],
   "metadata": {
    "collapsed": false
   }
  },
  {
   "cell_type": "code",
   "execution_count": 342,
   "outputs": [],
   "source": [
    "from autoencoder.autoencoder import AnomalyDetector\n",
    "autoencoder = AnomalyDetector()"
   ],
   "metadata": {
    "collapsed": false
   }
  },
  {
   "cell_type": "code",
   "execution_count": 343,
   "outputs": [],
   "source": [
    "autoencoder.compile(optimizer='adam', loss='mae')"
   ],
   "metadata": {
    "collapsed": false
   }
  },
  {
   "cell_type": "code",
   "execution_count": 344,
   "outputs": [
    {
     "name": "stdout",
     "output_type": "stream",
     "text": [
      "Epoch 1/100\n",
      "Tensor(\"anomaly_detector_6/sequential_12/dense_38/Relu:0\", shape=(None, 8), dtype=float32)\n",
      "Tensor(\"anomaly_detector_6/sequential_13/dense_41/Sigmoid:0\", shape=(None, 46), dtype=float32)\n",
      "Tensor(\"anomaly_detector_6/sequential_12/dense_38/Relu:0\", shape=(None, 8), dtype=float32)\n",
      "Tensor(\"anomaly_detector_6/sequential_13/dense_41/Sigmoid:0\", shape=(None, 46), dtype=float32)\n",
      " 1/17 [>.............................] - ETA: 25s - loss: 0.7303Tensor(\"anomaly_detector_6/sequential_12/dense_38/Relu:0\", shape=(None, 8), dtype=float32)\n",
      "Tensor(\"anomaly_detector_6/sequential_13/dense_41/Sigmoid:0\", shape=(None, 46), dtype=float32)\n",
      "17/17 [==============================] - 2s 23ms/step - loss: 0.7158 - val_loss: 0.7816\n",
      "Epoch 2/100\n",
      "17/17 [==============================] - 0s 8ms/step - loss: 0.6390 - val_loss: 0.6773\n",
      "Epoch 3/100\n",
      "17/17 [==============================] - 0s 7ms/step - loss: 0.4685 - val_loss: 0.5486\n",
      "Epoch 4/100\n",
      "17/17 [==============================] - 0s 7ms/step - loss: 0.3627 - val_loss: 0.5038\n",
      "Epoch 5/100\n",
      "17/17 [==============================] - 0s 8ms/step - loss: 0.3258 - val_loss: 0.4744\n",
      "Epoch 6/100\n",
      "17/17 [==============================] - 0s 8ms/step - loss: 0.3021 - val_loss: 0.4663\n",
      "Epoch 7/100\n",
      "17/17 [==============================] - 0s 7ms/step - loss: 0.2993 - val_loss: 0.4647\n",
      "Epoch 8/100\n",
      "17/17 [==============================] - 0s 9ms/step - loss: 0.2988 - val_loss: 0.4634\n",
      "Epoch 9/100\n",
      "17/17 [==============================] - 0s 8ms/step - loss: 0.2987 - val_loss: 0.4627\n",
      "Epoch 10/100\n",
      "17/17 [==============================] - 0s 7ms/step - loss: 0.2984 - val_loss: 0.4622\n",
      "Epoch 11/100\n",
      "17/17 [==============================] - 0s 7ms/step - loss: 0.2983 - val_loss: 0.4619\n",
      "Epoch 12/100\n",
      "17/17 [==============================] - 0s 7ms/step - loss: 0.2983 - val_loss: 0.4613\n",
      "Epoch 13/100\n",
      "17/17 [==============================] - 0s 7ms/step - loss: 0.2981 - val_loss: 0.4611\n",
      "Epoch 14/100\n",
      "17/17 [==============================] - 0s 7ms/step - loss: 0.2981 - val_loss: 0.4608\n",
      "Epoch 15/100\n",
      "17/17 [==============================] - 0s 7ms/step - loss: 0.2980 - val_loss: 0.4607\n",
      "Epoch 16/100\n",
      "17/17 [==============================] - 0s 6ms/step - loss: 0.2979 - val_loss: 0.4600\n",
      "Epoch 17/100\n",
      "17/17 [==============================] - 0s 7ms/step - loss: 0.2978 - val_loss: 0.4595\n",
      "Epoch 18/100\n",
      "17/17 [==============================] - 0s 7ms/step - loss: 0.2977 - val_loss: 0.4591\n",
      "Epoch 19/100\n",
      "17/17 [==============================] - 0s 7ms/step - loss: 0.2975 - val_loss: 0.4584\n",
      "Epoch 20/100\n",
      "17/17 [==============================] - 0s 7ms/step - loss: 0.2973 - val_loss: 0.4581\n",
      "Epoch 21/100\n",
      "17/17 [==============================] - 0s 6ms/step - loss: 0.2971 - val_loss: 0.4576\n",
      "Epoch 22/100\n",
      "17/17 [==============================] - 0s 7ms/step - loss: 0.2969 - val_loss: 0.4571\n",
      "Epoch 23/100\n",
      "17/17 [==============================] - 0s 7ms/step - loss: 0.2967 - val_loss: 0.4567\n",
      "Epoch 24/100\n",
      "17/17 [==============================] - 0s 7ms/step - loss: 0.2966 - val_loss: 0.4561\n",
      "Epoch 25/100\n",
      "17/17 [==============================] - 0s 8ms/step - loss: 0.2964 - val_loss: 0.4555\n",
      "Epoch 26/100\n",
      "17/17 [==============================] - 0s 7ms/step - loss: 0.2961 - val_loss: 0.4528\n",
      "Epoch 27/100\n",
      "17/17 [==============================] - 0s 6ms/step - loss: 0.2952 - val_loss: 0.4482\n",
      "Epoch 28/100\n",
      "17/17 [==============================] - 0s 6ms/step - loss: 0.2942 - val_loss: 0.4470\n",
      "Epoch 29/100\n",
      "17/17 [==============================] - 0s 6ms/step - loss: 0.2937 - val_loss: 0.4463\n",
      "Epoch 30/100\n",
      "17/17 [==============================] - 0s 6ms/step - loss: 0.2927 - val_loss: 0.4450\n",
      "Epoch 31/100\n",
      "17/17 [==============================] - 0s 7ms/step - loss: 0.2914 - val_loss: 0.4433\n",
      "Epoch 32/100\n",
      "17/17 [==============================] - 0s 7ms/step - loss: 0.2898 - val_loss: 0.4403\n",
      "Epoch 33/100\n",
      "17/17 [==============================] - 0s 7ms/step - loss: 0.2872 - val_loss: 0.4374\n",
      "Epoch 34/100\n",
      "17/17 [==============================] - 0s 7ms/step - loss: 0.2860 - val_loss: 0.4364\n",
      "Epoch 35/100\n",
      "17/17 [==============================] - 0s 7ms/step - loss: 0.2851 - val_loss: 0.4359\n",
      "Epoch 36/100\n",
      "17/17 [==============================] - 0s 7ms/step - loss: 0.2848 - val_loss: 0.4358\n",
      "Epoch 37/100\n",
      "17/17 [==============================] - 0s 6ms/step - loss: 0.2846 - val_loss: 0.4353\n",
      "Epoch 38/100\n",
      "17/17 [==============================] - 0s 7ms/step - loss: 0.2843 - val_loss: 0.4353\n",
      "Epoch 39/100\n",
      "17/17 [==============================] - 0s 7ms/step - loss: 0.2841 - val_loss: 0.4347\n",
      "Epoch 40/100\n",
      "17/17 [==============================] - 0s 7ms/step - loss: 0.2839 - val_loss: 0.4348\n",
      "Epoch 41/100\n",
      "17/17 [==============================] - 0s 7ms/step - loss: 0.2836 - val_loss: 0.4346\n",
      "Epoch 42/100\n",
      "17/17 [==============================] - 0s 6ms/step - loss: 0.2834 - val_loss: 0.4341\n",
      "Epoch 43/100\n",
      "17/17 [==============================] - 0s 6ms/step - loss: 0.2832 - val_loss: 0.4337\n",
      "Epoch 44/100\n",
      "17/17 [==============================] - 0s 7ms/step - loss: 0.2830 - val_loss: 0.4333\n",
      "Epoch 45/100\n",
      "17/17 [==============================] - 0s 7ms/step - loss: 0.2830 - val_loss: 0.4332\n",
      "Epoch 46/100\n",
      "17/17 [==============================] - 0s 6ms/step - loss: 0.2829 - val_loss: 0.4331\n",
      "Epoch 47/100\n",
      "17/17 [==============================] - 0s 7ms/step - loss: 0.2830 - val_loss: 0.4332\n",
      "Epoch 48/100\n",
      "17/17 [==============================] - 0s 7ms/step - loss: 0.2829 - val_loss: 0.4323\n",
      "Epoch 49/100\n",
      "17/17 [==============================] - 0s 7ms/step - loss: 0.2827 - val_loss: 0.4327\n",
      "Epoch 50/100\n",
      "17/17 [==============================] - 0s 7ms/step - loss: 0.2827 - val_loss: 0.4321\n",
      "Epoch 51/100\n",
      "17/17 [==============================] - 0s 7ms/step - loss: 0.2826 - val_loss: 0.4320\n",
      "Epoch 52/100\n",
      "17/17 [==============================] - 0s 7ms/step - loss: 0.2826 - val_loss: 0.4319\n",
      "Epoch 53/100\n",
      "17/17 [==============================] - 0s 7ms/step - loss: 0.2824 - val_loss: 0.4319\n",
      "Epoch 54/100\n",
      "17/17 [==============================] - 0s 7ms/step - loss: 0.2824 - val_loss: 0.4316\n",
      "Epoch 55/100\n",
      "17/17 [==============================] - 0s 6ms/step - loss: 0.2822 - val_loss: 0.4316\n",
      "Epoch 56/100\n",
      "17/17 [==============================] - 0s 7ms/step - loss: 0.2823 - val_loss: 0.4320\n",
      "Epoch 57/100\n",
      "17/17 [==============================] - 0s 7ms/step - loss: 0.2823 - val_loss: 0.4313\n",
      "Epoch 58/100\n",
      "17/17 [==============================] - 0s 7ms/step - loss: 0.2821 - val_loss: 0.4312\n",
      "Epoch 59/100\n",
      "17/17 [==============================] - 0s 7ms/step - loss: 0.2822 - val_loss: 0.4309\n",
      "Epoch 60/100\n",
      "17/17 [==============================] - 0s 7ms/step - loss: 0.2821 - val_loss: 0.4308\n",
      "Epoch 61/100\n",
      "17/17 [==============================] - 0s 17ms/step - loss: 0.2820 - val_loss: 0.4312\n",
      "Epoch 62/100\n",
      "17/17 [==============================] - 0s 7ms/step - loss: 0.2820 - val_loss: 0.4308\n",
      "Epoch 63/100\n",
      "17/17 [==============================] - 0s 6ms/step - loss: 0.2819 - val_loss: 0.4309\n",
      "Epoch 64/100\n",
      "17/17 [==============================] - 0s 7ms/step - loss: 0.2819 - val_loss: 0.4303\n",
      "Epoch 65/100\n",
      "17/17 [==============================] - 0s 7ms/step - loss: 0.2818 - val_loss: 0.4307\n",
      "Epoch 66/100\n",
      "17/17 [==============================] - 0s 7ms/step - loss: 0.2818 - val_loss: 0.4306\n",
      "Epoch 67/100\n",
      "17/17 [==============================] - 0s 7ms/step - loss: 0.2817 - val_loss: 0.4304\n",
      "Epoch 68/100\n",
      "17/17 [==============================] - 0s 7ms/step - loss: 0.2816 - val_loss: 0.4304\n",
      "Epoch 69/100\n",
      "17/17 [==============================] - 0s 7ms/step - loss: 0.2816 - val_loss: 0.4301\n",
      "Epoch 70/100\n",
      "17/17 [==============================] - 0s 7ms/step - loss: 0.2816 - val_loss: 0.4304\n",
      "Epoch 71/100\n",
      "17/17 [==============================] - 0s 7ms/step - loss: 0.2815 - val_loss: 0.4303\n",
      "Epoch 72/100\n",
      "17/17 [==============================] - 0s 7ms/step - loss: 0.2814 - val_loss: 0.4300\n",
      "Epoch 73/100\n",
      "17/17 [==============================] - 0s 8ms/step - loss: 0.2813 - val_loss: 0.4299\n",
      "Epoch 74/100\n",
      "17/17 [==============================] - 0s 7ms/step - loss: 0.2813 - val_loss: 0.4302\n",
      "Epoch 75/100\n",
      "17/17 [==============================] - 0s 7ms/step - loss: 0.2814 - val_loss: 0.4298\n",
      "Epoch 76/100\n",
      "17/17 [==============================] - 0s 8ms/step - loss: 0.2813 - val_loss: 0.4298\n",
      "Epoch 77/100\n",
      "17/17 [==============================] - 0s 7ms/step - loss: 0.2813 - val_loss: 0.4297\n",
      "Epoch 78/100\n",
      "17/17 [==============================] - 0s 7ms/step - loss: 0.2814 - val_loss: 0.4294\n",
      "Epoch 79/100\n",
      "17/17 [==============================] - 0s 7ms/step - loss: 0.2814 - val_loss: 0.4298\n",
      "Epoch 80/100\n",
      "17/17 [==============================] - 0s 7ms/step - loss: 0.2811 - val_loss: 0.4296\n",
      "Epoch 81/100\n",
      "17/17 [==============================] - 0s 6ms/step - loss: 0.2811 - val_loss: 0.4299\n",
      "Epoch 82/100\n",
      "17/17 [==============================] - 0s 7ms/step - loss: 0.2810 - val_loss: 0.4297\n",
      "Epoch 83/100\n",
      "17/17 [==============================] - 0s 7ms/step - loss: 0.2812 - val_loss: 0.4299\n",
      "Epoch 84/100\n",
      "17/17 [==============================] - 0s 6ms/step - loss: 0.2814 - val_loss: 0.4295\n",
      "Epoch 85/100\n",
      "17/17 [==============================] - 0s 8ms/step - loss: 0.2812 - val_loss: 0.4297\n",
      "Epoch 86/100\n",
      "17/17 [==============================] - 0s 7ms/step - loss: 0.2811 - val_loss: 0.4295\n",
      "Epoch 87/100\n",
      "17/17 [==============================] - 0s 7ms/step - loss: 0.2809 - val_loss: 0.4296\n",
      "Epoch 88/100\n",
      "17/17 [==============================] - 0s 7ms/step - loss: 0.2810 - val_loss: 0.4297\n",
      "Epoch 89/100\n",
      "17/17 [==============================] - 0s 7ms/step - loss: 0.2811 - val_loss: 0.4294\n",
      "Epoch 90/100\n",
      "17/17 [==============================] - 0s 7ms/step - loss: 0.2809 - val_loss: 0.4294\n",
      "Epoch 91/100\n",
      "17/17 [==============================] - 0s 7ms/step - loss: 0.2808 - val_loss: 0.4292\n",
      "Epoch 92/100\n",
      "17/17 [==============================] - 0s 7ms/step - loss: 0.2807 - val_loss: 0.4291\n",
      "Epoch 93/100\n",
      "17/17 [==============================] - 0s 7ms/step - loss: 0.2807 - val_loss: 0.4291\n",
      "Epoch 94/100\n",
      "17/17 [==============================] - 0s 6ms/step - loss: 0.2807 - val_loss: 0.4289\n",
      "Epoch 95/100\n",
      "17/17 [==============================] - 0s 7ms/step - loss: 0.2808 - val_loss: 0.4290\n",
      "Epoch 96/100\n",
      "17/17 [==============================] - 0s 7ms/step - loss: 0.2808 - val_loss: 0.4292\n",
      "Epoch 97/100\n",
      "17/17 [==============================] - 0s 7ms/step - loss: 0.2810 - val_loss: 0.4290\n",
      "Epoch 98/100\n",
      "17/17 [==============================] - 0s 7ms/step - loss: 0.2809 - val_loss: 0.4290\n",
      "Epoch 99/100\n",
      "17/17 [==============================] - 0s 7ms/step - loss: 0.2807 - val_loss: 0.4289\n",
      "Epoch 100/100\n",
      "17/17 [==============================] - 0s 7ms/step - loss: 0.2807 - val_loss: 0.4288\n"
     ]
    }
   ],
   "source": [
    "history = autoencoder.fit(normal_train_data, normal_train_data,\n",
    "          epochs=100,\n",
    "          validation_data=(test_data, test_data),\n",
    "          shuffle=True)"
   ],
   "metadata": {
    "collapsed": false
   }
  },
  {
   "cell_type": "code",
   "execution_count": 345,
   "outputs": [
    {
     "data": {
      "text/plain": "<Figure size 640x480 with 1 Axes>",
      "image/png": "[encoded data removed]"
     },
     "metadata": {},
     "output_type": "display_data"
    }
   ],
   "source": [
    "plt.plot(history.history[\"loss\"])\n",
    "plt.plot(history.history[\"val_loss\"])\n",
    "plt.title(\"Training Loss & Validation Loss over epochs\")\n",
    "plt.xlabel(\"Epochs\")\n",
    "plt.ylabel(\"Loss\")\n",
    "#plt.ylim([0,.0008])\n",
    "plt.legend([\"Loss\", \"Validation Loss\"])\n",
    "plt.show()"
   ],
   "metadata": {
    "collapsed": false
   }
  },
  {
   "cell_type": "code",
   "execution_count": 346,
   "outputs": [
    {
     "name": "stdout",
     "output_type": "stream",
     "text": [
      "Tensor(\"anomaly_detector_6/sequential_12/dense_38/Relu:0\", shape=(None, 8), dtype=float32)\n",
      "Tensor(\"anomaly_detector_6/sequential_13/dense_41/Sigmoid:0\", shape=(None, 46), dtype=float32)\n",
      "17/17 [==============================] - 0s 1ms/step\n",
      "Threshold:  0.4064331\n"
     ]
    }
   ],
   "source": [
    "reconstructions = autoencoder.predict(normal_train_data)\n",
    "train_loss = tf.keras.losses.mae(reconstructions, normal_train_data)\n",
    "threshold = np.mean(train_loss) + np.std(train_loss)\n",
    "print(\"Threshold: \", threshold)"
   ],
   "metadata": {
    "collapsed": false
   }
  },
  {
   "cell_type": "code",
   "execution_count": 347,
   "outputs": [],
   "source": [
    "def predict(model, data, threshold):\n",
    "  reconstructions = model(data)\n",
    "  loss = tf.keras.losses.mae(data, reconstructions) # 0 = anomaly (same as data)\n",
    "  return tf.math.less(loss, threshold)\n",
    "\n",
    "def print_stats(predictions, labels):\n",
    "  print(\"Accuracy = {}\".format(accuracy_score(labels, predictions)))\n",
    "  print(\"Precision = {}\".format(precision_score(labels, predictions)))\n",
    "  print(\"Recall = {}\".format(recall_score(labels, predictions)))"
   ],
   "metadata": {
    "collapsed": false
   }
  },
  {
   "cell_type": "code",
   "execution_count": 348,
   "outputs": [
    {
     "name": "stdout",
     "output_type": "stream",
     "text": [
      "13.6 ms ± 440 µs per loop (mean ± std. dev. of 7 runs, 100 loops each)\n"
     ]
    }
   ],
   "source": [
    "%%timeit\n",
    "%%capture\n",
    "\n",
    "predict(autoencoder, np_test_data, threshold)"
   ],
   "metadata": {
    "collapsed": false
   }
  },
  {
   "cell_type": "code",
   "execution_count": 349,
   "outputs": [],
   "source": [
    "%%capture\n",
    "\n",
    "test_predictions = predict(autoencoder, np_test_data, threshold)"
   ],
   "metadata": {
    "collapsed": false
   }
  },
  {
   "cell_type": "markdown",
   "source": [
    "### Stats for whole dataset"
   ],
   "metadata": {
    "collapsed": false
   }
  },
  {
   "cell_type": "code",
   "execution_count": 350,
   "outputs": [
    {
     "name": "stdout",
     "output_type": "stream",
     "text": [
      "Accuracy = 0.812\n",
      "Precision = 0.7391304347826086\n",
      "Recall = 0.9026548672566371\n"
     ]
    }
   ],
   "source": [
    "print_stats(test_predictions, test_labels)"
   ],
   "metadata": {
    "collapsed": false
   }
  },
  {
   "cell_type": "code",
   "execution_count": 351,
   "outputs": [
    {
     "name": "stdout",
     "output_type": "stream",
     "text": [
      "[[404 144]\n",
      " [ 44 408]]\n"
     ]
    }
   ],
   "source": [
    "from sklearn.metrics import confusion_matrix\n",
    "\n",
    "print(confusion_matrix(test_labels, test_predictions))"
   ],
   "metadata": {
    "collapsed": false
   }
  },
  {
   "cell_type": "code",
   "execution_count": 352,
   "outputs": [],
   "source": [
    "test_labels_swap = []\n",
    "for i in range(len(test_labels)):\n",
    "    if test_labels[i]:\n",
    "        test_labels_swap.append(False)\n",
    "    else:\n",
    "        test_labels_swap.append(True)\n",
    "\n",
    "test_labels = test_labels_swap\n",
    "np_test_labels = test_labels"
   ],
   "metadata": {
    "collapsed": false
   }
  },
  {
   "cell_type": "markdown",
   "source": [
    "### Stats for all predicted anomalous data"
   ],
   "metadata": {
    "collapsed": false
   }
  },
  {
   "cell_type": "code",
   "execution_count": 353,
   "outputs": [
    {
     "name": "stdout",
     "output_type": "stream",
     "text": [
      "true anomalies: 408\n",
      "false anomalies: 144\n",
      "false normals: 44\n",
      "true normals: 404\n",
      "precision: 0.7391304347826086\n",
      "recall: 0.9026548672566371\n",
      "f1-score: 0.8127490039840637\n"
     ]
    }
   ],
   "source": [
    "from pandas import DataFrame\n",
    "from turtleIsolationForests.printResults import print_results\n",
    "\n",
    "test_predictions_np = test_predictions.numpy()\n",
    "\n",
    "autoec_predictions = DataFrame()\n",
    "\n",
    "autoec_predictions['predicted_as_anomaly'] = test_predictions_np\n",
    "autoec_predictions['is_normal'] = test_labels\n",
    "\n",
    "print_results(autoec_predictions)"
   ],
   "metadata": {
    "collapsed": false
   }
  },
  {
   "cell_type": "code",
   "execution_count": 354,
   "outputs": [],
   "source": [
    "def addZToData(data, model):\n",
    "    data_with_Z = []\n",
    "    for i in range(1, len(data)+1):\n",
    "        data_with_Z.append(addZToPrediction(model, data[i-1:i]))\n",
    "\n",
    "    data_with_Z_rf = []\n",
    "    for i in range(len(data_with_Z)):\n",
    "        data_with_Z_rf.append(np.append(np_train_data[:][:][i].numpy().reshape(1,46).squeeze(), data_with_Z[i]))\n",
    "\n",
    "    return pd.DataFrame(data_with_Z_rf)"
   ],
   "metadata": {
    "collapsed": false
   }
  },
  {
   "cell_type": "code",
   "execution_count": 355,
   "outputs": [],
   "source": [
    "train_data_with_Z_df = addZToData(np_train_data, autoencoder)"
   ],
   "metadata": {
    "collapsed": false
   }
  },
  {
   "cell_type": "code",
   "execution_count": 356,
   "outputs": [
    {
     "data": {
      "text/plain": "           0         1        2         3         4         5         6   \\\n0   -0.019113 -0.312889 -0.11205 -0.028606 -0.139982 -0.618438 -0.053906   \n1   -0.019113 -0.312889 -0.11205 -0.028606 -0.139982 -0.618438 -0.053906   \n2   -0.019113 -0.312889 -0.11205 -0.028606 -0.139982  1.616978 -0.053906   \n3   -0.019113 -0.312889 -0.11205 -0.028606 -0.139982 -0.618438 -0.053906   \n4   -0.019113 -0.312889 -0.11205 -0.028606 -0.139982 -0.618438 -0.053906   \n..        ...       ...      ...       ...       ...       ...       ...   \n995 -0.019113 -0.312889 -0.11205 -0.028606  7.143771 -0.618438 -0.053906   \n996 -0.019113 -0.312889 -0.11205 -0.028606 -0.139982 -0.618438 -0.053906   \n997 -0.019113 -0.312889 -0.11205 -0.028606 -0.139982  1.616978 -0.053906   \n998 -0.019113 -0.312889 -0.11205 -0.028606 -0.139982  1.616978 -0.053906   \n999 -0.019113 -0.312889 -0.11205 -0.028606 -0.139982 -0.618438 -0.053906   \n\n           7         8         9   ...        85        86        87  \\\n0   -0.031767 -0.019726  0.825150  ... -0.280282  0.069972 -0.289103   \n1   -0.031767 -0.019726  0.825150  ...  2.736852  2.367737 -0.289103   \n2   -0.031767 -0.019726 -1.211901  ... -0.174417 -0.480197 -0.289103   \n3   -0.031767 -0.019726  0.825150  ... -0.439078 -0.383108  0.066252   \n4   -0.031767 -0.019726  0.825150  ... -0.439078 -0.480197 -0.289103   \n..        ...       ...       ...  ...       ...       ...       ...   \n995 -0.031767 -0.019726 -1.211901  ... -0.121485 -0.447834 -0.289103   \n996 -0.031767 -0.019726  0.825150  ... -0.439078 -0.350745  0.066252   \n997 -0.031767 -0.019726 -1.211901  ... -0.068553 -0.480197 -0.289103   \n998 -0.031767 -0.019726 -1.211901  ... -0.068553 -0.480197 -0.289103   \n999 -0.031767 -0.019726  0.825150  ... -0.439078  0.167061  0.155091   \n\n           88        89        90        91        92         93        94  \n0   -0.639532 -0.624871 -0.224532 -0.376387  0.000000   2.897089  0.116624  \n1   -0.639532 -0.624871 -0.387635 -0.376387  0.000000   4.931060  0.052502  \n2    1.608759  1.618955 -0.387635 -0.376387  0.000000   5.080774 -0.196176  \n3   -0.572083 -0.602433 -0.387635 -0.345084  3.706993   2.350453  0.708277  \n4   -0.639532 -0.624871 -0.387635 -0.376387  4.880975   2.062329  0.752867  \n..        ...       ...       ...       ...       ...        ...       ...  \n995  0.866823 -0.490241 -0.355014 -0.000751  0.000000  13.498476  0.049060  \n996 -0.639532 -0.624871 -0.387635 -0.376387  3.674186   2.560726  0.676336  \n997  1.608759  1.618955 -0.387635 -0.376387  0.000000   5.133149 -0.200215  \n998  1.608759  1.618955 -0.387635 -0.376387  0.091040   5.355477 -0.173446  \n999 -0.639532 -0.602433 -0.387635 -0.376387  3.406525   2.672737  0.660340  \n\n[1000 rows x 95 columns]",
      "text/html": "<div>\n<style scoped>\n    .dataframe tbody tr th:only-of-type {\n        vertical-align: middle;\n    }\n\n    .dataframe tbody tr th {\n        vertical-align: top;\n    }\n\n    .dataframe thead th {\n        text-align: right;\n    }\n</style>\n<table border=\"1\" class=\"dataframe\">\n  <thead>\n    <tr style=\"text-align: right;\">\n      <th></th>\n      <th>0</th>\n      <th>1</th>\n      <th>2</th>\n      <th>3</th>\n      <th>4</th>\n      <th>5</th>\n      <th>6</th>\n      <th>7</th>\n      <th>8</th>\n      <th>9</th>\n      <th>...</th>\n      <th>85</th>\n      <th>86</th>\n      <th>87</th>\n      <th>88</th>\n      <th>89</th>\n      <th>90</th>\n      <th>91</th>\n      <th>92</th>\n      <th>93</th>\n      <th>94</th>\n    </tr>\n  </thead>\n  <tbody>\n    <tr>\n      <th>0</th>\n      <td>-0.019113</td>\n      <td>-0.312889</td>\n      <td>-0.11205</td>\n      <td>-0.028606</td>\n      <td>-0.139982</td>\n      <td>-0.618438</td>\n      <td>-0.053906</td>\n      <td>-0.031767</td>\n      <td>-0.019726</td>\n      <td>0.825150</td>\n      <td>...</td>\n      <td>-0.280282</td>\n      <td>0.069972</td>\n      <td>-0.289103</td>\n      <td>-0.639532</td>\n      <td>-0.624871</td>\n      <td>-0.224532</td>\n      <td>-0.376387</td>\n      <td>0.000000</td>\n      <td>2.897089</td>\n      <td>0.116624</td>\n    </tr>\n    <tr>\n      <th>1</th>\n      <td>-0.019113</td>\n      <td>-0.312889</td>\n      <td>-0.11205</td>\n      <td>-0.028606</td>\n      <td>-0.139982</td>\n      <td>-0.618438</td>\n      <td>-0.053906</td>\n      <td>-0.031767</td>\n      <td>-0.019726</td>\n      <td>0.825150</td>\n      <td>...</td>\n      <td>2.736852</td>\n      <td>2.367737</td>\n      <td>-0.289103</td>\n      <td>-0.639532</td>\n      <td>-0.624871</td>\n      <td>-0.387635</td>\n      <td>-0.376387</td>\n      <td>0.000000</td>\n      <td>4.931060</td>\n      <td>0.052502</td>\n    </tr>\n    <tr>\n      <th>2</th>\n      <td>-0.019113</td>\n      <td>-0.312889</td>\n      <td>-0.11205</td>\n      <td>-0.028606</td>\n      <td>-0.139982</td>\n      <td>1.616978</td>\n      <td>-0.053906</td>\n      <td>-0.031767</td>\n      <td>-0.019726</td>\n      <td>-1.211901</td>\n      <td>...</td>\n      <td>-0.174417</td>\n      <td>-0.480197</td>\n      <td>-0.289103</td>\n      <td>1.608759</td>\n      <td>1.618955</td>\n      <td>-0.387635</td>\n      <td>-0.376387</td>\n      <td>0.000000</td>\n      <td>5.080774</td>\n      <td>-0.196176</td>\n    </tr>\n    <tr>\n      <th>3</th>\n      <td>-0.019113</td>\n      <td>-0.312889</td>\n      <td>-0.11205</td>\n      <td>-0.028606</td>\n      <td>-0.139982</td>\n      <td>-0.618438</td>\n      <td>-0.053906</td>\n      <td>-0.031767</td>\n      <td>-0.019726</td>\n      <td>0.825150</td>\n      <td>...</td>\n      <td>-0.439078</td>\n      <td>-0.383108</td>\n      <td>0.066252</td>\n      <td>-0.572083</td>\n      <td>-0.602433</td>\n      <td>-0.387635</td>\n      <td>-0.345084</td>\n      <td>3.706993</td>\n      <td>2.350453</td>\n      <td>0.708277</td>\n    </tr>\n    <tr>\n      <th>4</th>\n      <td>-0.019113</td>\n      <td>-0.312889</td>\n      <td>-0.11205</td>\n      <td>-0.028606</td>\n      <td>-0.139982</td>\n      <td>-0.618438</td>\n      <td>-0.053906</td>\n      <td>-0.031767</td>\n      <td>-0.019726</td>\n      <td>0.825150</td>\n      <td>...</td>\n      <td>-0.439078</td>\n      <td>-0.480197</td>\n      <td>-0.289103</td>\n      <td>-0.639532</td>\n      <td>-0.624871</td>\n      <td>-0.387635</td>\n      <td>-0.376387</td>\n      <td>4.880975</td>\n      <td>2.062329</td>\n      <td>0.752867</td>\n    </tr>\n    <tr>\n      <th>...</th>\n      <td>...</td>\n      <td>...</td>\n      <td>...</td>\n      <td>...</td>\n      <td>...</td>\n      <td>...</td>\n      <td>...</td>\n      <td>...</td>\n      <td>...</td>\n      <td>...</td>\n      <td>...</td>\n      <td>...</td>\n      <td>...</td>\n      <td>...</td>\n      <td>...</td>\n      <td>...</td>\n      <td>...</td>\n      <td>...</td>\n      <td>...</td>\n      <td>...</td>\n      <td>...</td>\n    </tr>\n    <tr>\n      <th>995</th>\n      <td>-0.019113</td>\n      <td>-0.312889</td>\n      <td>-0.11205</td>\n      <td>-0.028606</td>\n      <td>7.143771</td>\n      <td>-0.618438</td>\n      <td>-0.053906</td>\n      <td>-0.031767</td>\n      <td>-0.019726</td>\n      <td>-1.211901</td>\n      <td>...</td>\n      <td>-0.121485</td>\n      <td>-0.447834</td>\n      <td>-0.289103</td>\n      <td>0.866823</td>\n      <td>-0.490241</td>\n      <td>-0.355014</td>\n      <td>-0.000751</td>\n      <td>0.000000</td>\n      <td>13.498476</td>\n      <td>0.049060</td>\n    </tr>\n    <tr>\n      <th>996</th>\n      <td>-0.019113</td>\n      <td>-0.312889</td>\n      <td>-0.11205</td>\n      <td>-0.028606</td>\n      <td>-0.139982</td>\n      <td>-0.618438</td>\n      <td>-0.053906</td>\n      <td>-0.031767</td>\n      <td>-0.019726</td>\n      <td>0.825150</td>\n      <td>...</td>\n      <td>-0.439078</td>\n      <td>-0.350745</td>\n      <td>0.066252</td>\n      <td>-0.639532</td>\n      <td>-0.624871</td>\n      <td>-0.387635</td>\n      <td>-0.376387</td>\n      <td>3.674186</td>\n      <td>2.560726</td>\n      <td>0.676336</td>\n    </tr>\n    <tr>\n      <th>997</th>\n      <td>-0.019113</td>\n      <td>-0.312889</td>\n      <td>-0.11205</td>\n      <td>-0.028606</td>\n      <td>-0.139982</td>\n      <td>1.616978</td>\n      <td>-0.053906</td>\n      <td>-0.031767</td>\n      <td>-0.019726</td>\n      <td>-1.211901</td>\n      <td>...</td>\n      <td>-0.068553</td>\n      <td>-0.480197</td>\n      <td>-0.289103</td>\n      <td>1.608759</td>\n      <td>1.618955</td>\n      <td>-0.387635</td>\n      <td>-0.376387</td>\n      <td>0.000000</td>\n      <td>5.133149</td>\n      <td>-0.200215</td>\n    </tr>\n    <tr>\n      <th>998</th>\n      <td>-0.019113</td>\n      <td>-0.312889</td>\n      <td>-0.11205</td>\n      <td>-0.028606</td>\n      <td>-0.139982</td>\n      <td>1.616978</td>\n      <td>-0.053906</td>\n      <td>-0.031767</td>\n      <td>-0.019726</td>\n      <td>-1.211901</td>\n      <td>...</td>\n      <td>-0.068553</td>\n      <td>-0.480197</td>\n      <td>-0.289103</td>\n      <td>1.608759</td>\n      <td>1.618955</td>\n      <td>-0.387635</td>\n      <td>-0.376387</td>\n      <td>0.091040</td>\n      <td>5.355477</td>\n      <td>-0.173446</td>\n    </tr>\n    <tr>\n      <th>999</th>\n      <td>-0.019113</td>\n      <td>-0.312889</td>\n      <td>-0.11205</td>\n      <td>-0.028606</td>\n      <td>-0.139982</td>\n      <td>-0.618438</td>\n      <td>-0.053906</td>\n      <td>-0.031767</td>\n      <td>-0.019726</td>\n      <td>0.825150</td>\n      <td>...</td>\n      <td>-0.439078</td>\n      <td>0.167061</td>\n      <td>0.155091</td>\n      <td>-0.639532</td>\n      <td>-0.602433</td>\n      <td>-0.387635</td>\n      <td>-0.376387</td>\n      <td>3.406525</td>\n      <td>2.672737</td>\n      <td>0.660340</td>\n    </tr>\n  </tbody>\n</table>\n<p>1000 rows × 95 columns</p>\n</div>"
     },
     "execution_count": 356,
     "metadata": {},
     "output_type": "execute_result"
    }
   ],
   "source": [
    "train_data_with_Z_df"
   ],
   "metadata": {
    "collapsed": false,
    "pycharm": {
     "name": "#%%\n"
    }
   }
  },
  {
   "cell_type": "code",
   "execution_count": 357,
   "outputs": [],
   "source": [
    "np_test_labels = np.array(np_test_labels)"
   ],
   "metadata": {
    "collapsed": false
   }
  },
  {
   "cell_type": "code",
   "execution_count": 358,
   "outputs": [],
   "source": [
    "predicted_anomalous = np_test_data[test_predictions.numpy()]"
   ],
   "metadata": {
    "collapsed": false
   }
  },
  {
   "cell_type": "code",
   "execution_count": 359,
   "outputs": [
    {
     "data": {
      "text/plain": "           0         1        2         3         4         5         6   \\\n0   -0.019113 -0.312889 -0.11205 -0.028606 -0.139982 -0.618438 -0.053906   \n1   -0.019113 -0.312889 -0.11205 -0.028606 -0.139982 -0.618438 -0.053906   \n2   -0.019113 -0.312889 -0.11205 -0.028606 -0.139982  1.616978 -0.053906   \n3   -0.019113 -0.312889 -0.11205 -0.028606 -0.139982 -0.618438 -0.053906   \n4   -0.019113 -0.312889 -0.11205 -0.028606 -0.139982 -0.618438 -0.053906   \n..        ...       ...      ...       ...       ...       ...       ...   \n995 -0.019113 -0.312889 -0.11205 -0.028606  7.143771 -0.618438 -0.053906   \n996 -0.019113 -0.312889 -0.11205 -0.028606 -0.139982 -0.618438 -0.053906   \n997 -0.019113 -0.312889 -0.11205 -0.028606 -0.139982  1.616978 -0.053906   \n998 -0.019113 -0.312889 -0.11205 -0.028606 -0.139982  1.616978 -0.053906   \n999 -0.019113 -0.312889 -0.11205 -0.028606 -0.139982 -0.618438 -0.053906   \n\n           7         8         9   ...        85        86        87  \\\n0   -0.031767 -0.019726  0.825150  ... -0.280282  0.069972 -0.289103   \n1   -0.031767 -0.019726  0.825150  ...  2.736852  2.367737 -0.289103   \n2   -0.031767 -0.019726 -1.211901  ... -0.174417 -0.480197 -0.289103   \n3   -0.031767 -0.019726  0.825150  ... -0.439078 -0.383108  0.066252   \n4   -0.031767 -0.019726  0.825150  ... -0.439078 -0.480197 -0.289103   \n..        ...       ...       ...  ...       ...       ...       ...   \n995 -0.031767 -0.019726 -1.211901  ... -0.121485 -0.447834 -0.289103   \n996 -0.031767 -0.019726  0.825150  ... -0.439078 -0.350745  0.066252   \n997 -0.031767 -0.019726 -1.211901  ... -0.068553 -0.480197 -0.289103   \n998 -0.031767 -0.019726 -1.211901  ... -0.068553 -0.480197 -0.289103   \n999 -0.031767 -0.019726  0.825150  ... -0.439078  0.167061  0.155091   \n\n           88        89        90        91        92         93        94  \n0   -0.639532 -0.624871 -0.224532 -0.376387  0.000000   2.897089  0.116624  \n1   -0.639532 -0.624871 -0.387635 -0.376387  0.000000   4.931060  0.052502  \n2    1.608759  1.618955 -0.387635 -0.376387  0.000000   5.080774 -0.196176  \n3   -0.572083 -0.602433 -0.387635 -0.345084  3.706993   2.350453  0.708277  \n4   -0.639532 -0.624871 -0.387635 -0.376387  4.880975   2.062329  0.752867  \n..        ...       ...       ...       ...       ...        ...       ...  \n995  0.866823 -0.490241 -0.355014 -0.000751  0.000000  13.498476  0.049060  \n996 -0.639532 -0.624871 -0.387635 -0.376387  3.674186   2.560726  0.676336  \n997  1.608759  1.618955 -0.387635 -0.376387  0.000000   5.133149 -0.200215  \n998  1.608759  1.618955 -0.387635 -0.376387  0.091040   5.355477 -0.173446  \n999 -0.639532 -0.602433 -0.387635 -0.376387  3.406525   2.672737  0.660340  \n\n[1000 rows x 95 columns]",
      "text/html": "<div>\n<style scoped>\n    .dataframe tbody tr th:only-of-type {\n        vertical-align: middle;\n    }\n\n    .dataframe tbody tr th {\n        vertical-align: top;\n    }\n\n    .dataframe thead th {\n        text-align: right;\n    }\n</style>\n<table border=\"1\" class=\"dataframe\">\n  <thead>\n    <tr style=\"text-align: right;\">\n      <th></th>\n      <th>0</th>\n      <th>1</th>\n      <th>2</th>\n      <th>3</th>\n      <th>4</th>\n      <th>5</th>\n      <th>6</th>\n      <th>7</th>\n      <th>8</th>\n      <th>9</th>\n      <th>...</th>\n      <th>85</th>\n      <th>86</th>\n      <th>87</th>\n      <th>88</th>\n      <th>89</th>\n      <th>90</th>\n      <th>91</th>\n      <th>92</th>\n      <th>93</th>\n      <th>94</th>\n    </tr>\n  </thead>\n  <tbody>\n    <tr>\n      <th>0</th>\n      <td>-0.019113</td>\n      <td>-0.312889</td>\n      <td>-0.11205</td>\n      <td>-0.028606</td>\n      <td>-0.139982</td>\n      <td>-0.618438</td>\n      <td>-0.053906</td>\n      <td>-0.031767</td>\n      <td>-0.019726</td>\n      <td>0.825150</td>\n      <td>...</td>\n      <td>-0.280282</td>\n      <td>0.069972</td>\n      <td>-0.289103</td>\n      <td>-0.639532</td>\n      <td>-0.624871</td>\n      <td>-0.224532</td>\n      <td>-0.376387</td>\n      <td>0.000000</td>\n      <td>2.897089</td>\n      <td>0.116624</td>\n    </tr>\n    <tr>\n      <th>1</th>\n      <td>-0.019113</td>\n      <td>-0.312889</td>\n      <td>-0.11205</td>\n      <td>-0.028606</td>\n      <td>-0.139982</td>\n      <td>-0.618438</td>\n      <td>-0.053906</td>\n      <td>-0.031767</td>\n      <td>-0.019726</td>\n      <td>0.825150</td>\n      <td>...</td>\n      <td>2.736852</td>\n      <td>2.367737</td>\n      <td>-0.289103</td>\n      <td>-0.639532</td>\n      <td>-0.624871</td>\n      <td>-0.387635</td>\n      <td>-0.376387</td>\n      <td>0.000000</td>\n      <td>4.931060</td>\n      <td>0.052502</td>\n    </tr>\n    <tr>\n      <th>2</th>\n      <td>-0.019113</td>\n      <td>-0.312889</td>\n      <td>-0.11205</td>\n      <td>-0.028606</td>\n      <td>-0.139982</td>\n      <td>1.616978</td>\n      <td>-0.053906</td>\n      <td>-0.031767</td>\n      <td>-0.019726</td>\n      <td>-1.211901</td>\n      <td>...</td>\n      <td>-0.174417</td>\n      <td>-0.480197</td>\n      <td>-0.289103</td>\n      <td>1.608759</td>\n      <td>1.618955</td>\n      <td>-0.387635</td>\n      <td>-0.376387</td>\n      <td>0.000000</td>\n      <td>5.080774</td>\n      <td>-0.196176</td>\n    </tr>\n    <tr>\n      <th>3</th>\n      <td>-0.019113</td>\n      <td>-0.312889</td>\n      <td>-0.11205</td>\n      <td>-0.028606</td>\n      <td>-0.139982</td>\n      <td>-0.618438</td>\n      <td>-0.053906</td>\n      <td>-0.031767</td>\n      <td>-0.019726</td>\n      <td>0.825150</td>\n      <td>...</td>\n      <td>-0.439078</td>\n      <td>-0.383108</td>\n      <td>0.066252</td>\n      <td>-0.572083</td>\n      <td>-0.602433</td>\n      <td>-0.387635</td>\n      <td>-0.345084</td>\n      <td>3.706993</td>\n      <td>2.350453</td>\n      <td>0.708277</td>\n    </tr>\n    <tr>\n      <th>4</th>\n      <td>-0.019113</td>\n      <td>-0.312889</td>\n      <td>-0.11205</td>\n      <td>-0.028606</td>\n      <td>-0.139982</td>\n      <td>-0.618438</td>\n      <td>-0.053906</td>\n      <td>-0.031767</td>\n      <td>-0.019726</td>\n      <td>0.825150</td>\n      <td>...</td>\n      <td>-0.439078</td>\n      <td>-0.480197</td>\n      <td>-0.289103</td>\n      <td>-0.639532</td>\n      <td>-0.624871</td>\n      <td>-0.387635</td>\n      <td>-0.376387</td>\n      <td>4.880975</td>\n      <td>2.062329</td>\n      <td>0.752867</td>\n    </tr>\n    <tr>\n      <th>...</th>\n      <td>...</td>\n      <td>...</td>\n      <td>...</td>\n      <td>...</td>\n      <td>...</td>\n      <td>...</td>\n      <td>...</td>\n      <td>...</td>\n      <td>...</td>\n      <td>...</td>\n      <td>...</td>\n      <td>...</td>\n      <td>...</td>\n      <td>...</td>\n      <td>...</td>\n      <td>...</td>\n      <td>...</td>\n      <td>...</td>\n      <td>...</td>\n      <td>...</td>\n      <td>...</td>\n    </tr>\n    <tr>\n      <th>995</th>\n      <td>-0.019113</td>\n      <td>-0.312889</td>\n      <td>-0.11205</td>\n      <td>-0.028606</td>\n      <td>7.143771</td>\n      <td>-0.618438</td>\n      <td>-0.053906</td>\n      <td>-0.031767</td>\n      <td>-0.019726</td>\n      <td>-1.211901</td>\n      <td>...</td>\n      <td>-0.121485</td>\n      <td>-0.447834</td>\n      <td>-0.289103</td>\n      <td>0.866823</td>\n      <td>-0.490241</td>\n      <td>-0.355014</td>\n      <td>-0.000751</td>\n      <td>0.000000</td>\n      <td>13.498476</td>\n      <td>0.049060</td>\n    </tr>\n    <tr>\n      <th>996</th>\n      <td>-0.019113</td>\n      <td>-0.312889</td>\n      <td>-0.11205</td>\n      <td>-0.028606</td>\n      <td>-0.139982</td>\n      <td>-0.618438</td>\n      <td>-0.053906</td>\n      <td>-0.031767</td>\n      <td>-0.019726</td>\n      <td>0.825150</td>\n      <td>...</td>\n      <td>-0.439078</td>\n      <td>-0.350745</td>\n      <td>0.066252</td>\n      <td>-0.639532</td>\n      <td>-0.624871</td>\n      <td>-0.387635</td>\n      <td>-0.376387</td>\n      <td>3.674186</td>\n      <td>2.560726</td>\n      <td>0.676336</td>\n    </tr>\n    <tr>\n      <th>997</th>\n      <td>-0.019113</td>\n      <td>-0.312889</td>\n      <td>-0.11205</td>\n      <td>-0.028606</td>\n      <td>-0.139982</td>\n      <td>1.616978</td>\n      <td>-0.053906</td>\n      <td>-0.031767</td>\n      <td>-0.019726</td>\n      <td>-1.211901</td>\n      <td>...</td>\n      <td>-0.068553</td>\n      <td>-0.480197</td>\n      <td>-0.289103</td>\n      <td>1.608759</td>\n      <td>1.618955</td>\n      <td>-0.387635</td>\n      <td>-0.376387</td>\n      <td>0.000000</td>\n      <td>5.133149</td>\n      <td>-0.200215</td>\n    </tr>\n    <tr>\n      <th>998</th>\n      <td>-0.019113</td>\n      <td>-0.312889</td>\n      <td>-0.11205</td>\n      <td>-0.028606</td>\n      <td>-0.139982</td>\n      <td>1.616978</td>\n      <td>-0.053906</td>\n      <td>-0.031767</td>\n      <td>-0.019726</td>\n      <td>-1.211901</td>\n      <td>...</td>\n      <td>-0.068553</td>\n      <td>-0.480197</td>\n      <td>-0.289103</td>\n      <td>1.608759</td>\n      <td>1.618955</td>\n      <td>-0.387635</td>\n      <td>-0.376387</td>\n      <td>0.091040</td>\n      <td>5.355477</td>\n      <td>-0.173446</td>\n    </tr>\n    <tr>\n      <th>999</th>\n      <td>-0.019113</td>\n      <td>-0.312889</td>\n      <td>-0.11205</td>\n      <td>-0.028606</td>\n      <td>-0.139982</td>\n      <td>-0.618438</td>\n      <td>-0.053906</td>\n      <td>-0.031767</td>\n      <td>-0.019726</td>\n      <td>0.825150</td>\n      <td>...</td>\n      <td>-0.439078</td>\n      <td>0.167061</td>\n      <td>0.155091</td>\n      <td>-0.639532</td>\n      <td>-0.602433</td>\n      <td>-0.387635</td>\n      <td>-0.376387</td>\n      <td>3.406525</td>\n      <td>2.672737</td>\n      <td>0.660340</td>\n    </tr>\n  </tbody>\n</table>\n<p>1000 rows × 95 columns</p>\n</div>"
     },
     "execution_count": 359,
     "metadata": {},
     "output_type": "execute_result"
    }
   ],
   "source": [
    "train_data_with_Z_df"
   ],
   "metadata": {
    "collapsed": false,
    "pycharm": {
     "name": "#%%\n"
    }
   }
  },
  {
   "cell_type": "code",
   "execution_count": 360,
   "outputs": [],
   "source": [
    "predicted_anomalous_labels = np_test_labels[test_predictions.numpy()]"
   ],
   "metadata": {
    "collapsed": false
   }
  },
  {
   "cell_type": "code",
   "execution_count": 361,
   "outputs": [],
   "source": [
    "anomalous_test_data_with_Z_df = addZToData(predicted_anomalous, autoencoder)"
   ],
   "metadata": {
    "collapsed": false
   }
  },
  {
   "cell_type": "code",
   "execution_count": 362,
   "outputs": [],
   "source": [
    "contamination = sum(train_labels == 0) / len(train_labels)"
   ],
   "metadata": {
    "collapsed": false
   }
  },
  {
   "cell_type": "code",
   "execution_count": 363,
   "outputs": [],
   "source": [
    "# need test_predictions replaced at indices that autoencoder predicted anomalies"
   ],
   "metadata": {
    "collapsed": false
   }
  },
  {
   "cell_type": "code",
   "execution_count": 364,
   "outputs": [
    {
     "data": {
      "text/plain": "           0         1        2         3         4         5         6   \\\n0   -0.019113 -0.312889 -0.11205 -0.028606 -0.139982 -0.618438 -0.053906   \n1   -0.019113 -0.312889 -0.11205 -0.028606 -0.139982 -0.618438 -0.053906   \n2   -0.019113 -0.312889 -0.11205 -0.028606 -0.139982  1.616978 -0.053906   \n3   -0.019113 -0.312889 -0.11205 -0.028606 -0.139982 -0.618438 -0.053906   \n4   -0.019113 -0.312889 -0.11205 -0.028606 -0.139982 -0.618438 -0.053906   \n..        ...       ...      ...       ...       ...       ...       ...   \n547 -0.019113 -0.312889 -0.11205 -0.028606 -0.139982  1.616978 -0.053906   \n548 -0.019113 -0.312889 -0.11205 -0.028606 -0.139982 -0.618438 -0.053906   \n549 -0.019113 -0.312889 -0.11205 -0.028606 -0.139982  1.616978 -0.053906   \n550 -0.019113 -0.312889 -0.11205 -0.028606 -0.139982 -0.618438 -0.053906   \n551 -0.019113 -0.312889 -0.11205 -0.028606 -0.139982 -0.618438 -0.053906   \n\n           7         8         9   ...        85        86        87  \\\n0   -0.031767 -0.019726  0.825150  ... -0.227350  1.493939 -0.111426   \n1   -0.031767 -0.019726  0.825150  ... -0.439078 -0.447834 -0.022587   \n2   -0.031767 -0.019726 -1.211901  ...  3.372038 -0.480197 -0.289103   \n3   -0.031767 -0.019726  0.825150  ... -0.439078 -0.447834 -0.022587   \n4   -0.031767 -0.019726  0.825150  ... -0.386146 -0.480197 -0.289103   \n..        ...       ...       ...  ...       ...       ...       ...   \n547 -0.031767 -0.019726 -1.211901  ... -0.439078 -0.480197 -0.289103   \n548 -0.031767 -0.019726  0.825150  ... -0.439078 -0.480197 -0.289103   \n549 -0.031767 -0.019726 -1.211901  ...  3.636698 -0.480197 -0.289103   \n550 -0.031767 -0.019726  0.825150  ... -0.386146 -0.480197 -0.289103   \n551 -0.031767 -0.019726  0.825150  ... -0.333214 -0.480197 -0.289103   \n\n           88        89        90        91        92        93        94  \n0   -0.639532 -0.624871 -0.387635 -0.376387  0.000000  3.088438  0.113477  \n1   -0.617049 -0.624871 -0.387635 -0.376387  4.124097  2.038764  0.756528  \n2   -0.639532 -0.624871  1.961037 -0.251175  0.000000  5.691982  0.304321  \n3   -0.639532 -0.624871 -0.387635 -0.376387  4.484724  1.946810  0.771582  \n4   -0.639532 -0.624871  1.765315  0.625309  0.000000  3.327319  0.102927  \n..        ...       ...       ...       ...       ...       ...       ...  \n547 -0.639532 -0.624871 -0.387635 -0.376387  4.475514  2.494858  0.685989  \n548 -0.639532 -0.624871 -0.387635 -0.376387  4.544272  2.197386  0.731250  \n549 -0.639532 -0.624871  2.026278 -0.376387  0.000000  4.806163  0.353027  \n550 -0.639532 -0.624871 -0.224532 -0.219872  4.171893  2.417590  0.697079  \n551  0.552062  0.519480 -0.355014 -0.345084  0.025543  2.796142  0.108683  \n\n[552 rows x 95 columns]",
      "text/html": "<div>\n<style scoped>\n    .dataframe tbody tr th:only-of-type {\n        vertical-align: middle;\n    }\n\n    .dataframe tbody tr th {\n        vertical-align: top;\n    }\n\n    .dataframe thead th {\n        text-align: right;\n    }\n</style>\n<table border=\"1\" class=\"dataframe\">\n  <thead>\n    <tr style=\"text-align: right;\">\n      <th></th>\n      <th>0</th>\n      <th>1</th>\n      <th>2</th>\n      <th>3</th>\n      <th>4</th>\n      <th>5</th>\n      <th>6</th>\n      <th>7</th>\n      <th>8</th>\n      <th>9</th>\n      <th>...</th>\n      <th>85</th>\n      <th>86</th>\n      <th>87</th>\n      <th>88</th>\n      <th>89</th>\n      <th>90</th>\n      <th>91</th>\n      <th>92</th>\n      <th>93</th>\n      <th>94</th>\n    </tr>\n  </thead>\n  <tbody>\n    <tr>\n      <th>0</th>\n      <td>-0.019113</td>\n      <td>-0.312889</td>\n      <td>-0.11205</td>\n      <td>-0.028606</td>\n      <td>-0.139982</td>\n      <td>-0.618438</td>\n      <td>-0.053906</td>\n      <td>-0.031767</td>\n      <td>-0.019726</td>\n      <td>0.825150</td>\n      <td>...</td>\n      <td>-0.227350</td>\n      <td>1.493939</td>\n      <td>-0.111426</td>\n      <td>-0.639532</td>\n      <td>-0.624871</td>\n      <td>-0.387635</td>\n      <td>-0.376387</td>\n      <td>0.000000</td>\n      <td>3.088438</td>\n      <td>0.113477</td>\n    </tr>\n    <tr>\n      <th>1</th>\n      <td>-0.019113</td>\n      <td>-0.312889</td>\n      <td>-0.11205</td>\n      <td>-0.028606</td>\n      <td>-0.139982</td>\n      <td>-0.618438</td>\n      <td>-0.053906</td>\n      <td>-0.031767</td>\n      <td>-0.019726</td>\n      <td>0.825150</td>\n      <td>...</td>\n      <td>-0.439078</td>\n      <td>-0.447834</td>\n      <td>-0.022587</td>\n      <td>-0.617049</td>\n      <td>-0.624871</td>\n      <td>-0.387635</td>\n      <td>-0.376387</td>\n      <td>4.124097</td>\n      <td>2.038764</td>\n      <td>0.756528</td>\n    </tr>\n    <tr>\n      <th>2</th>\n      <td>-0.019113</td>\n      <td>-0.312889</td>\n      <td>-0.11205</td>\n      <td>-0.028606</td>\n      <td>-0.139982</td>\n      <td>1.616978</td>\n      <td>-0.053906</td>\n      <td>-0.031767</td>\n      <td>-0.019726</td>\n      <td>-1.211901</td>\n      <td>...</td>\n      <td>3.372038</td>\n      <td>-0.480197</td>\n      <td>-0.289103</td>\n      <td>-0.639532</td>\n      <td>-0.624871</td>\n      <td>1.961037</td>\n      <td>-0.251175</td>\n      <td>0.000000</td>\n      <td>5.691982</td>\n      <td>0.304321</td>\n    </tr>\n    <tr>\n      <th>3</th>\n      <td>-0.019113</td>\n      <td>-0.312889</td>\n      <td>-0.11205</td>\n      <td>-0.028606</td>\n      <td>-0.139982</td>\n      <td>-0.618438</td>\n      <td>-0.053906</td>\n      <td>-0.031767</td>\n      <td>-0.019726</td>\n      <td>0.825150</td>\n      <td>...</td>\n      <td>-0.439078</td>\n      <td>-0.447834</td>\n      <td>-0.022587</td>\n      <td>-0.639532</td>\n      <td>-0.624871</td>\n      <td>-0.387635</td>\n      <td>-0.376387</td>\n      <td>4.484724</td>\n      <td>1.946810</td>\n      <td>0.771582</td>\n    </tr>\n    <tr>\n      <th>4</th>\n      <td>-0.019113</td>\n      <td>-0.312889</td>\n      <td>-0.11205</td>\n      <td>-0.028606</td>\n      <td>-0.139982</td>\n      <td>-0.618438</td>\n      <td>-0.053906</td>\n      <td>-0.031767</td>\n      <td>-0.019726</td>\n      <td>0.825150</td>\n      <td>...</td>\n      <td>-0.386146</td>\n      <td>-0.480197</td>\n      <td>-0.289103</td>\n      <td>-0.639532</td>\n      <td>-0.624871</td>\n      <td>1.765315</td>\n      <td>0.625309</td>\n      <td>0.000000</td>\n      <td>3.327319</td>\n      <td>0.102927</td>\n    </tr>\n    <tr>\n      <th>...</th>\n      <td>...</td>\n      <td>...</td>\n      <td>...</td>\n      <td>...</td>\n      <td>...</td>\n      <td>...</td>\n      <td>...</td>\n      <td>...</td>\n      <td>...</td>\n      <td>...</td>\n      <td>...</td>\n      <td>...</td>\n      <td>...</td>\n      <td>...</td>\n      <td>...</td>\n      <td>...</td>\n      <td>...</td>\n      <td>...</td>\n      <td>...</td>\n      <td>...</td>\n      <td>...</td>\n    </tr>\n    <tr>\n      <th>547</th>\n      <td>-0.019113</td>\n      <td>-0.312889</td>\n      <td>-0.11205</td>\n      <td>-0.028606</td>\n      <td>-0.139982</td>\n      <td>1.616978</td>\n      <td>-0.053906</td>\n      <td>-0.031767</td>\n      <td>-0.019726</td>\n      <td>-1.211901</td>\n      <td>...</td>\n      <td>-0.439078</td>\n      <td>-0.480197</td>\n      <td>-0.289103</td>\n      <td>-0.639532</td>\n      <td>-0.624871</td>\n      <td>-0.387635</td>\n      <td>-0.376387</td>\n      <td>4.475514</td>\n      <td>2.494858</td>\n      <td>0.685989</td>\n    </tr>\n    <tr>\n      <th>548</th>\n      <td>-0.019113</td>\n      <td>-0.312889</td>\n      <td>-0.11205</td>\n      <td>-0.028606</td>\n      <td>-0.139982</td>\n      <td>-0.618438</td>\n      <td>-0.053906</td>\n      <td>-0.031767</td>\n      <td>-0.019726</td>\n      <td>0.825150</td>\n      <td>...</td>\n      <td>-0.439078</td>\n      <td>-0.480197</td>\n      <td>-0.289103</td>\n      <td>-0.639532</td>\n      <td>-0.624871</td>\n      <td>-0.387635</td>\n      <td>-0.376387</td>\n      <td>4.544272</td>\n      <td>2.197386</td>\n      <td>0.731250</td>\n    </tr>\n    <tr>\n      <th>549</th>\n      <td>-0.019113</td>\n      <td>-0.312889</td>\n      <td>-0.11205</td>\n      <td>-0.028606</td>\n      <td>-0.139982</td>\n      <td>1.616978</td>\n      <td>-0.053906</td>\n      <td>-0.031767</td>\n      <td>-0.019726</td>\n      <td>-1.211901</td>\n      <td>...</td>\n      <td>3.636698</td>\n      <td>-0.480197</td>\n      <td>-0.289103</td>\n      <td>-0.639532</td>\n      <td>-0.624871</td>\n      <td>2.026278</td>\n      <td>-0.376387</td>\n      <td>0.000000</td>\n      <td>4.806163</td>\n      <td>0.353027</td>\n    </tr>\n    <tr>\n      <th>550</th>\n      <td>-0.019113</td>\n      <td>-0.312889</td>\n      <td>-0.11205</td>\n      <td>-0.028606</td>\n      <td>-0.139982</td>\n      <td>-0.618438</td>\n      <td>-0.053906</td>\n      <td>-0.031767</td>\n      <td>-0.019726</td>\n      <td>0.825150</td>\n      <td>...</td>\n      <td>-0.386146</td>\n      <td>-0.480197</td>\n      <td>-0.289103</td>\n      <td>-0.639532</td>\n      <td>-0.624871</td>\n      <td>-0.224532</td>\n      <td>-0.219872</td>\n      <td>4.171893</td>\n      <td>2.417590</td>\n      <td>0.697079</td>\n    </tr>\n    <tr>\n      <th>551</th>\n      <td>-0.019113</td>\n      <td>-0.312889</td>\n      <td>-0.11205</td>\n      <td>-0.028606</td>\n      <td>-0.139982</td>\n      <td>-0.618438</td>\n      <td>-0.053906</td>\n      <td>-0.031767</td>\n      <td>-0.019726</td>\n      <td>0.825150</td>\n      <td>...</td>\n      <td>-0.333214</td>\n      <td>-0.480197</td>\n      <td>-0.289103</td>\n      <td>0.552062</td>\n      <td>0.519480</td>\n      <td>-0.355014</td>\n      <td>-0.345084</td>\n      <td>0.025543</td>\n      <td>2.796142</td>\n      <td>0.108683</td>\n    </tr>\n  </tbody>\n</table>\n<p>552 rows × 95 columns</p>\n</div>"
     },
     "execution_count": 364,
     "metadata": {},
     "output_type": "execute_result"
    }
   ],
   "source": [
    "anomalous_test_data_with_Z_df"
   ],
   "metadata": {
    "collapsed": false,
    "pycharm": {
     "name": "#%%\n"
    }
   }
  },
  {
   "cell_type": "code",
   "execution_count": 365,
   "outputs": [],
   "source": [
    "def getFinalPredictions(first_predictions, second_predictions):\n",
    "    f_p_copy = first_predictions\n",
    "    s_p_copy = second_predictions\n",
    "    indices = s_p_copy.index[f_p_copy[\"predicted_as_anomaly\"] == True]\n",
    "    s_p_copy.index = indices\n",
    "    f_p_copy.loc[indices, \"predicted_as_anomaly\"] = s_p_copy[\"predicted_as_anomaly\"]\n",
    "    print_results(f_p_copy)"
   ],
   "metadata": {
    "collapsed": false,
    "pycharm": {
     "name": "#%%\n"
    }
   }
  },
  {
   "cell_type": "code",
   "execution_count": 366,
   "outputs": [
    {
     "name": "stdout",
     "output_type": "stream",
     "text": [
      "Finished building forest\n",
      "Finished calculating threshold\n"
     ]
    }
   ],
   "source": [
    "from turtleIsolationForests.extendedIsolationForest import ExtendedIsolationForest\n",
    "from turtleIsolationForests.printResults import print_results\n",
    "\n",
    "eif = ExtendedIsolationForest(contamination = contamination, random_state = None)\n",
    "eif.fit(train_data_with_Z_df, train_labels)"
   ],
   "metadata": {
    "collapsed": false
   }
  },
  {
   "cell_type": "code",
   "execution_count": 367,
   "outputs": [
    {
     "name": "stdout",
     "output_type": "stream",
     "text": [
      "2.55 s ± 231 ms per loop (mean ± std. dev. of 7 runs, 1 loop each)\n"
     ]
    }
   ],
   "source": [
    "%%timeit\n",
    "\n",
    "eif.predict(anomalous_test_data_with_Z_df)"
   ],
   "metadata": {
    "collapsed": false
   }
  },
  {
   "cell_type": "code",
   "execution_count": 368,
   "outputs": [
    {
     "ename": "IndexError",
     "evalue": "boolean index did not match indexed array along dimension 0; dimension is 552 but corresponding boolean dimension is 1000",
     "output_type": "error",
     "traceback": [
      "\u001B[0;31m---------------------------------------------------------------------------\u001B[0m",
      "\u001B[0;31mIndexError\u001B[0m                                Traceback (most recent call last)",
      "Cell \u001B[0;32mIn[368], line 5\u001B[0m\n\u001B[1;32m      2\u001B[0m eif_predictions[\u001B[38;5;124m'\u001B[39m\u001B[38;5;124mis_normal\u001B[39m\u001B[38;5;124m'\u001B[39m] \u001B[38;5;241m=\u001B[39m predicted_anomalous_labels\n\u001B[1;32m      4\u001B[0m \u001B[38;5;66;03m#print_results(eif_predictions)\u001B[39;00m\n\u001B[0;32m----> 5\u001B[0m \u001B[43mgetFinalPredictions\u001B[49m\u001B[43m(\u001B[49m\u001B[43mautoec_predictions\u001B[49m\u001B[43m,\u001B[49m\u001B[43m \u001B[49m\u001B[43meif_predictions\u001B[49m\u001B[43m)\u001B[49m\n",
      "Cell \u001B[0;32mIn[365], line 4\u001B[0m, in \u001B[0;36mgetFinalPredictions\u001B[0;34m(first_predictions, second_predictions)\u001B[0m\n\u001B[1;32m      2\u001B[0m f_p_copy \u001B[38;5;241m=\u001B[39m first_predictions\n\u001B[1;32m      3\u001B[0m s_p_copy \u001B[38;5;241m=\u001B[39m second_predictions\n\u001B[0;32m----> 4\u001B[0m indices \u001B[38;5;241m=\u001B[39m \u001B[43ms_p_copy\u001B[49m\u001B[38;5;241;43m.\u001B[39;49m\u001B[43mindex\u001B[49m\u001B[43m[\u001B[49m\u001B[43mf_p_copy\u001B[49m\u001B[43m[\u001B[49m\u001B[38;5;124;43m\"\u001B[39;49m\u001B[38;5;124;43mpredicted_as_anomaly\u001B[39;49m\u001B[38;5;124;43m\"\u001B[39;49m\u001B[43m]\u001B[49m\u001B[43m \u001B[49m\u001B[38;5;241;43m==\u001B[39;49m\u001B[43m \u001B[49m\u001B[38;5;28;43;01mTrue\u001B[39;49;00m\u001B[43m]\u001B[49m\n\u001B[1;32m      5\u001B[0m s_p_copy\u001B[38;5;241m.\u001B[39mindex \u001B[38;5;241m=\u001B[39m indices\n\u001B[1;32m      6\u001B[0m f_p_copy\u001B[38;5;241m.\u001B[39mloc[indices, \u001B[38;5;124m\"\u001B[39m\u001B[38;5;124mpredicted_as_anomaly\u001B[39m\u001B[38;5;124m\"\u001B[39m] \u001B[38;5;241m=\u001B[39m s_p_copy[\u001B[38;5;124m\"\u001B[39m\u001B[38;5;124mpredicted_as_anomaly\u001B[39m\u001B[38;5;124m\"\u001B[39m]\n",
      "File \u001B[0;32m~/Documents/GitHub/network-anomaly-detection/venv/lib/python3.8/site-packages/pandas/core/indexes/range.py:979\u001B[0m, in \u001B[0;36mRangeIndex.__getitem__\u001B[0;34m(self, key)\u001B[0m\n\u001B[1;32m    972\u001B[0m     \u001B[38;5;28;01mraise\u001B[39;00m \u001B[38;5;167;01mIndexError\u001B[39;00m(\n\u001B[1;32m    973\u001B[0m         \u001B[38;5;124m\"\u001B[39m\u001B[38;5;124monly integers, slices (`:`), \u001B[39m\u001B[38;5;124m\"\u001B[39m\n\u001B[1;32m    974\u001B[0m         \u001B[38;5;124m\"\u001B[39m\u001B[38;5;124mellipsis (`...`), numpy.newaxis (`None`) \u001B[39m\u001B[38;5;124m\"\u001B[39m\n\u001B[1;32m    975\u001B[0m         \u001B[38;5;124m\"\u001B[39m\u001B[38;5;124mand integer or boolean \u001B[39m\u001B[38;5;124m\"\u001B[39m\n\u001B[1;32m    976\u001B[0m         \u001B[38;5;124m\"\u001B[39m\u001B[38;5;124marrays are valid indices\u001B[39m\u001B[38;5;124m\"\u001B[39m\n\u001B[1;32m    977\u001B[0m     )\n\u001B[1;32m    978\u001B[0m \u001B[38;5;66;03m# fall back to Int64Index\u001B[39;00m\n\u001B[0;32m--> 979\u001B[0m \u001B[38;5;28;01mreturn\u001B[39;00m \u001B[38;5;28;43msuper\u001B[39;49m\u001B[43m(\u001B[49m\u001B[43m)\u001B[49m\u001B[38;5;241;43m.\u001B[39;49m\u001B[38;5;21;43m__getitem__\u001B[39;49m\u001B[43m(\u001B[49m\u001B[43mkey\u001B[49m\u001B[43m)\u001B[49m\n",
      "File \u001B[0;32m~/Documents/GitHub/network-anomaly-detection/venv/lib/python3.8/site-packages/pandas/core/indexes/base.py:5339\u001B[0m, in \u001B[0;36mIndex.__getitem__\u001B[0;34m(self, key)\u001B[0m\n\u001B[1;32m   5336\u001B[0m     \u001B[38;5;28;01melse\u001B[39;00m:\n\u001B[1;32m   5337\u001B[0m         key \u001B[38;5;241m=\u001B[39m np\u001B[38;5;241m.\u001B[39masarray(key, dtype\u001B[38;5;241m=\u001B[39m\u001B[38;5;28mbool\u001B[39m)\n\u001B[0;32m-> 5339\u001B[0m result \u001B[38;5;241m=\u001B[39m \u001B[43mgetitem\u001B[49m\u001B[43m(\u001B[49m\u001B[43mkey\u001B[49m\u001B[43m)\u001B[49m\n\u001B[1;32m   5340\u001B[0m \u001B[38;5;66;03m# Because we ruled out integer above, we always get an arraylike here\u001B[39;00m\n\u001B[1;32m   5341\u001B[0m \u001B[38;5;28;01mif\u001B[39;00m result\u001B[38;5;241m.\u001B[39mndim \u001B[38;5;241m>\u001B[39m \u001B[38;5;241m1\u001B[39m:\n",
      "\u001B[0;31mIndexError\u001B[0m: boolean index did not match indexed array along dimension 0; dimension is 552 but corresponding boolean dimension is 1000"
     ]
    }
   ],
   "source": [
    "eif_predictions = eif.predict(anomalous_test_data_with_Z_df)\n",
    "eif_predictions['is_normal'] = predicted_anomalous_labels\n",
    "\n",
    "#print_results(eif_predictions)\n",
    "getFinalPredictions(autoec_predictions, eif_predictions)"
   ],
   "metadata": {
    "collapsed": false
   }
  },
  {
   "cell_type": "code",
   "execution_count": 120,
   "outputs": [
    {
     "name": "stdout",
     "output_type": "stream",
     "text": [
      "Finished building forest\n",
      "Finished calculating threshold\n"
     ]
    }
   ],
   "source": [
    "from turtleIsolationForests.sciForest import SCIsolationForest\n",
    "\n",
    "scif = SCIsolationForest(contamination = contamination, num_hyperplanes_per_split=5, random_state = None)\n",
    "scif.fit(train_data_with_Z_df, train_labels)"
   ],
   "metadata": {
    "collapsed": false
   }
  },
  {
   "cell_type": "code",
   "execution_count": 121,
   "outputs": [
    {
     "name": "stdout",
     "output_type": "stream",
     "text": [
      "1min 39s ± 704 ms per loop (mean ± std. dev. of 7 runs, 1 loop each)\n"
     ]
    }
   ],
   "source": [
    "%%timeit\n",
    "\n",
    "scif.predict(anomalous_test_data_with_Z_df)"
   ],
   "metadata": {
    "collapsed": false
   }
  },
  {
   "cell_type": "code",
   "execution_count": 122,
   "outputs": [
    {
     "name": "stdout",
     "output_type": "stream",
     "text": [
      "true anomalies: 4721\n",
      "false anomalies: 2480\n",
      "false normals: 4858\n",
      "true normals: 2465\n",
      "precision: 0.6556033884182753\n",
      "recall: 0.4928489403904374\n",
      "f1-score: 0.5626936829558998\n"
     ]
    }
   ],
   "source": [
    "scif_predictions = scif.predict(anomalous_test_data_with_Z_df)\n",
    "scif_predictions['is_normal'] = predicted_anomalous_labels\n",
    "\n",
    "#print_results(scif_predictions)\n",
    "getFinalPredictions(autoec_predictions, scif_predictions)"
   ],
   "metadata": {
    "collapsed": false
   }
  },
  {
   "cell_type": "code",
   "execution_count": 123,
   "outputs": [
    {
     "name": "stdout",
     "output_type": "stream",
     "text": [
      "Finished building forest\n",
      "Finished calculating threshold\n"
     ]
    }
   ],
   "source": [
    "from turtleIsolationForests.isolationForest import IsolationForest\n",
    "\n",
    "isoforest = IsolationForest(contamination = contamination, random_state = None)\n",
    "isoforest.fit(train_data_with_Z_df, train_labels)"
   ],
   "metadata": {
    "collapsed": false
   }
  },
  {
   "cell_type": "code",
   "execution_count": 124,
   "outputs": [
    {
     "name": "stdout",
     "output_type": "stream",
     "text": [
      "27 s ± 590 ms per loop (mean ± std. dev. of 7 runs, 1 loop each)\n"
     ]
    }
   ],
   "source": [
    "%%timeit\n",
    "\n",
    "isoforest.predict(anomalous_test_data_with_Z_df)"
   ],
   "metadata": {
    "collapsed": false
   }
  },
  {
   "cell_type": "code",
   "execution_count": 125,
   "outputs": [
    {
     "name": "stdout",
     "output_type": "stream",
     "text": [
      "true anomalies: 4730\n",
      "false anomalies: 2503\n",
      "false normals: 4849\n",
      "true normals: 2442\n",
      "precision: 0.6539471865062906\n",
      "recall: 0.49378849566760624\n",
      "f1-score: 0.5626933142993099\n"
     ]
    }
   ],
   "source": [
    "isoforest_predictions = isoforest.predict(anomalous_test_data_with_Z_df)\n",
    "isoforest_predictions['is_normal'] = predicted_anomalous_labels\n",
    "\n",
    "#print_results(isoforest_predictions)\n",
    "getFinalPredictions(autoec_predictions, isoforest_predictions)"
   ],
   "metadata": {
    "collapsed": false
   }
  },
  {
   "cell_type": "code",
   "execution_count": 126,
   "outputs": [
    {
     "name": "stdout",
     "output_type": "stream",
     "text": [
      "Finished building forest\n",
      "Finished calculating threshold\n"
     ]
    }
   ],
   "source": [
    "from turtleIsolationForests.FBIF import FBIsolationForest\n",
    "\n",
    "fbif = FBIsolationForest(contamination = contamination, random_state = None)\n",
    "fbif.fit(train_data_with_Z_df, train_labels)"
   ],
   "metadata": {
    "collapsed": false
   }
  },
  {
   "cell_type": "code",
   "execution_count": 127,
   "outputs": [
    {
     "name": "stdout",
     "output_type": "stream",
     "text": [
      "2min 42s ± 1.53 s per loop (mean ± std. dev. of 7 runs, 1 loop each)\n"
     ]
    }
   ],
   "source": [
    "%%timeit\n",
    "\n",
    "fbif.predict(anomalous_test_data_with_Z_df)"
   ],
   "metadata": {
    "collapsed": false
   }
  },
  {
   "cell_type": "code",
   "execution_count": 128,
   "outputs": [
    {
     "name": "stdout",
     "output_type": "stream",
     "text": [
      "true anomalies: 4758\n",
      "false anomalies: 2499\n",
      "false normals: 4821\n",
      "true normals: 2446\n",
      "precision: 0.6556428276147168\n",
      "recall: 0.49671155652990917\n",
      "f1-score: 0.5652173913043478\n"
     ]
    }
   ],
   "source": [
    "fbif_predictions = fbif.predict(anomalous_test_data_with_Z_df)\n",
    "fbif_predictions['is_normal'] = predicted_anomalous_labels\n",
    "\n",
    "#print_results(fbif_predictions)\n",
    "getFinalPredictions(autoec_predictions, fbif_predictions)"
   ],
   "metadata": {
    "collapsed": false,
    "pycharm": {
     "name": "#%%\n"
    }
   }
  }
 ],
 "metadata": {
  "kernelspec": {
   "display_name": "Python 3",
   "language": "python",
   "name": "python3"
  },
  "language_info": {
   "codemirror_mode": {
    "name": "ipython",
    "version": 2
   },
   "file_extension": ".py",
   "mimetype": "text/x-python",
   "name": "python",
   "nbconvert_exporter": "python",
   "pygments_lexer": "ipython2",
   "version": "2.7.6"
  }
 },
 "nbformat": 4,
 "nbformat_minor": 0
}