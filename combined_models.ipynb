{
 "cells": [
  {
   "cell_type": "code",
   "execution_count": 1,
   "metadata": {
    "collapsed": true,
    "pycharm": {
     "name": "#%%\n"
    }
   },
   "outputs": [],
   "source": [
    "import tensorflow as tf\n",
    "\n",
    "# implementation of PA % K: https://github.com/tuslkkk/tadpak\n",
    "\n",
    "aecModel = None\n",
    "eifModel = None\n",
    "\n",
    "def autoencoderPredict(data, threshold):\n",
    "  reconstructions = aecModel(data)\n",
    "  loss = tf.keras.losses.mae(reconstructions, data)\n",
    "  return tf.math.less(loss, threshold), loss\n",
    "\n",
    "def eifPredict(data, aecLoss):\n",
    "    data.append(aecLoss)\n",
    "    return eifModel.predict(data)\n",
    "\n",
    "def isAnomaly(data):\n",
    "    threshold = None\n",
    "    # need autoencoder to return boolean isAnomaly and list of features\n",
    "    isAnomaly, aecFeatures = autoencoderPredict(data, threshold)\n",
    "\n",
    "    if not isAnomaly:\n",
    "        return False\n",
    "\n",
    "    else:\n",
    "        return eifPredict(data, aecFeatures)\n"
   ]
  },
  {
   "cell_type": "code",
   "execution_count": 2,
   "outputs": [],
   "source": [
    "\"\"\"\n",
    "Questions:\n",
    "How do we obtain \"windows\" from our datasets?\n",
    "What should k be for our data? Look at paper\n",
    "How do we obtain our threshold? It would be a line between the average True point and average False point\n",
    "\"\"\"\n",
    "\n",
    "def pak(anomaly_segment_list, ground_truth, threshold,  k):\n",
    "    allAboveThreshold = True\n",
    "\n",
    "    for item in anomaly_segment_list:\n",
    "        if item <= threshold:\n",
    "            allAboveThreshold = False\n",
    "\n",
    "    if allAboveThreshold:\n",
    "        return True\n",
    "\n",
    "    numCorrectlyDetected = 0\n",
    "\n",
    "    for i in range(len(anomaly_segment_list)):\n",
    "        if anomaly_segment_list[i] == ground_truth[i]:\n",
    "            numCorrectlyDetected += 1\n",
    "\n",
    "    return numCorrectlyDetected / len(anomaly_segment_list) > k"
   ],
   "metadata": {
    "collapsed": false,
    "pycharm": {
     "name": "#%%\n"
    }
   }
  },
  {
   "cell_type": "code",
   "execution_count": null,
   "outputs": [],
   "source": [],
   "metadata": {
    "collapsed": false,
    "pycharm": {
     "name": "#%%\n"
    }
   }
  }
 ],
 "metadata": {
  "kernelspec": {
   "display_name": "Python 3",
   "language": "python",
   "name": "python3"
  },
  "language_info": {
   "codemirror_mode": {
    "name": "ipython",
    "version": 2
   },
   "file_extension": ".py",
   "mimetype": "text/x-python",
   "name": "python",
   "nbconvert_exporter": "python",
   "pygments_lexer": "ipython2",
   "version": "2.7.6"
  }
 },
 "nbformat": 4,
 "nbformat_minor": 0
}