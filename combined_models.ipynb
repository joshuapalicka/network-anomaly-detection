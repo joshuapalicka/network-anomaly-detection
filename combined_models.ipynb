{
 "cells": [
  {
   "cell_type": "code",
   "execution_count": 3,
   "metadata": {
    "collapsed": false,
    "pycharm": {
     "name": "#%%\n"
    }
   },
   "outputs": [],
   "source": [
    "import matplotlib.pyplot as plt\n",
    "import numpy as np\n",
    "import pandas as pd\n",
    "import tensorflow as tf\n",
    "\n",
    "from sklearn.metrics import accuracy_score, precision_score, recall_score, f1_score, roc_auc_score\n",
    "from sklearn.model_selection import train_test_split\n"
   ]
  },
  {
   "cell_type": "code",
   "execution_count": 4,
   "metadata": {
    "collapsed": false,
    "pycharm": {
     "name": "#%%\n"
    }
   },
   "outputs": [],
   "source": [
    "import autoencoder.aecExtraFeatures as Z_calculations\n",
    "\n",
    "\n",
    "def addZToPrediction(model, data_point):\n",
    "    encoded = model.encoder(data_point)\n",
    "    reconstruction = model.decoder(encoded)\n",
    "\n",
    "    Z_features = [Z_calculations.getZVector(\n",
    "        data_point, reconstruction, encoded)]\n",
    "\n",
    "    Z_features_tensor = tf.convert_to_tensor(Z_features, dtype=tf.float32)\n",
    "    data_point = tf.convert_to_tensor(data_point, dtype=tf.float32)\n",
    "\n",
    "    data_point = tf.concat([data_point, Z_features_tensor], 1)\n",
    "\n",
    "    return data_point\n"
   ]
  },
  {
   "cell_type": "code",
   "execution_count": 5,
   "metadata": {
    "collapsed": false,
    "pycharm": {
     "name": "#%%\n"
    }
   },
   "outputs": [],
   "source": [
    "def isAnomaly(data_point, model_1, model_2, threshold):\n",
    "\n",
    "    # need autoencoder to return boolean isAnomaly\n",
    "    isAnomaly = tf.math.less(tf.keras.losses.mae(\n",
    "        model_1(data_point), data_point), threshold)\n",
    "\n",
    "    # if the autoencoder doesn't find anything out of the ordinary, return False\n",
    "    if not isAnomaly:\n",
    "        return False\n",
    "\n",
    "    data_point = addZToPrediction(model_1, data_point)\n",
    "\n",
    "    # if the autoencoder sees something weird, run it through the isolation forest to make sure\n",
    "    return model_2.predict(data_point)\n"
   ]
  },
  {
   "cell_type": "code",
   "execution_count": 6,
   "metadata": {
    "collapsed": false,
    "pycharm": {
     "name": "#%%\n"
    }
   },
   "outputs": [],
   "source": [
    "from turtleIsolationForests.preprocessFeatures import preprocess_features\n",
    "from turtleIsolationForests.preprocessFeatures import preprocess_features_autoEncoder\n",
    "\n",
    "train_dataframe_autoencoder = pd.read_csv(\n",
    "    \"eda_simple_classification/network_data_mod_train.csv\", index_col=0)\n",
    "test_dataframe_autoencoder = pd.read_csv(\n",
    "    \"eda_simple_classification/network_data_mod_test.csv\", index_col=0)\n",
    "\n",
    "train_dataframe_Trees = train_dataframe_autoencoder.copy(deep=True)\n",
    "test_dataframe_Trees= test_dataframe_autoencoder.copy(deep=True)\n",
    "\n",
    "train_data, test_data, train_labels, test_labels = preprocess_features_autoEncoder(\n",
    "    train_dataframe_autoencoder, test_dataframe_autoencoder)\n"
   ]
  },
  {
   "cell_type": "code",
   "execution_count": 7,
   "metadata": {},
   "outputs": [
    {
     "data": {
      "text/plain": [
       "array([False, False,  True, ..., False,  True, False])"
      ]
     },
     "execution_count": 7,
     "metadata": {},
     "output_type": "execute_result"
    }
   ],
   "source": [
    "# this point 0 is normal and 1 is abnormal\n",
    "# first four should be False, False, True, False\n",
    "train_labels\n"
   ]
  },
  {
   "cell_type": "code",
   "execution_count": 8,
   "metadata": {},
   "outputs": [],
   "source": [
    "auto_train_labels = ~train_labels\n",
    "auto_test_labels = ~test_labels\n"
   ]
  },
  {
   "cell_type": "code",
   "execution_count": 9,
   "metadata": {
    "collapsed": false,
    "pycharm": {
     "name": "#%%\n"
    }
   },
   "outputs": [],
   "source": [
    "\n",
    "\n",
    "normal_train_data = train_data[auto_train_labels]\n",
    "normal_test_data = test_data[auto_test_labels]\n",
    "\n",
    "anomalous_train_data = train_data[~auto_train_labels]\n",
    "anomalous_test_data = test_data[~auto_test_labels]\n"
   ]
  },
  {
   "cell_type": "code",
   "execution_count": 10,
   "metadata": {
    "collapsed": false,
    "pycharm": {
     "name": "#%%\n"
    }
   },
   "outputs": [],
   "source": [
    "from autoencoder.autoencoder import AnomalyDetector\n",
    "autoencoder = AnomalyDetector(46)\n"
   ]
  },
  {
   "cell_type": "code",
   "execution_count": 11,
   "metadata": {
    "collapsed": false,
    "pycharm": {
     "name": "#%%\n"
    }
   },
   "outputs": [],
   "source": [
    "autoencoder.compile(optimizer='adam', loss='mae')\n"
   ]
  },
  {
   "cell_type": "code",
   "execution_count": 12,
   "metadata": {},
   "outputs": [
    {
     "data": {
      "text/plain": [
       "TensorShape([67343, 46])"
      ]
     },
     "execution_count": 12,
     "metadata": {},
     "output_type": "execute_result"
    }
   ],
   "source": [
    "normal_train_data.shape\n"
   ]
  },
  {
   "cell_type": "code",
   "execution_count": 13,
   "metadata": {
    "collapsed": false,
    "pycharm": {
     "name": "#%%\n"
    }
   },
   "outputs": [
    {
     "name": "stdout",
     "output_type": "stream",
     "text": [
      "Epoch 1/10\n",
      "WARNING:tensorflow:From c:\\Users\\alexa\\AppData\\Local\\Programs\\Python\\Python310\\lib\\site-packages\\tensorflow\\python\\autograph\\pyct\\static_analysis\\liveness.py:83: Analyzer.lamba_check (from tensorflow.python.autograph.pyct.static_analysis.liveness) is deprecated and will be removed after 2023-09-23.\n",
      "Instructions for updating:\n",
      "Lambda fuctions will be no more assumed to be used in the statement where they are used, or at least in the same block. https://github.com/tensorflow/tensorflow/issues/56089\n",
      "2105/2105 [==============================] - 5s 2ms/step - loss: 0.0181 - val_loss: 7.6773e-04\n",
      "Epoch 2/10\n",
      "2105/2105 [==============================] - 3s 2ms/step - loss: 6.4050e-04 - val_loss: 6.9220e-04\n",
      "Epoch 3/10\n",
      "2105/2105 [==============================] - 3s 2ms/step - loss: 3.5653e-04 - val_loss: 5.2279e-04\n",
      "Epoch 4/10\n",
      "2105/2105 [==============================] - 3s 2ms/step - loss: 2.2310e-04 - val_loss: 3.9763e-04\n",
      "Epoch 5/10\n",
      "2105/2105 [==============================] - 3s 2ms/step - loss: 2.0063e-04 - val_loss: 3.8576e-04\n",
      "Epoch 6/10\n",
      "2105/2105 [==============================] - 3s 2ms/step - loss: 1.9006e-04 - val_loss: 3.7339e-04\n",
      "Epoch 7/10\n",
      "2105/2105 [==============================] - 3s 2ms/step - loss: 1.7941e-04 - val_loss: 3.5897e-04\n",
      "Epoch 8/10\n",
      "2105/2105 [==============================] - 3s 2ms/step - loss: 1.7321e-04 - val_loss: 3.7475e-04\n",
      "Epoch 9/10\n",
      "2105/2105 [==============================] - 3s 2ms/step - loss: 1.7132e-04 - val_loss: 3.4659e-04\n",
      "Epoch 10/10\n",
      "2105/2105 [==============================] - 3s 2ms/step - loss: 1.6780e-04 - val_loss: 3.4523e-04\n"
     ]
    }
   ],
   "source": [
    "history = autoencoder.fit(normal_train_data, normal_train_data,\n",
    "                          epochs=10,\n",
    "                          validation_data=(test_data, test_data),\n",
    "                          shuffle=True)\n"
   ]
  },
  {
   "cell_type": "code",
   "execution_count": 14,
   "metadata": {
    "collapsed": false,
    "pycharm": {
     "name": "#%%\n"
    }
   },
   "outputs": [
    {
     "data": {
      "image/png": "[encoded data removed]",
      "text/plain": [
       "<Figure size 640x480 with 1 Axes>"
      ]
     },
     "metadata": {},
     "output_type": "display_data"
    }
   ],
   "source": [
    "plt.plot(history.history[\"loss\"])\n",
    "plt.plot(history.history[\"val_loss\"])\n",
    "plt.title(\"Training Loss & Validation Loss over epochs\")\n",
    "plt.xlabel(\"Epochs\")\n",
    "plt.ylabel(\"Loss\")\n",
    "# plt.ylim([0,.0008])\n",
    "plt.legend([\"Loss\", \"Validation Loss\"])\n",
    "plt.show()\n"
   ]
  },
  {
   "cell_type": "code",
   "execution_count": 15,
   "metadata": {
    "collapsed": false,
    "pycharm": {
     "name": "#%%\n"
    }
   },
   "outputs": [
    {
     "name": "stdout",
     "output_type": "stream",
     "text": [
      "2105/2105 [==============================] - 2s 895us/step\n",
      "Threshold:  0.0005159474200529528\n"
     ]
    }
   ],
   "source": [
    "reconstructions = autoencoder.predict(normal_train_data)\n",
    "train_loss = tf.keras.losses.mae(reconstructions, normal_train_data)\n",
    "threshold = np.mean(train_loss) + np.std(train_loss)\n",
    "print(\"Threshold: \", threshold)\n"
   ]
  },
  {
   "cell_type": "code",
   "execution_count": 16,
   "metadata": {
    "collapsed": false,
    "pycharm": {
     "name": "#%%\n"
    }
   },
   "outputs": [],
   "source": [
    "import time\n",
    "\n",
    "\n",
    "def predict(model, data, threshold):\n",
    "    # start = time.time_ns()\n",
    "    reconstructions = model(data)\n",
    "    # end = time.time_ns()\n",
    "    # print(\"Time taken\", end-start, \"ns\")\n",
    "\n",
    "    # 0 = anomaly (same as data)\n",
    "    loss = tf.keras.losses.mae(data, reconstructions)\n",
    "    return tf.math.less(loss, threshold)\n",
    "\n",
    "\n",
    "def getLoss(model, data):\n",
    "    reconstructions = model(data)\n",
    "    # 0 = anomaly (same as data)\n",
    "    loss = tf.keras.losses.mae(data, reconstructions)\n",
    "    return loss\n",
    "\n",
    "\n",
    "def print_stats(predictions, labels):\n",
    "    print(\"Accuracy = {}\".format(accuracy_score(labels, predictions)))\n",
    "    print(\"Precision = {}\".format(precision_score(labels, predictions)))\n",
    "    print(\"Recall = {}\".format(recall_score(labels, predictions)))\n",
    "    print(\"F1 = {}\".format(f1_score(labels, predictions)))\n",
    "    print(\"roc_auc = {}\".format(roc_auc_score(labels, predictions)))\n"
   ]
  },
  {
   "cell_type": "code",
   "execution_count": 17,
   "metadata": {},
   "outputs": [
    {
     "name": "stderr",
     "output_type": "stream",
     "text": [
      "UsageError: Line magic function `%` not found.\n"
     ]
    }
   ],
   "source": [
    "% % timeit\n",
    "% % capture\n",
    "\n",
    "predict(autoencoder, test_data, threshold)\n"
   ]
  },
  {
   "cell_type": "code",
   "execution_count": 18,
   "metadata": {
    "collapsed": false,
    "pycharm": {
     "name": "#%%\n"
    }
   },
   "outputs": [],
   "source": [
    "%%capture\n",
    "\n",
    "test_predictions = predict(autoencoder, test_data, threshold)\n"
   ]
  },
  {
   "cell_type": "code",
   "execution_count": 19,
   "metadata": {
    "collapsed": false,
    "pycharm": {
     "name": "#%%\n"
    }
   },
   "outputs": [
    {
     "name": "stdout",
     "output_type": "stream",
     "text": [
      "Accuracy = 0.4302253371185238\n",
      "Precision = 0.4996567112941984\n",
      "Recall = 0.6805111821086262\n",
      "F1 = 0.5762264524430074\n",
      "roc_auc = 0.3899930022375074\n"
     ]
    }
   ],
   "source": [
    "print_stats(test_predictions, test_labels)\n"
   ]
  },
  {
   "cell_type": "code",
   "execution_count": 20,
   "metadata": {
    "collapsed": false,
    "pycharm": {
     "name": "#%%\n"
    }
   },
   "outputs": [
    {
     "name": "stdout",
     "output_type": "stream",
     "text": [
      "[[ 966 8745]\n",
      " [4100 8733]]\n"
     ]
    }
   ],
   "source": [
    "from sklearn.metrics import confusion_matrix\n",
    "\n",
    "print(confusion_matrix(test_labels, test_predictions))\n"
   ]
  },
  {
   "cell_type": "code",
   "execution_count": 21,
   "metadata": {},
   "outputs": [
    {
     "name": "stdout",
     "output_type": "stream",
     "text": [
      "true anomalies: 8733\n",
      "false anomalies: 8745\n",
      "false normals: 4100\n",
      "true normals: 966\n",
      "precision: 0.4996567112941984\n",
      "recall: 0.6805111821086262\n",
      "f1-score: 0.5762264524430074\n",
      "auroc: 0.6100069977624927\n"
     ]
    }
   ],
   "source": [
    "\n",
    "from pandas import DataFrame\n",
    "from turtleIsolationForests.printResults import print_results\n",
    "from turtleIsolationForests.printResults import get_auroc_value\n",
    "\n",
    "test_predictions_np = test_predictions.numpy()\n",
    "\n",
    "autoec_predictions = DataFrame()\n",
    "\n",
    "# 0: anomalous, 1: normal\n",
    "autoec_predictions['predicted_as_anomaly'] = ~test_predictions_np\n",
    "autoec_predictions['is_anomalous'] = auto_test_labels  # 0: normal, 1: anomalous\n",
    "autoec_predictions['anomaly_scores'] = getLoss(autoencoder, test_data)\n",
    "\n",
    "print_results(test_predictions_np, test_labels)\n",
    "print(\"auroc: \" + str(get_auroc_value(test_predictions_np, auto_test_labels)))\n"
   ]
  },
  {
   "cell_type": "code",
   "execution_count": 22,
   "metadata": {},
   "outputs": [
    {
     "data": {
      "text/plain": [
       "array([False,  True,  True, ...,  True,  True,  True])"
      ]
     },
     "execution_count": 22,
     "metadata": {},
     "output_type": "execute_result"
    }
   ],
   "source": [
    "# 1: normal, 0: anomalous\n",
    "test_predictions_np"
   ]
  },
  {
   "cell_type": "code",
   "execution_count": 23,
   "metadata": {},
   "outputs": [
    {
     "data": {
      "text/plain": [
       "array([ True,  True, False, ...,  True, False,  True])"
      ]
     },
     "execution_count": 23,
     "metadata": {},
     "output_type": "execute_result"
    }
   ],
   "source": [
    "# 1: normal, 0: anomalous\n",
    "test_labels"
   ]
  },
  {
   "cell_type": "code",
   "execution_count": 24,
   "metadata": {},
   "outputs": [],
   "source": [
    "train_data, test_data, train_labels, test_labels = preprocess_features(train_dataframe_Trees, test_dataframe_Trees)"
   ]
  },
  {
   "cell_type": "code",
   "execution_count": 25,
   "metadata": {},
   "outputs": [],
   "source": [
    "np_train_labels = train_labels.to_numpy()\n",
    "np_test_labels = test_labels.to_numpy()\n",
    "\n",
    "np_train_data = train_data.to_numpy()\n",
    "np_test_data = test_data.to_numpy()\n",
    "\n",
    "np_train_data = tf.cast(np_train_data, tf.float32)\n",
    "np_test_data = tf.cast(np_test_data, tf.float32)"
   ]
  },
  {
   "cell_type": "code",
   "execution_count": 26,
   "metadata": {},
   "outputs": [],
   "source": [
    "np_train_labels = np_train_labels.astype(bool)\n",
    "np_test_labels = np_test_labels.astype(bool)\n",
    "\n",
    "normal_train_data = np_train_data[np_train_labels]\n",
    "normal_test_data = np_test_data[np_test_labels]\n",
    "\n",
    "anomalous_train_data = np_train_data[~np_train_labels]\n",
    "anomalous_test_data = np_test_data[~np_test_labels]"
   ]
  },
  {
   "cell_type": "code",
   "execution_count": 27,
   "metadata": {
    "collapsed": false,
    "pycharm": {
     "name": "#%%\n"
    }
   },
   "outputs": [],
   "source": [
    "def addZToData(data, model):\n",
    "    data_with_Z = []\n",
    "    for i in range(1, len(data)+1):\n",
    "        data_with_Z.append(addZToPrediction(model, data[i-1:i]))\n",
    "\n",
    "    data_with_Z_rf = []\n",
    "    for i in range(len(data_with_Z)):\n",
    "        data_with_Z_rf.append(\n",
    "            np_train_data[:][:][i].numpy().reshape(1, 46).squeeze())\n",
    "\n",
    "    return pd.DataFrame(data_with_Z_rf)\n"
   ]
  },
  {
   "cell_type": "code",
   "execution_count": 28,
   "metadata": {
    "collapsed": false,
    "pycharm": {
     "name": "#%%\n"
    }
   },
   "outputs": [
    {
     "name": "stderr",
     "output_type": "stream",
     "text": [
      "c:\\Users\\alexa\\OneDrive\\Documents\\GitHub\\network-anomaly-detection\\autoencoder\\aecExtraFeatures.py:11: RuntimeWarning: invalid value encountered in float_scalars\n",
      "  return dot(orig_sample[0], reconstr_sample[0]) / (norm(orig_sample[0]) * norm(reconstr_sample[0]))\n",
      "c:\\Users\\alexa\\OneDrive\\Documents\\GitHub\\network-anomaly-detection\\autoencoder\\aecExtraFeatures.py:11: RuntimeWarning: divide by zero encountered in float_scalars\n",
      "  return dot(orig_sample[0], reconstr_sample[0]) / (norm(orig_sample[0]) * norm(reconstr_sample[0]))\n"
     ]
    }
   ],
   "source": [
    "train_data_with_Z_df = addZToData(np_train_data, autoencoder)\n",
    "\n",
    "# anomalous_test_data_with_Z_df = addZToData(predicted_anomalous, autoencoder)\n"
   ]
  },
  {
   "cell_type": "code",
   "execution_count": 29,
   "metadata": {},
   "outputs": [],
   "source": [
    "# train_data_with_Z_df\n"
   ]
  },
  {
   "cell_type": "code",
   "execution_count": 30,
   "metadata": {},
   "outputs": [],
   "source": [
    "np_test_labels = np.array(np_test_labels)\n"
   ]
  },
  {
   "cell_type": "code",
   "execution_count": 31,
   "metadata": {},
   "outputs": [],
   "source": [
    "#np_test_labels = ~np_test_labels"
   ]
  },
  {
   "cell_type": "code",
   "execution_count": 32,
   "metadata": {},
   "outputs": [],
   "source": [
    "#Should be anomley is true so opisite of aoutencoder\n",
    "predicted_anomalous = np_test_data[~test_predictions.numpy()]\n"
   ]
  },
  {
   "cell_type": "code",
   "execution_count": 33,
   "metadata": {},
   "outputs": [
    {
     "data": {
      "text/html": [
       "<div>\n",
       "<style scoped>\n",
       "    .dataframe tbody tr th:only-of-type {\n",
       "        vertical-align: middle;\n",
       "    }\n",
       "\n",
       "    .dataframe tbody tr th {\n",
       "        vertical-align: top;\n",
       "    }\n",
       "\n",
       "    .dataframe thead th {\n",
       "        text-align: right;\n",
       "    }\n",
       "</style>\n",
       "<table border=\"1\" class=\"dataframe\">\n",
       "  <thead>\n",
       "    <tr style=\"text-align: right;\">\n",
       "      <th></th>\n",
       "      <th>0</th>\n",
       "      <th>1</th>\n",
       "      <th>2</th>\n",
       "      <th>3</th>\n",
       "      <th>4</th>\n",
       "      <th>5</th>\n",
       "      <th>6</th>\n",
       "      <th>7</th>\n",
       "      <th>8</th>\n",
       "      <th>9</th>\n",
       "      <th>...</th>\n",
       "      <th>36</th>\n",
       "      <th>37</th>\n",
       "      <th>38</th>\n",
       "      <th>39</th>\n",
       "      <th>40</th>\n",
       "      <th>41</th>\n",
       "      <th>42</th>\n",
       "      <th>43</th>\n",
       "      <th>44</th>\n",
       "      <th>45</th>\n",
       "    </tr>\n",
       "  </thead>\n",
       "  <tbody>\n",
       "    <tr>\n",
       "      <th>0</th>\n",
       "      <td>-0.019113</td>\n",
       "      <td>-0.312889</td>\n",
       "      <td>-0.11205</td>\n",
       "      <td>-0.028606</td>\n",
       "      <td>-0.139982</td>\n",
       "      <td>-0.618438</td>\n",
       "      <td>-0.053906</td>\n",
       "      <td>-0.031767</td>\n",
       "      <td>-0.019726</td>\n",
       "      <td>0.825150</td>\n",
       "      <td>...</td>\n",
       "      <td>-0.324063</td>\n",
       "      <td>-0.818890</td>\n",
       "      <td>-0.782367</td>\n",
       "      <td>-0.280282</td>\n",
       "      <td>0.069972</td>\n",
       "      <td>-0.289103</td>\n",
       "      <td>-0.639532</td>\n",
       "      <td>-0.624871</td>\n",
       "      <td>-0.224532</td>\n",
       "      <td>-0.376387</td>\n",
       "    </tr>\n",
       "    <tr>\n",
       "      <th>1</th>\n",
       "      <td>-0.019113</td>\n",
       "      <td>-0.312889</td>\n",
       "      <td>-0.11205</td>\n",
       "      <td>-0.028606</td>\n",
       "      <td>-0.139982</td>\n",
       "      <td>-0.618438</td>\n",
       "      <td>-0.053906</td>\n",
       "      <td>-0.031767</td>\n",
       "      <td>-0.019726</td>\n",
       "      <td>0.825150</td>\n",
       "      <td>...</td>\n",
       "      <td>0.734343</td>\n",
       "      <td>-1.035688</td>\n",
       "      <td>-1.161030</td>\n",
       "      <td>2.736852</td>\n",
       "      <td>2.367737</td>\n",
       "      <td>-0.289103</td>\n",
       "      <td>-0.639532</td>\n",
       "      <td>-0.624871</td>\n",
       "      <td>-0.387635</td>\n",
       "      <td>-0.376387</td>\n",
       "    </tr>\n",
       "    <tr>\n",
       "      <th>2</th>\n",
       "      <td>-0.019113</td>\n",
       "      <td>-0.312889</td>\n",
       "      <td>-0.11205</td>\n",
       "      <td>-0.028606</td>\n",
       "      <td>-0.139982</td>\n",
       "      <td>1.616978</td>\n",
       "      <td>-0.053906</td>\n",
       "      <td>-0.031767</td>\n",
       "      <td>-0.019726</td>\n",
       "      <td>-1.211901</td>\n",
       "      <td>...</td>\n",
       "      <td>0.734343</td>\n",
       "      <td>-0.809857</td>\n",
       "      <td>-0.938287</td>\n",
       "      <td>-0.174417</td>\n",
       "      <td>-0.480197</td>\n",
       "      <td>-0.289103</td>\n",
       "      <td>1.608759</td>\n",
       "      <td>1.618955</td>\n",
       "      <td>-0.387635</td>\n",
       "      <td>-0.376387</td>\n",
       "    </tr>\n",
       "    <tr>\n",
       "      <th>3</th>\n",
       "      <td>-0.019113</td>\n",
       "      <td>-0.312889</td>\n",
       "      <td>-0.11205</td>\n",
       "      <td>-0.028606</td>\n",
       "      <td>-0.139982</td>\n",
       "      <td>-0.618438</td>\n",
       "      <td>-0.053906</td>\n",
       "      <td>-0.031767</td>\n",
       "      <td>-0.019726</td>\n",
       "      <td>0.825150</td>\n",
       "      <td>...</td>\n",
       "      <td>-1.533670</td>\n",
       "      <td>1.258754</td>\n",
       "      <td>1.066401</td>\n",
       "      <td>-0.439078</td>\n",
       "      <td>-0.383108</td>\n",
       "      <td>0.066252</td>\n",
       "      <td>-0.572083</td>\n",
       "      <td>-0.602433</td>\n",
       "      <td>-0.387635</td>\n",
       "      <td>-0.345084</td>\n",
       "    </tr>\n",
       "    <tr>\n",
       "      <th>4</th>\n",
       "      <td>-0.019113</td>\n",
       "      <td>-0.312889</td>\n",
       "      <td>-0.11205</td>\n",
       "      <td>-0.028606</td>\n",
       "      <td>-0.139982</td>\n",
       "      <td>-0.618438</td>\n",
       "      <td>-0.053906</td>\n",
       "      <td>-0.031767</td>\n",
       "      <td>-0.019726</td>\n",
       "      <td>0.825150</td>\n",
       "      <td>...</td>\n",
       "      <td>0.734343</td>\n",
       "      <td>1.258754</td>\n",
       "      <td>1.066401</td>\n",
       "      <td>-0.439078</td>\n",
       "      <td>-0.480197</td>\n",
       "      <td>-0.289103</td>\n",
       "      <td>-0.639532</td>\n",
       "      <td>-0.624871</td>\n",
       "      <td>-0.387635</td>\n",
       "      <td>-0.376387</td>\n",
       "    </tr>\n",
       "    <tr>\n",
       "      <th>...</th>\n",
       "      <td>...</td>\n",
       "      <td>...</td>\n",
       "      <td>...</td>\n",
       "      <td>...</td>\n",
       "      <td>...</td>\n",
       "      <td>...</td>\n",
       "      <td>...</td>\n",
       "      <td>...</td>\n",
       "      <td>...</td>\n",
       "      <td>...</td>\n",
       "      <td>...</td>\n",
       "      <td>...</td>\n",
       "      <td>...</td>\n",
       "      <td>...</td>\n",
       "      <td>...</td>\n",
       "      <td>...</td>\n",
       "      <td>...</td>\n",
       "      <td>...</td>\n",
       "      <td>...</td>\n",
       "      <td>...</td>\n",
       "      <td>...</td>\n",
       "    </tr>\n",
       "    <tr>\n",
       "      <th>125968</th>\n",
       "      <td>-0.019113</td>\n",
       "      <td>-0.312889</td>\n",
       "      <td>-0.11205</td>\n",
       "      <td>-0.028606</td>\n",
       "      <td>-0.139982</td>\n",
       "      <td>1.616978</td>\n",
       "      <td>-0.053906</td>\n",
       "      <td>-0.031767</td>\n",
       "      <td>-0.019726</td>\n",
       "      <td>-1.211901</td>\n",
       "      <td>...</td>\n",
       "      <td>0.734343</td>\n",
       "      <td>-0.818890</td>\n",
       "      <td>-0.938287</td>\n",
       "      <td>-0.121485</td>\n",
       "      <td>-0.480197</td>\n",
       "      <td>-0.289103</td>\n",
       "      <td>1.608759</td>\n",
       "      <td>1.618955</td>\n",
       "      <td>-0.387635</td>\n",
       "      <td>-0.376387</td>\n",
       "    </tr>\n",
       "    <tr>\n",
       "      <th>125969</th>\n",
       "      <td>-0.019113</td>\n",
       "      <td>-0.312889</td>\n",
       "      <td>-0.11205</td>\n",
       "      <td>-0.028606</td>\n",
       "      <td>-0.139982</td>\n",
       "      <td>-0.618438</td>\n",
       "      <td>-0.053906</td>\n",
       "      <td>-0.031767</td>\n",
       "      <td>-0.019726</td>\n",
       "      <td>0.825150</td>\n",
       "      <td>...</td>\n",
       "      <td>0.734343</td>\n",
       "      <td>1.159389</td>\n",
       "      <td>0.977304</td>\n",
       "      <td>-0.386146</td>\n",
       "      <td>-0.447834</td>\n",
       "      <td>-0.289103</td>\n",
       "      <td>-0.639532</td>\n",
       "      <td>-0.624871</td>\n",
       "      <td>-0.387635</td>\n",
       "      <td>-0.376387</td>\n",
       "    </tr>\n",
       "    <tr>\n",
       "      <th>125970</th>\n",
       "      <td>-0.019113</td>\n",
       "      <td>-0.312889</td>\n",
       "      <td>-0.11205</td>\n",
       "      <td>-0.028606</td>\n",
       "      <td>-0.139982</td>\n",
       "      <td>-0.618438</td>\n",
       "      <td>-0.053906</td>\n",
       "      <td>-0.031767</td>\n",
       "      <td>-0.019726</td>\n",
       "      <td>0.825150</td>\n",
       "      <td>...</td>\n",
       "      <td>0.734343</td>\n",
       "      <td>-0.773724</td>\n",
       "      <td>-0.893738</td>\n",
       "      <td>-0.121485</td>\n",
       "      <td>-0.480197</td>\n",
       "      <td>-0.289103</td>\n",
       "      <td>0.979238</td>\n",
       "      <td>-0.624871</td>\n",
       "      <td>-0.355014</td>\n",
       "      <td>-0.376387</td>\n",
       "    </tr>\n",
       "    <tr>\n",
       "      <th>125971</th>\n",
       "      <td>-0.019113</td>\n",
       "      <td>-0.312889</td>\n",
       "      <td>-0.11205</td>\n",
       "      <td>-0.028606</td>\n",
       "      <td>-0.139982</td>\n",
       "      <td>1.616978</td>\n",
       "      <td>-0.053906</td>\n",
       "      <td>-0.031767</td>\n",
       "      <td>-0.019726</td>\n",
       "      <td>-1.211901</td>\n",
       "      <td>...</td>\n",
       "      <td>0.734343</td>\n",
       "      <td>-0.972455</td>\n",
       "      <td>-1.094207</td>\n",
       "      <td>-0.174417</td>\n",
       "      <td>-0.480197</td>\n",
       "      <td>-0.289103</td>\n",
       "      <td>1.608759</td>\n",
       "      <td>1.618955</td>\n",
       "      <td>-0.387635</td>\n",
       "      <td>-0.376387</td>\n",
       "    </tr>\n",
       "    <tr>\n",
       "      <th>125972</th>\n",
       "      <td>-0.019113</td>\n",
       "      <td>-0.312889</td>\n",
       "      <td>-0.11205</td>\n",
       "      <td>-0.028606</td>\n",
       "      <td>-0.139982</td>\n",
       "      <td>-0.618438</td>\n",
       "      <td>-0.053906</td>\n",
       "      <td>-0.031767</td>\n",
       "      <td>-0.019726</td>\n",
       "      <td>0.825150</td>\n",
       "      <td>...</td>\n",
       "      <td>0.734343</td>\n",
       "      <td>-0.349162</td>\n",
       "      <td>-0.492801</td>\n",
       "      <td>-0.280282</td>\n",
       "      <td>0.490690</td>\n",
       "      <td>-0.289103</td>\n",
       "      <td>-0.639532</td>\n",
       "      <td>-0.624871</td>\n",
       "      <td>-0.387635</td>\n",
       "      <td>-0.376387</td>\n",
       "    </tr>\n",
       "  </tbody>\n",
       "</table>\n",
       "<p>125973 rows × 46 columns</p>\n",
       "</div>"
      ],
      "text/plain": [
       "              0         1        2         3         4         5         6   \\\n",
       "0      -0.019113 -0.312889 -0.11205 -0.028606 -0.139982 -0.618438 -0.053906   \n",
       "1      -0.019113 -0.312889 -0.11205 -0.028606 -0.139982 -0.618438 -0.053906   \n",
       "2      -0.019113 -0.312889 -0.11205 -0.028606 -0.139982  1.616978 -0.053906   \n",
       "3      -0.019113 -0.312889 -0.11205 -0.028606 -0.139982 -0.618438 -0.053906   \n",
       "4      -0.019113 -0.312889 -0.11205 -0.028606 -0.139982 -0.618438 -0.053906   \n",
       "...          ...       ...      ...       ...       ...       ...       ...   \n",
       "125968 -0.019113 -0.312889 -0.11205 -0.028606 -0.139982  1.616978 -0.053906   \n",
       "125969 -0.019113 -0.312889 -0.11205 -0.028606 -0.139982 -0.618438 -0.053906   \n",
       "125970 -0.019113 -0.312889 -0.11205 -0.028606 -0.139982 -0.618438 -0.053906   \n",
       "125971 -0.019113 -0.312889 -0.11205 -0.028606 -0.139982  1.616978 -0.053906   \n",
       "125972 -0.019113 -0.312889 -0.11205 -0.028606 -0.139982 -0.618438 -0.053906   \n",
       "\n",
       "              7         8         9   ...        36        37        38  \\\n",
       "0      -0.031767 -0.019726  0.825150  ... -0.324063 -0.818890 -0.782367   \n",
       "1      -0.031767 -0.019726  0.825150  ...  0.734343 -1.035688 -1.161030   \n",
       "2      -0.031767 -0.019726 -1.211901  ...  0.734343 -0.809857 -0.938287   \n",
       "3      -0.031767 -0.019726  0.825150  ... -1.533670  1.258754  1.066401   \n",
       "4      -0.031767 -0.019726  0.825150  ...  0.734343  1.258754  1.066401   \n",
       "...          ...       ...       ...  ...       ...       ...       ...   \n",
       "125968 -0.031767 -0.019726 -1.211901  ...  0.734343 -0.818890 -0.938287   \n",
       "125969 -0.031767 -0.019726  0.825150  ...  0.734343  1.159389  0.977304   \n",
       "125970 -0.031767 -0.019726  0.825150  ...  0.734343 -0.773724 -0.893738   \n",
       "125971 -0.031767 -0.019726 -1.211901  ...  0.734343 -0.972455 -1.094207   \n",
       "125972 -0.031767 -0.019726  0.825150  ...  0.734343 -0.349162 -0.492801   \n",
       "\n",
       "              39        40        41        42        43        44        45  \n",
       "0      -0.280282  0.069972 -0.289103 -0.639532 -0.624871 -0.224532 -0.376387  \n",
       "1       2.736852  2.367737 -0.289103 -0.639532 -0.624871 -0.387635 -0.376387  \n",
       "2      -0.174417 -0.480197 -0.289103  1.608759  1.618955 -0.387635 -0.376387  \n",
       "3      -0.439078 -0.383108  0.066252 -0.572083 -0.602433 -0.387635 -0.345084  \n",
       "4      -0.439078 -0.480197 -0.289103 -0.639532 -0.624871 -0.387635 -0.376387  \n",
       "...          ...       ...       ...       ...       ...       ...       ...  \n",
       "125968 -0.121485 -0.480197 -0.289103  1.608759  1.618955 -0.387635 -0.376387  \n",
       "125969 -0.386146 -0.447834 -0.289103 -0.639532 -0.624871 -0.387635 -0.376387  \n",
       "125970 -0.121485 -0.480197 -0.289103  0.979238 -0.624871 -0.355014 -0.376387  \n",
       "125971 -0.174417 -0.480197 -0.289103  1.608759  1.618955 -0.387635 -0.376387  \n",
       "125972 -0.280282  0.490690 -0.289103 -0.639532 -0.624871 -0.387635 -0.376387  \n",
       "\n",
       "[125973 rows x 46 columns]"
      ]
     },
     "execution_count": 33,
     "metadata": {},
     "output_type": "execute_result"
    }
   ],
   "source": [
    "train_data_with_Z_df\n"
   ]
  },
  {
   "cell_type": "code",
   "execution_count": 34,
   "metadata": {},
   "outputs": [],
   "source": [
    "predicted_anomalous_labels = np_test_labels[~test_predictions.numpy()]\n"
   ]
  },
  {
   "cell_type": "code",
   "execution_count": 35,
   "metadata": {},
   "outputs": [
    {
     "data": {
      "text/plain": [
       "array([ True,  True, False, ...,  True,  True,  True])"
      ]
     },
     "execution_count": 35,
     "metadata": {},
     "output_type": "execute_result"
    }
   ],
   "source": [
    "predicted_anomalous_labels\n"
   ]
  },
  {
   "cell_type": "code",
   "execution_count": 36,
   "metadata": {},
   "outputs": [
    {
     "name": "stderr",
     "output_type": "stream",
     "text": [
      "c:\\Users\\alexa\\OneDrive\\Documents\\GitHub\\network-anomaly-detection\\autoencoder\\aecExtraFeatures.py:11: RuntimeWarning: invalid value encountered in float_scalars\n",
      "  return dot(orig_sample[0], reconstr_sample[0]) / (norm(orig_sample[0]) * norm(reconstr_sample[0]))\n",
      "c:\\Users\\alexa\\OneDrive\\Documents\\GitHub\\network-anomaly-detection\\autoencoder\\aecExtraFeatures.py:11: RuntimeWarning: divide by zero encountered in float_scalars\n",
      "  return dot(orig_sample[0], reconstr_sample[0]) / (norm(orig_sample[0]) * norm(reconstr_sample[0]))\n"
     ]
    }
   ],
   "source": [
    "anomalous_test_data_with_Z_df = addZToData(predicted_anomalous, autoencoder)\n"
   ]
  },
  {
   "cell_type": "code",
   "execution_count": 37,
   "metadata": {},
   "outputs": [],
   "source": [
    "contamination = sum(train_labels == 0) / len(train_labels)\n"
   ]
  },
  {
   "cell_type": "code",
   "execution_count": 38,
   "metadata": {},
   "outputs": [
    {
     "data": {
      "text/html": [
       "<div>\n",
       "<style scoped>\n",
       "    .dataframe tbody tr th:only-of-type {\n",
       "        vertical-align: middle;\n",
       "    }\n",
       "\n",
       "    .dataframe tbody tr th {\n",
       "        vertical-align: top;\n",
       "    }\n",
       "\n",
       "    .dataframe thead th {\n",
       "        text-align: right;\n",
       "    }\n",
       "</style>\n",
       "<table border=\"1\" class=\"dataframe\">\n",
       "  <thead>\n",
       "    <tr style=\"text-align: right;\">\n",
       "      <th></th>\n",
       "      <th>0</th>\n",
       "      <th>1</th>\n",
       "      <th>2</th>\n",
       "      <th>3</th>\n",
       "      <th>4</th>\n",
       "      <th>5</th>\n",
       "      <th>6</th>\n",
       "      <th>7</th>\n",
       "      <th>8</th>\n",
       "      <th>9</th>\n",
       "      <th>...</th>\n",
       "      <th>36</th>\n",
       "      <th>37</th>\n",
       "      <th>38</th>\n",
       "      <th>39</th>\n",
       "      <th>40</th>\n",
       "      <th>41</th>\n",
       "      <th>42</th>\n",
       "      <th>43</th>\n",
       "      <th>44</th>\n",
       "      <th>45</th>\n",
       "    </tr>\n",
       "  </thead>\n",
       "  <tbody>\n",
       "    <tr>\n",
       "      <th>0</th>\n",
       "      <td>-0.019113</td>\n",
       "      <td>-0.312889</td>\n",
       "      <td>-0.11205</td>\n",
       "      <td>-0.028606</td>\n",
       "      <td>-0.139982</td>\n",
       "      <td>-0.618438</td>\n",
       "      <td>-0.053906</td>\n",
       "      <td>-0.031767</td>\n",
       "      <td>-0.019726</td>\n",
       "      <td>0.825150</td>\n",
       "      <td>...</td>\n",
       "      <td>-0.324063</td>\n",
       "      <td>-0.818890</td>\n",
       "      <td>-0.782367</td>\n",
       "      <td>-0.280282</td>\n",
       "      <td>0.069972</td>\n",
       "      <td>-0.289103</td>\n",
       "      <td>-0.639532</td>\n",
       "      <td>-0.624871</td>\n",
       "      <td>-0.224532</td>\n",
       "      <td>-0.376387</td>\n",
       "    </tr>\n",
       "    <tr>\n",
       "      <th>1</th>\n",
       "      <td>-0.019113</td>\n",
       "      <td>-0.312889</td>\n",
       "      <td>-0.11205</td>\n",
       "      <td>-0.028606</td>\n",
       "      <td>-0.139982</td>\n",
       "      <td>-0.618438</td>\n",
       "      <td>-0.053906</td>\n",
       "      <td>-0.031767</td>\n",
       "      <td>-0.019726</td>\n",
       "      <td>0.825150</td>\n",
       "      <td>...</td>\n",
       "      <td>0.734343</td>\n",
       "      <td>-1.035688</td>\n",
       "      <td>-1.161030</td>\n",
       "      <td>2.736852</td>\n",
       "      <td>2.367737</td>\n",
       "      <td>-0.289103</td>\n",
       "      <td>-0.639532</td>\n",
       "      <td>-0.624871</td>\n",
       "      <td>-0.387635</td>\n",
       "      <td>-0.376387</td>\n",
       "    </tr>\n",
       "    <tr>\n",
       "      <th>2</th>\n",
       "      <td>-0.019113</td>\n",
       "      <td>-0.312889</td>\n",
       "      <td>-0.11205</td>\n",
       "      <td>-0.028606</td>\n",
       "      <td>-0.139982</td>\n",
       "      <td>1.616978</td>\n",
       "      <td>-0.053906</td>\n",
       "      <td>-0.031767</td>\n",
       "      <td>-0.019726</td>\n",
       "      <td>-1.211901</td>\n",
       "      <td>...</td>\n",
       "      <td>0.734343</td>\n",
       "      <td>-0.809857</td>\n",
       "      <td>-0.938287</td>\n",
       "      <td>-0.174417</td>\n",
       "      <td>-0.480197</td>\n",
       "      <td>-0.289103</td>\n",
       "      <td>1.608759</td>\n",
       "      <td>1.618955</td>\n",
       "      <td>-0.387635</td>\n",
       "      <td>-0.376387</td>\n",
       "    </tr>\n",
       "    <tr>\n",
       "      <th>3</th>\n",
       "      <td>-0.019113</td>\n",
       "      <td>-0.312889</td>\n",
       "      <td>-0.11205</td>\n",
       "      <td>-0.028606</td>\n",
       "      <td>-0.139982</td>\n",
       "      <td>-0.618438</td>\n",
       "      <td>-0.053906</td>\n",
       "      <td>-0.031767</td>\n",
       "      <td>-0.019726</td>\n",
       "      <td>0.825150</td>\n",
       "      <td>...</td>\n",
       "      <td>-1.533670</td>\n",
       "      <td>1.258754</td>\n",
       "      <td>1.066401</td>\n",
       "      <td>-0.439078</td>\n",
       "      <td>-0.383108</td>\n",
       "      <td>0.066252</td>\n",
       "      <td>-0.572083</td>\n",
       "      <td>-0.602433</td>\n",
       "      <td>-0.387635</td>\n",
       "      <td>-0.345084</td>\n",
       "    </tr>\n",
       "    <tr>\n",
       "      <th>4</th>\n",
       "      <td>-0.019113</td>\n",
       "      <td>-0.312889</td>\n",
       "      <td>-0.11205</td>\n",
       "      <td>-0.028606</td>\n",
       "      <td>-0.139982</td>\n",
       "      <td>-0.618438</td>\n",
       "      <td>-0.053906</td>\n",
       "      <td>-0.031767</td>\n",
       "      <td>-0.019726</td>\n",
       "      <td>0.825150</td>\n",
       "      <td>...</td>\n",
       "      <td>0.734343</td>\n",
       "      <td>1.258754</td>\n",
       "      <td>1.066401</td>\n",
       "      <td>-0.439078</td>\n",
       "      <td>-0.480197</td>\n",
       "      <td>-0.289103</td>\n",
       "      <td>-0.639532</td>\n",
       "      <td>-0.624871</td>\n",
       "      <td>-0.387635</td>\n",
       "      <td>-0.376387</td>\n",
       "    </tr>\n",
       "    <tr>\n",
       "      <th>...</th>\n",
       "      <td>...</td>\n",
       "      <td>...</td>\n",
       "      <td>...</td>\n",
       "      <td>...</td>\n",
       "      <td>...</td>\n",
       "      <td>...</td>\n",
       "      <td>...</td>\n",
       "      <td>...</td>\n",
       "      <td>...</td>\n",
       "      <td>...</td>\n",
       "      <td>...</td>\n",
       "      <td>...</td>\n",
       "      <td>...</td>\n",
       "      <td>...</td>\n",
       "      <td>...</td>\n",
       "      <td>...</td>\n",
       "      <td>...</td>\n",
       "      <td>...</td>\n",
       "      <td>...</td>\n",
       "      <td>...</td>\n",
       "      <td>...</td>\n",
       "    </tr>\n",
       "    <tr>\n",
       "      <th>5061</th>\n",
       "      <td>-0.019113</td>\n",
       "      <td>-0.312889</td>\n",
       "      <td>-0.11205</td>\n",
       "      <td>-0.028606</td>\n",
       "      <td>-0.139982</td>\n",
       "      <td>1.616978</td>\n",
       "      <td>-0.053906</td>\n",
       "      <td>-0.031767</td>\n",
       "      <td>-0.019726</td>\n",
       "      <td>-1.211901</td>\n",
       "      <td>...</td>\n",
       "      <td>0.734343</td>\n",
       "      <td>-0.990521</td>\n",
       "      <td>-1.116482</td>\n",
       "      <td>-0.068553</td>\n",
       "      <td>-0.480197</td>\n",
       "      <td>-0.289103</td>\n",
       "      <td>1.608759</td>\n",
       "      <td>1.618955</td>\n",
       "      <td>-0.387635</td>\n",
       "      <td>-0.376387</td>\n",
       "    </tr>\n",
       "    <tr>\n",
       "      <th>5062</th>\n",
       "      <td>-0.019113</td>\n",
       "      <td>-0.312889</td>\n",
       "      <td>-0.11205</td>\n",
       "      <td>-0.028606</td>\n",
       "      <td>-0.139982</td>\n",
       "      <td>1.616978</td>\n",
       "      <td>-0.053906</td>\n",
       "      <td>-0.031767</td>\n",
       "      <td>-0.019726</td>\n",
       "      <td>-1.211901</td>\n",
       "      <td>...</td>\n",
       "      <td>0.734343</td>\n",
       "      <td>-0.936322</td>\n",
       "      <td>-1.049659</td>\n",
       "      <td>-0.015621</td>\n",
       "      <td>-0.480197</td>\n",
       "      <td>-0.289103</td>\n",
       "      <td>1.608759</td>\n",
       "      <td>1.618955</td>\n",
       "      <td>-0.387635</td>\n",
       "      <td>-0.376387</td>\n",
       "    </tr>\n",
       "    <tr>\n",
       "      <th>5063</th>\n",
       "      <td>-0.019113</td>\n",
       "      <td>-0.312889</td>\n",
       "      <td>-0.11205</td>\n",
       "      <td>-0.028606</td>\n",
       "      <td>-0.139982</td>\n",
       "      <td>1.616978</td>\n",
       "      <td>-0.053906</td>\n",
       "      <td>-0.031767</td>\n",
       "      <td>-0.019726</td>\n",
       "      <td>-1.211901</td>\n",
       "      <td>...</td>\n",
       "      <td>0.734343</td>\n",
       "      <td>-0.891156</td>\n",
       "      <td>-1.005110</td>\n",
       "      <td>-0.068553</td>\n",
       "      <td>-0.480197</td>\n",
       "      <td>-0.289103</td>\n",
       "      <td>1.608759</td>\n",
       "      <td>1.618955</td>\n",
       "      <td>-0.387635</td>\n",
       "      <td>-0.376387</td>\n",
       "    </tr>\n",
       "    <tr>\n",
       "      <th>5064</th>\n",
       "      <td>-0.019113</td>\n",
       "      <td>-0.312889</td>\n",
       "      <td>-0.11205</td>\n",
       "      <td>-0.028606</td>\n",
       "      <td>-0.139982</td>\n",
       "      <td>-0.618438</td>\n",
       "      <td>-0.053906</td>\n",
       "      <td>-0.031767</td>\n",
       "      <td>-0.019726</td>\n",
       "      <td>0.825150</td>\n",
       "      <td>...</td>\n",
       "      <td>-1.634470</td>\n",
       "      <td>-0.873089</td>\n",
       "      <td>0.955030</td>\n",
       "      <td>0.090243</td>\n",
       "      <td>-0.318382</td>\n",
       "      <td>-0.289103</td>\n",
       "      <td>-0.639532</td>\n",
       "      <td>-0.624871</td>\n",
       "      <td>-0.387635</td>\n",
       "      <td>-0.376387</td>\n",
       "    </tr>\n",
       "    <tr>\n",
       "      <th>5065</th>\n",
       "      <td>-0.019113</td>\n",
       "      <td>-0.312889</td>\n",
       "      <td>-0.11205</td>\n",
       "      <td>-0.028606</td>\n",
       "      <td>-0.139982</td>\n",
       "      <td>-0.618438</td>\n",
       "      <td>-0.053906</td>\n",
       "      <td>-0.031767</td>\n",
       "      <td>-0.019726</td>\n",
       "      <td>0.825150</td>\n",
       "      <td>...</td>\n",
       "      <td>0.734343</td>\n",
       "      <td>1.258754</td>\n",
       "      <td>1.066401</td>\n",
       "      <td>-0.439078</td>\n",
       "      <td>-0.480197</td>\n",
       "      <td>-0.289103</td>\n",
       "      <td>-0.639532</td>\n",
       "      <td>-0.624871</td>\n",
       "      <td>-0.387635</td>\n",
       "      <td>-0.376387</td>\n",
       "    </tr>\n",
       "  </tbody>\n",
       "</table>\n",
       "<p>5066 rows × 46 columns</p>\n",
       "</div>"
      ],
      "text/plain": [
       "            0         1        2         3         4         5         6   \\\n",
       "0    -0.019113 -0.312889 -0.11205 -0.028606 -0.139982 -0.618438 -0.053906   \n",
       "1    -0.019113 -0.312889 -0.11205 -0.028606 -0.139982 -0.618438 -0.053906   \n",
       "2    -0.019113 -0.312889 -0.11205 -0.028606 -0.139982  1.616978 -0.053906   \n",
       "3    -0.019113 -0.312889 -0.11205 -0.028606 -0.139982 -0.618438 -0.053906   \n",
       "4    -0.019113 -0.312889 -0.11205 -0.028606 -0.139982 -0.618438 -0.053906   \n",
       "...        ...       ...      ...       ...       ...       ...       ...   \n",
       "5061 -0.019113 -0.312889 -0.11205 -0.028606 -0.139982  1.616978 -0.053906   \n",
       "5062 -0.019113 -0.312889 -0.11205 -0.028606 -0.139982  1.616978 -0.053906   \n",
       "5063 -0.019113 -0.312889 -0.11205 -0.028606 -0.139982  1.616978 -0.053906   \n",
       "5064 -0.019113 -0.312889 -0.11205 -0.028606 -0.139982 -0.618438 -0.053906   \n",
       "5065 -0.019113 -0.312889 -0.11205 -0.028606 -0.139982 -0.618438 -0.053906   \n",
       "\n",
       "            7         8         9   ...        36        37        38  \\\n",
       "0    -0.031767 -0.019726  0.825150  ... -0.324063 -0.818890 -0.782367   \n",
       "1    -0.031767 -0.019726  0.825150  ...  0.734343 -1.035688 -1.161030   \n",
       "2    -0.031767 -0.019726 -1.211901  ...  0.734343 -0.809857 -0.938287   \n",
       "3    -0.031767 -0.019726  0.825150  ... -1.533670  1.258754  1.066401   \n",
       "4    -0.031767 -0.019726  0.825150  ...  0.734343  1.258754  1.066401   \n",
       "...        ...       ...       ...  ...       ...       ...       ...   \n",
       "5061 -0.031767 -0.019726 -1.211901  ...  0.734343 -0.990521 -1.116482   \n",
       "5062 -0.031767 -0.019726 -1.211901  ...  0.734343 -0.936322 -1.049659   \n",
       "5063 -0.031767 -0.019726 -1.211901  ...  0.734343 -0.891156 -1.005110   \n",
       "5064 -0.031767 -0.019726  0.825150  ... -1.634470 -0.873089  0.955030   \n",
       "5065 -0.031767 -0.019726  0.825150  ...  0.734343  1.258754  1.066401   \n",
       "\n",
       "            39        40        41        42        43        44        45  \n",
       "0    -0.280282  0.069972 -0.289103 -0.639532 -0.624871 -0.224532 -0.376387  \n",
       "1     2.736852  2.367737 -0.289103 -0.639532 -0.624871 -0.387635 -0.376387  \n",
       "2    -0.174417 -0.480197 -0.289103  1.608759  1.618955 -0.387635 -0.376387  \n",
       "3    -0.439078 -0.383108  0.066252 -0.572083 -0.602433 -0.387635 -0.345084  \n",
       "4    -0.439078 -0.480197 -0.289103 -0.639532 -0.624871 -0.387635 -0.376387  \n",
       "...        ...       ...       ...       ...       ...       ...       ...  \n",
       "5061 -0.068553 -0.480197 -0.289103  1.608759  1.618955 -0.387635 -0.376387  \n",
       "5062 -0.015621 -0.480197 -0.289103  1.608759  1.618955 -0.387635 -0.376387  \n",
       "5063 -0.068553 -0.480197 -0.289103  1.608759  1.618955 -0.387635 -0.376387  \n",
       "5064  0.090243 -0.318382 -0.289103 -0.639532 -0.624871 -0.387635 -0.376387  \n",
       "5065 -0.439078 -0.480197 -0.289103 -0.639532 -0.624871 -0.387635 -0.376387  \n",
       "\n",
       "[5066 rows x 46 columns]"
      ]
     },
     "execution_count": 38,
     "metadata": {},
     "output_type": "execute_result"
    }
   ],
   "source": [
    "anomalous_test_data_with_Z_df\n"
   ]
  },
  {
   "cell_type": "code",
   "execution_count": 39,
   "metadata": {},
   "outputs": [],
   "source": [
    "def getFinalPredictions(first_predictions, second_predictions):\n",
    "    autoencoder_copy = first_predictions.copy()\n",
    "    if_copy = second_predictions.copy()\n",
    "    indices = autoencoder_copy.index[autoencoder_copy[\"predicted_as_anomaly\"] == True]\n",
    "    if_copy.index = indices\n",
    "    autoencoder_copy.loc[indices,\n",
    "                         \"predicted_as_anomaly\"] = if_copy[\"predicted_as_anomaly\"]\n",
    "    print_results(autoencoder_copy)\n",
    "    print(\"auroc: \" + str(get_auroc_value(second_predictions)))\n"
   ]
  },
  {
   "cell_type": "code",
   "execution_count": 40,
   "metadata": {},
   "outputs": [],
   "source": [
    "from turtleIsolationForests.extendedIsolationForest import ExtendedIsolationForest\n",
    "from turtleIsolationForests.printResults import print_results\n",
    "\n",
    "eif = ExtendedIsolationForest(contamination=contamination, random_state=None)\n",
    "eif.fit(train_data_with_Z_df, train_labels)\n"
   ]
  },
  {
   "cell_type": "code",
   "execution_count": 41,
   "metadata": {
    "collapsed": false,
    "pycharm": {
     "name": "#%%\n"
    }
   },
   "outputs": [
    {
     "name": "stderr",
     "output_type": "stream",
     "text": [
      "UsageError: Cell magic `%%` not found.\n"
     ]
    }
   ],
   "source": [
    "%% timeit\n",
    "\n",
    "eif.predict(anomalous_test_data_with_Z_df)\n"
   ]
  },
  {
   "cell_type": "code",
   "execution_count": 48,
   "metadata": {},
   "outputs": [
    {
     "data": {
      "text/plain": [
       "numpy.ndarray"
      ]
     },
     "execution_count": 48,
     "metadata": {},
     "output_type": "execute_result"
    }
   ],
   "source": [
    "type(predicted_anomalous_labels)\n"
   ]
  },
  {
   "cell_type": "code",
   "execution_count": 50,
   "metadata": {
    "collapsed": false,
    "pycharm": {
     "name": "#%%\n"
    }
   },
   "outputs": [
    {
     "name": "stdout",
     "output_type": "stream",
     "text": [
      "<class 'tuple'>\n"
     ]
    },
    {
     "ename": "TypeError",
     "evalue": "'tuple' object does not support item assignment",
     "output_type": "error",
     "traceback": [
      "\u001b[1;31m---------------------------------------------------------------------------\u001b[0m",
      "\u001b[1;31mTypeError\u001b[0m                                 Traceback (most recent call last)",
      "Cell \u001b[1;32mIn[50], line 3\u001b[0m\n\u001b[0;32m      1\u001b[0m eif_predictions \u001b[39m=\u001b[39m eif\u001b[39m.\u001b[39mpredict(anomalous_test_data_with_Z_df, predicted_anomalous_labels)\n\u001b[0;32m      2\u001b[0m \u001b[39mprint\u001b[39m(\u001b[39mtype\u001b[39m(eif_predictions))\n\u001b[1;32m----> 3\u001b[0m eif_predictions[\u001b[39m'\u001b[39;49m\u001b[39mis_anomalous\u001b[39;49m\u001b[39m'\u001b[39;49m] \u001b[39m=\u001b[39m predicted_anomalous_labels\n\u001b[0;32m      5\u001b[0m \u001b[39m# print_results(eif_predictions)\u001b[39;00m\n\u001b[0;32m      6\u001b[0m getFinalPredictions(autoec_predictions, eif_predictions)\n",
      "\u001b[1;31mTypeError\u001b[0m: 'tuple' object does not support item assignment"
     ]
    }
   ],
   "source": [
    "eif_predictions = eif.predict(anomalous_test_data_with_Z_df, predicted_anomalous_labels)\n",
    "print(type(eif_predictions))\n",
    "eif_predictions['is_anomalous'] = predicted_anomalous_labels\n",
    "\n",
    "# print_results(eif_predictions)\n",
    "getFinalPredictions(autoec_predictions, eif_predictions)\n"
   ]
  },
  {
   "cell_type": "code",
   "execution_count": null,
   "metadata": {
    "collapsed": false,
    "pycharm": {
     "name": "#%%\n"
    }
   },
   "outputs": [
    {
     "name": "stdout",
     "output_type": "stream",
     "text": [
      "true anomalies: 2009\n",
      "false anomalies: 2392\n",
      "false normals: 5151\n",
      "true normals: 4309\n",
      "precision: 0.45648716200863443\n",
      "recall: 0.28058659217877097\n",
      "f1-score: 0.34754778998356545\n"
     ]
    }
   ],
   "source": [
    "eif_predictions = eif.predict(anomalous_test_data_with_Z_df, predicted_anomalous_labels)\n",
    "eif_predictions['is_anomalous'] = predicted_anomalous_labels\n",
    "\n",
    "# print_results(eif_predictions)\n",
    "getFinalPredictions(autoec_predictions, eif_predictions)\n"
   ]
  },
  {
   "cell_type": "code",
   "execution_count": null,
   "metadata": {
    "collapsed": false,
    "pycharm": {
     "name": "#%%\n"
    }
   },
   "outputs": [],
   "source": [
    "\n",
    "train_predictions = eif.train_scores\n",
    "train_predictions['is_anomalous'] = train_labels\n",
    "print_results(train_predictions)\n"
   ]
  },
  {
   "cell_type": "code",
   "execution_count": null,
   "metadata": {},
   "outputs": [],
   "source": [
    "from turtleIsolationForests.sciForest import SCIsolationForest\n",
    "\n",
    "scif = SCIsolationForest(contamination=contamination,\n",
    "                         num_hyperplanes_per_split=5, random_state=None)\n",
    "scif.fit(train_data_with_Z_df, train_labels)\n"
   ]
  },
  {
   "cell_type": "code",
   "execution_count": null,
   "metadata": {},
   "outputs": [],
   "source": [
    "%% timeit\n",
    "\n",
    "scif.predict(anomalous_test_data_with_Z_df)\n"
   ]
  },
  {
   "cell_type": "code",
   "execution_count": null,
   "metadata": {},
   "outputs": [],
   "source": [
    "scif_predictions = scif.predict(anomalous_test_data_with_Z_df)\n",
    "scif_predictions['is_anomalous'] = predicted_anomalous_labels\n",
    "\n",
    "# print_results(scif_predictions)\n",
    "getFinalPredictions(autoec_predictions, scif_predictions)\n"
   ]
  },
  {
   "cell_type": "code",
   "execution_count": null,
   "metadata": {},
   "outputs": [],
   "source": [
    "from turtleIsolationForests.isolationForest import IsolationForest\n",
    "\n",
    "isoforest = IsolationForest(contamination=contamination, random_state=None)\n",
    "isoforest.fit(train_data_with_Z_df, train_labels)\n"
   ]
  },
  {
   "cell_type": "code",
   "execution_count": null,
   "metadata": {},
   "outputs": [],
   "source": [
    "% % timeit\n",
    "\n",
    "isoforest.predict(anomalous_test_data_with_Z_df)\n"
   ]
  },
  {
   "cell_type": "code",
   "execution_count": null,
   "metadata": {},
   "outputs": [],
   "source": [
    "isoforest_predictions = isoforest.predict(anomalous_test_data_with_Z_df)\n",
    "isoforest_predictions['is_anomalous'] = predicted_anomalous_labels\n",
    "\n",
    "# print_results(isoforest_predictions)\n",
    "getFinalPredictions(autoec_predictions, isoforest_predictions)\n"
   ]
  },
  {
   "cell_type": "code",
   "execution_count": null,
   "metadata": {},
   "outputs": [],
   "source": [
    "from turtleIsolationForests.FBIF import FBIsolationForest\n",
    "\n",
    "fbif = FBIsolationForest(contamination=contamination, random_state=None)\n",
    "fbif.fit(train_data_with_Z_df, train_labels)\n"
   ]
  },
  {
   "cell_type": "code",
   "execution_count": null,
   "metadata": {},
   "outputs": [],
   "source": [
    "% % timeit\n",
    "\n",
    "fbif.predict(anomalous_test_data_with_Z_df)\n"
   ]
  },
  {
   "cell_type": "code",
   "execution_count": null,
   "metadata": {},
   "outputs": [],
   "source": [
    "fbif_predictions = fbif.predict(anomalous_test_data_with_Z_df)\n",
    "fbif_predictions['is_anomalous'] = predicted_anomalous_labels\n",
    "\n",
    "# print_results(fbif_predictions)\n",
    "getFinalPredictions(autoec_predictions, fbif_predictions)\n"
   ]
  }
 ],
 "metadata": {
  "kernelspec": {
   "display_name": "Python 3",
   "language": "python",
   "name": "python3"
  },
  "language_info": {
   "codemirror_mode": {
    "name": "ipython",
    "version": 3
   },
   "file_extension": ".py",
   "mimetype": "text/x-python",
   "name": "python",
   "nbconvert_exporter": "python",
   "pygments_lexer": "ipython3",
   "version": "3.10.9"
  },
  "vscode": {
   "interpreter": {
    "hash": "bbc3c3d932324566a9bf4b4a52ddf64063695fc3adbf25b3fda92572428493bb"
   }
  }
 },
 "nbformat": 4,
 "nbformat_minor": 0
}
