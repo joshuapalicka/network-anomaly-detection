{
 "cells": [
  {
   "cell_type": "code",
   "execution_count": 1,
   "outputs": [],
   "source": [
    "import matplotlib.pyplot as plt\n",
    "import numpy as np\n",
    "import pandas as pd\n",
    "import tensorflow as tf\n",
    "\n",
    "from sklearn.metrics import accuracy_score, precision_score, recall_score\n",
    "from sklearn.model_selection import train_test_split"
   ],
   "metadata": {
    "collapsed": false
   }
  },
  {
   "cell_type": "code",
   "execution_count": 2,
   "outputs": [],
   "source": [
    "import autoencoder.aecExtraFeatures as Z_calculations\n",
    "\n",
    "def addZToPrediction(model, data_point):\n",
    "    reconstruction = model.decoder(model.encoder(data_point))\n",
    "\n",
    "    Z_features = [Z_calculations.getZVector(data_point, reconstruction)]\n",
    "\n",
    "    Z_features_tensor = tf.convert_to_tensor(Z_features, dtype=tf.float32)\n",
    "    data_point = tf.convert_to_tensor(data_point, dtype=tf.float32)\n",
    "\n",
    "    data_point = tf.concat([data_point, Z_features_tensor], 1)\n",
    "\n",
    "    return data_point"
   ],
   "metadata": {
    "collapsed": false
   }
  },
  {
   "cell_type": "code",
   "execution_count": 3,
   "outputs": [],
   "source": [
    "def isAnomaly(data_point, model_1, model_2, threshold):\n",
    "\n",
    "    # need autoencoder to return boolean isAnomaly\n",
    "    isAnomaly = tf.math.less(tf.keras.losses.mae(model_1(data), data), threshold)\n",
    "\n",
    "    # if the autoencoder doesn't find anything out of the ordinary, return False\n",
    "    if not isAnomaly:\n",
    "        return False\n",
    "\n",
    "    data_point = addZToPrediction(model_1, data_point)\n",
    "\n",
    "    # if the autoencoder sees something weird, run it through the isolation forest to make sure\n",
    "    return model_2.predict(data_point)"
   ],
   "metadata": {
    "collapsed": false
   }
  },
  {
   "cell_type": "code",
   "execution_count": 4,
   "outputs": [],
   "source": [
    "from turtleIsolationForests.preprocessFeatures import preprocess_features\n",
    "\n",
    "train_dataframe = pd.read_csv(\"eda_simple_classification/network_data_mod_train.csv\", index_col=0)\n",
    "test_dataframe = pd.read_csv(\"eda_simple_classification/network_data_mod_test.csv\", index_col=0)\n",
    "\n",
    "train_data, test_data, train_labels, test_labels = preprocess_features(train_dataframe, test_dataframe)"
   ],
   "metadata": {
    "collapsed": false
   }
  },
  {
   "cell_type": "code",
   "execution_count": 5,
   "outputs": [],
   "source": [
    "np_train_labels = train_labels.to_numpy()\n",
    "np_test_labels = test_labels.to_numpy()"
   ],
   "metadata": {
    "collapsed": false
   }
  },
  {
   "cell_type": "code",
   "execution_count": 6,
   "outputs": [],
   "source": [
    "np_train_data = train_data.to_numpy()\n",
    "np_test_data = test_data.to_numpy()"
   ],
   "metadata": {
    "collapsed": false
   }
  },
  {
   "cell_type": "code",
   "execution_count": 7,
   "outputs": [],
   "source": [
    "#min_val = tf.reduce_min(np_train_data)\n",
    "#max_val = tf.reduce_max(np_train_data)\n",
    "\n",
    "#np_train_data = (np_train_data - min_val) / (max_val - min_val)\n",
    "#np_test_data = (np_test_data - min_val) / (max_val - min_val)\n",
    "\n",
    "np_train_data = tf.cast(np_train_data, tf.float32)\n",
    "np_test_data = tf.cast(np_test_data, tf.float32)"
   ],
   "metadata": {
    "collapsed": false
   }
  },
  {
   "cell_type": "code",
   "execution_count": 8,
   "outputs": [],
   "source": [
    "np_train_labels = np_train_labels.astype(bool)\n",
    "np_test_labels = np_test_labels.astype(bool)\n",
    "\n",
    "normal_train_data = np_train_data[np_train_labels]\n",
    "normal_test_data = np_test_data[np_test_labels]\n",
    "\n",
    "anomalous_train_data = np_train_data[~np_train_labels]\n",
    "anomalous_test_data = np_test_data[~np_test_labels]"
   ],
   "metadata": {
    "collapsed": false
   }
  },
  {
   "cell_type": "code",
   "execution_count": 9,
   "outputs": [],
   "source": [
    "from autoencoder.autoencoder import AnomalyDetector\n",
    "autoencoder = AnomalyDetector()"
   ],
   "metadata": {
    "collapsed": false
   }
  },
  {
   "cell_type": "code",
   "execution_count": 10,
   "outputs": [],
   "source": [
    "autoencoder.compile(optimizer='adam', loss='mae')"
   ],
   "metadata": {
    "collapsed": false
   }
  },
  {
   "cell_type": "code",
   "execution_count": 11,
   "outputs": [
    {
     "name": "stdout",
     "output_type": "stream",
     "text": [
      "Epoch 1/100\n",
      "Tensor(\"anomaly_detector/sequential/dense_2/Relu:0\", shape=(None, 8), dtype=float32)\n",
      "Tensor(\"anomaly_detector/sequential_1/dense_5/Sigmoid:0\", shape=(None, 46), dtype=float32)\n",
      "Tensor(\"anomaly_detector/sequential/dense_2/Relu:0\", shape=(None, 8), dtype=float32)\n",
      "Tensor(\"anomaly_detector/sequential_1/dense_5/Sigmoid:0\", shape=(None, 46), dtype=float32)\n",
      "2105/2105 [==============================] - ETA: 0s - loss: 0.0405Tensor(\"anomaly_detector/sequential/dense_2/Relu:0\", shape=(None, 8), dtype=float32)\n",
      "Tensor(\"anomaly_detector/sequential_1/dense_5/Sigmoid:0\", shape=(None, 46), dtype=float32)\n",
      "2105/2105 [==============================] - 5s 2ms/step - loss: 0.0405 - val_loss: 0.0731\n",
      "Epoch 2/100\n",
      "2105/2105 [==============================] - 3s 2ms/step - loss: 0.0180 - val_loss: 0.0643\n",
      "Epoch 3/100\n",
      "2105/2105 [==============================] - 3s 2ms/step - loss: 0.0159 - val_loss: 0.0623\n",
      "Epoch 4/100\n",
      "2105/2105 [==============================] - 3s 2ms/step - loss: 0.0153 - val_loss: 0.0597\n",
      "Epoch 5/100\n",
      "2105/2105 [==============================] - 3s 2ms/step - loss: 0.0149 - val_loss: 0.0566\n",
      "Epoch 6/100\n",
      "2105/2105 [==============================] - 3s 2ms/step - loss: 0.0146 - val_loss: 0.0563\n",
      "Epoch 7/100\n",
      "2105/2105 [==============================] - 3s 2ms/step - loss: 0.0144 - val_loss: 0.0565\n",
      "Epoch 8/100\n",
      "2105/2105 [==============================] - 3s 1ms/step - loss: 0.0143 - val_loss: 0.0565\n",
      "Epoch 9/100\n",
      "2105/2105 [==============================] - 3s 2ms/step - loss: 0.0142 - val_loss: 0.0567\n",
      "Epoch 10/100\n",
      "2105/2105 [==============================] - 3s 1ms/step - loss: 0.0141 - val_loss: 0.0559\n",
      "Epoch 11/100\n",
      "2105/2105 [==============================] - 3s 1ms/step - loss: 0.0140 - val_loss: 0.0558\n",
      "Epoch 12/100\n",
      "2105/2105 [==============================] - 3s 1ms/step - loss: 0.0139 - val_loss: 0.0555\n",
      "Epoch 13/100\n",
      "2105/2105 [==============================] - 3s 1ms/step - loss: 0.0139 - val_loss: 0.0552\n",
      "Epoch 14/100\n",
      "2105/2105 [==============================] - 3s 1ms/step - loss: 0.0138 - val_loss: 0.0563\n",
      "Epoch 15/100\n",
      "2105/2105 [==============================] - 3s 1ms/step - loss: 0.0137 - val_loss: 0.0567\n",
      "Epoch 16/100\n",
      "2105/2105 [==============================] - 3s 1ms/step - loss: 0.0136 - val_loss: 0.0566\n",
      "Epoch 17/100\n",
      "2105/2105 [==============================] - 3s 2ms/step - loss: 0.0136 - val_loss: 0.0568\n",
      "Epoch 18/100\n",
      "2105/2105 [==============================] - 3s 1ms/step - loss: 0.0135 - val_loss: 0.0563\n",
      "Epoch 19/100\n",
      "2105/2105 [==============================] - 3s 1ms/step - loss: 0.0135 - val_loss: 0.0570\n",
      "Epoch 20/100\n",
      "2105/2105 [==============================] - 3s 1ms/step - loss: 0.0135 - val_loss: 0.0571\n",
      "Epoch 21/100\n",
      "2105/2105 [==============================] - 3s 1ms/step - loss: 0.0134 - val_loss: 0.0570\n",
      "Epoch 22/100\n",
      "2105/2105 [==============================] - 3s 1ms/step - loss: 0.0134 - val_loss: 0.0573\n",
      "Epoch 23/100\n",
      "2105/2105 [==============================] - 3s 1ms/step - loss: 0.0133 - val_loss: 0.0572\n",
      "Epoch 24/100\n",
      "2105/2105 [==============================] - 3s 1ms/step - loss: 0.0133 - val_loss: 0.0574\n",
      "Epoch 25/100\n",
      "2105/2105 [==============================] - 3s 1ms/step - loss: 0.0133 - val_loss: 0.0572\n",
      "Epoch 26/100\n",
      "2105/2105 [==============================] - 3s 1ms/step - loss: 0.0132 - val_loss: 0.0573\n",
      "Epoch 27/100\n",
      "2105/2105 [==============================] - 3s 1ms/step - loss: 0.0132 - val_loss: 0.0572\n",
      "Epoch 28/100\n",
      "2105/2105 [==============================] - 3s 1ms/step - loss: 0.0131 - val_loss: 0.0574\n",
      "Epoch 29/100\n",
      "2105/2105 [==============================] - 3s 1ms/step - loss: 0.0131 - val_loss: 0.0574\n",
      "Epoch 30/100\n",
      "2105/2105 [==============================] - 3s 1ms/step - loss: 0.0130 - val_loss: 0.0569\n",
      "Epoch 31/100\n",
      "2105/2105 [==============================] - 3s 1ms/step - loss: 0.0130 - val_loss: 0.0568\n",
      "Epoch 32/100\n",
      "2105/2105 [==============================] - 3s 1ms/step - loss: 0.0130 - val_loss: 0.0564\n",
      "Epoch 33/100\n",
      "2105/2105 [==============================] - 3s 1ms/step - loss: 0.0130 - val_loss: 0.0568\n",
      "Epoch 34/100\n",
      "2105/2105 [==============================] - 3s 1ms/step - loss: 0.0130 - val_loss: 0.0564\n",
      "Epoch 35/100\n",
      "2105/2105 [==============================] - 3s 1ms/step - loss: 0.0129 - val_loss: 0.0566\n",
      "Epoch 36/100\n",
      "2105/2105 [==============================] - 3s 1ms/step - loss: 0.0129 - val_loss: 0.0559\n",
      "Epoch 37/100\n",
      "2105/2105 [==============================] - 3s 1ms/step - loss: 0.0129 - val_loss: 0.0559\n",
      "Epoch 38/100\n",
      "2105/2105 [==============================] - 3s 1ms/step - loss: 0.0129 - val_loss: 0.0560\n",
      "Epoch 39/100\n",
      "2105/2105 [==============================] - 3s 1ms/step - loss: 0.0128 - val_loss: 0.0559\n",
      "Epoch 40/100\n",
      "2105/2105 [==============================] - 3s 1ms/step - loss: 0.0128 - val_loss: 0.0560\n",
      "Epoch 41/100\n",
      "2105/2105 [==============================] - 3s 1ms/step - loss: 0.0128 - val_loss: 0.0561\n",
      "Epoch 42/100\n",
      "2105/2105 [==============================] - 3s 1ms/step - loss: 0.0128 - val_loss: 0.0568\n",
      "Epoch 43/100\n",
      "2105/2105 [==============================] - 3s 1ms/step - loss: 0.0128 - val_loss: 0.0566\n",
      "Epoch 44/100\n",
      "2105/2105 [==============================] - 3s 1ms/step - loss: 0.0128 - val_loss: 0.0566\n",
      "Epoch 45/100\n",
      "2105/2105 [==============================] - 3s 1ms/step - loss: 0.0127 - val_loss: 0.0566\n",
      "Epoch 46/100\n",
      "2105/2105 [==============================] - 3s 1ms/step - loss: 0.0127 - val_loss: 0.0566\n",
      "Epoch 47/100\n",
      "2105/2105 [==============================] - 3s 1ms/step - loss: 0.0127 - val_loss: 0.0565\n",
      "Epoch 48/100\n",
      "2105/2105 [==============================] - 3s 1ms/step - loss: 0.0127 - val_loss: 0.0566\n",
      "Epoch 49/100\n",
      "2105/2105 [==============================] - 3s 1ms/step - loss: 0.0127 - val_loss: 0.0566\n",
      "Epoch 50/100\n",
      "2105/2105 [==============================] - 3s 1ms/step - loss: 0.0127 - val_loss: 0.0566\n",
      "Epoch 51/100\n",
      "2105/2105 [==============================] - 3s 1ms/step - loss: 0.0127 - val_loss: 0.0564\n",
      "Epoch 52/100\n",
      "2105/2105 [==============================] - 3s 1ms/step - loss: 0.0127 - val_loss: 0.0565\n",
      "Epoch 53/100\n",
      "2105/2105 [==============================] - 3s 1ms/step - loss: 0.0127 - val_loss: 0.0567\n",
      "Epoch 54/100\n",
      "2105/2105 [==============================] - 3s 1ms/step - loss: 0.0127 - val_loss: 0.0567\n",
      "Epoch 55/100\n",
      "2105/2105 [==============================] - 3s 1ms/step - loss: 0.0126 - val_loss: 0.0563\n",
      "Epoch 56/100\n",
      "2105/2105 [==============================] - 3s 2ms/step - loss: 0.0126 - val_loss: 0.0565\n",
      "Epoch 57/100\n",
      "2105/2105 [==============================] - 3s 1ms/step - loss: 0.0126 - val_loss: 0.0566\n",
      "Epoch 58/100\n",
      "2105/2105 [==============================] - 3s 1ms/step - loss: 0.0126 - val_loss: 0.0564\n",
      "Epoch 59/100\n",
      "2105/2105 [==============================] - 3s 1ms/step - loss: 0.0126 - val_loss: 0.0566\n",
      "Epoch 60/100\n",
      "2105/2105 [==============================] - 3s 1ms/step - loss: 0.0125 - val_loss: 0.0566\n",
      "Epoch 61/100\n",
      "2105/2105 [==============================] - 3s 2ms/step - loss: 0.0125 - val_loss: 0.0561\n",
      "Epoch 62/100\n",
      "2105/2105 [==============================] - 3s 1ms/step - loss: 0.0125 - val_loss: 0.0564\n",
      "Epoch 63/100\n",
      "2105/2105 [==============================] - 3s 1ms/step - loss: 0.0125 - val_loss: 0.0565\n",
      "Epoch 64/100\n",
      "2105/2105 [==============================] - 3s 1ms/step - loss: 0.0124 - val_loss: 0.0573\n",
      "Epoch 65/100\n",
      "2105/2105 [==============================] - 3s 1ms/step - loss: 0.0124 - val_loss: 0.0572\n",
      "Epoch 66/100\n",
      "2105/2105 [==============================] - 3s 1ms/step - loss: 0.0124 - val_loss: 0.0574\n",
      "Epoch 67/100\n",
      "2105/2105 [==============================] - 3s 1ms/step - loss: 0.0124 - val_loss: 0.0571\n",
      "Epoch 68/100\n",
      "2105/2105 [==============================] - 4s 2ms/step - loss: 0.0124 - val_loss: 0.0571\n",
      "Epoch 69/100\n",
      "2105/2105 [==============================] - 3s 2ms/step - loss: 0.0123 - val_loss: 0.0566\n",
      "Epoch 70/100\n",
      "2105/2105 [==============================] - 4s 2ms/step - loss: 0.0123 - val_loss: 0.0568\n",
      "Epoch 71/100\n",
      "2105/2105 [==============================] - 3s 2ms/step - loss: 0.0123 - val_loss: 0.0567\n",
      "Epoch 72/100\n",
      "2105/2105 [==============================] - 4s 2ms/step - loss: 0.0123 - val_loss: 0.0563\n",
      "Epoch 73/100\n",
      "2105/2105 [==============================] - 3s 2ms/step - loss: 0.0123 - val_loss: 0.0561\n",
      "Epoch 74/100\n",
      "2105/2105 [==============================] - 3s 2ms/step - loss: 0.0123 - val_loss: 0.0561\n",
      "Epoch 75/100\n",
      "2105/2105 [==============================] - 4s 2ms/step - loss: 0.0123 - val_loss: 0.0563\n",
      "Epoch 76/100\n",
      "2105/2105 [==============================] - 4s 2ms/step - loss: 0.0123 - val_loss: 0.0561\n",
      "Epoch 77/100\n",
      "2105/2105 [==============================] - 4s 2ms/step - loss: 0.0123 - val_loss: 0.0557\n",
      "Epoch 78/100\n",
      "2105/2105 [==============================] - 3s 2ms/step - loss: 0.0123 - val_loss: 0.0559\n",
      "Epoch 79/100\n",
      "2105/2105 [==============================] - 4s 2ms/step - loss: 0.0123 - val_loss: 0.0554\n",
      "Epoch 80/100\n",
      "2105/2105 [==============================] - 4s 2ms/step - loss: 0.0123 - val_loss: 0.0555\n",
      "Epoch 81/100\n",
      "2105/2105 [==============================] - 3s 2ms/step - loss: 0.0122 - val_loss: 0.0548\n",
      "Epoch 82/100\n",
      "2105/2105 [==============================] - 4s 2ms/step - loss: 0.0122 - val_loss: 0.0535\n",
      "Epoch 83/100\n",
      "2105/2105 [==============================] - 4s 2ms/step - loss: 0.0121 - val_loss: 0.0530\n",
      "Epoch 84/100\n",
      "2105/2105 [==============================] - 4s 2ms/step - loss: 0.0121 - val_loss: 0.0530\n",
      "Epoch 85/100\n",
      "2105/2105 [==============================] - 4s 2ms/step - loss: 0.0121 - val_loss: 0.0529\n",
      "Epoch 86/100\n",
      "2105/2105 [==============================] - 4s 2ms/step - loss: 0.0121 - val_loss: 0.0527\n",
      "Epoch 87/100\n",
      "2105/2105 [==============================] - 4s 2ms/step - loss: 0.0121 - val_loss: 0.0532\n",
      "Epoch 88/100\n",
      "2105/2105 [==============================] - 4s 2ms/step - loss: 0.0121 - val_loss: 0.0529\n",
      "Epoch 89/100\n",
      "2105/2105 [==============================] - 4s 2ms/step - loss: 0.0121 - val_loss: 0.0530\n",
      "Epoch 90/100\n",
      "2105/2105 [==============================] - 3s 2ms/step - loss: 0.0121 - val_loss: 0.0530\n",
      "Epoch 91/100\n",
      "2105/2105 [==============================] - 3s 2ms/step - loss: 0.0120 - val_loss: 0.0529\n",
      "Epoch 92/100\n",
      "2105/2105 [==============================] - 4s 2ms/step - loss: 0.0120 - val_loss: 0.0534\n",
      "Epoch 93/100\n",
      "2105/2105 [==============================] - 3s 2ms/step - loss: 0.0120 - val_loss: 0.0534\n",
      "Epoch 94/100\n",
      "2105/2105 [==============================] - 4s 2ms/step - loss: 0.0120 - val_loss: 0.0533\n",
      "Epoch 95/100\n",
      "2105/2105 [==============================] - 3s 2ms/step - loss: 0.0120 - val_loss: 0.0529\n",
      "Epoch 96/100\n",
      "2105/2105 [==============================] - 3s 2ms/step - loss: 0.0120 - val_loss: 0.0530\n",
      "Epoch 97/100\n",
      "2105/2105 [==============================] - 3s 2ms/step - loss: 0.0119 - val_loss: 0.0534\n",
      "Epoch 98/100\n",
      "2105/2105 [==============================] - 4s 2ms/step - loss: 0.0119 - val_loss: 0.0533\n",
      "Epoch 99/100\n",
      "2105/2105 [==============================] - 3s 2ms/step - loss: 0.0119 - val_loss: 0.0525\n",
      "Epoch 100/100\n",
      "2105/2105 [==============================] - 3s 2ms/step - loss: 0.0119 - val_loss: 0.0520\n"
     ]
    }
   ],
   "source": [
    "history = autoencoder.fit(normal_train_data, normal_train_data,\n",
    "          epochs=100,\n",
    "          validation_data=(test_data, test_data),\n",
    "          shuffle=True)"
   ],
   "metadata": {
    "collapsed": false
   }
  },
  {
   "cell_type": "code",
   "execution_count": 12,
   "outputs": [
    {
     "data": {
      "text/plain": "<Figure size 640x480 with 1 Axes>",
      "image/png": "[encoded data removed]"
     },
     "metadata": {},
     "output_type": "display_data"
    }
   ],
   "source": [
    "plt.plot(history.history[\"loss\"])\n",
    "plt.plot(history.history[\"val_loss\"])\n",
    "plt.title(\"Training Loss & Validation Loss over epochs\")\n",
    "plt.xlabel(\"Epochs\")\n",
    "plt.ylabel(\"Loss\")\n",
    "#plt.ylim([0,.0008])\n",
    "plt.legend([\"Loss\", \"Validation Loss\"])\n",
    "plt.show()"
   ],
   "metadata": {
    "collapsed": false
   }
  },
  {
   "cell_type": "code",
   "execution_count": 13,
   "outputs": [
    {
     "name": "stdout",
     "output_type": "stream",
     "text": [
      "Tensor(\"anomaly_detector/sequential/dense_2/Relu:0\", shape=(None, 8), dtype=float32)\n",
      "Tensor(\"anomaly_detector/sequential_1/dense_5/Sigmoid:0\", shape=(None, 46), dtype=float32)\n",
      "2105/2105 [==============================] - 2s 910us/step\n",
      "Threshold:  0.04027502\n"
     ]
    }
   ],
   "source": [
    "reconstructions = autoencoder.predict(normal_train_data)\n",
    "train_loss = tf.keras.losses.mae(reconstructions, normal_train_data)\n",
    "threshold = np.mean(train_loss) + np.std(train_loss)\n",
    "print(\"Threshold: \", threshold)"
   ],
   "metadata": {
    "collapsed": false
   }
  },
  {
   "cell_type": "code",
   "execution_count": 14,
   "outputs": [],
   "source": [
    "def predict(model, data, threshold):\n",
    "  reconstructions = model(data)\n",
    "  loss = tf.keras.losses.mae(reconstructions, data)\n",
    "  return tf.math.less(loss, threshold)\n",
    "\n",
    "def print_stats(predictions, labels):\n",
    "  print(\"Accuracy = {}\".format(accuracy_score(labels, predictions)))\n",
    "  print(\"Precision = {}\".format(precision_score(labels, predictions)))\n",
    "  print(\"Recall = {}\".format(recall_score(labels, predictions)))"
   ],
   "metadata": {
    "collapsed": false
   }
  },
  {
   "cell_type": "code",
   "execution_count": 15,
   "outputs": [
    {
     "name": "stdout",
     "output_type": "stream",
     "text": [
      "tf.Tensor(\n",
      "[[0.         0.         1.4514513  ... 1.9212586  3.8576152  0.27906305]\n",
      " [0.         0.         1.7471397  ... 2.021806   3.8695154  0.45785522]\n",
      " [0.         0.         3.5509353  ... 3.3716967  2.7387593  2.5082252 ]\n",
      " ...\n",
      " [0.         0.         3.9107456  ... 4.0991173  4.163392   2.8699899 ]\n",
      " [0.         0.         3.936584   ... 5.0925922  5.1069193  3.4355702 ]\n",
      " [0.         0.         3.0652208  ... 4.5350165  4.1783786  0.38901147]], shape=(22544, 8), dtype=float32)\n",
      "tf.Tensor(\n",
      "[[3.0782193e-08 1.3747586e-01 2.1409248e-08 ... 1.8283508e-08\n",
      "  3.5742044e-03 1.1364049e-01]\n",
      " [8.8839247e-09 2.5465074e-03 5.6355391e-09 ... 5.3607252e-09\n",
      "  4.9498671e-04 4.3301368e-03]\n",
      " [2.6103811e-10 5.3332122e-23 1.1181099e-10 ... 1.4195238e-10\n",
      "  1.0656700e-20 4.1001808e-20]\n",
      " ...\n",
      " [3.8503393e-12 8.1267819e-23 3.3559631e-12 ... 1.4357136e-11\n",
      "  2.5916908e-19 9.3390246e-18]\n",
      " [1.5332575e-12 1.7922634e-18 4.5226889e-13 ... 1.8723690e-12\n",
      "  1.8454582e-16 3.4983674e-15]\n",
      " [4.3528053e-13 7.7122943e-12 1.4779677e-13 ... 2.2198861e-13\n",
      "  3.9263841e-09 1.3595561e-10]], shape=(22544, 46), dtype=float32)\n"
     ]
    }
   ],
   "source": [
    "test_predictions = predict(autoencoder, np_test_data, threshold)"
   ],
   "metadata": {
    "collapsed": false
   }
  },
  {
   "cell_type": "markdown",
   "source": [
    "### Stats for whole dataset"
   ],
   "metadata": {
    "collapsed": false
   }
  },
  {
   "cell_type": "code",
   "execution_count": 16,
   "outputs": [
    {
     "name": "stdout",
     "output_type": "stream",
     "text": [
      "Accuracy = 0.7752395315826828\n",
      "Precision = 0.6606698034874066\n",
      "Recall = 0.9832149109257543\n"
     ]
    }
   ],
   "source": [
    "print_stats(test_predictions, test_labels)"
   ],
   "metadata": {
    "collapsed": false
   }
  },
  {
   "cell_type": "code",
   "execution_count": 68,
   "outputs": [],
   "source": [
    "predicted_anomalous = np_test_data[test_predictions]\n",
    "predicted_anomalous_labels = np_test_labels[test_predictions]"
   ],
   "metadata": {
    "collapsed": false
   }
  },
  {
   "cell_type": "markdown",
   "source": [
    "### Stats for all predicted anomalous data"
   ],
   "metadata": {
    "collapsed": false
   }
  },
  {
   "cell_type": "code",
   "execution_count": 70,
   "outputs": [
    {
     "ename": "ValueError",
     "evalue": "Classification metrics can't handle a mix of binary and continuous-multioutput targets",
     "output_type": "error",
     "traceback": [
      "\u001B[1;31m---------------------------------------------------------------------------\u001B[0m",
      "\u001B[1;31mValueError\u001B[0m                                Traceback (most recent call last)",
      "Cell \u001B[1;32mIn[70], line 1\u001B[0m\n\u001B[1;32m----> 1\u001B[0m \u001B[43mprint_stats\u001B[49m\u001B[43m(\u001B[49m\u001B[43mpredicted_anomalous\u001B[49m\u001B[43m,\u001B[49m\u001B[43m \u001B[49m\u001B[43mpredicted_anomalous_labels\u001B[49m\u001B[43m)\u001B[49m\n",
      "Cell \u001B[1;32mIn[14], line 7\u001B[0m, in \u001B[0;36mprint_stats\u001B[1;34m(predictions, labels)\u001B[0m\n\u001B[0;32m      6\u001B[0m \u001B[38;5;28;01mdef\u001B[39;00m \u001B[38;5;21mprint_stats\u001B[39m(predictions, labels):\n\u001B[1;32m----> 7\u001B[0m   \u001B[38;5;28mprint\u001B[39m(\u001B[38;5;124m\"\u001B[39m\u001B[38;5;124mAccuracy = \u001B[39m\u001B[38;5;132;01m{}\u001B[39;00m\u001B[38;5;124m\"\u001B[39m\u001B[38;5;241m.\u001B[39mformat(\u001B[43maccuracy_score\u001B[49m\u001B[43m(\u001B[49m\u001B[43mlabels\u001B[49m\u001B[43m,\u001B[49m\u001B[43m \u001B[49m\u001B[43mpredictions\u001B[49m\u001B[43m)\u001B[49m))\n\u001B[0;32m      8\u001B[0m   \u001B[38;5;28mprint\u001B[39m(\u001B[38;5;124m\"\u001B[39m\u001B[38;5;124mPrecision = \u001B[39m\u001B[38;5;132;01m{}\u001B[39;00m\u001B[38;5;124m\"\u001B[39m\u001B[38;5;241m.\u001B[39mformat(precision_score(labels, predictions)))\n\u001B[0;32m      9\u001B[0m   \u001B[38;5;28mprint\u001B[39m(\u001B[38;5;124m\"\u001B[39m\u001B[38;5;124mRecall = \u001B[39m\u001B[38;5;132;01m{}\u001B[39;00m\u001B[38;5;124m\"\u001B[39m\u001B[38;5;241m.\u001B[39mformat(recall_score(labels, predictions)))\n",
      "File \u001B[1;32mC:\\CodingProjects\\network-anomaly-detection\\venv\\lib\\site-packages\\sklearn\\utils\\_param_validation.py:192\u001B[0m, in \u001B[0;36mvalidate_params.<locals>.decorator.<locals>.wrapper\u001B[1;34m(*args, **kwargs)\u001B[0m\n\u001B[0;32m    187\u001B[0m validate_parameter_constraints(\n\u001B[0;32m    188\u001B[0m     parameter_constraints, params, caller_name\u001B[38;5;241m=\u001B[39mfunc\u001B[38;5;241m.\u001B[39m\u001B[38;5;18m__qualname__\u001B[39m\n\u001B[0;32m    189\u001B[0m )\n\u001B[0;32m    191\u001B[0m \u001B[38;5;28;01mtry\u001B[39;00m:\n\u001B[1;32m--> 192\u001B[0m     \u001B[38;5;28;01mreturn\u001B[39;00m func(\u001B[38;5;241m*\u001B[39margs, \u001B[38;5;241m*\u001B[39m\u001B[38;5;241m*\u001B[39mkwargs)\n\u001B[0;32m    193\u001B[0m \u001B[38;5;28;01mexcept\u001B[39;00m InvalidParameterError \u001B[38;5;28;01mas\u001B[39;00m e:\n\u001B[0;32m    194\u001B[0m     \u001B[38;5;66;03m# When the function is just a wrapper around an estimator, we allow\u001B[39;00m\n\u001B[0;32m    195\u001B[0m     \u001B[38;5;66;03m# the function to delegate validation to the estimator, but we replace\u001B[39;00m\n\u001B[0;32m    196\u001B[0m     \u001B[38;5;66;03m# the name of the estimator by the name of the function in the error\u001B[39;00m\n\u001B[0;32m    197\u001B[0m     \u001B[38;5;66;03m# message to avoid confusion.\u001B[39;00m\n\u001B[0;32m    198\u001B[0m     msg \u001B[38;5;241m=\u001B[39m re\u001B[38;5;241m.\u001B[39msub(\n\u001B[0;32m    199\u001B[0m         \u001B[38;5;124mr\u001B[39m\u001B[38;5;124m\"\u001B[39m\u001B[38;5;124mparameter of \u001B[39m\u001B[38;5;124m\\\u001B[39m\u001B[38;5;124mw+ must be\u001B[39m\u001B[38;5;124m\"\u001B[39m,\n\u001B[0;32m    200\u001B[0m         \u001B[38;5;124mf\u001B[39m\u001B[38;5;124m\"\u001B[39m\u001B[38;5;124mparameter of \u001B[39m\u001B[38;5;132;01m{\u001B[39;00mfunc\u001B[38;5;241m.\u001B[39m\u001B[38;5;18m__qualname__\u001B[39m\u001B[38;5;132;01m}\u001B[39;00m\u001B[38;5;124m must be\u001B[39m\u001B[38;5;124m\"\u001B[39m,\n\u001B[0;32m    201\u001B[0m         \u001B[38;5;28mstr\u001B[39m(e),\n\u001B[0;32m    202\u001B[0m     )\n",
      "File \u001B[1;32mC:\\CodingProjects\\network-anomaly-detection\\venv\\lib\\site-packages\\sklearn\\metrics\\_classification.py:221\u001B[0m, in \u001B[0;36maccuracy_score\u001B[1;34m(y_true, y_pred, normalize, sample_weight)\u001B[0m\n\u001B[0;32m    155\u001B[0m \u001B[38;5;250m\u001B[39m\u001B[38;5;124;03m\"\"\"Accuracy classification score.\u001B[39;00m\n\u001B[0;32m    156\u001B[0m \n\u001B[0;32m    157\u001B[0m \u001B[38;5;124;03mIn multilabel classification, this function computes subset accuracy:\u001B[39;00m\n\u001B[1;32m   (...)\u001B[0m\n\u001B[0;32m    217\u001B[0m \u001B[38;5;124;03m0.5\u001B[39;00m\n\u001B[0;32m    218\u001B[0m \u001B[38;5;124;03m\"\"\"\u001B[39;00m\n\u001B[0;32m    220\u001B[0m \u001B[38;5;66;03m# Compute accuracy for each possible representation\u001B[39;00m\n\u001B[1;32m--> 221\u001B[0m y_type, y_true, y_pred \u001B[38;5;241m=\u001B[39m \u001B[43m_check_targets\u001B[49m\u001B[43m(\u001B[49m\u001B[43my_true\u001B[49m\u001B[43m,\u001B[49m\u001B[43m \u001B[49m\u001B[43my_pred\u001B[49m\u001B[43m)\u001B[49m\n\u001B[0;32m    222\u001B[0m check_consistent_length(y_true, y_pred, sample_weight)\n\u001B[0;32m    223\u001B[0m \u001B[38;5;28;01mif\u001B[39;00m y_type\u001B[38;5;241m.\u001B[39mstartswith(\u001B[38;5;124m\"\u001B[39m\u001B[38;5;124mmultilabel\u001B[39m\u001B[38;5;124m\"\u001B[39m):\n",
      "File \u001B[1;32mC:\\CodingProjects\\network-anomaly-detection\\venv\\lib\\site-packages\\sklearn\\metrics\\_classification.py:95\u001B[0m, in \u001B[0;36m_check_targets\u001B[1;34m(y_true, y_pred)\u001B[0m\n\u001B[0;32m     92\u001B[0m     y_type \u001B[38;5;241m=\u001B[39m {\u001B[38;5;124m\"\u001B[39m\u001B[38;5;124mmulticlass\u001B[39m\u001B[38;5;124m\"\u001B[39m}\n\u001B[0;32m     94\u001B[0m \u001B[38;5;28;01mif\u001B[39;00m \u001B[38;5;28mlen\u001B[39m(y_type) \u001B[38;5;241m>\u001B[39m \u001B[38;5;241m1\u001B[39m:\n\u001B[1;32m---> 95\u001B[0m     \u001B[38;5;28;01mraise\u001B[39;00m \u001B[38;5;167;01mValueError\u001B[39;00m(\n\u001B[0;32m     96\u001B[0m         \u001B[38;5;124m\"\u001B[39m\u001B[38;5;124mClassification metrics can\u001B[39m\u001B[38;5;124m'\u001B[39m\u001B[38;5;124mt handle a mix of \u001B[39m\u001B[38;5;132;01m{0}\u001B[39;00m\u001B[38;5;124m and \u001B[39m\u001B[38;5;132;01m{1}\u001B[39;00m\u001B[38;5;124m targets\u001B[39m\u001B[38;5;124m\"\u001B[39m\u001B[38;5;241m.\u001B[39mformat(\n\u001B[0;32m     97\u001B[0m             type_true, type_pred\n\u001B[0;32m     98\u001B[0m         )\n\u001B[0;32m     99\u001B[0m     )\n\u001B[0;32m    101\u001B[0m \u001B[38;5;66;03m# We can't have more than one value on y_type => The set is no more needed\u001B[39;00m\n\u001B[0;32m    102\u001B[0m y_type \u001B[38;5;241m=\u001B[39m y_type\u001B[38;5;241m.\u001B[39mpop()\n",
      "\u001B[1;31mValueError\u001B[0m: Classification metrics can't handle a mix of binary and continuous-multioutput targets"
     ]
    }
   ],
   "source": [
    "print_stats(predicted_anomalous, predicted_anomalous_labels)"
   ],
   "metadata": {
    "collapsed": false
   }
  },
  {
   "cell_type": "code",
   "execution_count": 18,
   "outputs": [],
   "source": [
    "def addZToData(data, model):\n",
    "    data_with_Z = []\n",
    "    for i in range(1, len(data)+1):\n",
    "        data_with_Z.append(addZToPrediction(model, data[i-1:i]))\n",
    "\n",
    "    data_with_Z_rf = []\n",
    "    for i in range(len(data_with_Z)):\n",
    "        data_with_Z_rf.append(np_train_data[:][:][i].numpy().reshape(1,46).squeeze())\n",
    "\n",
    "    return  pd.DataFrame(data_with_Z_rf)"
   ],
   "metadata": {
    "collapsed": false
   }
  },
  {
   "cell_type": "code",
   "execution_count": 71,
   "outputs": [
    {
     "name": "stderr",
     "output_type": "stream",
     "text": [
      "\n",
      "KeyboardInterrupt\n",
      "\n"
     ]
    }
   ],
   "source": [
    "train_data_with_Z_df = addZToData(np_train_data, autoencoder)\n",
    "\n",
    "anomalous_test_data_with_Z_df = addZToData(predicted_anomalous, autoencoder)"
   ],
   "metadata": {
    "collapsed": false
   }
  },
  {
   "cell_type": "code",
   "execution_count": 20,
   "outputs": [],
   "source": [
    "contamination = sum(train_labels == 0) / len(train_labels)"
   ],
   "metadata": {
    "collapsed": false
   }
  },
  {
   "cell_type": "code",
   "execution_count": 21,
   "outputs": [
    {
     "name": "stdout",
     "output_type": "stream",
     "text": [
      "Finished building forest\n",
      "Finished calculating threshold\n",
      "true anomalies: 2489\n",
      "false anomalies: 2415\n",
      "false normals: 4762\n",
      "true normals: 4786\n",
      "precision: 0.5075448613376835\n",
      "recall: 0.34326299820714384\n",
      "f1-score: 0.40954339777869186\n"
     ]
    }
   ],
   "source": [
    "from turtleIsolationForests.extendedIsolationForest import ExtendedIsolationForest\n",
    "from turtleIsolationForests.printResults import print_results\n",
    "\n",
    "eif = ExtendedIsolationForest(contamination = contamination, random_state = None)\n",
    "eif.fit(train_data_with_Z_df, train_labels)\n",
    "\n",
    "eif_predictions = eif.predict(anomalous_test_data_with_Z_df)\n",
    "eif_predictions['is_normal'] = predicted_anomalous_labels\n",
    "\n",
    "print_results(eif_predictions)"
   ],
   "metadata": {
    "collapsed": false
   }
  },
  {
   "cell_type": "code",
   "execution_count": 23,
   "outputs": [
    {
     "name": "stdout",
     "output_type": "stream",
     "text": [
      "Finished building forest\n",
      "Finished calculating threshold\n",
      "true anomalies: 2491\n",
      "false anomalies: 2413\n",
      "false normals: 4873\n",
      "true normals: 4675\n",
      "precision: 0.507952691680261\n",
      "recall: 0.3382672460619229\n",
      "f1-score: 0.40609716335180956\n"
     ]
    }
   ],
   "source": [
    "from turtleIsolationForests.sciForest import SCIsolationForest\n",
    "\n",
    "scif = SCIsolationForest(contamination = contamination, num_hyperplanes_per_split=5, random_state = None)\n",
    "scif.fit(train_data_with_Z_df, train_labels)\n",
    "\n",
    "scif_predictions = scif.predict(anomalous_test_data_with_Z_df)\n",
    "scif_predictions['is_normal'] = predicted_anomalous_labels\n",
    "\n",
    "print_results(scif_predictions)"
   ],
   "metadata": {
    "collapsed": false
   }
  },
  {
   "cell_type": "code",
   "execution_count": 26,
   "outputs": [
    {
     "name": "stdout",
     "output_type": "stream",
     "text": [
      "true anomalies: 2485\n",
      "false anomalies: 2419\n",
      "false normals: 4810\n",
      "true normals: 4738\n",
      "precision: 0.5067292006525286\n",
      "recall: 0.3406442769019877\n",
      "f1-score: 0.40741044347897365\n"
     ]
    }
   ],
   "source": [
    "from turtleIsolationForests.isolationForest import IsolationForest\n",
    "\n",
    "isoforest = IsolationForest(contamination = contamination, random_state = None)\n",
    "isoforest.fit(train_data_with_Z_df, train_labels)\n",
    "\n",
    "isoforest_predictions = isoforest.predict(anomalous_test_data_with_Z_df)\n",
    "isoforest_predictions['is_normal'] = predicted_anomalous_labels\n",
    "\n",
    "print_results(isoforest_predictions)"
   ],
   "metadata": {
    "collapsed": false
   }
  },
  {
   "cell_type": "code",
   "execution_count": 27,
   "outputs": [
    {
     "name": "stdout",
     "output_type": "stream",
     "text": [
      "true anomalies: 2471\n",
      "false anomalies: 2433\n",
      "false normals: 4867\n",
      "true normals: 4681\n",
      "precision: 0.5038743882544862\n",
      "recall: 0.3367402562005996\n",
      "f1-score: 0.4036922071556936\n"
     ]
    }
   ],
   "source": [
    "from turtleIsolationForests.FBIF import FBIsolationForest\n",
    "\n",
    "fbif = FBIsolationForest(contamination = contamination, random_state = None)\n",
    "fbif.fit(train_data_with_Z_df, train_labels)\n",
    "\n",
    "fbif_predictions = fbif.predict(anomalous_test_data_with_Z_df)\n",
    "fbif_predictions['is_normal'] = predicted_anomalous_labels\n",
    "\n",
    "print_results(fbif_predictions)"
   ],
   "metadata": {
    "collapsed": false
   }
  },
  {
   "cell_type": "code",
   "execution_count": null,
   "outputs": [],
   "source": [],
   "metadata": {
    "collapsed": false
   }
  }
 ],
 "metadata": {
  "kernelspec": {
   "display_name": "Python 3",
   "language": "python",
   "name": "python3"
  },
  "language_info": {
   "codemirror_mode": {
    "name": "ipython",
    "version": 2
   },
   "file_extension": ".py",
   "mimetype": "text/x-python",
   "name": "python",
   "nbconvert_exporter": "python",
   "pygments_lexer": "ipython2",
   "version": "2.7.6"
  }
 },
 "nbformat": 4,
 "nbformat_minor": 0
}
