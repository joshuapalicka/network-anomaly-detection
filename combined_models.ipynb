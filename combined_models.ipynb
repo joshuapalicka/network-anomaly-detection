{
 "cells": [
  {
   "cell_type": "code",
   "execution_count": 63,
   "outputs": [],
   "source": [
    "import matplotlib.pyplot as plt\n",
    "import numpy as np\n",
    "import pandas as pd\n",
    "import tensorflow as tf\n",
    "\n",
    "from sklearn.metrics import accuracy_score, precision_score, recall_score\n",
    "from sklearn.model_selection import train_test_split"
   ]
  },
  {
   "cell_type": "code",
   "execution_count": 2,
   "metadata": {
    "collapsed": false
   }
  },
  {
   "cell_type": "code",
   "execution_count": 64,
   "outputs": [],
   "source": [
    "import autoencoder.aecExtraFeatures as Z_calculations\n",
    "\n",
    "def addZToPrediction(model, data_point):\n",
    "    encoded = model.encoder(data_point)\n",
    "    reconstruction = model.decoder(encoded)\n",
    "\n",
    "    Z_features = [Z_calculations.getZVector(data_point, reconstruction, encoded)]\n",
    "\n",
    "    Z_features_tensor = tf.convert_to_tensor(Z_features, dtype=tf.float32)\n",
    "    data_point = tf.convert_to_tensor(data_point, dtype=tf.float32)\n",
    "\n",
    "    data_point = tf.concat([data_point, Z_features_tensor], 1)\n",
    "\n",
    "    return data_point"
   ]
  },
  {
   "cell_type": "code",
   "execution_count": 3,
   "metadata": {
    "collapsed": false
   }
  },
  {
   "cell_type": "code",
   "execution_count": 65,
   "outputs": [],
   "source": [
    "def isAnomaly(data_point, model_1, model_2, threshold):\n",
    "\n",
    "    # need autoencoder to return boolean isAnomaly\n",
    "    isAnomaly = tf.math.less(tf.keras.losses.mae(model_1(data_point), data_point), threshold)\n",
    "\n",
    "    # if the autoencoder doesn't find anything out of the ordinary, return False\n",
    "    if not isAnomaly:\n",
    "        return False\n",
    "\n",
    "    data_point = addZToPrediction(model_1, data_point)\n",
    "\n",
    "    # if the autoencoder sees something weird, run it through the isolation forest to make sure\n",
    "    return model_2.predict(data_point)"
   ]
  },
  {
   "cell_type": "code",
   "execution_count": 4,
   "metadata": {
    "collapsed": false
   }
  },
  {
   "cell_type": "code",
   "execution_count": 66,
   "outputs": [],
   "source": [
    "from turtleIsolationForests.preprocessFeatures import preprocess_features\n",
    "\n",
    "train_dataframe = pd.read_csv(\"eda_simple_classification/network_data_mod_train.csv\", index_col=0)\n",
    "test_dataframe = pd.read_csv(\"eda_simple_classification/network_data_mod_test.csv\", index_col=0)\n",
    "\n",
    "train_data, test_data, train_labels, test_labels = preprocess_features(train_dataframe, test_dataframe)"
   ],
   "metadata": {
    "collapsed": false
   }
  },
  {
   "cell_type": "code",
   "execution_count": 67,
   "outputs": [],
   "source": [
    "#train_data, test_data, train_labels, test_labels = train_data[:1000], test_data[:1000], train_labels[:1000], test_labels[:1000]"
   ],
   "metadata": {
    "collapsed": false
   }
  },
  {
   "cell_type": "code",
   "execution_count": 68,
   "outputs": [],
   "source": [
    "np_train_labels = train_labels.to_numpy()\n",
    "np_test_labels = test_labels.to_numpy()"
   ],
   "metadata": {
    "collapsed": false
   }
  },
  {
   "cell_type": "code",
   "execution_count": 69,
   "outputs": [],
   "source": [
    "np_train_data = train_data.to_numpy()\n",
    "np_test_data = test_data.to_numpy()"
   ],
   "metadata": {
    "collapsed": false
   }
  },
  {
   "cell_type": "code",
   "execution_count": 70,
   "outputs": [],
   "source": [
    "np_train_data = tf.cast(np_train_data, tf.float32)\n",
    "np_test_data = tf.cast(np_test_data, tf.float32)"
   ]
  },
  {
   "cell_type": "code",
   "execution_count": 8,
   "metadata": {
    "collapsed": false
   }
  },
  {
   "cell_type": "code",
   "execution_count": 71,
   "outputs": [],
   "source": [
    "np_train_labels = np_train_labels.astype(bool)\n",
    "np_test_labels = np_test_labels.astype(bool)\n",
    "\n",
    "normal_train_data = np_train_data[np_train_labels]\n",
    "normal_test_data = np_test_data[np_test_labels]\n",
    "\n",
    "anomalous_train_data = np_train_data[~np_train_labels]\n",
    "anomalous_test_data = np_test_data[~np_test_labels]"
   ],
   "metadata": {
    "collapsed": false
   }
  },
  {
   "cell_type": "code",
   "execution_count": 72,
   "outputs": [],
   "source": [
    "from autoencoder.autoencoder import AnomalyDetector\n",
    "autoencoder = AnomalyDetector()"
   ],
   "metadata": {
    "collapsed": false
   }
  },
  {
   "cell_type": "code",
   "execution_count": 73,
   "outputs": [],
   "source": [
    "autoencoder.compile(optimizer='adam', loss='mae')"
   ],
   "metadata": {
    "collapsed": false
   }
  },
  {
   "cell_type": "code",
   "execution_count": 74,
   "outputs": [
    {
     "name": "stdout",
     "output_type": "stream",
     "text": [
      "Epoch 1/100\n",
      "Tensor(\"anomaly_detector_1/sequential_2/dense_8/Relu:0\", shape=(None, 8), dtype=float32)\n",
      "Tensor(\"anomaly_detector_1/sequential_3/dense_11/Sigmoid:0\", shape=(None, 46), dtype=float32)\n",
      "Tensor(\"anomaly_detector_1/sequential_2/dense_8/Relu:0\", shape=(None, 8), dtype=float32)\n",
      "Tensor(\"anomaly_detector_1/sequential_3/dense_11/Sigmoid:0\", shape=(None, 46), dtype=float32)\n",
      "2086/2105 [============================>.] - ETA: 0s - loss: 0.2904Tensor(\"anomaly_detector_1/sequential_2/dense_8/Relu:0\", shape=(None, 8), dtype=float32)\n",
      "Tensor(\"anomaly_detector_1/sequential_3/dense_11/Sigmoid:0\", shape=(None, 46), dtype=float32)\n",
      "2105/2105 [==============================] - 10s 4ms/step - loss: 0.2902 - val_loss: 0.4173\n",
      "Epoch 2/100\n",
      "2105/2105 [==============================] - 7s 3ms/step - loss: 0.2733 - val_loss: 0.4137\n",
      "Epoch 3/100\n",
      "2105/2105 [==============================] - 5s 2ms/step - loss: 0.2720 - val_loss: 0.4114\n",
      "Epoch 4/100\n",
      "2105/2105 [==============================] - 5s 3ms/step - loss: 0.2717 - val_loss: 0.4092\n",
      "Epoch 5/100\n",
      "2105/2105 [==============================] - 5s 3ms/step - loss: 0.2713 - val_loss: 0.4065\n",
      "Epoch 6/100\n",
      "2105/2105 [==============================] - 5s 3ms/step - loss: 0.2703 - val_loss: 0.4048\n",
      "Epoch 7/100\n",
      "2105/2105 [==============================] - 6s 3ms/step - loss: 0.2697 - val_loss: 0.4043\n",
      "Epoch 8/100\n",
      "2105/2105 [==============================] - 6s 3ms/step - loss: 0.2695 - val_loss: 0.4055\n",
      "Epoch 9/100\n",
      "2105/2105 [==============================] - 6s 3ms/step - loss: 0.2694 - val_loss: 0.4045\n",
      "Epoch 10/100\n",
      "2105/2105 [==============================] - 6s 3ms/step - loss: 0.2693 - val_loss: 0.4040\n",
      "Epoch 11/100\n",
      "2105/2105 [==============================] - 8s 4ms/step - loss: 0.2692 - val_loss: 0.4020\n",
      "Epoch 12/100\n",
      "2105/2105 [==============================] - 7s 3ms/step - loss: 0.2691 - val_loss: 0.4031\n",
      "Epoch 13/100\n",
      "2105/2105 [==============================] - 7s 3ms/step - loss: 0.2689 - val_loss: 0.4016\n",
      "Epoch 14/100\n",
      "2105/2105 [==============================] - 6s 3ms/step - loss: 0.2689 - val_loss: 0.4030\n",
      "Epoch 15/100\n",
      "2105/2105 [==============================] - 6s 3ms/step - loss: 0.2688 - val_loss: 0.4029\n",
      "Epoch 16/100\n",
      "2105/2105 [==============================] - 6s 3ms/step - loss: 0.2688 - val_loss: 0.4038\n",
      "Epoch 17/100\n",
      "2105/2105 [==============================] - 6s 3ms/step - loss: 0.2688 - val_loss: 0.4030\n",
      "Epoch 18/100\n",
      "2105/2105 [==============================] - 6s 3ms/step - loss: 0.2688 - val_loss: 0.4028\n",
      "Epoch 19/100\n",
      "2105/2105 [==============================] - 6s 3ms/step - loss: 0.2687 - val_loss: 0.4031\n",
      "Epoch 20/100\n",
      "2105/2105 [==============================] - 7s 3ms/step - loss: 0.2687 - val_loss: 0.4028\n",
      "Epoch 21/100\n",
      "2105/2105 [==============================] - 6s 3ms/step - loss: 0.2687 - val_loss: 0.4032\n",
      "Epoch 22/100\n",
      "2105/2105 [==============================] - 6s 3ms/step - loss: 0.2687 - val_loss: 0.4030\n",
      "Epoch 23/100\n",
      "2105/2105 [==============================] - 7s 3ms/step - loss: 0.2687 - val_loss: 0.4028\n",
      "Epoch 24/100\n",
      "2105/2105 [==============================] - 6s 3ms/step - loss: 0.2687 - val_loss: 0.4024\n",
      "Epoch 25/100\n",
      "2105/2105 [==============================] - 7s 3ms/step - loss: 0.2686 - val_loss: 0.4028\n",
      "Epoch 26/100\n",
      "2105/2105 [==============================] - 9s 4ms/step - loss: 0.2686 - val_loss: 0.4031\n",
      "Epoch 27/100\n",
      "2105/2105 [==============================] - 7s 3ms/step - loss: 0.2686 - val_loss: 0.4029\n",
      "Epoch 28/100\n",
      "2105/2105 [==============================] - 7s 3ms/step - loss: 0.2686 - val_loss: 0.4027\n",
      "Epoch 29/100\n",
      "2105/2105 [==============================] - 7s 3ms/step - loss: 0.2686 - val_loss: 0.4028\n",
      "Epoch 30/100\n",
      "2105/2105 [==============================] - 6s 3ms/step - loss: 0.2686 - val_loss: 0.4026\n",
      "Epoch 31/100\n",
      "2105/2105 [==============================] - 7s 3ms/step - loss: 0.2686 - val_loss: 0.4031\n",
      "Epoch 32/100\n",
      "2105/2105 [==============================] - 7s 3ms/step - loss: 0.2685 - val_loss: 0.4030\n",
      "Epoch 33/100\n",
      "2105/2105 [==============================] - 7s 3ms/step - loss: 0.2685 - val_loss: 0.4031\n",
      "Epoch 34/100\n",
      "2105/2105 [==============================] - 8s 4ms/step - loss: 0.2685 - val_loss: 0.4031\n",
      "Epoch 35/100\n",
      "2105/2105 [==============================] - 7s 3ms/step - loss: 0.2685 - val_loss: 0.4027\n",
      "Epoch 36/100\n",
      "2105/2105 [==============================] - 7s 3ms/step - loss: 0.2685 - val_loss: 0.4026\n",
      "Epoch 37/100\n",
      "2105/2105 [==============================] - 7s 3ms/step - loss: 0.2685 - val_loss: 0.4031\n",
      "Epoch 38/100\n",
      "2105/2105 [==============================] - 8s 4ms/step - loss: 0.2685 - val_loss: 0.4024\n",
      "Epoch 39/100\n",
      "2105/2105 [==============================] - 7s 4ms/step - loss: 0.2685 - val_loss: 0.4022\n",
      "Epoch 40/100\n",
      "2105/2105 [==============================] - 6s 3ms/step - loss: 0.2685 - val_loss: 0.4022\n",
      "Epoch 41/100\n",
      "2105/2105 [==============================] - 6s 3ms/step - loss: 0.2685 - val_loss: 0.4021\n",
      "Epoch 42/100\n",
      "2105/2105 [==============================] - 6s 3ms/step - loss: 0.2684 - val_loss: 0.4025\n",
      "Epoch 43/100\n",
      "2105/2105 [==============================] - 6s 3ms/step - loss: 0.2684 - val_loss: 0.4032\n",
      "Epoch 44/100\n",
      "2105/2105 [==============================] - 6s 3ms/step - loss: 0.2685 - val_loss: 0.4024\n",
      "Epoch 45/100\n",
      "2105/2105 [==============================] - 6s 3ms/step - loss: 0.2684 - val_loss: 0.4023\n",
      "Epoch 46/100\n",
      "2105/2105 [==============================] - 6s 3ms/step - loss: 0.2684 - val_loss: 0.4021\n",
      "Epoch 47/100\n",
      "2105/2105 [==============================] - 6s 3ms/step - loss: 0.2684 - val_loss: 0.4022\n",
      "Epoch 48/100\n",
      "2105/2105 [==============================] - 6s 3ms/step - loss: 0.2684 - val_loss: 0.4021\n",
      "Epoch 49/100\n",
      "2105/2105 [==============================] - 6s 3ms/step - loss: 0.2684 - val_loss: 0.4022\n",
      "Epoch 50/100\n",
      "2105/2105 [==============================] - 6s 3ms/step - loss: 0.2684 - val_loss: 0.4021\n",
      "Epoch 51/100\n",
      "2105/2105 [==============================] - 6s 3ms/step - loss: 0.2684 - val_loss: 0.4022\n",
      "Epoch 52/100\n",
      "2105/2105 [==============================] - 6s 3ms/step - loss: 0.2684 - val_loss: 0.4020\n",
      "Epoch 53/100\n",
      "2105/2105 [==============================] - 6s 3ms/step - loss: 0.2684 - val_loss: 0.4019\n",
      "Epoch 54/100\n",
      "2105/2105 [==============================] - 6s 3ms/step - loss: 0.2684 - val_loss: 0.4021\n",
      "Epoch 55/100\n",
      "2105/2105 [==============================] - 6s 3ms/step - loss: 0.2684 - val_loss: 0.4020\n",
      "Epoch 56/100\n",
      "2105/2105 [==============================] - 6s 3ms/step - loss: 0.2684 - val_loss: 0.4021\n",
      "Epoch 57/100\n",
      "2105/2105 [==============================] - 6s 3ms/step - loss: 0.2684 - val_loss: 0.4023\n",
      "Epoch 58/100\n",
      "2105/2105 [==============================] - 6s 3ms/step - loss: 0.2684 - val_loss: 0.4020\n",
      "Epoch 59/100\n",
      "2105/2105 [==============================] - 6s 3ms/step - loss: 0.2684 - val_loss: 0.4023\n",
      "Epoch 60/100\n",
      "2105/2105 [==============================] - 6s 3ms/step - loss: 0.2684 - val_loss: 0.4025\n",
      "Epoch 61/100\n",
      "2105/2105 [==============================] - 6s 3ms/step - loss: 0.2684 - val_loss: 0.4019\n",
      "Epoch 62/100\n",
      "2105/2105 [==============================] - 6s 3ms/step - loss: 0.2684 - val_loss: 0.4004\n",
      "Epoch 63/100\n",
      "2105/2105 [==============================] - 6s 3ms/step - loss: 0.2684 - val_loss: 0.4009\n",
      "Epoch 64/100\n",
      "2105/2105 [==============================] - 6s 3ms/step - loss: 0.2684 - val_loss: 0.4019\n",
      "Epoch 65/100\n",
      "2105/2105 [==============================] - 6s 3ms/step - loss: 0.2684 - val_loss: 0.4018\n",
      "Epoch 66/100\n",
      "2105/2105 [==============================] - 7s 3ms/step - loss: 0.2684 - val_loss: 0.4026\n",
      "Epoch 67/100\n",
      "2105/2105 [==============================] - 7s 3ms/step - loss: 0.2684 - val_loss: 0.4016\n",
      "Epoch 68/100\n",
      "2105/2105 [==============================] - 6s 3ms/step - loss: 0.2684 - val_loss: 0.4019\n",
      "Epoch 69/100\n",
      "2105/2105 [==============================] - 6s 3ms/step - loss: 0.2684 - val_loss: 0.4018\n",
      "Epoch 70/100\n",
      "2105/2105 [==============================] - 6s 3ms/step - loss: 0.2684 - val_loss: 0.4020\n",
      "Epoch 71/100\n",
      "2105/2105 [==============================] - 6s 3ms/step - loss: 0.2684 - val_loss: 0.4019\n",
      "Epoch 72/100\n",
      "2105/2105 [==============================] - 7s 3ms/step - loss: 0.2683 - val_loss: 0.4021\n",
      "Epoch 73/100\n",
      "2105/2105 [==============================] - 6s 3ms/step - loss: 0.2683 - val_loss: 0.4022\n",
      "Epoch 74/100\n",
      "2105/2105 [==============================] - 6s 3ms/step - loss: 0.2683 - val_loss: 0.4020\n",
      "Epoch 75/100\n",
      "2105/2105 [==============================] - 6s 3ms/step - loss: 0.2683 - val_loss: 0.4020\n",
      "Epoch 76/100\n",
      "2105/2105 [==============================] - 6s 3ms/step - loss: 0.2683 - val_loss: 0.4019\n",
      "Epoch 77/100\n",
      "2105/2105 [==============================] - 6s 3ms/step - loss: 0.2683 - val_loss: 0.4021\n",
      "Epoch 78/100\n",
      "2105/2105 [==============================] - 6s 3ms/step - loss: 0.2683 - val_loss: 0.4000\n",
      "Epoch 79/100\n",
      "2105/2105 [==============================] - 6s 3ms/step - loss: 0.2683 - val_loss: 0.4009\n",
      "Epoch 80/100\n",
      "2105/2105 [==============================] - 6s 3ms/step - loss: 0.2683 - val_loss: 0.4019\n",
      "Epoch 81/100\n",
      "2105/2105 [==============================] - 6s 3ms/step - loss: 0.2683 - val_loss: 0.4018\n",
      "Epoch 82/100\n",
      "2105/2105 [==============================] - 6s 3ms/step - loss: 0.2683 - val_loss: 0.4020\n",
      "Epoch 83/100\n",
      "2105/2105 [==============================] - 6s 3ms/step - loss: 0.2683 - val_loss: 0.4019\n",
      "Epoch 84/100\n",
      "2105/2105 [==============================] - 6s 3ms/step - loss: 0.2683 - val_loss: 0.4015\n",
      "Epoch 85/100\n",
      "2105/2105 [==============================] - 6s 3ms/step - loss: 0.2683 - val_loss: 0.4010\n",
      "Epoch 86/100\n",
      "2105/2105 [==============================] - 6s 3ms/step - loss: 0.2683 - val_loss: 0.4017\n",
      "Epoch 87/100\n",
      "2105/2105 [==============================] - 6s 3ms/step - loss: 0.2683 - val_loss: 0.4018\n",
      "Epoch 88/100\n",
      "2105/2105 [==============================] - 6s 3ms/step - loss: 0.2683 - val_loss: 0.4015\n",
      "Epoch 89/100\n",
      "2105/2105 [==============================] - 6s 3ms/step - loss: 0.2683 - val_loss: 0.4016\n",
      "Epoch 90/100\n",
      "2105/2105 [==============================] - 6s 3ms/step - loss: 0.2683 - val_loss: 0.4017\n",
      "Epoch 91/100\n",
      "2105/2105 [==============================] - 6s 3ms/step - loss: 0.2683 - val_loss: 0.4018\n",
      "Epoch 92/100\n",
      "2105/2105 [==============================] - 6s 3ms/step - loss: 0.2683 - val_loss: 0.4004\n",
      "Epoch 93/100\n",
      "2105/2105 [==============================] - 6s 3ms/step - loss: 0.2683 - val_loss: 0.4007\n",
      "Epoch 94/100\n",
      "2105/2105 [==============================] - 6s 3ms/step - loss: 0.2683 - val_loss: 0.4006\n",
      "Epoch 95/100\n",
      "2105/2105 [==============================] - 7s 3ms/step - loss: 0.2683 - val_loss: 0.4004\n",
      "Epoch 96/100\n",
      "2105/2105 [==============================] - 7s 3ms/step - loss: 0.2683 - val_loss: 0.4007\n",
      "Epoch 97/100\n",
      "2105/2105 [==============================] - 7s 3ms/step - loss: 0.2683 - val_loss: 0.4004\n",
      "Epoch 98/100\n",
      "2105/2105 [==============================] - 6s 3ms/step - loss: 0.2683 - val_loss: 0.4004\n",
      "Epoch 99/100\n",
      "2105/2105 [==============================] - 6s 3ms/step - loss: 0.2683 - val_loss: 0.4017\n",
      "Epoch 100/100\n",
      "2105/2105 [==============================] - 6s 3ms/step - loss: 0.2683 - val_loss: 0.4017\n"
     ]
    }
   ],
   "source": [
    "history = autoencoder.fit(normal_train_data, normal_train_data,\n",
    "          epochs=100,\n",
    "          validation_data=(test_data, test_data),\n",
    "          shuffle=True)"
   ]
  },
  {
   "cell_type": "code",
   "execution_count": 12,
   "metadata": {
    "collapsed": false
   }
  },
  {
   "cell_type": "code",
   "execution_count": 75,
   "outputs": [
    {
     "data": {
      "text/plain": "<Figure size 640x480 with 1 Axes>",
      "image/png": "[encoded data removed]"
     },
     "metadata": {},
     "output_type": "display_data"
    }
   ],
   "source": [
    "plt.plot(history.history[\"loss\"])\n",
    "plt.plot(history.history[\"val_loss\"])\n",
    "plt.title(\"Training Loss & Validation Loss over epochs\")\n",
    "plt.xlabel(\"Epochs\")\n",
    "plt.ylabel(\"Loss\")\n",
    "#plt.ylim([0,.0008])\n",
    "plt.legend([\"Loss\", \"Validation Loss\"])\n",
    "plt.show()"
   ]
  },
  {
   "cell_type": "code",
   "execution_count": 24,
   "metadata": {
    "collapsed": false
   }
  },
  {
   "cell_type": "code",
   "execution_count": 76,
   "outputs": [
    {
     "name": "stdout",
     "output_type": "stream",
     "text": [
      "Tensor(\"anomaly_detector_1/sequential_2/dense_8/Relu:0\", shape=(None, 8), dtype=float32)\n",
      "Tensor(\"anomaly_detector_1/sequential_3/dense_11/Sigmoid:0\", shape=(None, 46), dtype=float32)\n",
      "2105/2105 [==============================] - 3s 2ms/step\n",
      "Threshold:  0.44103524\n"
     ]
    }
   ],
   "source": [
    "reconstructions = autoencoder.predict(normal_train_data)\n",
    "train_loss = tf.keras.losses.mae(reconstructions, normal_train_data)\n",
    "threshold = np.mean(train_loss) + np.std(train_loss)\n",
    "print(\"Threshold: \", threshold)"
   ]
  },
  {
   "cell_type": "code",
   "execution_count": 25,
   "metadata": {
    "collapsed": false
   }
  },
  {
   "cell_type": "code",
   "execution_count": 77,
   "outputs": [],
   "source": [
    "def predict(model, data, threshold):\n",
    "  reconstructions = model(data)\n",
    "  loss = tf.keras.losses.mae(data, reconstructions) # 0 = anomaly (same as data)\n",
    "  return tf.math.less(loss, threshold)\n",
    "\n",
    "def getLoss(model, data):\n",
    "    reconstructions = model(data)\n",
    "    loss = tf.keras.losses.mae(data, reconstructions) # 0 = anomaly (same as data)\n",
    "    return loss\n",
    "\n",
    "def print_stats(predictions, labels):\n",
    "  print(\"Accuracy = {}\".format(accuracy_score(labels, predictions)))\n",
    "  print(\"Precision = {}\".format(precision_score(labels, predictions)))\n",
    "  print(\"Recall = {}\".format(recall_score(labels, predictions)))"
   ]
  },
  {
   "cell_type": "code",
   "execution_count": 26,
   "metadata": {
    "collapsed": false
   }
  },
  {
   "cell_type": "code",
   "execution_count": 78,
   "outputs": [
    {
     "name": "stdout",
     "output_type": "stream",
     "text": [
      "32.7 ms ± 3.64 ms per loop (mean ± std. dev. of 7 runs, 10 loops each)\n"
     ]
    }
   ],
   "source": [
    "%%timeit\n",
    "%%capture\n",
    "\n",
    "predict(autoencoder, np_test_data, threshold)"
   ],
   "metadata": {
    "collapsed": false
   }
  },
  {
   "cell_type": "code",
   "execution_count": 79,
   "outputs": [],
   "source": [
    "%%capture\n",
    "\n",
    "test_predictions = predict(autoencoder, np_test_data, threshold)"
   ],
   "metadata": {
    "collapsed": false
   }
  },
  {
   "cell_type": "markdown",
   "source": [
    "### Stats for whole dataset"
   ],
   "metadata": {
    "collapsed": false
   }
  },
  {
   "cell_type": "code",
   "execution_count": 80,
   "outputs": [
    {
     "name": "stdout",
     "output_type": "stream",
     "text": [
      "Accuracy = 0.7567423704755145\n",
      "Precision = 0.6441186498465735\n",
      "Recall = 0.972711358253527\n"
     ]
    }
   ],
   "source": [
    "print_stats(test_predictions, test_labels)"
   ],
   "metadata": {
    "collapsed": false
   }
  },
  {
   "cell_type": "code",
   "execution_count": 81,
   "outputs": [
    {
     "name": "stdout",
     "output_type": "stream",
     "text": [
      "[[7614 5219]\n",
      " [ 265 9446]]\n"
     ]
    }
   ],
   "source": [
    "from sklearn.metrics import confusion_matrix\n",
    "\n",
    "print(confusion_matrix(test_labels, test_predictions))"
   ],
   "metadata": {
    "collapsed": false
   }
  },
  {
   "cell_type": "markdown",
   "source": [
    "### Stats for all predicted anomalous data"
   ],
   "metadata": {
    "collapsed": false
   }
  },
  {
   "cell_type": "code",
   "execution_count": 83,
   "outputs": [
    {
     "name": "stdout",
     "output_type": "stream",
     "text": [
      "true anomalies: 9446\n",
      "false anomalies: 5219\n",
      "false normals: 265\n",
      "true normals: 7614\n",
      "precision: 0.6441186498465735\n",
      "recall: 0.972711358253527\n",
      "f1-score: 0.775024614374795\n"
     ]
    }
   ],
   "source": [
    "from pandas import DataFrame\n",
    "from turtleIsolationForests.printResults import print_results\n",
    "from turtleIsolationForests.printResults import get_auroc_value\n",
    "\n",
    "test_predictions_np = test_predictions.numpy()\n",
    "\n",
    "autoec_predictions = DataFrame()\n",
    "\n",
    "autoec_predictions['predicted_as_anomaly'] = test_predictions_np # 0: anomalous, 1: normal\n",
    "autoec_predictions['is_anomalous'] = test_labels # 0: normal, 1: anomalous\n",
    "autoec_predictions['anomaly_scores'] = getLoss(autoencoder, np_test_data)\n",
    "\n",
    "print_results(autoec_predictions)\n",
    "print(\"auroc: \" + str(get_auroc_value(autoec_predictions)))"
   ],
   "metadata": {
    "collapsed": false
   }
  },
  {
   "cell_type": "code",
   "execution_count": 84,
   "outputs": [],
   "source": [
    "def addZToData(data, model):\n",
    "    data_with_Z = []\n",
    "    for i in range(1, len(data)+1):\n",
    "        data_with_Z.append(addZToPrediction(model, data[i-1:i]))\n",
    "\n",
    "    data_with_Z_rf = []\n",
    "    for i in range(len(data_with_Z)):\n",
    "        data_with_Z_rf.append(np.append(np_train_data[:][:][i].numpy().reshape(1,46).squeeze(), data_with_Z[i]))\n",
    "\n",
    "    return pd.DataFrame(data_with_Z_rf)"
   ],
   "metadata": {
    "collapsed": false
   }
  },
  {
   "cell_type": "code",
   "execution_count": 85,
   "outputs": [],
   "source": [
    "train_data_with_Z_df = addZToData(np_train_data, autoencoder)"
   ],
   "metadata": {
    "collapsed": false
   }
  },
  {
   "cell_type": "code",
   "execution_count": 86,
   "outputs": [
    {
     "data": {
      "text/plain": "              0         1        2         3         4         5         6   \\\n0      -0.019113 -0.312889 -0.11205 -0.028606 -0.139982 -0.618438 -0.053906   \n1      -0.019113 -0.312889 -0.11205 -0.028606 -0.139982 -0.618438 -0.053906   \n2      -0.019113 -0.312889 -0.11205 -0.028606 -0.139982  1.616978 -0.053906   \n3      -0.019113 -0.312889 -0.11205 -0.028606 -0.139982 -0.618438 -0.053906   \n4      -0.019113 -0.312889 -0.11205 -0.028606 -0.139982 -0.618438 -0.053906   \n...          ...       ...      ...       ...       ...       ...       ...   \n125968 -0.019113 -0.312889 -0.11205 -0.028606 -0.139982  1.616978 -0.053906   \n125969 -0.019113 -0.312889 -0.11205 -0.028606 -0.139982 -0.618438 -0.053906   \n125970 -0.019113 -0.312889 -0.11205 -0.028606 -0.139982 -0.618438 -0.053906   \n125971 -0.019113 -0.312889 -0.11205 -0.028606 -0.139982  1.616978 -0.053906   \n125972 -0.019113 -0.312889 -0.11205 -0.028606 -0.139982 -0.618438 -0.053906   \n\n              7         8         9   ...        85        86        87  \\\n0      -0.031767 -0.019726  0.825150  ... -0.280282  0.069972 -0.289103   \n1      -0.031767 -0.019726  0.825150  ...  2.736852  2.367737 -0.289103   \n2      -0.031767 -0.019726 -1.211901  ... -0.174417 -0.480197 -0.289103   \n3      -0.031767 -0.019726  0.825150  ... -0.439078 -0.383108  0.066252   \n4      -0.031767 -0.019726  0.825150  ... -0.439078 -0.480197 -0.289103   \n...          ...       ...       ...  ...       ...       ...       ...   \n125968 -0.031767 -0.019726 -1.211901  ... -0.121485 -0.480197 -0.289103   \n125969 -0.031767 -0.019726  0.825150  ... -0.386146 -0.447834 -0.289103   \n125970 -0.031767 -0.019726  0.825150  ... -0.121485 -0.480197 -0.289103   \n125971 -0.031767 -0.019726 -1.211901  ... -0.174417 -0.480197 -0.289103   \n125972 -0.031767 -0.019726  0.825150  ... -0.280282  0.490690 -0.289103   \n\n              88        89        90        91        92        93        94  \n0      -0.639532 -0.624871 -0.224532 -0.376387  3.583353  2.395793  0.426715  \n1      -0.639532 -0.624871 -0.387635 -0.376387  5.872164  4.207399  0.514389  \n2       1.608759  1.618955 -0.387635 -0.376387  8.845963  4.824546 -0.307002  \n3      -0.572083 -0.602433 -0.387635 -0.345084  1.821037  2.350297  0.707768  \n4      -0.639532 -0.624871 -0.387635 -0.376387  0.084304  1.927049  0.788666  \n...          ...       ...       ...       ...       ...       ...       ...  \n125968  1.608759  1.618955 -0.387635 -0.376387  8.959674  4.794569 -0.261567  \n125969 -0.639532 -0.624871 -0.387635 -0.376387  0.249487  2.179151  0.680840  \n125970  0.979238 -0.624871 -0.355014 -0.376387  0.363633  2.441809  0.598059  \n125971  1.608759  1.618955 -0.387635 -0.376387  8.722095  4.892005 -0.297027  \n125972 -0.639532 -0.624871 -0.387635 -0.376387  1.496926  2.058905  0.675317  \n\n[125973 rows x 95 columns]",
      "text/html": "<div>\n<style scoped>\n    .dataframe tbody tr th:only-of-type {\n        vertical-align: middle;\n    }\n\n    .dataframe tbody tr th {\n        vertical-align: top;\n    }\n\n    .dataframe thead th {\n        text-align: right;\n    }\n</style>\n<table border=\"1\" class=\"dataframe\">\n  <thead>\n    <tr style=\"text-align: right;\">\n      <th></th>\n      <th>0</th>\n      <th>1</th>\n      <th>2</th>\n      <th>3</th>\n      <th>4</th>\n      <th>5</th>\n      <th>6</th>\n      <th>7</th>\n      <th>8</th>\n      <th>9</th>\n      <th>...</th>\n      <th>85</th>\n      <th>86</th>\n      <th>87</th>\n      <th>88</th>\n      <th>89</th>\n      <th>90</th>\n      <th>91</th>\n      <th>92</th>\n      <th>93</th>\n      <th>94</th>\n    </tr>\n  </thead>\n  <tbody>\n    <tr>\n      <th>0</th>\n      <td>-0.019113</td>\n      <td>-0.312889</td>\n      <td>-0.11205</td>\n      <td>-0.028606</td>\n      <td>-0.139982</td>\n      <td>-0.618438</td>\n      <td>-0.053906</td>\n      <td>-0.031767</td>\n      <td>-0.019726</td>\n      <td>0.825150</td>\n      <td>...</td>\n      <td>-0.280282</td>\n      <td>0.069972</td>\n      <td>-0.289103</td>\n      <td>-0.639532</td>\n      <td>-0.624871</td>\n      <td>-0.224532</td>\n      <td>-0.376387</td>\n      <td>3.583353</td>\n      <td>2.395793</td>\n      <td>0.426715</td>\n    </tr>\n    <tr>\n      <th>1</th>\n      <td>-0.019113</td>\n      <td>-0.312889</td>\n      <td>-0.11205</td>\n      <td>-0.028606</td>\n      <td>-0.139982</td>\n      <td>-0.618438</td>\n      <td>-0.053906</td>\n      <td>-0.031767</td>\n      <td>-0.019726</td>\n      <td>0.825150</td>\n      <td>...</td>\n      <td>2.736852</td>\n      <td>2.367737</td>\n      <td>-0.289103</td>\n      <td>-0.639532</td>\n      <td>-0.624871</td>\n      <td>-0.387635</td>\n      <td>-0.376387</td>\n      <td>5.872164</td>\n      <td>4.207399</td>\n      <td>0.514389</td>\n    </tr>\n    <tr>\n      <th>2</th>\n      <td>-0.019113</td>\n      <td>-0.312889</td>\n      <td>-0.11205</td>\n      <td>-0.028606</td>\n      <td>-0.139982</td>\n      <td>1.616978</td>\n      <td>-0.053906</td>\n      <td>-0.031767</td>\n      <td>-0.019726</td>\n      <td>-1.211901</td>\n      <td>...</td>\n      <td>-0.174417</td>\n      <td>-0.480197</td>\n      <td>-0.289103</td>\n      <td>1.608759</td>\n      <td>1.618955</td>\n      <td>-0.387635</td>\n      <td>-0.376387</td>\n      <td>8.845963</td>\n      <td>4.824546</td>\n      <td>-0.307002</td>\n    </tr>\n    <tr>\n      <th>3</th>\n      <td>-0.019113</td>\n      <td>-0.312889</td>\n      <td>-0.11205</td>\n      <td>-0.028606</td>\n      <td>-0.139982</td>\n      <td>-0.618438</td>\n      <td>-0.053906</td>\n      <td>-0.031767</td>\n      <td>-0.019726</td>\n      <td>0.825150</td>\n      <td>...</td>\n      <td>-0.439078</td>\n      <td>-0.383108</td>\n      <td>0.066252</td>\n      <td>-0.572083</td>\n      <td>-0.602433</td>\n      <td>-0.387635</td>\n      <td>-0.345084</td>\n      <td>1.821037</td>\n      <td>2.350297</td>\n      <td>0.707768</td>\n    </tr>\n    <tr>\n      <th>4</th>\n      <td>-0.019113</td>\n      <td>-0.312889</td>\n      <td>-0.11205</td>\n      <td>-0.028606</td>\n      <td>-0.139982</td>\n      <td>-0.618438</td>\n      <td>-0.053906</td>\n      <td>-0.031767</td>\n      <td>-0.019726</td>\n      <td>0.825150</td>\n      <td>...</td>\n      <td>-0.439078</td>\n      <td>-0.480197</td>\n      <td>-0.289103</td>\n      <td>-0.639532</td>\n      <td>-0.624871</td>\n      <td>-0.387635</td>\n      <td>-0.376387</td>\n      <td>0.084304</td>\n      <td>1.927049</td>\n      <td>0.788666</td>\n    </tr>\n    <tr>\n      <th>...</th>\n      <td>...</td>\n      <td>...</td>\n      <td>...</td>\n      <td>...</td>\n      <td>...</td>\n      <td>...</td>\n      <td>...</td>\n      <td>...</td>\n      <td>...</td>\n      <td>...</td>\n      <td>...</td>\n      <td>...</td>\n      <td>...</td>\n      <td>...</td>\n      <td>...</td>\n      <td>...</td>\n      <td>...</td>\n      <td>...</td>\n      <td>...</td>\n      <td>...</td>\n      <td>...</td>\n    </tr>\n    <tr>\n      <th>125968</th>\n      <td>-0.019113</td>\n      <td>-0.312889</td>\n      <td>-0.11205</td>\n      <td>-0.028606</td>\n      <td>-0.139982</td>\n      <td>1.616978</td>\n      <td>-0.053906</td>\n      <td>-0.031767</td>\n      <td>-0.019726</td>\n      <td>-1.211901</td>\n      <td>...</td>\n      <td>-0.121485</td>\n      <td>-0.480197</td>\n      <td>-0.289103</td>\n      <td>1.608759</td>\n      <td>1.618955</td>\n      <td>-0.387635</td>\n      <td>-0.376387</td>\n      <td>8.959674</td>\n      <td>4.794569</td>\n      <td>-0.261567</td>\n    </tr>\n    <tr>\n      <th>125969</th>\n      <td>-0.019113</td>\n      <td>-0.312889</td>\n      <td>-0.11205</td>\n      <td>-0.028606</td>\n      <td>-0.139982</td>\n      <td>-0.618438</td>\n      <td>-0.053906</td>\n      <td>-0.031767</td>\n      <td>-0.019726</td>\n      <td>0.825150</td>\n      <td>...</td>\n      <td>-0.386146</td>\n      <td>-0.447834</td>\n      <td>-0.289103</td>\n      <td>-0.639532</td>\n      <td>-0.624871</td>\n      <td>-0.387635</td>\n      <td>-0.376387</td>\n      <td>0.249487</td>\n      <td>2.179151</td>\n      <td>0.680840</td>\n    </tr>\n    <tr>\n      <th>125970</th>\n      <td>-0.019113</td>\n      <td>-0.312889</td>\n      <td>-0.11205</td>\n      <td>-0.028606</td>\n      <td>-0.139982</td>\n      <td>-0.618438</td>\n      <td>-0.053906</td>\n      <td>-0.031767</td>\n      <td>-0.019726</td>\n      <td>0.825150</td>\n      <td>...</td>\n      <td>-0.121485</td>\n      <td>-0.480197</td>\n      <td>-0.289103</td>\n      <td>0.979238</td>\n      <td>-0.624871</td>\n      <td>-0.355014</td>\n      <td>-0.376387</td>\n      <td>0.363633</td>\n      <td>2.441809</td>\n      <td>0.598059</td>\n    </tr>\n    <tr>\n      <th>125971</th>\n      <td>-0.019113</td>\n      <td>-0.312889</td>\n      <td>-0.11205</td>\n      <td>-0.028606</td>\n      <td>-0.139982</td>\n      <td>1.616978</td>\n      <td>-0.053906</td>\n      <td>-0.031767</td>\n      <td>-0.019726</td>\n      <td>-1.211901</td>\n      <td>...</td>\n      <td>-0.174417</td>\n      <td>-0.480197</td>\n      <td>-0.289103</td>\n      <td>1.608759</td>\n      <td>1.618955</td>\n      <td>-0.387635</td>\n      <td>-0.376387</td>\n      <td>8.722095</td>\n      <td>4.892005</td>\n      <td>-0.297027</td>\n    </tr>\n    <tr>\n      <th>125972</th>\n      <td>-0.019113</td>\n      <td>-0.312889</td>\n      <td>-0.11205</td>\n      <td>-0.028606</td>\n      <td>-0.139982</td>\n      <td>-0.618438</td>\n      <td>-0.053906</td>\n      <td>-0.031767</td>\n      <td>-0.019726</td>\n      <td>0.825150</td>\n      <td>...</td>\n      <td>-0.280282</td>\n      <td>0.490690</td>\n      <td>-0.289103</td>\n      <td>-0.639532</td>\n      <td>-0.624871</td>\n      <td>-0.387635</td>\n      <td>-0.376387</td>\n      <td>1.496926</td>\n      <td>2.058905</td>\n      <td>0.675317</td>\n    </tr>\n  </tbody>\n</table>\n<p>125973 rows × 95 columns</p>\n</div>"
     },
     "execution_count": 86,
     "metadata": {},
     "output_type": "execute_result"
    }
   ],
   "source": [
    "train_data_with_Z_df"
   ],
   "metadata": {
    "collapsed": false
   }
  },
  {
   "cell_type": "code",
   "execution_count": 87,
   "outputs": [],
   "source": [
    "np_test_labels = np.array(np_test_labels)"
   ],
   "metadata": {
    "collapsed": false
   }
  },
  {
   "cell_type": "code",
   "execution_count": 102,
   "outputs": [],
   "source": [
    "predicted_anomalous = np_test_data[~test_predictions.numpy()]"
   ],
   "metadata": {
    "collapsed": false
   }
  },
  {
   "cell_type": "code",
   "execution_count": null,
   "outputs": [],
   "source": [
    "test_predictions.numpy()\n",
    "### should all be ones"
   ],
   "metadata": {
    "collapsed": false,
    "pycharm": {
     "name": "#%%\n"
    }
   }
  },
  {
   "cell_type": "code",
   "execution_count": null,
   "outputs": [],
   "source": [
    "#predicted_anomalous.to_csv(\"predicted_anomalous.csv\")"
   ],
   "metadata": {
    "collapsed": false,
    "pycharm": {
     "name": "#%%\n"
    }
   }
  },
  {
   "cell_type": "code",
   "execution_count": 89,
   "outputs": [
    {
     "data": {
      "text/plain": "              0         1        2         3         4         5         6   \\\n0      -0.019113 -0.312889 -0.11205 -0.028606 -0.139982 -0.618438 -0.053906   \n1      -0.019113 -0.312889 -0.11205 -0.028606 -0.139982 -0.618438 -0.053906   \n2      -0.019113 -0.312889 -0.11205 -0.028606 -0.139982  1.616978 -0.053906   \n3      -0.019113 -0.312889 -0.11205 -0.028606 -0.139982 -0.618438 -0.053906   \n4      -0.019113 -0.312889 -0.11205 -0.028606 -0.139982 -0.618438 -0.053906   \n...          ...       ...      ...       ...       ...       ...       ...   \n125968 -0.019113 -0.312889 -0.11205 -0.028606 -0.139982  1.616978 -0.053906   \n125969 -0.019113 -0.312889 -0.11205 -0.028606 -0.139982 -0.618438 -0.053906   \n125970 -0.019113 -0.312889 -0.11205 -0.028606 -0.139982 -0.618438 -0.053906   \n125971 -0.019113 -0.312889 -0.11205 -0.028606 -0.139982  1.616978 -0.053906   \n125972 -0.019113 -0.312889 -0.11205 -0.028606 -0.139982 -0.618438 -0.053906   \n\n              7         8         9   ...        85        86        87  \\\n0      -0.031767 -0.019726  0.825150  ... -0.280282  0.069972 -0.289103   \n1      -0.031767 -0.019726  0.825150  ...  2.736852  2.367737 -0.289103   \n2      -0.031767 -0.019726 -1.211901  ... -0.174417 -0.480197 -0.289103   \n3      -0.031767 -0.019726  0.825150  ... -0.439078 -0.383108  0.066252   \n4      -0.031767 -0.019726  0.825150  ... -0.439078 -0.480197 -0.289103   \n...          ...       ...       ...  ...       ...       ...       ...   \n125968 -0.031767 -0.019726 -1.211901  ... -0.121485 -0.480197 -0.289103   \n125969 -0.031767 -0.019726  0.825150  ... -0.386146 -0.447834 -0.289103   \n125970 -0.031767 -0.019726  0.825150  ... -0.121485 -0.480197 -0.289103   \n125971 -0.031767 -0.019726 -1.211901  ... -0.174417 -0.480197 -0.289103   \n125972 -0.031767 -0.019726  0.825150  ... -0.280282  0.490690 -0.289103   \n\n              88        89        90        91        92        93        94  \n0      -0.639532 -0.624871 -0.224532 -0.376387  3.583353  2.395793  0.426715  \n1      -0.639532 -0.624871 -0.387635 -0.376387  5.872164  4.207399  0.514389  \n2       1.608759  1.618955 -0.387635 -0.376387  8.845963  4.824546 -0.307002  \n3      -0.572083 -0.602433 -0.387635 -0.345084  1.821037  2.350297  0.707768  \n4      -0.639532 -0.624871 -0.387635 -0.376387  0.084304  1.927049  0.788666  \n...          ...       ...       ...       ...       ...       ...       ...  \n125968  1.608759  1.618955 -0.387635 -0.376387  8.959674  4.794569 -0.261567  \n125969 -0.639532 -0.624871 -0.387635 -0.376387  0.249487  2.179151  0.680840  \n125970  0.979238 -0.624871 -0.355014 -0.376387  0.363633  2.441809  0.598059  \n125971  1.608759  1.618955 -0.387635 -0.376387  8.722095  4.892005 -0.297027  \n125972 -0.639532 -0.624871 -0.387635 -0.376387  1.496926  2.058905  0.675317  \n\n[125973 rows x 95 columns]",
      "text/html": "<div>\n<style scoped>\n    .dataframe tbody tr th:only-of-type {\n        vertical-align: middle;\n    }\n\n    .dataframe tbody tr th {\n        vertical-align: top;\n    }\n\n    .dataframe thead th {\n        text-align: right;\n    }\n</style>\n<table border=\"1\" class=\"dataframe\">\n  <thead>\n    <tr style=\"text-align: right;\">\n      <th></th>\n      <th>0</th>\n      <th>1</th>\n      <th>2</th>\n      <th>3</th>\n      <th>4</th>\n      <th>5</th>\n      <th>6</th>\n      <th>7</th>\n      <th>8</th>\n      <th>9</th>\n      <th>...</th>\n      <th>85</th>\n      <th>86</th>\n      <th>87</th>\n      <th>88</th>\n      <th>89</th>\n      <th>90</th>\n      <th>91</th>\n      <th>92</th>\n      <th>93</th>\n      <th>94</th>\n    </tr>\n  </thead>\n  <tbody>\n    <tr>\n      <th>0</th>\n      <td>-0.019113</td>\n      <td>-0.312889</td>\n      <td>-0.11205</td>\n      <td>-0.028606</td>\n      <td>-0.139982</td>\n      <td>-0.618438</td>\n      <td>-0.053906</td>\n      <td>-0.031767</td>\n      <td>-0.019726</td>\n      <td>0.825150</td>\n      <td>...</td>\n      <td>-0.280282</td>\n      <td>0.069972</td>\n      <td>-0.289103</td>\n      <td>-0.639532</td>\n      <td>-0.624871</td>\n      <td>-0.224532</td>\n      <td>-0.376387</td>\n      <td>3.583353</td>\n      <td>2.395793</td>\n      <td>0.426715</td>\n    </tr>\n    <tr>\n      <th>1</th>\n      <td>-0.019113</td>\n      <td>-0.312889</td>\n      <td>-0.11205</td>\n      <td>-0.028606</td>\n      <td>-0.139982</td>\n      <td>-0.618438</td>\n      <td>-0.053906</td>\n      <td>-0.031767</td>\n      <td>-0.019726</td>\n      <td>0.825150</td>\n      <td>...</td>\n      <td>2.736852</td>\n      <td>2.367737</td>\n      <td>-0.289103</td>\n      <td>-0.639532</td>\n      <td>-0.624871</td>\n      <td>-0.387635</td>\n      <td>-0.376387</td>\n      <td>5.872164</td>\n      <td>4.207399</td>\n      <td>0.514389</td>\n    </tr>\n    <tr>\n      <th>2</th>\n      <td>-0.019113</td>\n      <td>-0.312889</td>\n      <td>-0.11205</td>\n      <td>-0.028606</td>\n      <td>-0.139982</td>\n      <td>1.616978</td>\n      <td>-0.053906</td>\n      <td>-0.031767</td>\n      <td>-0.019726</td>\n      <td>-1.211901</td>\n      <td>...</td>\n      <td>-0.174417</td>\n      <td>-0.480197</td>\n      <td>-0.289103</td>\n      <td>1.608759</td>\n      <td>1.618955</td>\n      <td>-0.387635</td>\n      <td>-0.376387</td>\n      <td>8.845963</td>\n      <td>4.824546</td>\n      <td>-0.307002</td>\n    </tr>\n    <tr>\n      <th>3</th>\n      <td>-0.019113</td>\n      <td>-0.312889</td>\n      <td>-0.11205</td>\n      <td>-0.028606</td>\n      <td>-0.139982</td>\n      <td>-0.618438</td>\n      <td>-0.053906</td>\n      <td>-0.031767</td>\n      <td>-0.019726</td>\n      <td>0.825150</td>\n      <td>...</td>\n      <td>-0.439078</td>\n      <td>-0.383108</td>\n      <td>0.066252</td>\n      <td>-0.572083</td>\n      <td>-0.602433</td>\n      <td>-0.387635</td>\n      <td>-0.345084</td>\n      <td>1.821037</td>\n      <td>2.350297</td>\n      <td>0.707768</td>\n    </tr>\n    <tr>\n      <th>4</th>\n      <td>-0.019113</td>\n      <td>-0.312889</td>\n      <td>-0.11205</td>\n      <td>-0.028606</td>\n      <td>-0.139982</td>\n      <td>-0.618438</td>\n      <td>-0.053906</td>\n      <td>-0.031767</td>\n      <td>-0.019726</td>\n      <td>0.825150</td>\n      <td>...</td>\n      <td>-0.439078</td>\n      <td>-0.480197</td>\n      <td>-0.289103</td>\n      <td>-0.639532</td>\n      <td>-0.624871</td>\n      <td>-0.387635</td>\n      <td>-0.376387</td>\n      <td>0.084304</td>\n      <td>1.927049</td>\n      <td>0.788666</td>\n    </tr>\n    <tr>\n      <th>...</th>\n      <td>...</td>\n      <td>...</td>\n      <td>...</td>\n      <td>...</td>\n      <td>...</td>\n      <td>...</td>\n      <td>...</td>\n      <td>...</td>\n      <td>...</td>\n      <td>...</td>\n      <td>...</td>\n      <td>...</td>\n      <td>...</td>\n      <td>...</td>\n      <td>...</td>\n      <td>...</td>\n      <td>...</td>\n      <td>...</td>\n      <td>...</td>\n      <td>...</td>\n      <td>...</td>\n    </tr>\n    <tr>\n      <th>125968</th>\n      <td>-0.019113</td>\n      <td>-0.312889</td>\n      <td>-0.11205</td>\n      <td>-0.028606</td>\n      <td>-0.139982</td>\n      <td>1.616978</td>\n      <td>-0.053906</td>\n      <td>-0.031767</td>\n      <td>-0.019726</td>\n      <td>-1.211901</td>\n      <td>...</td>\n      <td>-0.121485</td>\n      <td>-0.480197</td>\n      <td>-0.289103</td>\n      <td>1.608759</td>\n      <td>1.618955</td>\n      <td>-0.387635</td>\n      <td>-0.376387</td>\n      <td>8.959674</td>\n      <td>4.794569</td>\n      <td>-0.261567</td>\n    </tr>\n    <tr>\n      <th>125969</th>\n      <td>-0.019113</td>\n      <td>-0.312889</td>\n      <td>-0.11205</td>\n      <td>-0.028606</td>\n      <td>-0.139982</td>\n      <td>-0.618438</td>\n      <td>-0.053906</td>\n      <td>-0.031767</td>\n      <td>-0.019726</td>\n      <td>0.825150</td>\n      <td>...</td>\n      <td>-0.386146</td>\n      <td>-0.447834</td>\n      <td>-0.289103</td>\n      <td>-0.639532</td>\n      <td>-0.624871</td>\n      <td>-0.387635</td>\n      <td>-0.376387</td>\n      <td>0.249487</td>\n      <td>2.179151</td>\n      <td>0.680840</td>\n    </tr>\n    <tr>\n      <th>125970</th>\n      <td>-0.019113</td>\n      <td>-0.312889</td>\n      <td>-0.11205</td>\n      <td>-0.028606</td>\n      <td>-0.139982</td>\n      <td>-0.618438</td>\n      <td>-0.053906</td>\n      <td>-0.031767</td>\n      <td>-0.019726</td>\n      <td>0.825150</td>\n      <td>...</td>\n      <td>-0.121485</td>\n      <td>-0.480197</td>\n      <td>-0.289103</td>\n      <td>0.979238</td>\n      <td>-0.624871</td>\n      <td>-0.355014</td>\n      <td>-0.376387</td>\n      <td>0.363633</td>\n      <td>2.441809</td>\n      <td>0.598059</td>\n    </tr>\n    <tr>\n      <th>125971</th>\n      <td>-0.019113</td>\n      <td>-0.312889</td>\n      <td>-0.11205</td>\n      <td>-0.028606</td>\n      <td>-0.139982</td>\n      <td>1.616978</td>\n      <td>-0.053906</td>\n      <td>-0.031767</td>\n      <td>-0.019726</td>\n      <td>-1.211901</td>\n      <td>...</td>\n      <td>-0.174417</td>\n      <td>-0.480197</td>\n      <td>-0.289103</td>\n      <td>1.608759</td>\n      <td>1.618955</td>\n      <td>-0.387635</td>\n      <td>-0.376387</td>\n      <td>8.722095</td>\n      <td>4.892005</td>\n      <td>-0.297027</td>\n    </tr>\n    <tr>\n      <th>125972</th>\n      <td>-0.019113</td>\n      <td>-0.312889</td>\n      <td>-0.11205</td>\n      <td>-0.028606</td>\n      <td>-0.139982</td>\n      <td>-0.618438</td>\n      <td>-0.053906</td>\n      <td>-0.031767</td>\n      <td>-0.019726</td>\n      <td>0.825150</td>\n      <td>...</td>\n      <td>-0.280282</td>\n      <td>0.490690</td>\n      <td>-0.289103</td>\n      <td>-0.639532</td>\n      <td>-0.624871</td>\n      <td>-0.387635</td>\n      <td>-0.376387</td>\n      <td>1.496926</td>\n      <td>2.058905</td>\n      <td>0.675317</td>\n    </tr>\n  </tbody>\n</table>\n<p>125973 rows × 95 columns</p>\n</div>"
     },
     "execution_count": 89,
     "metadata": {},
     "output_type": "execute_result"
    }
   ],
   "source": [
    "train_data_with_Z_df"
   ],
   "metadata": {
    "collapsed": false
   }
  },
  {
   "cell_type": "code",
   "execution_count": 90,
   "outputs": [],
   "source": [
    "predicted_anomalous_labels = np_test_labels[~test_predictions.numpy()]"
   ],
   "metadata": {
    "collapsed": false
   }
  },
  {
   "cell_type": "code",
   "execution_count": null,
   "outputs": [],
   "source": [
    "predicted_anomalous_labels"
   ],
   "metadata": {
    "collapsed": false,
    "pycharm": {
     "name": "#%%\n"
    }
   }
  },
  {
   "cell_type": "code",
   "execution_count": 91,
   "outputs": [],
   "source": [
    "anomalous_test_data_with_Z_df = addZToData(predicted_anomalous, autoencoder)"
   ]
  },
  {
   "cell_type": "code",
   "execution_count": 41,
   "metadata": {
    "collapsed": false
   }
  },
  {
   "cell_type": "code",
   "execution_count": 92,
   "outputs": [],
   "source": [
    "contamination = sum(train_labels == 0) / len(train_labels)"
   ],
   "metadata": {
    "collapsed": false
   }
  },
  {
   "cell_type": "code",
   "execution_count": 93,
   "outputs": [],
   "source": [
    "# need test_predictions replaced at indices that autoencoder predicted anomalies"
   ],
   "metadata": {
    "collapsed": false
   }
  },
  {
   "cell_type": "code",
   "execution_count": 94,
   "outputs": [
    {
     "data": {
      "text/plain": "             0         1        2         3         4         5         6   \\\n0     -0.019113 -0.312889 -0.11205 -0.028606 -0.139982 -0.618438 -0.053906   \n1     -0.019113 -0.312889 -0.11205 -0.028606 -0.139982 -0.618438 -0.053906   \n2     -0.019113 -0.312889 -0.11205 -0.028606 -0.139982  1.616978 -0.053906   \n3     -0.019113 -0.312889 -0.11205 -0.028606 -0.139982 -0.618438 -0.053906   \n4     -0.019113 -0.312889 -0.11205 -0.028606 -0.139982 -0.618438 -0.053906   \n...         ...       ...      ...       ...       ...       ...       ...   \n14660 -0.019113  3.196020 -0.11205 -0.028606 -0.139982 -0.618438 -0.053906   \n14661 -0.019113 -0.312889 -0.11205 -0.028606 -0.139982  1.616978 -0.053906   \n14662 -0.019113 -0.312889 -0.11205 -0.028606 -0.139982  1.616978 -0.053906   \n14663 -0.019113 -0.312889 -0.11205 -0.028606 -0.139982 -0.618438 -0.053906   \n14664 -0.019113  3.196020 -0.11205 -0.028606 -0.139982 -0.618438 -0.053906   \n\n             7         8         9   ...        85        86        87  \\\n0     -0.031767 -0.019726  0.825150  ... -0.227350  1.493939 -0.111426   \n1     -0.031767 -0.019726  0.825150  ... -0.439078  2.756092  2.198385   \n2     -0.031767 -0.019726 -1.211901  ... -0.439078 -0.447834 -0.022587   \n3     -0.031767 -0.019726  0.825150  ...  3.372038 -0.480197 -0.289103   \n4     -0.031767 -0.019726  0.825150  ... -0.439078 -0.447834 -0.022587   \n...         ...       ...       ...  ...       ...       ...       ...   \n14660 -0.031767 -0.019726 -1.211901  ... -0.439078  2.756092 -0.289103   \n14661 -0.031767 -0.019726 -1.211901  ... -0.121485 -0.447834 -0.200265   \n14662 -0.031767 -0.019726 -1.211901  ... -0.439078 -0.447834 -0.200265   \n14663 -0.031767 -0.019726  0.825150  ... -0.439078 -0.480197 -0.289103   \n14664 -0.031767 -0.019726 -1.211901  ... -0.386146 -0.480197 -0.289103   \n\n             88        89        90        91         92        93        94  \n0     -0.639532 -0.624871 -0.387635 -0.376387   6.180758  2.220589  0.643300  \n1     -0.639532 -0.624871 -0.387635 -0.376387  11.991243  5.293556  0.476488  \n2     -0.617049 -0.624871 -0.387635 -0.376387   1.656502  2.038718  0.756733  \n3     -0.639532 -0.624871  1.961037 -0.251175   0.763901  5.691018  0.304496  \n4     -0.639532 -0.624871 -0.387635 -0.376387   1.624299  1.946848  0.771669  \n...         ...       ...       ...       ...        ...       ...       ...  \n14660 -0.639532 -0.624871 -0.387635 -0.376387   4.593998  2.677897  0.784177  \n14661 -0.617049 -0.624871 -0.387635 -0.376387   2.240314  2.150332  0.629270  \n14662 -0.617049 -0.624871 -0.387635 -0.376387   0.696183  2.013179  0.761464  \n14663 -0.639532 -0.624871 -0.159292 -0.157266   0.000000  2.150937  0.753814  \n14664 -0.639532 -0.624871 -0.387635 -0.376387   0.176645  2.325461  0.669876  \n\n[14665 rows x 95 columns]",
      "text/html": "<div>\n<style scoped>\n    .dataframe tbody tr th:only-of-type {\n        vertical-align: middle;\n    }\n\n    .dataframe tbody tr th {\n        vertical-align: top;\n    }\n\n    .dataframe thead th {\n        text-align: right;\n    }\n</style>\n<table border=\"1\" class=\"dataframe\">\n  <thead>\n    <tr style=\"text-align: right;\">\n      <th></th>\n      <th>0</th>\n      <th>1</th>\n      <th>2</th>\n      <th>3</th>\n      <th>4</th>\n      <th>5</th>\n      <th>6</th>\n      <th>7</th>\n      <th>8</th>\n      <th>9</th>\n      <th>...</th>\n      <th>85</th>\n      <th>86</th>\n      <th>87</th>\n      <th>88</th>\n      <th>89</th>\n      <th>90</th>\n      <th>91</th>\n      <th>92</th>\n      <th>93</th>\n      <th>94</th>\n    </tr>\n  </thead>\n  <tbody>\n    <tr>\n      <th>0</th>\n      <td>-0.019113</td>\n      <td>-0.312889</td>\n      <td>-0.11205</td>\n      <td>-0.028606</td>\n      <td>-0.139982</td>\n      <td>-0.618438</td>\n      <td>-0.053906</td>\n      <td>-0.031767</td>\n      <td>-0.019726</td>\n      <td>0.825150</td>\n      <td>...</td>\n      <td>-0.227350</td>\n      <td>1.493939</td>\n      <td>-0.111426</td>\n      <td>-0.639532</td>\n      <td>-0.624871</td>\n      <td>-0.387635</td>\n      <td>-0.376387</td>\n      <td>6.180758</td>\n      <td>2.220589</td>\n      <td>0.643300</td>\n    </tr>\n    <tr>\n      <th>1</th>\n      <td>-0.019113</td>\n      <td>-0.312889</td>\n      <td>-0.11205</td>\n      <td>-0.028606</td>\n      <td>-0.139982</td>\n      <td>-0.618438</td>\n      <td>-0.053906</td>\n      <td>-0.031767</td>\n      <td>-0.019726</td>\n      <td>0.825150</td>\n      <td>...</td>\n      <td>-0.439078</td>\n      <td>2.756092</td>\n      <td>2.198385</td>\n      <td>-0.639532</td>\n      <td>-0.624871</td>\n      <td>-0.387635</td>\n      <td>-0.376387</td>\n      <td>11.991243</td>\n      <td>5.293556</td>\n      <td>0.476488</td>\n    </tr>\n    <tr>\n      <th>2</th>\n      <td>-0.019113</td>\n      <td>-0.312889</td>\n      <td>-0.11205</td>\n      <td>-0.028606</td>\n      <td>-0.139982</td>\n      <td>1.616978</td>\n      <td>-0.053906</td>\n      <td>-0.031767</td>\n      <td>-0.019726</td>\n      <td>-1.211901</td>\n      <td>...</td>\n      <td>-0.439078</td>\n      <td>-0.447834</td>\n      <td>-0.022587</td>\n      <td>-0.617049</td>\n      <td>-0.624871</td>\n      <td>-0.387635</td>\n      <td>-0.376387</td>\n      <td>1.656502</td>\n      <td>2.038718</td>\n      <td>0.756733</td>\n    </tr>\n    <tr>\n      <th>3</th>\n      <td>-0.019113</td>\n      <td>-0.312889</td>\n      <td>-0.11205</td>\n      <td>-0.028606</td>\n      <td>-0.139982</td>\n      <td>-0.618438</td>\n      <td>-0.053906</td>\n      <td>-0.031767</td>\n      <td>-0.019726</td>\n      <td>0.825150</td>\n      <td>...</td>\n      <td>3.372038</td>\n      <td>-0.480197</td>\n      <td>-0.289103</td>\n      <td>-0.639532</td>\n      <td>-0.624871</td>\n      <td>1.961037</td>\n      <td>-0.251175</td>\n      <td>0.763901</td>\n      <td>5.691018</td>\n      <td>0.304496</td>\n    </tr>\n    <tr>\n      <th>4</th>\n      <td>-0.019113</td>\n      <td>-0.312889</td>\n      <td>-0.11205</td>\n      <td>-0.028606</td>\n      <td>-0.139982</td>\n      <td>-0.618438</td>\n      <td>-0.053906</td>\n      <td>-0.031767</td>\n      <td>-0.019726</td>\n      <td>0.825150</td>\n      <td>...</td>\n      <td>-0.439078</td>\n      <td>-0.447834</td>\n      <td>-0.022587</td>\n      <td>-0.639532</td>\n      <td>-0.624871</td>\n      <td>-0.387635</td>\n      <td>-0.376387</td>\n      <td>1.624299</td>\n      <td>1.946848</td>\n      <td>0.771669</td>\n    </tr>\n    <tr>\n      <th>...</th>\n      <td>...</td>\n      <td>...</td>\n      <td>...</td>\n      <td>...</td>\n      <td>...</td>\n      <td>...</td>\n      <td>...</td>\n      <td>...</td>\n      <td>...</td>\n      <td>...</td>\n      <td>...</td>\n      <td>...</td>\n      <td>...</td>\n      <td>...</td>\n      <td>...</td>\n      <td>...</td>\n      <td>...</td>\n      <td>...</td>\n      <td>...</td>\n      <td>...</td>\n      <td>...</td>\n    </tr>\n    <tr>\n      <th>14660</th>\n      <td>-0.019113</td>\n      <td>3.196020</td>\n      <td>-0.11205</td>\n      <td>-0.028606</td>\n      <td>-0.139982</td>\n      <td>-0.618438</td>\n      <td>-0.053906</td>\n      <td>-0.031767</td>\n      <td>-0.019726</td>\n      <td>-1.211901</td>\n      <td>...</td>\n      <td>-0.439078</td>\n      <td>2.756092</td>\n      <td>-0.289103</td>\n      <td>-0.639532</td>\n      <td>-0.624871</td>\n      <td>-0.387635</td>\n      <td>-0.376387</td>\n      <td>4.593998</td>\n      <td>2.677897</td>\n      <td>0.784177</td>\n    </tr>\n    <tr>\n      <th>14661</th>\n      <td>-0.019113</td>\n      <td>-0.312889</td>\n      <td>-0.11205</td>\n      <td>-0.028606</td>\n      <td>-0.139982</td>\n      <td>1.616978</td>\n      <td>-0.053906</td>\n      <td>-0.031767</td>\n      <td>-0.019726</td>\n      <td>-1.211901</td>\n      <td>...</td>\n      <td>-0.121485</td>\n      <td>-0.447834</td>\n      <td>-0.200265</td>\n      <td>-0.617049</td>\n      <td>-0.624871</td>\n      <td>-0.387635</td>\n      <td>-0.376387</td>\n      <td>2.240314</td>\n      <td>2.150332</td>\n      <td>0.629270</td>\n    </tr>\n    <tr>\n      <th>14662</th>\n      <td>-0.019113</td>\n      <td>-0.312889</td>\n      <td>-0.11205</td>\n      <td>-0.028606</td>\n      <td>-0.139982</td>\n      <td>1.616978</td>\n      <td>-0.053906</td>\n      <td>-0.031767</td>\n      <td>-0.019726</td>\n      <td>-1.211901</td>\n      <td>...</td>\n      <td>-0.439078</td>\n      <td>-0.447834</td>\n      <td>-0.200265</td>\n      <td>-0.617049</td>\n      <td>-0.624871</td>\n      <td>-0.387635</td>\n      <td>-0.376387</td>\n      <td>0.696183</td>\n      <td>2.013179</td>\n      <td>0.761464</td>\n    </tr>\n    <tr>\n      <th>14663</th>\n      <td>-0.019113</td>\n      <td>-0.312889</td>\n      <td>-0.11205</td>\n      <td>-0.028606</td>\n      <td>-0.139982</td>\n      <td>-0.618438</td>\n      <td>-0.053906</td>\n      <td>-0.031767</td>\n      <td>-0.019726</td>\n      <td>0.825150</td>\n      <td>...</td>\n      <td>-0.439078</td>\n      <td>-0.480197</td>\n      <td>-0.289103</td>\n      <td>-0.639532</td>\n      <td>-0.624871</td>\n      <td>-0.159292</td>\n      <td>-0.157266</td>\n      <td>0.000000</td>\n      <td>2.150937</td>\n      <td>0.753814</td>\n    </tr>\n    <tr>\n      <th>14664</th>\n      <td>-0.019113</td>\n      <td>3.196020</td>\n      <td>-0.11205</td>\n      <td>-0.028606</td>\n      <td>-0.139982</td>\n      <td>-0.618438</td>\n      <td>-0.053906</td>\n      <td>-0.031767</td>\n      <td>-0.019726</td>\n      <td>-1.211901</td>\n      <td>...</td>\n      <td>-0.386146</td>\n      <td>-0.480197</td>\n      <td>-0.289103</td>\n      <td>-0.639532</td>\n      <td>-0.624871</td>\n      <td>-0.387635</td>\n      <td>-0.376387</td>\n      <td>0.176645</td>\n      <td>2.325461</td>\n      <td>0.669876</td>\n    </tr>\n  </tbody>\n</table>\n<p>14665 rows × 95 columns</p>\n</div>"
     },
     "execution_count": 94,
     "metadata": {},
     "output_type": "execute_result"
    }
   ],
   "source": [
    "anomalous_test_data_with_Z_df"
   ],
   "metadata": {
    "collapsed": false
   }
  },
  {
   "cell_type": "code",
   "execution_count": 95,
   "outputs": [],
   "source": [
    "def getFinalPredictions(first_predictions, second_predictions):\n",
    "    autoencoder_copy = first_predictions.copy()\n",
    "    if_copy = second_predictions.copy()\n",
    "    indices = autoencoder_copy.index[autoencoder_copy[\"predicted_as_anomaly\"] == True]\n",
    "    if_copy.index = indices\n",
    "    autoencoder_copy.loc[indices, \"predicted_as_anomaly\"] = if_copy[\"predicted_as_anomaly\"]\n",
    "    print_results(autoencoder_copy)\n",
    "    print(\"auroc: \" + str(get_auroc_value(second_predictions)))"
   ],
   "metadata": {
    "collapsed": false
   }
  },
  {
   "cell_type": "code",
   "execution_count": 96,
   "outputs": [],
   "source": [
    "from turtleIsolationForests.extendedIsolationForest import ExtendedIsolationForest\n",
    "from turtleIsolationForests.printResults import print_results\n",
    "\n",
    "eif = ExtendedIsolationForest(contamination = contamination, random_state = None)\n",
    "eif.fit(train_data_with_Z_df, train_labels)"
   ],
   "metadata": {
    "collapsed": false
   }
  },
  {
   "cell_type": "code",
   "execution_count": 97,
   "outputs": [
    {
     "name": "stdout",
     "output_type": "stream",
     "text": [
      "1min 3s ± 9.17 s per loop (mean ± std. dev. of 7 runs, 1 loop each)\n"
     ]
    }
   ],
   "source": [
    "%%timeit\n",
    "\n",
    "eif.predict(anomalous_test_data_with_Z_df)"
   ],
   "metadata": {
    "collapsed": false
   }
  },
  {
   "cell_type": "code",
   "execution_count": 98,
   "outputs": [
    {
     "name": "stdout",
     "output_type": "stream",
     "text": [
      "true anomalies: 2069\n",
      "false anomalies: 2679\n",
      "false normals: 7642\n",
      "true normals: 10154\n",
      "precision: 0.4357624262847515\n",
      "recall: 0.21305735763567088\n",
      "f1-score: 0.28618853309357495\n"
     ]
    },
    {
     "ename": "KeyError",
     "evalue": "'anomaly_score'",
     "output_type": "error",
     "traceback": [
      "\u001B[0;31m---------------------------------------------------------------------------\u001B[0m",
      "\u001B[0;31mKeyError\u001B[0m                                  Traceback (most recent call last)",
      "File \u001B[0;32m~/Documents/GitHub/network-anomaly-detection/venv/lib/python3.8/site-packages/pandas/core/indexes/base.py:3802\u001B[0m, in \u001B[0;36mIndex.get_loc\u001B[0;34m(self, key, method, tolerance)\u001B[0m\n\u001B[1;32m   3801\u001B[0m \u001B[38;5;28;01mtry\u001B[39;00m:\n\u001B[0;32m-> 3802\u001B[0m     \u001B[38;5;28;01mreturn\u001B[39;00m \u001B[38;5;28;43mself\u001B[39;49m\u001B[38;5;241;43m.\u001B[39;49m\u001B[43m_engine\u001B[49m\u001B[38;5;241;43m.\u001B[39;49m\u001B[43mget_loc\u001B[49m\u001B[43m(\u001B[49m\u001B[43mcasted_key\u001B[49m\u001B[43m)\u001B[49m\n\u001B[1;32m   3803\u001B[0m \u001B[38;5;28;01mexcept\u001B[39;00m \u001B[38;5;167;01mKeyError\u001B[39;00m \u001B[38;5;28;01mas\u001B[39;00m err:\n",
      "File \u001B[0;32m~/Documents/GitHub/network-anomaly-detection/venv/lib/python3.8/site-packages/pandas/_libs/index.pyx:138\u001B[0m, in \u001B[0;36mpandas._libs.index.IndexEngine.get_loc\u001B[0;34m()\u001B[0m\n",
      "File \u001B[0;32m~/Documents/GitHub/network-anomaly-detection/venv/lib/python3.8/site-packages/pandas/_libs/index.pyx:165\u001B[0m, in \u001B[0;36mpandas._libs.index.IndexEngine.get_loc\u001B[0;34m()\u001B[0m\n",
      "File \u001B[0;32mpandas/_libs/hashtable_class_helper.pxi:5745\u001B[0m, in \u001B[0;36mpandas._libs.hashtable.PyObjectHashTable.get_item\u001B[0;34m()\u001B[0m\n",
      "File \u001B[0;32mpandas/_libs/hashtable_class_helper.pxi:5753\u001B[0m, in \u001B[0;36mpandas._libs.hashtable.PyObjectHashTable.get_item\u001B[0;34m()\u001B[0m\n",
      "\u001B[0;31mKeyError\u001B[0m: 'anomaly_score'",
      "\nThe above exception was the direct cause of the following exception:\n",
      "\u001B[0;31mKeyError\u001B[0m                                  Traceback (most recent call last)",
      "Cell \u001B[0;32mIn[98], line 5\u001B[0m\n\u001B[1;32m      2\u001B[0m eif_predictions[\u001B[38;5;124m'\u001B[39m\u001B[38;5;124mis_normal\u001B[39m\u001B[38;5;124m'\u001B[39m] \u001B[38;5;241m=\u001B[39m predicted_anomalous_labels\n\u001B[1;32m      4\u001B[0m \u001B[38;5;66;03m#print_results(eif_predictions)\u001B[39;00m\n\u001B[0;32m----> 5\u001B[0m \u001B[43mgetFinalPredictions\u001B[49m\u001B[43m(\u001B[49m\u001B[43mautoec_predictions\u001B[49m\u001B[43m,\u001B[49m\u001B[43m \u001B[49m\u001B[43meif_predictions\u001B[49m\u001B[43m)\u001B[49m\n",
      "Cell \u001B[0;32mIn[95], line 8\u001B[0m, in \u001B[0;36mgetFinalPredictions\u001B[0;34m(first_predictions, second_predictions)\u001B[0m\n\u001B[1;32m      6\u001B[0m f_p_copy\u001B[38;5;241m.\u001B[39mloc[indices, \u001B[38;5;124m\"\u001B[39m\u001B[38;5;124mpredicted_as_anomaly\u001B[39m\u001B[38;5;124m\"\u001B[39m] \u001B[38;5;241m=\u001B[39m s_p_copy[\u001B[38;5;124m\"\u001B[39m\u001B[38;5;124mpredicted_as_anomaly\u001B[39m\u001B[38;5;124m\"\u001B[39m]\n\u001B[1;32m      7\u001B[0m print_results(f_p_copy)\n\u001B[0;32m----> 8\u001B[0m \u001B[38;5;28mprint\u001B[39m(\u001B[38;5;124m\"\u001B[39m\u001B[38;5;124mauroc: \u001B[39m\u001B[38;5;124m\"\u001B[39m \u001B[38;5;241m+\u001B[39m \u001B[38;5;28mstr\u001B[39m(\u001B[43mget_auroc_value\u001B[49m\u001B[43m(\u001B[49m\u001B[43mf_p_copy\u001B[49m\u001B[43m)\u001B[49m))\n",
      "File \u001B[0;32m~/Documents/GitHub/network-anomaly-detection/turtleIsolationForests/printResults.py:33\u001B[0m, in \u001B[0;36mget_auroc_value\u001B[0;34m(predictions)\u001B[0m\n\u001B[1;32m     32\u001B[0m \u001B[38;5;28;01mdef\u001B[39;00m \u001B[38;5;21mget_auroc_value\u001B[39m(predictions: DataFrame) \u001B[38;5;241m-\u001B[39m\u001B[38;5;241m>\u001B[39m \u001B[38;5;28mfloat\u001B[39m:\n\u001B[0;32m---> 33\u001B[0m     (fpr, tpr, _) \u001B[38;5;241m=\u001B[39m \u001B[43mget_auroc_points\u001B[49m\u001B[43m(\u001B[49m\u001B[43mpredictions\u001B[49m\u001B[43m)\u001B[49m\n\u001B[1;32m     34\u001B[0m     \u001B[38;5;28;01mreturn\u001B[39;00m get_auc(fpr, tpr)\n",
      "File \u001B[0;32m~/Documents/GitHub/network-anomaly-detection/turtleIsolationForests/printResults.py:38\u001B[0m, in \u001B[0;36mget_auroc_points\u001B[0;34m(predictions)\u001B[0m\n\u001B[1;32m     36\u001B[0m \u001B[38;5;28;01mdef\u001B[39;00m \u001B[38;5;21mget_auroc_points\u001B[39m(predictions: DataFrame):\n\u001B[1;32m     37\u001B[0m     y_true \u001B[38;5;241m=\u001B[39m predictions[\u001B[38;5;124m'\u001B[39m\u001B[38;5;124mis_normal\u001B[39m\u001B[38;5;124m'\u001B[39m]\n\u001B[0;32m---> 38\u001B[0m     y_score \u001B[38;5;241m=\u001B[39m \u001B[43mpredictions\u001B[49m\u001B[43m[\u001B[49m\u001B[38;5;124;43m'\u001B[39;49m\u001B[38;5;124;43manomaly_score\u001B[39;49m\u001B[38;5;124;43m'\u001B[39;49m\u001B[43m]\u001B[49m\n\u001B[1;32m     39\u001B[0m     \u001B[38;5;28;01mreturn\u001B[39;00m roc_curve(y_true, y_score, pos_label\u001B[38;5;241m=\u001B[39m\u001B[38;5;241m0\u001B[39m)\n",
      "File \u001B[0;32m~/Documents/GitHub/network-anomaly-detection/venv/lib/python3.8/site-packages/pandas/core/frame.py:3807\u001B[0m, in \u001B[0;36mDataFrame.__getitem__\u001B[0;34m(self, key)\u001B[0m\n\u001B[1;32m   3805\u001B[0m \u001B[38;5;28;01mif\u001B[39;00m \u001B[38;5;28mself\u001B[39m\u001B[38;5;241m.\u001B[39mcolumns\u001B[38;5;241m.\u001B[39mnlevels \u001B[38;5;241m>\u001B[39m \u001B[38;5;241m1\u001B[39m:\n\u001B[1;32m   3806\u001B[0m     \u001B[38;5;28;01mreturn\u001B[39;00m \u001B[38;5;28mself\u001B[39m\u001B[38;5;241m.\u001B[39m_getitem_multilevel(key)\n\u001B[0;32m-> 3807\u001B[0m indexer \u001B[38;5;241m=\u001B[39m \u001B[38;5;28;43mself\u001B[39;49m\u001B[38;5;241;43m.\u001B[39;49m\u001B[43mcolumns\u001B[49m\u001B[38;5;241;43m.\u001B[39;49m\u001B[43mget_loc\u001B[49m\u001B[43m(\u001B[49m\u001B[43mkey\u001B[49m\u001B[43m)\u001B[49m\n\u001B[1;32m   3808\u001B[0m \u001B[38;5;28;01mif\u001B[39;00m is_integer(indexer):\n\u001B[1;32m   3809\u001B[0m     indexer \u001B[38;5;241m=\u001B[39m [indexer]\n",
      "File \u001B[0;32m~/Documents/GitHub/network-anomaly-detection/venv/lib/python3.8/site-packages/pandas/core/indexes/base.py:3804\u001B[0m, in \u001B[0;36mIndex.get_loc\u001B[0;34m(self, key, method, tolerance)\u001B[0m\n\u001B[1;32m   3802\u001B[0m     \u001B[38;5;28;01mreturn\u001B[39;00m \u001B[38;5;28mself\u001B[39m\u001B[38;5;241m.\u001B[39m_engine\u001B[38;5;241m.\u001B[39mget_loc(casted_key)\n\u001B[1;32m   3803\u001B[0m \u001B[38;5;28;01mexcept\u001B[39;00m \u001B[38;5;167;01mKeyError\u001B[39;00m \u001B[38;5;28;01mas\u001B[39;00m err:\n\u001B[0;32m-> 3804\u001B[0m     \u001B[38;5;28;01mraise\u001B[39;00m \u001B[38;5;167;01mKeyError\u001B[39;00m(key) \u001B[38;5;28;01mfrom\u001B[39;00m \u001B[38;5;21;01merr\u001B[39;00m\n\u001B[1;32m   3805\u001B[0m \u001B[38;5;28;01mexcept\u001B[39;00m \u001B[38;5;167;01mTypeError\u001B[39;00m:\n\u001B[1;32m   3806\u001B[0m     \u001B[38;5;66;03m# If we have a listlike key, _check_indexing_error will raise\u001B[39;00m\n\u001B[1;32m   3807\u001B[0m     \u001B[38;5;66;03m#  InvalidIndexError. Otherwise we fall through and re-raise\u001B[39;00m\n\u001B[1;32m   3808\u001B[0m     \u001B[38;5;66;03m#  the TypeError.\u001B[39;00m\n\u001B[1;32m   3809\u001B[0m     \u001B[38;5;28mself\u001B[39m\u001B[38;5;241m.\u001B[39m_check_indexing_error(key)\n",
      "\u001B[0;31mKeyError\u001B[0m: 'anomaly_score'"
     ]
    }
   ],
   "source": [
    "eif_predictions = eif.predict(anomalous_test_data_with_Z_df)\n",
    "eif_predictions['is_anomalous'] = predicted_anomalous_labels\n",
    "\n",
    "#print_results(eif_predictions)\n",
    "getFinalPredictions(autoec_predictions, eif_predictions)"
   ],
   "metadata": {
    "collapsed": false
   }
  },
  {
   "cell_type": "code",
   "execution_count": 101,
   "outputs": [
    {
     "name": "stdout",
     "output_type": "stream",
     "text": [
      "true anomalies: 2069\n",
      "false anomalies: 2679\n",
      "false normals: 7642\n",
      "true normals: 10154\n",
      "precision: 0.4357624262847515\n",
      "recall: 0.21305735763567088\n",
      "f1-score: 0.28618853309357495\n"
     ]
    },
    {
     "ename": "KeyError",
     "evalue": "'anomaly_score'",
     "output_type": "error",
     "traceback": [
      "\u001B[0;31m---------------------------------------------------------------------------\u001B[0m",
      "\u001B[0;31mKeyError\u001B[0m                                  Traceback (most recent call last)",
      "File \u001B[0;32m~/Documents/GitHub/network-anomaly-detection/venv/lib/python3.8/site-packages/pandas/core/indexes/base.py:3802\u001B[0m, in \u001B[0;36mIndex.get_loc\u001B[0;34m(self, key, method, tolerance)\u001B[0m\n\u001B[1;32m   3801\u001B[0m \u001B[38;5;28;01mtry\u001B[39;00m:\n\u001B[0;32m-> 3802\u001B[0m     \u001B[38;5;28;01mreturn\u001B[39;00m \u001B[38;5;28;43mself\u001B[39;49m\u001B[38;5;241;43m.\u001B[39;49m\u001B[43m_engine\u001B[49m\u001B[38;5;241;43m.\u001B[39;49m\u001B[43mget_loc\u001B[49m\u001B[43m(\u001B[49m\u001B[43mcasted_key\u001B[49m\u001B[43m)\u001B[49m\n\u001B[1;32m   3803\u001B[0m \u001B[38;5;28;01mexcept\u001B[39;00m \u001B[38;5;167;01mKeyError\u001B[39;00m \u001B[38;5;28;01mas\u001B[39;00m err:\n",
      "File \u001B[0;32m~/Documents/GitHub/network-anomaly-detection/venv/lib/python3.8/site-packages/pandas/_libs/index.pyx:138\u001B[0m, in \u001B[0;36mpandas._libs.index.IndexEngine.get_loc\u001B[0;34m()\u001B[0m\n",
      "File \u001B[0;32m~/Documents/GitHub/network-anomaly-detection/venv/lib/python3.8/site-packages/pandas/_libs/index.pyx:165\u001B[0m, in \u001B[0;36mpandas._libs.index.IndexEngine.get_loc\u001B[0;34m()\u001B[0m\n",
      "File \u001B[0;32mpandas/_libs/hashtable_class_helper.pxi:5745\u001B[0m, in \u001B[0;36mpandas._libs.hashtable.PyObjectHashTable.get_item\u001B[0;34m()\u001B[0m\n",
      "File \u001B[0;32mpandas/_libs/hashtable_class_helper.pxi:5753\u001B[0m, in \u001B[0;36mpandas._libs.hashtable.PyObjectHashTable.get_item\u001B[0;34m()\u001B[0m\n",
      "\u001B[0;31mKeyError\u001B[0m: 'anomaly_score'",
      "\nThe above exception was the direct cause of the following exception:\n",
      "\u001B[0;31mKeyError\u001B[0m                                  Traceback (most recent call last)",
      "Cell \u001B[0;32mIn[101], line 5\u001B[0m\n\u001B[1;32m      2\u001B[0m eif_predictions[\u001B[38;5;124m'\u001B[39m\u001B[38;5;124mis_normal\u001B[39m\u001B[38;5;124m'\u001B[39m] \u001B[38;5;241m=\u001B[39m predicted_anomalous_labels_swap\n\u001B[1;32m      4\u001B[0m \u001B[38;5;66;03m#print_results(eif_predictions)\u001B[39;00m\n\u001B[0;32m----> 5\u001B[0m \u001B[43mgetFinalPredictions\u001B[49m\u001B[43m(\u001B[49m\u001B[43mautoec_predictions\u001B[49m\u001B[43m,\u001B[49m\u001B[43m \u001B[49m\u001B[43meif_predictions\u001B[49m\u001B[43m)\u001B[49m\n",
      "Cell \u001B[0;32mIn[95], line 8\u001B[0m, in \u001B[0;36mgetFinalPredictions\u001B[0;34m(first_predictions, second_predictions)\u001B[0m\n\u001B[1;32m      6\u001B[0m f_p_copy\u001B[38;5;241m.\u001B[39mloc[indices, \u001B[38;5;124m\"\u001B[39m\u001B[38;5;124mpredicted_as_anomaly\u001B[39m\u001B[38;5;124m\"\u001B[39m] \u001B[38;5;241m=\u001B[39m s_p_copy[\u001B[38;5;124m\"\u001B[39m\u001B[38;5;124mpredicted_as_anomaly\u001B[39m\u001B[38;5;124m\"\u001B[39m]\n\u001B[1;32m      7\u001B[0m print_results(f_p_copy)\n\u001B[0;32m----> 8\u001B[0m \u001B[38;5;28mprint\u001B[39m(\u001B[38;5;124m\"\u001B[39m\u001B[38;5;124mauroc: \u001B[39m\u001B[38;5;124m\"\u001B[39m \u001B[38;5;241m+\u001B[39m \u001B[38;5;28mstr\u001B[39m(\u001B[43mget_auroc_value\u001B[49m\u001B[43m(\u001B[49m\u001B[43mf_p_copy\u001B[49m\u001B[43m)\u001B[49m))\n",
      "File \u001B[0;32m~/Documents/GitHub/network-anomaly-detection/turtleIsolationForests/printResults.py:33\u001B[0m, in \u001B[0;36mget_auroc_value\u001B[0;34m(predictions)\u001B[0m\n\u001B[1;32m     32\u001B[0m \u001B[38;5;28;01mdef\u001B[39;00m \u001B[38;5;21mget_auroc_value\u001B[39m(predictions: DataFrame) \u001B[38;5;241m-\u001B[39m\u001B[38;5;241m>\u001B[39m \u001B[38;5;28mfloat\u001B[39m:\n\u001B[0;32m---> 33\u001B[0m     (fpr, tpr, _) \u001B[38;5;241m=\u001B[39m \u001B[43mget_auroc_points\u001B[49m\u001B[43m(\u001B[49m\u001B[43mpredictions\u001B[49m\u001B[43m)\u001B[49m\n\u001B[1;32m     34\u001B[0m     \u001B[38;5;28;01mreturn\u001B[39;00m get_auc(fpr, tpr)\n",
      "File \u001B[0;32m~/Documents/GitHub/network-anomaly-detection/turtleIsolationForests/printResults.py:38\u001B[0m, in \u001B[0;36mget_auroc_points\u001B[0;34m(predictions)\u001B[0m\n\u001B[1;32m     36\u001B[0m \u001B[38;5;28;01mdef\u001B[39;00m \u001B[38;5;21mget_auroc_points\u001B[39m(predictions: DataFrame):\n\u001B[1;32m     37\u001B[0m     y_true \u001B[38;5;241m=\u001B[39m predictions[\u001B[38;5;124m'\u001B[39m\u001B[38;5;124mis_normal\u001B[39m\u001B[38;5;124m'\u001B[39m]\n\u001B[0;32m---> 38\u001B[0m     y_score \u001B[38;5;241m=\u001B[39m \u001B[43mpredictions\u001B[49m\u001B[43m[\u001B[49m\u001B[38;5;124;43m'\u001B[39;49m\u001B[38;5;124;43manomaly_score\u001B[39;49m\u001B[38;5;124;43m'\u001B[39;49m\u001B[43m]\u001B[49m\n\u001B[1;32m     39\u001B[0m     \u001B[38;5;28;01mreturn\u001B[39;00m roc_curve(y_true, y_score, pos_label\u001B[38;5;241m=\u001B[39m\u001B[38;5;241m0\u001B[39m)\n",
      "File \u001B[0;32m~/Documents/GitHub/network-anomaly-detection/venv/lib/python3.8/site-packages/pandas/core/frame.py:3807\u001B[0m, in \u001B[0;36mDataFrame.__getitem__\u001B[0;34m(self, key)\u001B[0m\n\u001B[1;32m   3805\u001B[0m \u001B[38;5;28;01mif\u001B[39;00m \u001B[38;5;28mself\u001B[39m\u001B[38;5;241m.\u001B[39mcolumns\u001B[38;5;241m.\u001B[39mnlevels \u001B[38;5;241m>\u001B[39m \u001B[38;5;241m1\u001B[39m:\n\u001B[1;32m   3806\u001B[0m     \u001B[38;5;28;01mreturn\u001B[39;00m \u001B[38;5;28mself\u001B[39m\u001B[38;5;241m.\u001B[39m_getitem_multilevel(key)\n\u001B[0;32m-> 3807\u001B[0m indexer \u001B[38;5;241m=\u001B[39m \u001B[38;5;28;43mself\u001B[39;49m\u001B[38;5;241;43m.\u001B[39;49m\u001B[43mcolumns\u001B[49m\u001B[38;5;241;43m.\u001B[39;49m\u001B[43mget_loc\u001B[49m\u001B[43m(\u001B[49m\u001B[43mkey\u001B[49m\u001B[43m)\u001B[49m\n\u001B[1;32m   3808\u001B[0m \u001B[38;5;28;01mif\u001B[39;00m is_integer(indexer):\n\u001B[1;32m   3809\u001B[0m     indexer \u001B[38;5;241m=\u001B[39m [indexer]\n",
      "File \u001B[0;32m~/Documents/GitHub/network-anomaly-detection/venv/lib/python3.8/site-packages/pandas/core/indexes/base.py:3804\u001B[0m, in \u001B[0;36mIndex.get_loc\u001B[0;34m(self, key, method, tolerance)\u001B[0m\n\u001B[1;32m   3802\u001B[0m     \u001B[38;5;28;01mreturn\u001B[39;00m \u001B[38;5;28mself\u001B[39m\u001B[38;5;241m.\u001B[39m_engine\u001B[38;5;241m.\u001B[39mget_loc(casted_key)\n\u001B[1;32m   3803\u001B[0m \u001B[38;5;28;01mexcept\u001B[39;00m \u001B[38;5;167;01mKeyError\u001B[39;00m \u001B[38;5;28;01mas\u001B[39;00m err:\n\u001B[0;32m-> 3804\u001B[0m     \u001B[38;5;28;01mraise\u001B[39;00m \u001B[38;5;167;01mKeyError\u001B[39;00m(key) \u001B[38;5;28;01mfrom\u001B[39;00m \u001B[38;5;21;01merr\u001B[39;00m\n\u001B[1;32m   3805\u001B[0m \u001B[38;5;28;01mexcept\u001B[39;00m \u001B[38;5;167;01mTypeError\u001B[39;00m:\n\u001B[1;32m   3806\u001B[0m     \u001B[38;5;66;03m# If we have a listlike key, _check_indexing_error will raise\u001B[39;00m\n\u001B[1;32m   3807\u001B[0m     \u001B[38;5;66;03m#  InvalidIndexError. Otherwise we fall through and re-raise\u001B[39;00m\n\u001B[1;32m   3808\u001B[0m     \u001B[38;5;66;03m#  the TypeError.\u001B[39;00m\n\u001B[1;32m   3809\u001B[0m     \u001B[38;5;28mself\u001B[39m\u001B[38;5;241m.\u001B[39m_check_indexing_error(key)\n",
      "\u001B[0;31mKeyError\u001B[0m: 'anomaly_score'"
     ]
    }
   ],
   "source": [
    "eif_predictions = eif.predict(anomalous_test_data_with_Z_df)\n",
    "eif_predictions['is_anomalous'] = predicted_anomalous_labels\n",
    "\n",
    "#print_results(eif_predictions)\n",
    "getFinalPredictions(autoec_predictions, eif_predictions)"
   ],
   "metadata": {
    "collapsed": false,
    "pycharm": {
     "name": "#%%\n"
    }
   }
  },
  {
   "cell_type": "code",
   "execution_count": null,
   "outputs": [],
   "source": [
    "train_predictions = eif.train_scores\n",
    "train_predictions['is_anomalous'] = train_labels\n",
    "print_results(train_predictions)"
   ],
   "metadata": {
    "collapsed": false
   }
  },
  {
   "cell_type": "code",
   "execution_count": null,
   "outputs": [],
   "source": [
    "from turtleIsolationForests.sciForest import SCIsolationForest\n",
    "\n",
    "scif = SCIsolationForest(contamination = contamination, num_hyperplanes_per_split=5, random_state = None)\n",
    "scif.fit(train_data_with_Z_df, train_labels)"
   ],
   "metadata": {
    "collapsed": false
   }
  },
  {
   "cell_type": "code",
   "execution_count": null,
   "outputs": [],
   "source": [
    "%%timeit\n",
    "\n",
    "scif.predict(anomalous_test_data_with_Z_df)"
   ],
   "metadata": {
    "collapsed": false
   }
  },
  {
   "cell_type": "code",
   "execution_count": null,
   "outputs": [],
   "source": [
    "scif_predictions = scif.predict(anomalous_test_data_with_Z_df)\n",
    "scif_predictions['is_anomalous'] = predicted_anomalous_labels\n",
    "\n",
    "#print_results(scif_predictions)\n",
    "getFinalPredictions(autoec_predictions, scif_predictions)"
   ],
   "metadata": {
    "collapsed": false
   }
  },
  {
   "cell_type": "code",
   "execution_count": null,
   "outputs": [],
   "source": [
    "from turtleIsolationForests.isolationForest import IsolationForest\n",
    "\n",
    "isoforest = IsolationForest(contamination = contamination, random_state = None)\n",
    "isoforest.fit(train_data_with_Z_df, train_labels)"
   ],
   "metadata": {
    "collapsed": false
   }
  },
  {
   "cell_type": "code",
   "execution_count": null,
   "outputs": [],
   "source": [
    "%%timeit\n",
    "\n",
    "isoforest.predict(anomalous_test_data_with_Z_df)"
   ],
   "metadata": {
    "collapsed": false
   }
  },
  {
   "cell_type": "code",
   "execution_count": null,
   "outputs": [],
   "source": [
    "isoforest_predictions = isoforest.predict(anomalous_test_data_with_Z_df)\n",
    "isoforest_predictions['is_anomalous'] = predicted_anomalous_labels\n",
    "\n",
    "#print_results(isoforest_predictions)\n",
    "getFinalPredictions(autoec_predictions, isoforest_predictions)"
   ],
   "metadata": {
    "collapsed": false
   }
  },
  {
   "cell_type": "code",
   "execution_count": null,
   "outputs": [],
   "source": [
    "from turtleIsolationForests.FBIF import FBIsolationForest\n",
    "\n",
    "fbif = FBIsolationForest(contamination = contamination, random_state = None)\n",
    "fbif.fit(train_data_with_Z_df, train_labels)"
   ],
   "metadata": {
    "collapsed": false
   }
  },
  {
   "cell_type": "code",
   "execution_count": null,
   "outputs": [],
   "source": [
    "%%timeit\n",
    "\n",
    "fbif.predict(anomalous_test_data_with_Z_df)"
   ],
   "metadata": {
    "collapsed": false
   }
  },
  {
   "cell_type": "code",
   "execution_count": null,
   "outputs": [],
   "source": [
    "fbif_predictions = fbif.predict(anomalous_test_data_with_Z_df)\n",
    "fbif_predictions['is_anomalous'] = predicted_anomalous_labels\n",
    "\n",
    "#print_results(fbif_predictions)\n",
    "getFinalPredictions(autoec_predictions, fbif_predictions)"
   ],
   "metadata": {
    "collapsed": false
   }
  }
 ],
 "metadata": {
  "kernelspec": {
   "display_name": "Python 3",
   "language": "python",
   "name": "python3"
  },
  "language_info": {
   "codemirror_mode": {
    "name": "ipython",
    "version": 2
   },
   "file_extension": ".py",
   "mimetype": "text/x-python",
   "name": "python",
   "nbconvert_exporter": "python",
   "pygments_lexer": "ipython2",
   "version": "3.10.9"
  },
  "vscode": {
   "interpreter": {
    "hash": "bbc3c3d932324566a9bf4b4a52ddf64063695fc3adbf25b3fda92572428493bb"
   }
  }
 },
 "nbformat": 4,
 "nbformat_minor": 0
}
