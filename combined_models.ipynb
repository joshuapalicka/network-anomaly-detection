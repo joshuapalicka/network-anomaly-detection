{
 "cells": [
  {
   "cell_type": "code",
   "execution_count": 1,
   "outputs": [
    {
     "name": "stderr",
     "output_type": "stream",
     "text": [
      "2023-02-06 17:26:16.899812: I tensorflow/core/platform/cpu_feature_guard.cc:193] This TensorFlow binary is optimized with oneAPI Deep Neural Network Library (oneDNN) to use the following CPU instructions in performance-critical operations:  AVX2 FMA\n",
      "To enable them in other operations, rebuild TensorFlow with the appropriate compiler flags.\n"
     ]
    }
   ],
   "source": [
    "import matplotlib.pyplot as plt\n",
    "import numpy as np\n",
    "import pandas as pd\n",
    "import tensorflow as tf\n",
    "\n",
    "from sklearn.metrics import accuracy_score, precision_score, recall_score\n",
    "from sklearn.model_selection import train_test_split\n",
    "from tensorflow.keras import layers, losses\n",
    "from tensorflow.keras.datasets import fashion_mnist\n",
    "from tensorflow.keras.models import Model"
   ],
   "metadata": {
    "collapsed": false,
    "pycharm": {
     "name": "#%%\n"
    }
   }
  },
  {
   "cell_type": "code",
   "execution_count": 2,
   "outputs": [],
   "source": [
    "aecModel = None\n",
    "eifModel = None\n",
    "\n",
    "\"\"\"Sample code - may look different in the future\"\"\"\n",
    "\n",
    "# Framework for Autoencoder predict function\n",
    "def aecPredict(data, threshold):\n",
    "    reconstructions = aecModel(data)\n",
    "    loss = tf.keras.losses.mae(reconstructions, data)\n",
    "\n",
    "    # return prediction\n",
    "    return tf.math.less(loss, threshold)\n",
    "\n",
    "# Framework for Extended Isolation Forest predict function\n",
    "def eifPredict(data, aecFinalLayer):\n",
    "    # append our final autencoder model layer to the data and predict\n",
    "    data.append(aecFinalLayer)\n",
    "    return eifModel.predict(data)\n",
    "\n",
    "def isAnomaly(data):\n",
    "    threshold = None\n",
    "\n",
    "    # need autoencoder to return boolean isAnomaly and list of features\n",
    "    isAnomaly = aecPredict(data, threshold)\n",
    "\n",
    "    # if the autoencoder doesn't find anything out of the ordinary, return False\n",
    "    if not isAnomaly:\n",
    "        return False\n",
    "\n",
    "    # if the autoencoder sees something weird, run it through the isolation forest to make sure\n",
    "    return eifPredict(data, aecModel.finalLayer)\n"
   ],
   "metadata": {
    "collapsed": false,
    "pycharm": {
     "name": "#%%\n"
    }
   }
  },
  {
   "cell_type": "code",
   "execution_count": 3,
   "outputs": [],
   "source": [
    "\"\"\"\n",
    "Questions:\n",
    "How do we obtain \"windows\" from our datasets?\n",
    "What should k be for our data? Look at paper\n",
    "How do we obtain our threshold? It would be a line between the average True point and average False point\n",
    "\"\"\"\n",
    "\n",
    "def pak(anomaly_segment_list, ground_truth, threshold,  k):\n",
    "    allAboveThreshold = True\n",
    "\n",
    "    for item in anomaly_segment_list:\n",
    "        if item <= threshold:\n",
    "            allAboveThreshold = False\n",
    "\n",
    "    if allAboveThreshold:\n",
    "        return True\n",
    "\n",
    "    numCorrectlyDetected = 0\n",
    "\n",
    "    for i in range(len(anomaly_segment_list)):\n",
    "        if anomaly_segment_list[i] == ground_truth[i]:\n",
    "            numCorrectlyDetected += 1\n",
    "\n",
    "    return numCorrectlyDetected / len(anomaly_segment_list) > k"
   ],
   "metadata": {
    "collapsed": false,
    "pycharm": {
     "name": "#%%\n"
    }
   }
  },
  {
   "cell_type": "code",
   "execution_count": 3,
   "outputs": [],
   "source": [],
   "metadata": {
    "collapsed": false,
    "pycharm": {
     "name": "#%%\n"
    }
   }
  },
  {
   "cell_type": "code",
   "execution_count": 4,
   "outputs": [],
   "source": [
    "train_data = pd.read_csv('eda_simple_classification/network_data_mod_train.csv')\n",
    "test_data = pd.read_csv('eda_simple_classification/network_data_mod_test.csv')\n",
    "\n",
    "frames = [train_data, test_data]\n",
    "\n",
    "dataframe  = pd.concat(frames)\n",
    "raw_data = dataframe.values"
   ],
   "metadata": {
    "collapsed": false,
    "pycharm": {
     "name": "#%%\n"
    }
   }
  },
  {
   "cell_type": "code",
   "execution_count": 5,
   "outputs": [],
   "source": [
    "# The last element contains the labels\n",
    "labels = raw_data[:, -1]\n",
    "\n",
    "data = raw_data[:, 0:-1]\n",
    "\n",
    "train_data, test_data, train_labels, test_labels = train_test_split(\n",
    "    data, labels, test_size=0.2, random_state=34\n",
    ")"
   ],
   "metadata": {
    "collapsed": false,
    "pycharm": {
     "name": "#%%\n"
    }
   }
  },
  {
   "cell_type": "code",
   "execution_count": 6,
   "outputs": [
    {
     "name": "stderr",
     "output_type": "stream",
     "text": [
      "2023-02-06 17:26:29.428745: I tensorflow/core/platform/cpu_feature_guard.cc:193] This TensorFlow binary is optimized with oneAPI Deep Neural Network Library (oneDNN) to use the following CPU instructions in performance-critical operations:  AVX2 FMA\n",
      "To enable them in other operations, rebuild TensorFlow with the appropriate compiler flags.\n"
     ]
    }
   ],
   "source": [
    "min_val = tf.reduce_min(train_data)\n",
    "max_val = tf.reduce_max(train_data)\n",
    "\n",
    "train_data = (train_data - min_val) / (max_val - min_val)\n",
    "test_data = (test_data - min_val) / (max_val - min_val)\n",
    "\n",
    "train_data = tf.cast(train_data, tf.float32)\n",
    "test_data = tf.cast(test_data, tf.float32)"
   ],
   "metadata": {
    "collapsed": false,
    "pycharm": {
     "name": "#%%\n"
    }
   }
  },
  {
   "cell_type": "code",
   "execution_count": 7,
   "outputs": [],
   "source": [
    "train_labels = train_labels.astype(bool)\n",
    "test_labels = test_labels.astype(bool)\n",
    "\n",
    "normal_train_data = train_data[train_labels]\n",
    "normal_test_data = test_data[test_labels]\n",
    "\n",
    "anomalous_train_data = train_data[~train_labels]\n",
    "anomalous_test_data = test_data[~test_labels]"
   ],
   "metadata": {
    "collapsed": false,
    "pycharm": {
     "name": "#%%\n"
    }
   }
  },
  {
   "cell_type": "code",
   "execution_count": 8,
   "outputs": [],
   "source": [
    "\n",
    "class AnomalyDetector(Model):\n",
    "  def __init__(self):\n",
    "    super(AnomalyDetector, self).__init__()\n",
    "    self.encoder = tf.keras.Sequential([\n",
    "      layers.Dense(32, activation=\"relu\"), #zc\n",
    "      layers.Dense(16, activation=\"relu\"),\n",
    "      layers.Dense(8, activation=\"relu\")])\n",
    "\n",
    "    self.decoder = tf.keras.Sequential([\n",
    "      layers.Dense(16, activation=\"relu\"),\n",
    "      layers.Dense(32, activation=\"relu\"),\n",
    "      layers.Dense(47, activation=\"sigmoid\")]) #zed\n",
    "\n",
    "  def call(self, x):\n",
    "    encoded = self.encoder(x)\n",
    "    print(encoded)\n",
    "    decoded = self.decoder(encoded)\n",
    "    print(decoded)\n",
    "    return decoded"
   ],
   "metadata": {
    "collapsed": false,
    "pycharm": {
     "name": "#%%\n"
    }
   }
  },
  {
   "cell_type": "code",
   "execution_count": 9,
   "outputs": [],
   "source": [
    "autoencoder = AnomalyDetector()"
   ],
   "metadata": {
    "collapsed": false,
    "pycharm": {
     "name": "#%%\n"
    }
   }
  },
  {
   "cell_type": "code",
   "execution_count": 10,
   "outputs": [],
   "source": [
    "autoencoder.compile(optimizer='adam', loss='mae')"
   ],
   "metadata": {
    "collapsed": false,
    "pycharm": {
     "name": "#%%\n"
    }
   }
  },
  {
   "cell_type": "code",
   "execution_count": 11,
   "outputs": [
    {
     "name": "stdout",
     "output_type": "stream",
     "text": [
      "Epoch 1/5\n",
      "Tensor(\"anomaly_detector/sequential/dense_2/Relu:0\", shape=(None, 8), dtype=float32)\n",
      "Tensor(\"anomaly_detector/sequential_1/dense_5/Sigmoid:0\", shape=(None, 47), dtype=float32)\n",
      "Tensor(\"anomaly_detector/sequential/dense_2/Relu:0\", shape=(None, 8), dtype=float32)\n",
      "Tensor(\"anomaly_detector/sequential_1/dense_5/Sigmoid:0\", shape=(None, 47), dtype=float32)\n",
      "1917/1927 [============================>.] - ETA: 0s - loss: 0.0173Tensor(\"anomaly_detector/sequential/dense_2/Relu:0\", shape=(None, 8), dtype=float32)\n",
      "Tensor(\"anomaly_detector/sequential_1/dense_5/Sigmoid:0\", shape=(None, 47), dtype=float32)\n",
      "1927/1927 [==============================] - 7s 3ms/step - loss: 0.0173 - val_loss: 5.7610e-04\n",
      "Epoch 2/5\n",
      "1927/1927 [==============================] - 5s 3ms/step - loss: 5.5680e-04 - val_loss: 7.0608e-04\n",
      "Epoch 3/5\n",
      "1927/1927 [==============================] - 7s 3ms/step - loss: 5.1977e-04 - val_loss: 5.4576e-04\n",
      "Epoch 4/5\n",
      "1927/1927 [==============================] - 6s 3ms/step - loss: 4.9717e-04 - val_loss: 5.2749e-04\n",
      "Epoch 5/5\n",
      "1927/1927 [==============================] - 6s 3ms/step - loss: 4.7466e-04 - val_loss: 4.4723e-04\n"
     ]
    }
   ],
   "source": [
    "history = autoencoder.fit(normal_train_data, normal_train_data,\n",
    "          epochs=5,\n",
    "          validation_data=(normal_test_data, normal_test_data),\n",
    "          shuffle=True)"
   ],
   "metadata": {
    "collapsed": false,
    "pycharm": {
     "name": "#%%\n"
    }
   }
  },
  {
   "cell_type": "code",
   "execution_count": 12,
   "outputs": [
    {
     "name": "stdout",
     "output_type": "stream",
     "text": [
      "Tensor(\"anomaly_detector/sequential/dense_2/Relu:0\", shape=(None, 8), dtype=float32)\n",
      "Tensor(\"anomaly_detector/sequential_1/dense_5/Sigmoid:0\", shape=(None, 47), dtype=float32)\n",
      "1927/1927 [==============================] - 3s 1ms/step\n"
     ]
    }
   ],
   "source": [
    "reconstructions = autoencoder.predict(normal_train_data)\n",
    "train_loss = tf.keras.losses.mae(reconstructions, normal_train_data)"
   ],
   "metadata": {
    "collapsed": false,
    "pycharm": {
     "name": "#%%\n"
    }
   }
  },
  {
   "cell_type": "code",
   "execution_count": 13,
   "outputs": [
    {
     "name": "stdout",
     "output_type": "stream",
     "text": [
      "Threshold:  0.00084734126\n"
     ]
    }
   ],
   "source": [
    "threshold = np.mean(train_loss) + np.std(train_loss)\n",
    "print(\"Threshold: \", threshold)"
   ],
   "metadata": {
    "collapsed": false,
    "pycharm": {
     "name": "#%%\n"
    }
   }
  },
  {
   "cell_type": "code",
   "execution_count": 14,
   "outputs": [],
   "source": [
    "def predict(model, data, threshold):\n",
    "  reconstructions = model(data)\n",
    "  loss = tf.keras.losses.mae(reconstructions, data)\n",
    "  return tf.math.less(loss, threshold)"
   ],
   "metadata": {
    "collapsed": false,
    "pycharm": {
     "name": "#%%\n"
    }
   }
  },
  {
   "cell_type": "code",
   "execution_count": 15,
   "outputs": [
    {
     "name": "stdout",
     "output_type": "stream",
     "text": [
      "tf.Tensor(\n",
      "[[1.1646488  0.         3.4084232  ... 2.0006201  1.019398   0.        ]\n",
      " [1.1531345  0.         1.9199445  ... 0.881355   0.935874   0.        ]\n",
      " [1.1536148  0.         2.1248932  ... 1.0357742  0.94654834 0.        ]\n",
      " ...\n",
      " [1.1650895  0.         3.3887477  ... 1.9860327  1.0185463  0.        ]\n",
      " [1.1686077  0.         3.9579866  ... 2.4143417  1.0501136  0.        ]\n",
      " [1.159325   0.         2.679181   ... 1.4523392  0.9787563  0.        ]], shape=(29704, 8), dtype=float32)\n",
      "tf.Tensor(\n",
      "[[6.6435272e-01 9.3528607e-10 1.3717155e-09 ... 2.0812418e-09\n",
      "  2.4275397e-09 2.8831264e-09]\n",
      " [1.0204186e-01 3.9981942e-06 2.2685240e-06 ... 2.9166879e-06\n",
      "  3.8471912e-06 4.8897759e-06]\n",
      " [1.4444372e-01 1.2676114e-06 8.2057483e-07 ... 1.0792702e-06\n",
      "  1.3993307e-06 1.7618109e-06]\n",
      " ...\n",
      " [6.5579379e-01 1.0420544e-09 1.5088842e-09 ... 2.2846027e-09\n",
      "  2.6691072e-09 3.1731635e-09]\n",
      " [8.7409121e-01 3.9734816e-11 8.4996926e-11 ... 1.3890124e-10\n",
      "  1.5713267e-10 1.7895756e-10]\n",
      " [3.2793447e-01 5.6134315e-08 5.1688900e-08 ... 7.2318322e-08\n",
      "  8.9593627e-08 1.1000463e-07]], shape=(29704, 47), dtype=float32)\n"
     ]
    }
   ],
   "source": [
    "preds = predict(autoencoder, test_data, threshold)"
   ],
   "metadata": {
    "collapsed": false,
    "pycharm": {
     "name": "#%%\n"
    }
   }
  },
  {
   "cell_type": "code",
   "execution_count": 39,
   "outputs": [
    {
     "data": {
      "text/plain": "<tf.Tensor: shape=(1, 47), dtype=float32, numpy=\narray([[4.5528370e-01, 0.0000000e+00, 0.0000000e+00, 0.0000000e+00,\n        0.0000000e+00, 0.0000000e+00, 0.0000000e+00, 0.0000000e+00,\n        0.0000000e+00, 0.0000000e+00, 7.9382717e-06, 0.0000000e+00,\n        0.0000000e+00, 0.0000000e+00, 0.0000000e+00, 0.0000000e+00,\n        0.0000000e+00, 0.0000000e+00, 0.0000000e+00, 0.0000000e+00,\n        0.0000000e+00, 0.0000000e+00, 0.0000000e+00, 0.0000000e+00,\n        0.0000000e+00, 0.0000000e+00, 0.0000000e+00, 0.0000000e+00,\n        6.0330867e-04, 1.2304322e-03, 0.0000000e+00, 0.0000000e+00,\n        0.0000000e+00, 0.0000000e+00, 7.9382717e-06, 0.0000000e+00,\n        7.9382723e-08, 2.0242594e-03, 2.0242594e-03, 7.9382717e-06,\n        0.0000000e+00, 0.0000000e+00, 0.0000000e+00, 0.0000000e+00,\n        0.0000000e+00, 0.0000000e+00, 0.0000000e+00]], dtype=float32)>"
     },
     "execution_count": 39,
     "metadata": {},
     "output_type": "execute_result"
    }
   ],
   "source": [
    "data_point = normal_train_data[:1]\n",
    "data_point"
   ],
   "metadata": {
    "collapsed": false,
    "pycharm": {
     "name": "#%%\n"
    }
   }
  },
  {
   "cell_type": "code",
   "execution_count": 40,
   "outputs": [],
   "source": [
    "encoded_data = autoencoder.encoder(data_point)"
   ],
   "metadata": {
    "collapsed": false,
    "pycharm": {
     "name": "#%%\n"
    }
   }
  },
  {
   "cell_type": "code",
   "execution_count": 41,
   "outputs": [
    {
     "data": {
      "text/plain": "<tf.Tensor: shape=(1, 8), dtype=float32, numpy=\narray([[1.1617663 , 0.        , 2.9265873 , 2.445588  , 0.        ,\n        1.6382828 , 0.99282753, 0.        ]], dtype=float32)>"
     },
     "execution_count": 41,
     "metadata": {},
     "output_type": "execute_result"
    }
   ],
   "source": [
    "encoded_data"
   ],
   "metadata": {
    "collapsed": false,
    "pycharm": {
     "name": "#%%\n"
    }
   }
  },
  {
   "cell_type": "code",
   "execution_count": 42,
   "outputs": [],
   "source": [
    "decoded_data = autoencoder.decoder(encoded_data)"
   ],
   "metadata": {
    "collapsed": false,
    "pycharm": {
     "name": "#%%\n"
    }
   }
  },
  {
   "cell_type": "code",
   "execution_count": 43,
   "outputs": [
    {
     "data": {
      "text/plain": "<tf.Tensor: shape=(1, 47), dtype=float32, numpy=\narray([[4.3940300e-01, 1.3973949e-08, 1.5061506e-08, 1.0552014e-08,\n        1.7473852e-08, 2.1859215e-08, 1.8635976e-08, 1.7040120e-08,\n        2.3410042e-08, 2.5621022e-08, 1.3952103e-07, 1.4892878e-08,\n        1.4344020e-08, 3.0197867e-08, 1.6959351e-08, 1.7427986e-08,\n        1.8848855e-08, 7.3073714e-08, 3.4542477e-08, 3.9594838e-08,\n        2.2048861e-08, 1.9965208e-08, 2.4226885e-08, 1.3661312e-08,\n        1.3048875e-08, 1.6178312e-08, 1.1852753e-08, 1.8646322e-08,\n        5.5552459e-06, 2.7627437e-05, 1.8125210e-08, 1.0177120e-08,\n        1.7655600e-08, 2.0234639e-08, 1.6106350e-07, 2.1260393e-08,\n        1.7201305e-08, 9.7254536e-04, 1.7271625e-03, 2.0627638e-07,\n        1.5970231e-08, 1.6651642e-08, 1.1500732e-08, 1.9974234e-08,\n        2.1661364e-08, 2.6294675e-08, 3.1926223e-08]], dtype=float32)>"
     },
     "execution_count": 43,
     "metadata": {},
     "output_type": "execute_result"
    }
   ],
   "source": [
    "decoded_data"
   ],
   "metadata": {
    "collapsed": false,
    "pycharm": {
     "name": "#%%\n"
    }
   }
  },
  {
   "cell_type": "code",
   "execution_count": null,
   "outputs": [],
   "source": [],
   "metadata": {
    "collapsed": false,
    "pycharm": {
     "name": "#%%\n"
    }
   }
  }
 ],
 "metadata": {
  "kernelspec": {
   "display_name": "Python 3",
   "language": "python",
   "name": "python3"
  },
  "language_info": {
   "codemirror_mode": {
    "name": "ipython",
    "version": 2
   },
   "file_extension": ".py",
   "mimetype": "text/x-python",
   "name": "python",
   "nbconvert_exporter": "python",
   "pygments_lexer": "ipython2",
   "version": "2.7.6"
  }
 },
 "nbformat": 4,
 "nbformat_minor": 0
}