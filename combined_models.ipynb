{
 "cells": [
  {
   "cell_type": "code",
   "execution_count": 1,
   "metadata": {
    "collapsed": false,
    "pycharm": {
     "name": "#%%\n"
    }
   },
   "outputs": [],
   "source": [
    "import matplotlib.pyplot as plt\n",
    "import numpy as np\n",
    "import pandas as pd\n",
    "import tensorflow as tf\n",
    "\n",
    "from sklearn.metrics import accuracy_score, precision_score, recall_score\n",
    "from sklearn.model_selection import train_test_split"
   ]
  },
  {
   "cell_type": "code",
   "execution_count": 2,
   "metadata": {
    "collapsed": false,
    "pycharm": {
     "name": "#%%\n"
    }
   },
   "outputs": [],
   "source": [
    "import autoencoder.aecExtraFeatures as Z_calculations\n",
    "\n",
    "def addZToPrediction(model, data_point):\n",
    "    reconstruction = model.decoder(model.encoder(data_point))\n",
    "\n",
    "    Z_features = [Z_calculations.getZVector(data_point, reconstruction)]\n",
    "\n",
    "    Z_features_tensor = tf.convert_to_tensor(Z_features, dtype=tf.float32)\n",
    "    data_point = tf.convert_to_tensor(data_point, dtype=tf.float32)\n",
    "\n",
    "    data_point = tf.concat([data_point, Z_features_tensor], 1)\n",
    "\n",
    "    return data_point"
   ]
  },
  {
   "cell_type": "code",
   "execution_count": 3,
   "metadata": {
    "collapsed": false,
    "pycharm": {
     "name": "#%%\n"
    }
   },
   "outputs": [],
   "source": [
    "def isAnomaly(data_point, model_1, model_2, threshold):\n",
    "\n",
    "    # need autoencoder to return boolean isAnomaly\n",
    "    isAnomaly = tf.math.less(tf.keras.losses.mae(model_1(data), data), threshold)\n",
    "\n",
    "    # if the autoencoder doesn't find anything out of the ordinary, return False\n",
    "    if not isAnomaly:\n",
    "        return False\n",
    "\n",
    "    data_point = addZToPrediction(model_1, data_point)\n",
    "\n",
    "    # if the autoencoder sees something weird, run it through the isolation forest to make sure\n",
    "    return model_2.predict(data_point)"
   ]
  },
  {
   "cell_type": "code",
   "execution_count": 4,
   "metadata": {
    "collapsed": false,
    "pycharm": {
     "name": "#%%\n"
    }
   },
   "outputs": [],
   "source": [
    "from turtleIsolationForests.preprocessFeatures import preprocess_features\n",
    "\n",
    "train_dataframe = pd.read_csv(\"eda_simple_classification/network_data_mod_train.csv\", index_col=0)\n",
    "test_dataframe = pd.read_csv(\"eda_simple_classification/network_data_mod_test.csv\", index_col=0)\n",
    "\n",
    "train_data, test_data, train_labels, test_labels = preprocess_features(train_dataframe, test_dataframe)"
   ]
  },
  {
   "cell_type": "code",
   "execution_count": 5,
   "metadata": {
    "collapsed": false,
    "pycharm": {
     "name": "#%%\n"
    }
   },
   "outputs": [],
   "source": [
    "np_train_labels = train_labels.to_numpy()\n",
    "np_test_labels = test_labels.to_numpy()"
   ]
  },
  {
   "cell_type": "code",
   "execution_count": 6,
   "metadata": {
    "collapsed": false,
    "pycharm": {
     "name": "#%%\n"
    }
   },
   "outputs": [],
   "source": [
    "np_train_data = train_data.to_numpy()\n",
    "np_test_data = test_data.to_numpy()"
   ]
  },
  {
   "cell_type": "code",
   "execution_count": 7,
   "metadata": {
    "collapsed": false,
    "pycharm": {
     "name": "#%%\n"
    }
   },
   "outputs": [],
   "source": [
    "#min_val = tf.reduce_min(np_train_data)\n",
    "#max_val = tf.reduce_max(np_train_data)\n",
    "\n",
    "#np_train_data = (np_train_data - min_val) / (max_val - min_val)\n",
    "#np_test_data = (np_test_data - min_val) / (max_val - min_val)\n",
    "\n",
    "np_train_data = tf.cast(np_train_data, tf.float32)\n",
    "np_test_data = tf.cast(np_test_data, tf.float32)"
   ]
  },
  {
   "cell_type": "code",
   "execution_count": 8,
   "metadata": {
    "collapsed": false,
    "pycharm": {
     "name": "#%%\n"
    }
   },
   "outputs": [],
   "source": [
    "np_train_labels = np_train_labels.astype(bool)\n",
    "np_test_labels = np_test_labels.astype(bool)\n",
    "\n",
    "normal_train_data = np_train_data[np_train_labels]\n",
    "normal_test_data = np_test_data[np_test_labels]\n",
    "\n",
    "anomalous_train_data = np_train_data[~np_train_labels]\n",
    "anomalous_test_data = np_test_data[~np_test_labels]"
   ]
  },
  {
   "cell_type": "code",
   "execution_count": 9,
   "metadata": {
    "collapsed": false,
    "pycharm": {
     "name": "#%%\n"
    }
   },
   "outputs": [],
   "source": [
    "from autoencoder.autoencoder import AnomalyDetector\n",
    "autoencoder = AnomalyDetector()"
   ]
  },
  {
   "cell_type": "code",
   "execution_count": 10,
   "metadata": {
    "collapsed": false,
    "pycharm": {
     "name": "#%%\n"
    }
   },
   "outputs": [],
   "source": [
    "autoencoder.compile(optimizer='adam', loss='mae')"
   ]
  },
  {
   "cell_type": "code",
   "execution_count": 11,
   "metadata": {
    "collapsed": false,
    "pycharm": {
     "name": "#%%\n"
    }
   },
   "outputs": [
    {
     "name": "stdout",
     "output_type": "stream",
     "text": [
      "Epoch 1/100\n",
      "Tensor(\"anomaly_detector/sequential/dense_2/Relu:0\", shape=(None, 8), dtype=float32)\n",
      "Tensor(\"anomaly_detector/sequential_1/dense_5/Sigmoid:0\", shape=(None, 46), dtype=float32)\n",
      "Tensor(\"anomaly_detector/sequential/dense_2/Relu:0\", shape=(None, 8), dtype=float32)\n",
      "Tensor(\"anomaly_detector/sequential_1/dense_5/Sigmoid:0\", shape=(None, 46), dtype=float32)\n",
      "2069/2105 [============================>.] - ETA: 0s - loss: 0.0402Tensor(\"anomaly_detector/sequential/dense_2/Relu:0\", shape=(None, 8), dtype=float32)\n",
      "Tensor(\"anomaly_detector/sequential_1/dense_5/Sigmoid:0\", shape=(None, 46), dtype=float32)\n",
      "2105/2105 [==============================] - 6s 2ms/step - loss: 0.0400 - val_loss: 0.0782\n",
      "Epoch 2/100\n",
      "2105/2105 [==============================] - 3s 2ms/step - loss: 0.0243 - val_loss: 0.0757\n",
      "Epoch 3/100\n",
      "2105/2105 [==============================] - 4s 2ms/step - loss: 0.0225 - val_loss: 0.0651\n",
      "Epoch 4/100\n",
      "2105/2105 [==============================] - 4s 2ms/step - loss: 0.0184 - val_loss: 0.0635\n",
      "Epoch 5/100\n",
      "2105/2105 [==============================] - 5s 2ms/step - loss: 0.0179 - val_loss: 0.0632\n",
      "Epoch 6/100\n",
      "2105/2105 [==============================] - 4s 2ms/step - loss: 0.0176 - val_loss: 0.0633\n",
      "Epoch 7/100\n",
      "2105/2105 [==============================] - 4s 2ms/step - loss: 0.0167 - val_loss: 0.0618\n",
      "Epoch 8/100\n",
      "2105/2105 [==============================] - 4s 2ms/step - loss: 0.0149 - val_loss: 0.0615\n",
      "Epoch 9/100\n",
      "2105/2105 [==============================] - 4s 2ms/step - loss: 0.0135 - val_loss: 0.0609\n",
      "Epoch 10/100\n",
      "2105/2105 [==============================] - 4s 2ms/step - loss: 0.0132 - val_loss: 0.0604\n",
      "Epoch 11/100\n",
      "2105/2105 [==============================] - 4s 2ms/step - loss: 0.0131 - val_loss: 0.0606\n",
      "Epoch 12/100\n",
      "2105/2105 [==============================] - 4s 2ms/step - loss: 0.0130 - val_loss: 0.0605\n",
      "Epoch 13/100\n",
      "2105/2105 [==============================] - 4s 2ms/step - loss: 0.0129 - val_loss: 0.0601\n",
      "Epoch 14/100\n",
      "2105/2105 [==============================] - 3s 2ms/step - loss: 0.0128 - val_loss: 0.0606\n",
      "Epoch 15/100\n",
      "2105/2105 [==============================] - 4s 2ms/step - loss: 0.0127 - val_loss: 0.0603\n",
      "Epoch 16/100\n",
      "2105/2105 [==============================] - 3s 2ms/step - loss: 0.0124 - val_loss: 0.0603\n",
      "Epoch 17/100\n",
      "2105/2105 [==============================] - 4s 2ms/step - loss: 0.0122 - val_loss: 0.0605\n",
      "Epoch 18/100\n",
      "2105/2105 [==============================] - 3s 2ms/step - loss: 0.0121 - val_loss: 0.0606\n",
      "Epoch 19/100\n",
      "2105/2105 [==============================] - 4s 2ms/step - loss: 0.0121 - val_loss: 0.0601\n",
      "Epoch 20/100\n",
      "2105/2105 [==============================] - 3s 2ms/step - loss: 0.0120 - val_loss: 0.0603\n",
      "Epoch 21/100\n",
      "2105/2105 [==============================] - 4s 2ms/step - loss: 0.0120 - val_loss: 0.0600\n",
      "Epoch 22/100\n",
      "2105/2105 [==============================] - 3s 2ms/step - loss: 0.0120 - val_loss: 0.0600\n",
      "Epoch 23/100\n",
      "2105/2105 [==============================] - 4s 2ms/step - loss: 0.0120 - val_loss: 0.0601\n",
      "Epoch 24/100\n",
      "2105/2105 [==============================] - 3s 2ms/step - loss: 0.0119 - val_loss: 0.0600\n",
      "Epoch 25/100\n",
      "2105/2105 [==============================] - 4s 2ms/step - loss: 0.0119 - val_loss: 0.0599\n",
      "Epoch 26/100\n",
      "2105/2105 [==============================] - 3s 2ms/step - loss: 0.0118 - val_loss: 0.0600\n",
      "Epoch 27/100\n",
      "2105/2105 [==============================] - 3s 2ms/step - loss: 0.0118 - val_loss: 0.0599\n",
      "Epoch 28/100\n",
      "2105/2105 [==============================] - 3s 2ms/step - loss: 0.0118 - val_loss: 0.0600\n",
      "Epoch 29/100\n",
      "2105/2105 [==============================] - 4s 2ms/step - loss: 0.0118 - val_loss: 0.0599\n",
      "Epoch 30/100\n",
      "2105/2105 [==============================] - 4s 2ms/step - loss: 0.0118 - val_loss: 0.0600\n",
      "Epoch 31/100\n",
      "2105/2105 [==============================] - 3s 2ms/step - loss: 0.0117 - val_loss: 0.0598\n",
      "Epoch 32/100\n",
      "2105/2105 [==============================] - 3s 2ms/step - loss: 0.0117 - val_loss: 0.0599\n",
      "Epoch 33/100\n",
      "2105/2105 [==============================] - 3s 2ms/step - loss: 0.0117 - val_loss: 0.0601\n",
      "Epoch 34/100\n",
      "2105/2105 [==============================] - 4s 2ms/step - loss: 0.0117 - val_loss: 0.0600\n",
      "Epoch 35/100\n",
      "2105/2105 [==============================] - 3s 2ms/step - loss: 0.0117 - val_loss: 0.0600\n",
      "Epoch 36/100\n",
      "2105/2105 [==============================] - 3s 2ms/step - loss: 0.0117 - val_loss: 0.0600\n",
      "Epoch 37/100\n",
      "2105/2105 [==============================] - 3s 2ms/step - loss: 0.0117 - val_loss: 0.0599\n",
      "Epoch 38/100\n",
      "2105/2105 [==============================] - 4s 2ms/step - loss: 0.0117 - val_loss: 0.0598\n",
      "Epoch 39/100\n",
      "2105/2105 [==============================] - 4s 2ms/step - loss: 0.0116 - val_loss: 0.0597\n",
      "Epoch 40/100\n",
      "2105/2105 [==============================] - 3s 2ms/step - loss: 0.0116 - val_loss: 0.0597\n",
      "Epoch 41/100\n",
      "2105/2105 [==============================] - 3s 2ms/step - loss: 0.0116 - val_loss: 0.0596\n",
      "Epoch 42/100\n",
      "2105/2105 [==============================] - 4s 2ms/step - loss: 0.0115 - val_loss: 0.0594\n",
      "Epoch 43/100\n",
      "2105/2105 [==============================] - 3s 2ms/step - loss: 0.0113 - val_loss: 0.0594\n",
      "Epoch 44/100\n",
      "2105/2105 [==============================] - 3s 2ms/step - loss: 0.0113 - val_loss: 0.0593\n",
      "Epoch 45/100\n",
      "2105/2105 [==============================] - 3s 2ms/step - loss: 0.0113 - val_loss: 0.0593\n",
      "Epoch 46/100\n",
      "2105/2105 [==============================] - 4s 2ms/step - loss: 0.0112 - val_loss: 0.0593\n",
      "Epoch 47/100\n",
      "2105/2105 [==============================] - 3s 2ms/step - loss: 0.0112 - val_loss: 0.0593\n",
      "Epoch 48/100\n",
      "2105/2105 [==============================] - 4s 2ms/step - loss: 0.0112 - val_loss: 0.0592\n",
      "Epoch 49/100\n",
      "2105/2105 [==============================] - 3s 2ms/step - loss: 0.0111 - val_loss: 0.0592\n",
      "Epoch 50/100\n",
      "2105/2105 [==============================] - 4s 2ms/step - loss: 0.0111 - val_loss: 0.0589\n",
      "Epoch 51/100\n",
      "2105/2105 [==============================] - 4s 2ms/step - loss: 0.0111 - val_loss: 0.0590\n",
      "Epoch 52/100\n",
      "2105/2105 [==============================] - 3s 2ms/step - loss: 0.0111 - val_loss: 0.0592\n",
      "Epoch 53/100\n",
      "2105/2105 [==============================] - 3s 2ms/step - loss: 0.0111 - val_loss: 0.0591\n",
      "Epoch 54/100\n",
      "2105/2105 [==============================] - 3s 2ms/step - loss: 0.0110 - val_loss: 0.0590\n",
      "Epoch 55/100\n",
      "2105/2105 [==============================] - 3s 2ms/step - loss: 0.0111 - val_loss: 0.0591\n",
      "Epoch 56/100\n",
      "2105/2105 [==============================] - 4s 2ms/step - loss: 0.0110 - val_loss: 0.0589\n",
      "Epoch 57/100\n",
      "2105/2105 [==============================] - 3s 2ms/step - loss: 0.0110 - val_loss: 0.0589\n",
      "Epoch 58/100\n",
      "2105/2105 [==============================] - 3s 2ms/step - loss: 0.0110 - val_loss: 0.0589\n",
      "Epoch 59/100\n",
      "2105/2105 [==============================] - 3s 2ms/step - loss: 0.0108 - val_loss: 0.0585\n",
      "Epoch 60/100\n",
      "2105/2105 [==============================] - 4s 2ms/step - loss: 0.0103 - val_loss: 0.0582\n",
      "Epoch 61/100\n",
      "2105/2105 [==============================] - 3s 2ms/step - loss: 0.0102 - val_loss: 0.0581\n",
      "Epoch 62/100\n",
      "2105/2105 [==============================] - 3s 2ms/step - loss: 0.0102 - val_loss: 0.0580\n",
      "Epoch 63/100\n",
      "2105/2105 [==============================] - 4s 2ms/step - loss: 0.0101 - val_loss: 0.0579\n",
      "Epoch 64/100\n",
      "2105/2105 [==============================] - 4s 2ms/step - loss: 0.0101 - val_loss: 0.0578\n",
      "Epoch 65/100\n",
      "2105/2105 [==============================] - 4s 2ms/step - loss: 0.0100 - val_loss: 0.0578\n",
      "Epoch 66/100\n",
      "2105/2105 [==============================] - 3s 2ms/step - loss: 0.0100 - val_loss: 0.0575\n",
      "Epoch 67/100\n",
      "2105/2105 [==============================] - 4s 2ms/step - loss: 0.0100 - val_loss: 0.0576\n",
      "Epoch 68/100\n",
      "2105/2105 [==============================] - 3s 2ms/step - loss: 0.0100 - val_loss: 0.0576\n",
      "Epoch 69/100\n",
      "2105/2105 [==============================] - 4s 2ms/step - loss: 0.0100 - val_loss: 0.0574\n",
      "Epoch 70/100\n",
      "2105/2105 [==============================] - 3s 2ms/step - loss: 0.0099 - val_loss: 0.0575\n",
      "Epoch 71/100\n",
      "2105/2105 [==============================] - 4s 2ms/step - loss: 0.0099 - val_loss: 0.0573\n",
      "Epoch 72/100\n",
      "2105/2105 [==============================] - 3s 2ms/step - loss: 0.0099 - val_loss: 0.0574\n",
      "Epoch 73/100\n",
      "2105/2105 [==============================] - 4s 2ms/step - loss: 0.0099 - val_loss: 0.0575\n",
      "Epoch 74/100\n",
      "2105/2105 [==============================] - 3s 2ms/step - loss: 0.0099 - val_loss: 0.0574\n",
      "Epoch 75/100\n",
      "2105/2105 [==============================] - 4s 2ms/step - loss: 0.0099 - val_loss: 0.0574\n",
      "Epoch 76/100\n",
      "2105/2105 [==============================] - 3s 2ms/step - loss: 0.0099 - val_loss: 0.0572\n",
      "Epoch 77/100\n",
      "2105/2105 [==============================] - 4s 2ms/step - loss: 0.0098 - val_loss: 0.0574\n",
      "Epoch 78/100\n",
      "2105/2105 [==============================] - 4s 2ms/step - loss: 0.0098 - val_loss: 0.0574\n",
      "Epoch 79/100\n",
      "2105/2105 [==============================] - 4s 2ms/step - loss: 0.0098 - val_loss: 0.0572\n",
      "Epoch 80/100\n",
      "2105/2105 [==============================] - 3s 2ms/step - loss: 0.0098 - val_loss: 0.0572\n",
      "Epoch 81/100\n",
      "2105/2105 [==============================] - 4s 2ms/step - loss: 0.0098 - val_loss: 0.0573\n",
      "Epoch 82/100\n",
      "2105/2105 [==============================] - 4s 2ms/step - loss: 0.0098 - val_loss: 0.0573\n",
      "Epoch 83/100\n",
      "2105/2105 [==============================] - 4s 2ms/step - loss: 0.0098 - val_loss: 0.0572\n",
      "Epoch 84/100\n",
      "2105/2105 [==============================] - 4s 2ms/step - loss: 0.0098 - val_loss: 0.0573\n",
      "Epoch 85/100\n",
      "2105/2105 [==============================] - 4s 2ms/step - loss: 0.0098 - val_loss: 0.0572\n",
      "Epoch 86/100\n",
      "2105/2105 [==============================] - 4s 2ms/step - loss: 0.0098 - val_loss: 0.0572\n",
      "Epoch 87/100\n",
      "2105/2105 [==============================] - 4s 2ms/step - loss: 0.0098 - val_loss: 0.0572\n",
      "Epoch 88/100\n",
      "2105/2105 [==============================] - 3s 2ms/step - loss: 0.0098 - val_loss: 0.0572\n",
      "Epoch 89/100\n",
      "2105/2105 [==============================] - 4s 2ms/step - loss: 0.0098 - val_loss: 0.0571\n",
      "Epoch 90/100\n",
      "2105/2105 [==============================] - 4s 2ms/step - loss: 0.0098 - val_loss: 0.0572\n",
      "Epoch 91/100\n",
      "2105/2105 [==============================] - 4s 2ms/step - loss: 0.0097 - val_loss: 0.0572\n",
      "Epoch 92/100\n",
      "2105/2105 [==============================] - 3s 2ms/step - loss: 0.0097 - val_loss: 0.0572\n",
      "Epoch 93/100\n",
      "2105/2105 [==============================] - 4s 2ms/step - loss: 0.0097 - val_loss: 0.0573\n",
      "Epoch 94/100\n",
      "2105/2105 [==============================] - 4s 2ms/step - loss: 0.0097 - val_loss: 0.0572\n",
      "Epoch 95/100\n",
      "2105/2105 [==============================] - 4s 2ms/step - loss: 0.0097 - val_loss: 0.0572\n",
      "Epoch 96/100\n",
      "2105/2105 [==============================] - 3s 2ms/step - loss: 0.0097 - val_loss: 0.0573\n",
      "Epoch 97/100\n",
      "2105/2105 [==============================] - 4s 2ms/step - loss: 0.0097 - val_loss: 0.0573\n",
      "Epoch 98/100\n",
      "2105/2105 [==============================] - 3s 2ms/step - loss: 0.0097 - val_loss: 0.0572\n",
      "Epoch 99/100\n",
      "2105/2105 [==============================] - 4s 2ms/step - loss: 0.0097 - val_loss: 0.0571\n",
      "Epoch 100/100\n",
      "2105/2105 [==============================] - 4s 2ms/step - loss: 0.0097 - val_loss: 0.0572\n"
     ]
    }
   ],
   "source": [
    "history = autoencoder.fit(normal_train_data, normal_train_data,\n",
    "          epochs=100,\n",
    "          validation_data=(test_data, test_data),\n",
    "          shuffle=True)"
   ]
  },
  {
   "cell_type": "code",
   "execution_count": 12,
   "metadata": {
    "collapsed": false,
    "pycharm": {
     "name": "#%%\n"
    }
   },
   "outputs": [
    {
     "data": {
      "image/png": "[encoded data removed]",
      "text/plain": [
       "<Figure size 640x480 with 1 Axes>"
      ]
     },
     "metadata": {},
     "output_type": "display_data"
    }
   ],
   "source": [
    "plt.plot(history.history[\"loss\"])\n",
    "plt.plot(history.history[\"val_loss\"])\n",
    "plt.title(\"Training Loss & Validation Loss over epochs\")\n",
    "plt.xlabel(\"Epochs\")\n",
    "plt.ylabel(\"Loss\")\n",
    "#plt.ylim([0,.0008])\n",
    "plt.legend([\"Loss\", \"Validation Loss\"])\n",
    "plt.show()"
   ]
  },
  {
   "cell_type": "code",
   "execution_count": 24,
   "metadata": {
    "collapsed": false,
    "pycharm": {
     "name": "#%%\n"
    }
   },
   "outputs": [
    {
     "name": "stdout",
     "output_type": "stream",
     "text": [
      "2105/2105 [==============================] - 2s 1ms/step\n",
      "Threshold:  0.034443587\n"
     ]
    }
   ],
   "source": [
    "reconstructions = autoencoder.predict(normal_train_data)\n",
    "train_loss = tf.keras.losses.mae(reconstructions, normal_train_data)\n",
    "threshold = np.mean(train_loss) + np.std(train_loss)\n",
    "print(\"Threshold: \", threshold)"
   ]
  },
  {
   "cell_type": "code",
   "execution_count": 25,
   "metadata": {
    "collapsed": false,
    "pycharm": {
     "name": "#%%\n"
    }
   },
   "outputs": [],
   "source": [
    "def predict(model, data, threshold):\n",
    "  reconstructions = model(data)\n",
    "  loss = tf.keras.losses.mae(reconstructions, data)\n",
    "  return tf.math.less(loss, threshold)\n",
    "\n",
    "def print_stats(predictions, labels):\n",
    "  print(\"Accuracy = {}\".format(accuracy_score(labels, predictions)))\n",
    "  print(\"Precision = {}\".format(precision_score(labels, predictions)))\n",
    "  print(\"Recall = {}\".format(recall_score(labels, predictions)))"
   ]
  },
  {
   "cell_type": "code",
   "execution_count": 26,
   "metadata": {
    "collapsed": false,
    "pycharm": {
     "name": "#%%\n"
    }
   },
   "outputs": [
    {
     "name": "stdout",
     "output_type": "stream",
     "text": [
      "tf.Tensor(\n",
      "[[6.2539916  8.029118   1.0988152  ... 0.98600984 2.0278935  0.        ]\n",
      " [6.4334073  8.211189   1.4159207  ... 1.1357852  2.419      0.        ]\n",
      " [2.0337222  5.2904367  1.475067   ... 1.0815486  3.4206789  0.        ]\n",
      " ...\n",
      " [3.3940911  2.8468773  0.6501831  ... 1.1420196  1.6216717  1.5788141 ]\n",
      " [4.025786   2.8777776  0.         ... 1.1087654  1.7826889  0.92154527]\n",
      " [8.1895895  5.8423443  1.4960039  ... 2.7535548  2.7720659  0.        ]], shape=(22544, 8), dtype=float32)\n",
      "tf.Tensor(\n",
      "[[3.1277860e-19 2.0284073e-18 1.1692594e-18 ... 3.7089472e-17\n",
      "  9.5584540e-10 1.9397478e-18]\n",
      " [1.1737546e-19 7.3776058e-19 3.2585922e-19 ... 1.6161274e-17\n",
      "  2.6257274e-09 7.3443314e-19]\n",
      " [7.9479587e-13 7.6492090e-13 1.5227152e-13 ... 3.2667809e-12\n",
      "  1.5094302e-03 2.2649909e-13]\n",
      " ...\n",
      " [7.4133933e-15 1.6479141e-14 5.3823191e-14 ... 4.0265676e-14\n",
      "  4.0594350e-07 2.8302466e-14]\n",
      " [1.6716834e-13 5.6492056e-13 1.3356790e-12 ... 3.7085585e-13\n",
      "  1.2325518e-03 4.6809003e-13]\n",
      " [8.1977231e-20 3.9432597e-18 6.6508158e-18 ... 1.0921342e-17\n",
      "  6.0237244e-02 3.7780023e-18]], shape=(22544, 46), dtype=float32)\n"
     ]
    }
   ],
   "source": [
    "test_predictions = predict(autoencoder, np_test_data, threshold)"
   ]
  },
  {
   "cell_type": "code",
   "execution_count": 27,
   "metadata": {
    "collapsed": false,
    "pycharm": {
     "name": "#%%\n"
    }
   },
   "outputs": [
    {
     "name": "stdout",
     "output_type": "stream",
     "text": [
      "Accuracy = 0.7936479772888574\n",
      "Precision = 0.6824904408051368\n",
      "Recall = 0.9741530223457935\n"
     ]
    }
   ],
   "source": [
    "print_stats(test_predictions, test_labels)"
   ]
  },
  {
   "cell_type": "code",
   "execution_count": 38,
   "metadata": {
    "collapsed": false,
    "pycharm": {
     "name": "#%%\n"
    }
   },
   "outputs": [],
   "source": [
    "predicted_anomalous = np_test_data[test_predictions]\n",
    "predicted_anomalous_labels = np_test_labels[test_predictions]"
   ]
  },
  {
   "cell_type": "code",
   "execution_count": 39,
   "metadata": {
    "collapsed": false,
    "pycharm": {
     "name": "#%%\n"
    }
   },
   "outputs": [],
   "source": [
    "def addZToData(data, model):\n",
    "    data_with_Z = []\n",
    "    for i in range(1, len(data)+1):\n",
    "        data_with_Z.append(addZToPrediction(model, data[i-1:i]))\n",
    "\n",
    "    data_with_Z_rf = []\n",
    "    for i in range(len(data_with_Z)):\n",
    "        data_with_Z_rf.append(np_train_data[:][:][i].numpy().reshape(1,46).squeeze())\n",
    "\n",
    "    return  pd.DataFrame(data_with_Z_rf)"
   ]
  },
  {
   "cell_type": "code",
   "execution_count": 40,
   "metadata": {
    "collapsed": false,
    "pycharm": {
     "name": "#%%\n"
    }
   },
   "outputs": [],
   "source": [
    "train_data_with_Z_df = addZToData(np_train_data, autoencoder)\n",
    "\n",
    "anomalous_test_data_with_Z_df = addZToData(predicted_anomalous, autoencoder)"
   ]
  },
  {
   "cell_type": "code",
   "execution_count": 41,
   "metadata": {
    "collapsed": false,
    "pycharm": {
     "name": "#%%\n"
    }
   },
   "outputs": [
    {
     "data": {
      "text/html": [
       "<div>\n",
       "<style scoped>\n",
       "    .dataframe tbody tr th:only-of-type {\n",
       "        vertical-align: middle;\n",
       "    }\n",
       "\n",
       "    .dataframe tbody tr th {\n",
       "        vertical-align: top;\n",
       "    }\n",
       "\n",
       "    .dataframe thead th {\n",
       "        text-align: right;\n",
       "    }\n",
       "</style>\n",
       "<table border=\"1\" class=\"dataframe\">\n",
       "  <thead>\n",
       "    <tr style=\"text-align: right;\">\n",
       "      <th></th>\n",
       "      <th>anomaly_score</th>\n",
       "      <th>predicted_as_anomaly</th>\n",
       "      <th>is_normal</th>\n",
       "    </tr>\n",
       "  </thead>\n",
       "  <tbody>\n",
       "    <tr>\n",
       "      <th>0</th>\n",
       "      <td>0.386294</td>\n",
       "      <td>False</td>\n",
       "      <td>0</td>\n",
       "    </tr>\n",
       "    <tr>\n",
       "      <th>1</th>\n",
       "      <td>0.415768</td>\n",
       "      <td>True</td>\n",
       "      <td>0</td>\n",
       "    </tr>\n",
       "    <tr>\n",
       "      <th>2</th>\n",
       "      <td>0.413571</td>\n",
       "      <td>True</td>\n",
       "      <td>1</td>\n",
       "    </tr>\n",
       "    <tr>\n",
       "      <th>3</th>\n",
       "      <td>0.399557</td>\n",
       "      <td>False</td>\n",
       "      <td>0</td>\n",
       "    </tr>\n",
       "    <tr>\n",
       "      <th>4</th>\n",
       "      <td>0.392266</td>\n",
       "      <td>False</td>\n",
       "      <td>0</td>\n",
       "    </tr>\n",
       "    <tr>\n",
       "      <th>...</th>\n",
       "      <td>...</td>\n",
       "      <td>...</td>\n",
       "      <td>...</td>\n",
       "    </tr>\n",
       "    <tr>\n",
       "      <th>13856</th>\n",
       "      <td>0.433506</td>\n",
       "      <td>True</td>\n",
       "      <td>0</td>\n",
       "    </tr>\n",
       "    <tr>\n",
       "      <th>13857</th>\n",
       "      <td>0.390495</td>\n",
       "      <td>False</td>\n",
       "      <td>1</td>\n",
       "    </tr>\n",
       "    <tr>\n",
       "      <th>13858</th>\n",
       "      <td>0.434123</td>\n",
       "      <td>True</td>\n",
       "      <td>0</td>\n",
       "    </tr>\n",
       "    <tr>\n",
       "      <th>13859</th>\n",
       "      <td>0.489848</td>\n",
       "      <td>True</td>\n",
       "      <td>1</td>\n",
       "    </tr>\n",
       "    <tr>\n",
       "      <th>13860</th>\n",
       "      <td>0.478660</td>\n",
       "      <td>True</td>\n",
       "      <td>0</td>\n",
       "    </tr>\n",
       "  </tbody>\n",
       "</table>\n",
       "<p>13861 rows × 3 columns</p>\n",
       "</div>"
      ],
      "text/plain": [
       "       anomaly_score  predicted_as_anomaly  is_normal\n",
       "0           0.386294                 False          0\n",
       "1           0.415768                  True          0\n",
       "2           0.413571                  True          1\n",
       "3           0.399557                 False          0\n",
       "4           0.392266                 False          0\n",
       "...              ...                   ...        ...\n",
       "13856       0.433506                  True          0\n",
       "13857       0.390495                 False          1\n",
       "13858       0.434123                  True          0\n",
       "13859       0.489848                  True          1\n",
       "13860       0.478660                  True          0\n",
       "\n",
       "[13861 rows x 3 columns]"
      ]
     },
     "execution_count": 41,
     "metadata": {},
     "output_type": "execute_result"
    }
   ],
   "source": [
    "from turtleIsolationForests.extendedIsolationForest import ExtendedIsolationForest\n",
    "\n",
    "contamination = sum(train_labels == 0) / len(train_labels)\n",
    "\n",
    "model = ExtendedIsolationForest(contamination = contamination, random_state = None)\n",
    "model.fit(train_data_with_Z_df, train_labels)"
   ]
  },
  {
   "cell_type": "code",
   "execution_count": 47,
   "metadata": {
    "collapsed": false,
    "pycharm": {
     "name": "#%%\n"
    }
   },
   "outputs": [
    {
     "data": {
      "text/html": [
       "<div>\n",
       "<style scoped>\n",
       "    .dataframe tbody tr th:only-of-type {\n",
       "        vertical-align: middle;\n",
       "    }\n",
       "\n",
       "    .dataframe tbody tr th {\n",
       "        vertical-align: top;\n",
       "    }\n",
       "\n",
       "    .dataframe thead th {\n",
       "        text-align: right;\n",
       "    }\n",
       "</style>\n",
       "<table border=\"1\" class=\"dataframe\">\n",
       "  <thead>\n",
       "    <tr style=\"text-align: right;\">\n",
       "      <th></th>\n",
       "      <th>anomaly_score</th>\n",
       "      <th>predicted_as_anomaly</th>\n",
       "      <th>is_normal</th>\n",
       "    </tr>\n",
       "  </thead>\n",
       "  <tbody>\n",
       "    <tr>\n",
       "      <th>0</th>\n",
       "      <td>0.386294</td>\n",
       "      <td>False</td>\n",
       "      <td>True</td>\n",
       "    </tr>\n",
       "    <tr>\n",
       "      <th>1</th>\n",
       "      <td>0.415768</td>\n",
       "      <td>True</td>\n",
       "      <td>False</td>\n",
       "    </tr>\n",
       "    <tr>\n",
       "      <th>2</th>\n",
       "      <td>0.413571</td>\n",
       "      <td>True</td>\n",
       "      <td>True</td>\n",
       "    </tr>\n",
       "    <tr>\n",
       "      <th>3</th>\n",
       "      <td>0.399557</td>\n",
       "      <td>False</td>\n",
       "      <td>True</td>\n",
       "    </tr>\n",
       "    <tr>\n",
       "      <th>4</th>\n",
       "      <td>0.392266</td>\n",
       "      <td>False</td>\n",
       "      <td>False</td>\n",
       "    </tr>\n",
       "    <tr>\n",
       "      <th>...</th>\n",
       "      <td>...</td>\n",
       "      <td>...</td>\n",
       "      <td>...</td>\n",
       "    </tr>\n",
       "    <tr>\n",
       "      <th>13856</th>\n",
       "      <td>0.433506</td>\n",
       "      <td>True</td>\n",
       "      <td>False</td>\n",
       "    </tr>\n",
       "    <tr>\n",
       "      <th>13857</th>\n",
       "      <td>0.390495</td>\n",
       "      <td>False</td>\n",
       "      <td>True</td>\n",
       "    </tr>\n",
       "    <tr>\n",
       "      <th>13858</th>\n",
       "      <td>0.434123</td>\n",
       "      <td>True</td>\n",
       "      <td>True</td>\n",
       "    </tr>\n",
       "    <tr>\n",
       "      <th>13859</th>\n",
       "      <td>0.489848</td>\n",
       "      <td>True</td>\n",
       "      <td>False</td>\n",
       "    </tr>\n",
       "    <tr>\n",
       "      <th>13860</th>\n",
       "      <td>0.478660</td>\n",
       "      <td>True</td>\n",
       "      <td>True</td>\n",
       "    </tr>\n",
       "  </tbody>\n",
       "</table>\n",
       "<p>13861 rows × 3 columns</p>\n",
       "</div>"
      ],
      "text/plain": [
       "       anomaly_score  predicted_as_anomaly  is_normal\n",
       "0           0.386294                 False       True\n",
       "1           0.415768                  True      False\n",
       "2           0.413571                  True       True\n",
       "3           0.399557                 False       True\n",
       "4           0.392266                 False      False\n",
       "...              ...                   ...        ...\n",
       "13856       0.433506                  True      False\n",
       "13857       0.390495                 False       True\n",
       "13858       0.434123                  True       True\n",
       "13859       0.489848                  True      False\n",
       "13860       0.478660                  True       True\n",
       "\n",
       "[13861 rows x 3 columns]"
      ]
     },
     "execution_count": 47,
     "metadata": {},
     "output_type": "execute_result"
    }
   ],
   "source": [
    "predictions = model.predict(anomalous_test_data_with_Z_df)\n",
    "predictions['is_normal'] = predicted_anomalous_labels\n",
    "predictions"
   ]
  },
  {
   "cell_type": "code",
   "execution_count": 48,
   "metadata": {
    "collapsed": false,
    "pycharm": {
     "name": "#%%\n"
    }
   },
   "outputs": [
    {
     "name": "stdout",
     "output_type": "stream",
     "text": [
      "true anomalies: 2009\n",
      "false anomalies: 2392\n",
      "false normals: 5151\n",
      "true normals: 4309\n",
      "precision: 0.45648716200863443\n",
      "recall: 0.28058659217877097\n",
      "f1-score: 0.34754778998356545\n"
     ]
    }
   ],
   "source": [
    "from turtleIsolationForests.printResults import print_results\n",
    "\n",
    "print_results(predictions)"
   ]
  },
  {
   "cell_type": "code",
   "execution_count": 19,
   "metadata": {
    "collapsed": false,
    "pycharm": {
     "name": "#%%\n"
    }
   },
   "outputs": [],
   "source": []
  }
 ],
 "metadata": {
  "kernelspec": {
   "display_name": "Python 3",
   "language": "python",
   "name": "python3"
  },
  "language_info": {
   "codemirror_mode": {
    "name": "ipython",
    "version": 2
   },
   "file_extension": ".py",
   "mimetype": "text/x-python",
   "name": "python",
   "nbconvert_exporter": "python",
   "pygments_lexer": "ipython2",
   "version": "3.10.9"
  },
  "vscode": {
   "interpreter": {
    "hash": "bbc3c3d932324566a9bf4b4a52ddf64063695fc3adbf25b3fda92572428493bb"
   }
  }
 },
 "nbformat": 4,
 "nbformat_minor": 0
}
