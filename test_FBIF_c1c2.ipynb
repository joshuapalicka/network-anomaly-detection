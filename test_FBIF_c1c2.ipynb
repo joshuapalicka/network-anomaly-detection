{
 "cells": [
  {
   "cell_type": "code",
   "execution_count": 1,
   "metadata": {},
   "outputs": [],
   "source": [
    "import pandas as pd\n",
    "from turtleIsolationForests.FBIF import FBIsolationForest\n",
    "from turtleIsolationForests.printResults import print_results, print_by_result, return_results, calc_f1\n",
    "from turtleIsolationForests.preprocessFeatures import preprocess_features"
   ]
  },
  {
   "cell_type": "code",
   "execution_count": 2,
   "metadata": {},
   "outputs": [],
   "source": [
    "train_dataframe = pd.read_csv(\"./eda_simple_classification/network_data_mod_train.csv\", index_col=0)\n",
    "test_dataframe = pd.read_csv(\"./eda_simple_classification/network_data_mod_test.csv\", index_col=0)\n",
    "X_train, X_test, train_labels, test_labels = preprocess_features(train_dataframe, test_dataframe)\n",
    "contamination = sum(train_labels == 0) / len(train_labels)"
   ]
  },
  {
   "cell_type": "code",
   "execution_count": 3,
   "metadata": {},
   "outputs": [
    {
     "name": "stdout",
     "output_type": "stream",
     "text": [
      "run,c1,c2,precision,recall,f1\n",
      "\n",
      "1.0,1.0,0.8360261827823349,0.7862541884204785,0.8103766765721628\n",
      "\n",
      "1.0,0.9,0.8207483566492499,0.7589028286448999,0.7886149236811206\n",
      "\n",
      "1.0,0.8,0.788482156532394,0.8023065534169719,0.795334286045344\n",
      "\n",
      "1.0,0.7,0.7567805953693495,0.8023065534169719,0.7788788864513201\n",
      "\n",
      "1.0,0.6,0.7102252540325446,0.7788513987376295,0.7429569612725785\n",
      "\n",
      "1.1,1.0,0.7689642462218946,0.8128263071768098,0.7902871429653762\n",
      "\n",
      "1.1,0.9,0.7697819789602074,0.7868775812358763,0.7782359061307851\n",
      "\n",
      "1.1,0.8,0.7700080544775573,0.8194498558404114,0.7939599848999622\n",
      "\n",
      "1.1,0.7,0.793131888730599,0.8242811501597445,0.8084065724111579\n",
      "\n",
      "1.1,0.6,0.7534652731450596,0.7920984960648328,0.7722990426986779\n",
      "\n",
      "1.2,1.0,0.8389019476158496,0.7786955505337801,0.8076783188522935\n",
      "\n",
      "1.2,0.9,0.8182600531998122,0.8150081820307021,0.8166308803435487\n",
      "\n",
      "1.2,0.8,0.8036737577517858,0.7977869555053378,0.8007195369935868\n",
      "\n",
      "1.2,0.7,0.7835820895522388,0.7854749474012312,0.7845273767365841\n",
      "\n",
      "1.2,0.6,0.7608205590622182,0.7889815319878438,0.7746451933743927\n",
      "\n",
      "1.3,1.0,0.8823057733428368,0.7716823813605548,0.823294675146527\n",
      "\n",
      "1.3,0.9,0.8621527777777778,0.7739421803163719,0.8156695273682912\n",
      "\n",
      "1.3,0.8,0.8401686786836448,0.7917867996571339,0.815260560837646\n",
      "\n",
      "1.3,0.7,0.8527721433400947,0.7862541884204785,0.8181633894182039\n",
      "\n",
      "1.3,0.6,0.8252740167633784,0.7979428037091872,0.8113783130620815\n",
      "\n",
      "1.4,1.0,0.911104459742592,0.7116028987765916,0.7990899544977248\n",
      "\n"
     ]
    },
    {
     "ename": "KeyboardInterrupt",
     "evalue": "",
     "output_type": "error",
     "traceback": [
      "\u001b[1;31m---------------------------------------------------------------------------\u001b[0m",
      "\u001b[1;31mKeyboardInterrupt\u001b[0m                         Traceback (most recent call last)",
      "Cell \u001b[1;32mIn[3], line 14\u001b[0m\n\u001b[0;32m     12\u001b[0m \u001b[39mprint\u001b[39m(\u001b[39m\"\u001b[39m\u001b[39mrun,c1,c2,precision,recall,f1\u001b[39m\u001b[39m\\n\u001b[39;00m\u001b[39m\"\u001b[39m)\n\u001b[0;32m     13\u001b[0m \u001b[39mfor\u001b[39;00m c1, c2 \u001b[39min\u001b[39;00m c_vals:\n\u001b[1;32m---> 14\u001b[0m     \u001b[39mprint\u001b[39m(testc1c2(c1, c2))\n",
      "Cell \u001b[1;32mIn[3], line 3\u001b[0m, in \u001b[0;36mtestc1c2\u001b[1;34m(c1, c2)\u001b[0m\n\u001b[0;32m      1\u001b[0m \u001b[39mdef\u001b[39;00m \u001b[39mtestc1c2\u001b[39m(c1, c2):\n\u001b[0;32m      2\u001b[0m     model \u001b[39m=\u001b[39m FBIsolationForest(c1 \u001b[39m=\u001b[39m c1, c2 \u001b[39m=\u001b[39m c2, contamination \u001b[39m=\u001b[39m contamination, random_state \u001b[39m=\u001b[39m \u001b[39mNone\u001b[39;00m)\n\u001b[1;32m----> 3\u001b[0m     model\u001b[39m.\u001b[39;49mfit(X_train, train_labels)\n\u001b[0;32m      4\u001b[0m     predictions \u001b[39m=\u001b[39m model\u001b[39m.\u001b[39mpredict(X_test)\n\u001b[0;32m      5\u001b[0m     predictions[\u001b[39m'\u001b[39m\u001b[39mis_normal\u001b[39m\u001b[39m'\u001b[39m] \u001b[39m=\u001b[39m test_labels\n",
      "File \u001b[1;32md:\\James\\Documents\\Seattle U\\Winter_23\\Capstone\\Python\\network-anomaly-detection\\turtleIsolationForests\\isolationForest.py:83\u001b[0m, in \u001b[0;36mIsolationForest.fit\u001b[1;34m(self, train_data, train_labels)\u001b[0m\n\u001b[0;32m     81\u001b[0m \u001b[39mif\u001b[39;00m (\u001b[39mself\u001b[39m\u001b[39m.\u001b[39mverbose):\n\u001b[0;32m     82\u001b[0m     \u001b[39mprint\u001b[39m(\u001b[39m\"\u001b[39m\u001b[39mFinished building forest\u001b[39m\u001b[39m\"\u001b[39m)\n\u001b[1;32m---> 83\u001b[0m \u001b[39mself\u001b[39m\u001b[39m.\u001b[39mthreshold \u001b[39m=\u001b[39m \u001b[39mself\u001b[39;49m\u001b[39m.\u001b[39;49m_calculate_anomaly_score_threshold(train_data, train_labels)\n\u001b[0;32m     84\u001b[0m \u001b[39mif\u001b[39;00m (\u001b[39mself\u001b[39m\u001b[39m.\u001b[39mverbose):\n\u001b[0;32m     85\u001b[0m     \u001b[39mprint\u001b[39m(\u001b[39m\"\u001b[39m\u001b[39mFinished calculating threshold\u001b[39m\u001b[39m\"\u001b[39m)\n",
      "File \u001b[1;32md:\\James\\Documents\\Seattle U\\Winter_23\\Capstone\\Python\\network-anomaly-detection\\turtleIsolationForests\\isolationForest.py:106\u001b[0m, in \u001b[0;36mIsolationForest._calculate_anomaly_score_threshold\u001b[1;34m(self, train_data, train_labels)\u001b[0m\n\u001b[0;32m    105\u001b[0m \u001b[39mdef\u001b[39;00m \u001b[39m_calculate_anomaly_score_threshold\u001b[39m(\u001b[39mself\u001b[39m, train_data: pd\u001b[39m.\u001b[39mDataFrame, train_labels: pd\u001b[39m.\u001b[39mDataFrame) \u001b[39m-\u001b[39m\u001b[39m>\u001b[39m \u001b[39mfloat\u001b[39m:\n\u001b[1;32m--> 106\u001b[0m     \u001b[39mself\u001b[39m\u001b[39m.\u001b[39mtrain_scores \u001b[39m=\u001b[39m \u001b[39mself\u001b[39;49m\u001b[39m.\u001b[39;49m_score(train_data)\n\u001b[0;32m    107\u001b[0m     \u001b[39mif\u001b[39;00m \u001b[39mself\u001b[39m\u001b[39m.\u001b[39mcontamination \u001b[39m==\u001b[39m \u001b[39m'\u001b[39m\u001b[39mauto\u001b[39m\u001b[39m'\u001b[39m:\n\u001b[0;32m    108\u001b[0m         \u001b[39mself\u001b[39m\u001b[39m.\u001b[39mtrain_scores[\u001b[39m'\u001b[39m\u001b[39mis_normal\u001b[39m\u001b[39m'\u001b[39m] \u001b[39m=\u001b[39m train_labels\n",
      "File \u001b[1;32md:\\James\\Documents\\Seattle U\\Winter_23\\Capstone\\Python\\network-anomaly-detection\\turtleIsolationForests\\isolationForest.py:135\u001b[0m, in \u001b[0;36mIsolationForest._score\u001b[1;34m(self, data)\u001b[0m\n\u001b[0;32m    133\u001b[0m \u001b[39mdef\u001b[39;00m \u001b[39m_score\u001b[39m(\u001b[39mself\u001b[39m, data: pd\u001b[39m.\u001b[39mDataFrame) \u001b[39m-\u001b[39m\u001b[39m>\u001b[39m pd\u001b[39m.\u001b[39mDataFrame:\n\u001b[0;32m    134\u001b[0m     scoreframe \u001b[39m=\u001b[39m pd\u001b[39m.\u001b[39mDataFrame(index\u001b[39m=\u001b[39mdata\u001b[39m.\u001b[39mindex)\n\u001b[1;32m--> 135\u001b[0m     scoreframe[\u001b[39m'\u001b[39m\u001b[39manomaly_score\u001b[39m\u001b[39m'\u001b[39m] \u001b[39m=\u001b[39m \u001b[39mself\u001b[39;49m\u001b[39m.\u001b[39;49m_calculate_anomaly_scores(data)\n\u001b[0;32m    136\u001b[0m     \u001b[39mreturn\u001b[39;00m scoreframe\n",
      "File \u001b[1;32md:\\James\\Documents\\Seattle U\\Winter_23\\Capstone\\Python\\network-anomaly-detection\\turtleIsolationForests\\isolationForest.py:140\u001b[0m, in \u001b[0;36mIsolationForest._calculate_anomaly_scores\u001b[1;34m(self, data)\u001b[0m\n\u001b[0;32m    138\u001b[0m \u001b[39mdef\u001b[39;00m \u001b[39m_calculate_anomaly_scores\u001b[39m(\u001b[39mself\u001b[39m, data: pd\u001b[39m.\u001b[39mDataFrame) \u001b[39m-\u001b[39m\u001b[39m>\u001b[39m pd\u001b[39m.\u001b[39mDataFrame:\n\u001b[0;32m    139\u001b[0m     \u001b[39mself\u001b[39m\u001b[39m.\u001b[39mlen_data \u001b[39m=\u001b[39m \u001b[39mlen\u001b[39m(data)\n\u001b[1;32m--> 140\u001b[0m     anomaly_scores \u001b[39m=\u001b[39m data\u001b[39m.\u001b[39;49mapply(\u001b[39mself\u001b[39;49m\u001b[39m.\u001b[39;49m_calculate_anomaly_score, axis\u001b[39m=\u001b[39;49m\u001b[39m1\u001b[39;49m, result_type\u001b[39m=\u001b[39;49m\u001b[39m'\u001b[39;49m\u001b[39mreduce\u001b[39;49m\u001b[39m'\u001b[39;49m)\n\u001b[0;32m    141\u001b[0m     \u001b[39mdel\u001b[39;00m \u001b[39mself\u001b[39m\u001b[39m.\u001b[39mlen_data\n\u001b[0;32m    142\u001b[0m     \u001b[39mreturn\u001b[39;00m anomaly_scores\n",
      "File \u001b[1;32mc:\\Users\\James\\AppData\\Local\\Programs\\Python\\Python310\\lib\\site-packages\\pandas\\core\\frame.py:9568\u001b[0m, in \u001b[0;36mDataFrame.apply\u001b[1;34m(self, func, axis, raw, result_type, args, **kwargs)\u001b[0m\n\u001b[0;32m   9557\u001b[0m \u001b[39mfrom\u001b[39;00m \u001b[39mpandas\u001b[39;00m\u001b[39m.\u001b[39;00m\u001b[39mcore\u001b[39;00m\u001b[39m.\u001b[39;00m\u001b[39mapply\u001b[39;00m \u001b[39mimport\u001b[39;00m frame_apply\n\u001b[0;32m   9559\u001b[0m op \u001b[39m=\u001b[39m frame_apply(\n\u001b[0;32m   9560\u001b[0m     \u001b[39mself\u001b[39m,\n\u001b[0;32m   9561\u001b[0m     func\u001b[39m=\u001b[39mfunc,\n\u001b[1;32m   (...)\u001b[0m\n\u001b[0;32m   9566\u001b[0m     kwargs\u001b[39m=\u001b[39mkwargs,\n\u001b[0;32m   9567\u001b[0m )\n\u001b[1;32m-> 9568\u001b[0m \u001b[39mreturn\u001b[39;00m op\u001b[39m.\u001b[39;49mapply()\u001b[39m.\u001b[39m__finalize__(\u001b[39mself\u001b[39m, method\u001b[39m=\u001b[39m\u001b[39m\"\u001b[39m\u001b[39mapply\u001b[39m\u001b[39m\"\u001b[39m)\n",
      "File \u001b[1;32mc:\\Users\\James\\AppData\\Local\\Programs\\Python\\Python310\\lib\\site-packages\\pandas\\core\\apply.py:764\u001b[0m, in \u001b[0;36mFrameApply.apply\u001b[1;34m(self)\u001b[0m\n\u001b[0;32m    761\u001b[0m \u001b[39melif\u001b[39;00m \u001b[39mself\u001b[39m\u001b[39m.\u001b[39mraw:\n\u001b[0;32m    762\u001b[0m     \u001b[39mreturn\u001b[39;00m \u001b[39mself\u001b[39m\u001b[39m.\u001b[39mapply_raw()\n\u001b[1;32m--> 764\u001b[0m \u001b[39mreturn\u001b[39;00m \u001b[39mself\u001b[39;49m\u001b[39m.\u001b[39;49mapply_standard()\n",
      "File \u001b[1;32mc:\\Users\\James\\AppData\\Local\\Programs\\Python\\Python310\\lib\\site-packages\\pandas\\core\\apply.py:891\u001b[0m, in \u001b[0;36mFrameApply.apply_standard\u001b[1;34m(self)\u001b[0m\n\u001b[0;32m    890\u001b[0m \u001b[39mdef\u001b[39;00m \u001b[39mapply_standard\u001b[39m(\u001b[39mself\u001b[39m):\n\u001b[1;32m--> 891\u001b[0m     results, res_index \u001b[39m=\u001b[39m \u001b[39mself\u001b[39;49m\u001b[39m.\u001b[39;49mapply_series_generator()\n\u001b[0;32m    893\u001b[0m     \u001b[39m# wrap results\u001b[39;00m\n\u001b[0;32m    894\u001b[0m     \u001b[39mreturn\u001b[39;00m \u001b[39mself\u001b[39m\u001b[39m.\u001b[39mwrap_results(results, res_index)\n",
      "File \u001b[1;32mc:\\Users\\James\\AppData\\Local\\Programs\\Python\\Python310\\lib\\site-packages\\pandas\\core\\apply.py:907\u001b[0m, in \u001b[0;36mFrameApply.apply_series_generator\u001b[1;34m(self)\u001b[0m\n\u001b[0;32m    904\u001b[0m \u001b[39mwith\u001b[39;00m option_context(\u001b[39m\"\u001b[39m\u001b[39mmode.chained_assignment\u001b[39m\u001b[39m\"\u001b[39m, \u001b[39mNone\u001b[39;00m):\n\u001b[0;32m    905\u001b[0m     \u001b[39mfor\u001b[39;00m i, v \u001b[39min\u001b[39;00m \u001b[39menumerate\u001b[39m(series_gen):\n\u001b[0;32m    906\u001b[0m         \u001b[39m# ignore SettingWithCopy here in case the user mutates\u001b[39;00m\n\u001b[1;32m--> 907\u001b[0m         results[i] \u001b[39m=\u001b[39m \u001b[39mself\u001b[39;49m\u001b[39m.\u001b[39;49mf(v)\n\u001b[0;32m    908\u001b[0m         \u001b[39mif\u001b[39;00m \u001b[39misinstance\u001b[39m(results[i], ABCSeries):\n\u001b[0;32m    909\u001b[0m             \u001b[39m# If we have a view on v, we need to make a copy because\u001b[39;00m\n\u001b[0;32m    910\u001b[0m             \u001b[39m#  series_generator will swap out the underlying data\u001b[39;00m\n\u001b[0;32m    911\u001b[0m             results[i] \u001b[39m=\u001b[39m results[i]\u001b[39m.\u001b[39mcopy(deep\u001b[39m=\u001b[39m\u001b[39mFalse\u001b[39;00m)\n",
      "File \u001b[1;32md:\\James\\Documents\\Seattle U\\Winter_23\\Capstone\\Python\\network-anomaly-detection\\turtleIsolationForests\\isolationForest.py:148\u001b[0m, in \u001b[0;36mIsolationForest._calculate_anomaly_score\u001b[1;34m(self, point)\u001b[0m\n\u001b[0;32m    146\u001b[0m count \u001b[39m=\u001b[39m \u001b[39m0\u001b[39m\n\u001b[0;32m    147\u001b[0m \u001b[39mfor\u001b[39;00m tree \u001b[39min\u001b[39;00m \u001b[39mself\u001b[39m\u001b[39m.\u001b[39mforest:\n\u001b[1;32m--> 148\u001b[0m     running_total \u001b[39m+\u001b[39m\u001b[39m=\u001b[39m tree\u001b[39m.\u001b[39;49mpath_length(point)\n\u001b[0;32m    149\u001b[0m     count \u001b[39m+\u001b[39m\u001b[39m=\u001b[39m \u001b[39m1\u001b[39m\n\u001b[0;32m    150\u001b[0m path_length \u001b[39m=\u001b[39m running_total \u001b[39m/\u001b[39m count\n",
      "File \u001b[1;32md:\\James\\Documents\\Seattle U\\Winter_23\\Capstone\\Python\\network-anomaly-detection\\turtleIsolationForests\\isolationForest.py:31\u001b[0m, in \u001b[0;36mIsolationTree.path_length\u001b[1;34m(self, point)\u001b[0m\n\u001b[0;32m     29\u001b[0m \u001b[39mwhile\u001b[39;00m (tree_pointer\u001b[39m.\u001b[39mdecision \u001b[39mis\u001b[39;00m \u001b[39mnot\u001b[39;00m \u001b[39mNone\u001b[39;00m):  \u001b[39m#only leaves have None decision\u001b[39;00m\n\u001b[0;32m     30\u001b[0m     path_length \u001b[39m+\u001b[39m\u001b[39m=\u001b[39m \u001b[39m1\u001b[39m\n\u001b[1;32m---> 31\u001b[0m     \u001b[39mif\u001b[39;00m (tree_pointer\u001b[39m.\u001b[39;49mdecision\u001b[39m.\u001b[39;49mgo_left(point)):\n\u001b[0;32m     32\u001b[0m         tree_pointer \u001b[39m=\u001b[39m tree_pointer\u001b[39m.\u001b[39mleft\n\u001b[0;32m     33\u001b[0m     \u001b[39melse\u001b[39;00m:\n",
      "File \u001b[1;32md:\\James\\Documents\\Seattle U\\Winter_23\\Capstone\\Python\\network-anomaly-detection\\turtleIsolationForests\\FBIF.py:20\u001b[0m, in \u001b[0;36mHypersphereDecision.go_left\u001b[1;34m(self, point_of_interest)\u001b[0m\n\u001b[0;32m     19\u001b[0m \u001b[39mdef\u001b[39;00m \u001b[39mgo_left\u001b[39m(\u001b[39mself\u001b[39m, point_of_interest: pd\u001b[39m.\u001b[39mSeries) \u001b[39m-\u001b[39m\u001b[39m>\u001b[39m \u001b[39mbool\u001b[39m:\n\u001b[1;32m---> 20\u001b[0m     \u001b[39mreturn\u001b[39;00m euclidean_distance_sq(np\u001b[39m.\u001b[39;49marray(point_of_interest), \u001b[39mself\u001b[39m\u001b[39m.\u001b[39mcenter) \u001b[39m<\u001b[39m\u001b[39m=\u001b[39m \u001b[39mself\u001b[39m\u001b[39m.\u001b[39mradiusSq\n",
      "\u001b[1;31mKeyboardInterrupt\u001b[0m: "
     ]
    }
   ],
   "source": [
    "def testc1c2(c1, c2):\n",
    "    model = FBIsolationForest(c1 = c1, c2 = c2, contamination = contamination, random_state = None)\n",
    "    model.fit(X_train, train_labels)\n",
    "    predictions = model.predict(X_test)\n",
    "    predictions['is_normal'] = test_labels\n",
    "    TA, FA, FN, TN = return_results(predictions)\n",
    "    precision, recall, f1 = calc_f1(TA, FA, FN, TN)\n",
    "    return (str(c1) + \",\" + str(c2) + \",\" + str(precision) + \",\" + str(recall) + \",\" + str(f1))\n",
    "\n",
    "c_vals = [(c1, c2) for c1 in [1.0, 1.1, 1.2, 1.3, 1.4] for c2 in [1.0, 0.9, 0.8, 0.7, 0.6]]\n",
    "\n",
    "print(\"run,c1,c2,precision,recall,f1\")\n",
    "for c1, c2 in c_vals:\n",
    "    print(testc1c2(c1, c2))"
   ]
  },
  {
   "cell_type": "code",
   "execution_count": null,
   "metadata": {},
   "outputs": [],
   "source": []
  }
 ],
 "metadata": {
  "kernelspec": {
   "display_name": "Python 3",
   "language": "python",
   "name": "python3"
  },
  "language_info": {
   "codemirror_mode": {
    "name": "ipython",
    "version": 3
   },
   "file_extension": ".py",
   "mimetype": "text/x-python",
   "name": "python",
   "nbconvert_exporter": "python",
   "pygments_lexer": "ipython3",
   "version": "3.10.9"
  },
  "orig_nbformat": 4,
  "vscode": {
   "interpreter": {
    "hash": "e97064513f0d268e2f073204e543b8077386c7433ee9f7232070081c2302a999"
   }
  }
 },
 "nbformat": 4,
 "nbformat_minor": 2
}
