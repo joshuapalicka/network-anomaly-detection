{
 "cells": [
  {
   "cell_type": "code",
   "execution_count": 1,
   "metadata": {},
   "outputs": [],
   "source": [
    "import pandas as pd\n",
    "from turtleIsolationForests.extendedIsolationForest import ExtendedIsolationForest\n",
    "from turtleIsolationForests.printResults import notebook_visual_printout, csv_printout\n",
    "from turtleIsolationForests.preprocessFeatures import preprocess_features"
   ]
  },
  {
   "cell_type": "code",
   "execution_count": 2,
   "metadata": {},
   "outputs": [],
   "source": [
    "train_dataframe = pd.read_csv(\"./eda_simple_classification/network_data_mod_train.csv\", index_col=0)\n",
    "test_dataframe = pd.read_csv(\"./eda_simple_classification/network_data_mod_test.csv\", index_col=0)\n",
    "X_train, X_test, train_labels, test_labels = preprocess_features(train_dataframe, test_dataframe)"
   ]
  },
  {
   "cell_type": "code",
   "execution_count": 3,
   "metadata": {},
   "outputs": [
    {
     "name": "stdout",
     "output_type": "stream",
     "text": [
      "run,precision,recall,f1,auroc\n",
      "0,0.9137334870112599,0.8030857944362191,0.8548440610484406,0.9048695686866854\n",
      "1,0.8777096114519427,0.8361256136523026,0.8564131215579854,0.8890526931989127\n",
      "2,0.9026369168356998,0.8322294085560664,0.8660044597607947,0.88880707299524\n",
      "3,0.9088452531075482,0.7862541884204785,0.8431167745978693,0.9049684843909822\n",
      "4,0.9047010730710271,0.827787734746357,0.8645371312309257,0.9102094238926145\n",
      "5,0.884834200260078,0.8483596976544845,0.8662131519274375,0.8877286896057216\n",
      "6,0.9014277165085065,0.8216317306943037,0.8596820220138606,0.8645876827616489\n",
      "7,0.884366485013624,0.8093197225901971,0.8451804532693169,0.8819973923711558\n",
      "8,0.9113957135389441,0.8151640302345515,0.8605980831722265,0.8856124054849293\n",
      "9,0.9090588027547236,0.8023065534169719,0.8523531603129268,0.9012571594624265\n",
      "10,0.9027128157156221,0.8271643419309592,0.8632888744307092,0.9070244858616141\n",
      "11,0.904551748009692,0.8145406374191537,0.8571897166755504,0.8680109268351742\n",
      "12,0.9503162619873495,0.7258630094288163,0.8230616302186878,0.8875821094831948\n",
      "13,0.9116493857279777,0.815319878438401,0.8607980255039079,0.8874028784317488\n",
      "14,0.8913535142658316,0.7984882724226603,0.8423691890336634,0.8647132351723958\n",
      "15,0.8774753518159603,0.8114236733421647,0.843157894736842,0.8703614727448237\n",
      "16,0.9111706881143878,0.7945141432244993,0.8488531823668982,0.8884243293217144\n",
      "17,0.9099657629314333,0.7663056183277488,0.831979695431472,0.895135278800697\n",
      "18,0.9002604823124107,0.834878828021507,0.8663378345597152,0.8723319791743726\n",
      "19,0.842674826479588,0.8798410348320735,0.8608569685879841,0.8775866964211395\n"
     ]
    }
   ],
   "source": [
    "model = ExtendedIsolationForest(random_state = None)\n",
    "#notebook_visual_printout(X_train, X_test, train_labels, test_labels, model)\n",
    "csv_printout(20, X_train, X_test, train_labels, test_labels, model)"
   ]
  },
  {
   "cell_type": "code",
   "execution_count": null,
   "metadata": {},
   "outputs": [],
   "source": []
  }
 ],
 "metadata": {
  "kernelspec": {
   "display_name": "Python 3",
   "language": "python",
   "name": "python3"
  },
  "language_info": {
   "codemirror_mode": {
    "name": "ipython",
    "version": 3
   },
   "file_extension": ".py",
   "mimetype": "text/x-python",
   "name": "python",
   "nbconvert_exporter": "python",
   "pygments_lexer": "ipython3",
   "version": "3.10.9"
  },
  "orig_nbformat": 4,
  "vscode": {
   "interpreter": {
    "hash": "e97064513f0d268e2f073204e543b8077386c7433ee9f7232070081c2302a999"
   }
  }
 },
 "nbformat": 4,
 "nbformat_minor": 2
}
