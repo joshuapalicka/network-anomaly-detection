{
 "cells": [
  {
   "cell_type": "code",
   "execution_count": null,
   "metadata": {},
   "outputs": [],
   "source": [
    "import pandas as pd\n",
    "from turtleIsolationForests.extendedIsolationForest import ExtendedIsolationForest\n",
    "from turtleIsolationForests.printResults import notebook_visual_printout, csv_printout\n",
    "from turtleIsolationForests.preprocessFeatures import preprocess_features"
   ]
  },
  {
   "cell_type": "code",
   "execution_count": null,
   "metadata": {},
   "outputs": [],
   "source": [
    "train_dataframe = pd.read_csv(\"./eda_simple_classification/network_data_mod_train.csv\", index_col=0)\n",
    "test_dataframe = pd.read_csv(\"./eda_simple_classification/network_data_mod_test.csv\", index_col=0)\n",
    "X_train, X_test, train_labels, test_labels = preprocess_features(train_dataframe, test_dataframe)"
   ]
  },
  {
   "cell_type": "code",
   "execution_count": null,
   "metadata": {},
   "outputs": [],
   "source": [
    "model = ExtendedIsolationForest(random_state = None)\n",
    "#notebook_visual_printout(X_train, X_test, train_labels, test_labels, model)\n",
    "csv_printout(20, X_train, X_test, train_labels, test_labels, model)"
   ]
  },
  {
   "cell_type": "code",
   "execution_count": null,
   "metadata": {},
   "outputs": [],
   "source": []
  }
 ],
 "metadata": {
  "kernelspec": {
   "display_name": "Python 3",
   "language": "python",
   "name": "python3"
  },
  "language_info": {
   "codemirror_mode": {
    "name": "ipython",
    "version": 3
   },
   "file_extension": ".py",
   "mimetype": "text/x-python",
   "name": "python",
   "nbconvert_exporter": "python",
   "pygments_lexer": "ipython3",
   "version": "3.10.9"
  },
  "orig_nbformat": 4,
  "vscode": {
   "interpreter": {
    "hash": "e97064513f0d268e2f073204e543b8077386c7433ee9f7232070081c2302a999"
   }
  }
 },
 "nbformat": 4,
 "nbformat_minor": 2
}
