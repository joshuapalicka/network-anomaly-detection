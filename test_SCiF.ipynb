{
 "cells": [
  {
   "cell_type": "code",
   "execution_count": 1,
   "metadata": {},
   "outputs": [],
   "source": [
    "from pandas import read_csv\n",
    "from turtleIsolationForests.sciForest import SCIsolationForest\n",
    "from turtleIsolationForests.printResults import notebook_visual_printout, csv_printout\n",
    "from turtleIsolationForests.preprocessFeatures import preprocess_features"
   ]
  },
  {
   "cell_type": "code",
   "execution_count": 2,
   "metadata": {},
   "outputs": [
    {
     "data": {
      "text/plain": [
       "0.4654171925730117"
      ]
     },
     "execution_count": 2,
     "metadata": {},
     "output_type": "execute_result"
    }
   ],
   "source": [
    "train_dataframe = read_csv(\"./eda_simple_classification/network_data_mod_train.csv\", index_col=0)\n",
    "test_dataframe = read_csv(\"./eda_simple_classification/network_data_mod_test.csv\", index_col=0)\n",
    "X_train, X_test, train_labels, test_labels = preprocess_features(train_dataframe, test_dataframe)\n",
    "contamination = sum(train_labels) / len(train_labels)\n",
    "contamination"
   ]
  },
  {
   "cell_type": "code",
   "execution_count": 4,
   "metadata": {},
   "outputs": [
    {
     "name": "stdout",
     "output_type": "stream",
     "text": [
      "run,precision,recall,f1,auroc,test_predict_time\n",
      "0,0.8616362192216045,0.8453206576794202,0.853400464146639,0.9120111268652444,53.535497426986694\n",
      "1,0.8653705953827461,0.8324631808618406,0.8485979823655574,0.9133194108295949,52.317362785339355\n",
      "2,0.8593080724876442,0.8129042312787345,0.8354622992832258,0.907918827624143,54.29044961929321\n",
      "3,0.8432760364004045,0.8448531130678719,0.8440638380692878,0.8984553823692191,52.346317529678345\n",
      "4,0.8466224131198751,0.8447751889659472,0.8456977923394959,0.9067516953346877,53.168798208236694\n",
      "5,0.8464232894839262,0.8473466843294631,0.8468847352024922,0.9096537201681226,52.78551363945007\n",
      "6,0.8849969804158399,0.7993454375438324,0.839993449066492,0.9064155167485343,54.023486375808716\n",
      "7,0.8566566408105113,0.8433725551313022,0.84996269682334,0.908276001824825,53.41078853607178\n",
      "8,0.8275150867007868,0.8441517961505494,0.8357506557629996,0.8784804283358931,53.84433102607727\n",
      "9,0.8560272493146133,0.8029299462323697,0.8286288701246481,0.9015964073482389,54.32036089897156\n",
      "10,0.8391878329344553,0.8470349879217642,0.843093151322423,0.8829862485023925,54.114012479782104\n",
      "11,0.8197882550079976,0.8386971090158186,0.8291348894538171,0.8978191747262263,53.26819896697998\n",
      "12,0.8849528495284953,0.8409569079716356,0.8623941185871824,0.9110417056196902,54.025718450546265\n",
      "13,0.8579961771264734,0.8394763500350658,0.8486352357320098,0.9204575867602947,53.36546516418457\n",
      "14,0.8634276650805577,0.805968986207434,0.833709495405449,0.8912424078064433,54.20633292198181\n",
      "15,0.8608353163206696,0.8175017532922934,0.8386091127098322,0.903990328680909,53.79702591896057\n",
      "16,0.8560434219053791,0.8234239850385724,0.839416928148707,0.9071574246523243,54.33999991416931\n",
      "17,0.8763157894736842,0.8044105041689394,0.8388250111729574,0.9045490415227135,53.1711745262146\n",
      "18,0.8449882505469573,0.8125925348710357,0.8284738221975053,0.8944814858761302,53.8439998626709\n",
      "19,0.8362193912579144,0.8542040052988389,0.8451160280626012,0.9024983160377696,57.43065524101257\n"
     ]
    }
   ],
   "source": [
    "model = SCIsolationForest(num_hyperplanes_per_split = 10, num_attributes_per_split = 5, contamination = contamination, random_state = None)\n",
    "#notebook_visual_printout(X_train, X_test, train_labels, test_labels, model)\n",
    "csv_printout(20, X_train, X_test, train_labels, test_labels, model)"
   ]
  },
  {
   "cell_type": "code",
   "execution_count": null,
   "metadata": {},
   "outputs": [],
   "source": []
  }
 ],
 "metadata": {
  "kernelspec": {
   "display_name": "Python 3",
   "language": "python",
   "name": "python3"
  },
  "language_info": {
   "codemirror_mode": {
    "name": "ipython",
    "version": 3
   },
   "file_extension": ".py",
   "mimetype": "text/x-python",
   "name": "python",
   "nbconvert_exporter": "python",
   "pygments_lexer": "ipython3",
   "version": "3.10.9"
  },
  "orig_nbformat": 4,
  "vscode": {
   "interpreter": {
    "hash": "e97064513f0d268e2f073204e543b8077386c7433ee9f7232070081c2302a999"
   }
  }
 },
 "nbformat": 4,
 "nbformat_minor": 2
}
