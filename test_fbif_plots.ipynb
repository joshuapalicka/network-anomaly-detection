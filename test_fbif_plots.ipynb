{
 "cells": [
  {
   "cell_type": "code",
   "execution_count": 1,
   "metadata": {},
   "outputs": [],
   "source": [
    "import pandas as pd\n",
    "import matplotlib.pyplot as plt\n",
    "from io import StringIO"
   ]
  },
  {
   "cell_type": "code",
   "execution_count": 2,
   "metadata": {},
   "outputs": [],
   "source": [
    "data = '''c1,c2,precision,recall,f1\n",
    "1.0, 1.0, 0.9998441517961506, 0.9996104705515737, 0.9997272975184074\n",
    "1.0, 0.9, 0.968518662822411, 0.7288026269496892, 0.8317328604409944\n",
    "1.0, 0.8, 1.0, 1.0, 1.0\n",
    "1.0, 0.7, 0.8032416426400686, 0.559761064349715, 0.6597542242703535\n",
    "1.0, 0.6, 0.9202057196290813, 0.6877293110476967, 0.7871617117717639\n",
    "1.1, 1.0, 0.8785942492012779, 0.6443961822026633, 0.7434882954170787\n",
    "1.1, 0.9, 0.8795293384243746, 0.6269858904566159, 0.7320901572887952\n",
    "1.1, 0.8, 0.9422582404737785, 0.6660791010245676, 0.7804563203924226\n",
    "1.1, 0.7, 0.9481804722200576, 0.6924652856817665, 0.8003946719289591\n",
    "1.1, 0.6, 0.9825450011688616, 0.7628872216844144, 0.8588944518238479\n",
    "1.2, 1.0, 0.8789838697109016, 0.6100264993780758, 0.7202145319882518\n",
    "1.2, 0.9, 0.8733733343723213, 0.6120576671035387, 0.7197302937871248\n",
    "1.2, 0.8, 0.9169329073482428, 0.6439203239575353, 0.7565499726749607\n",
    "1.2, 0.7, 0.9225434426868231, 0.6563730110328768, 0.7670229996760608\n",
    "1.2, 0.6, 0.9307254733889192, 0.6722197208464655, 0.7806280840495409\n",
    "1.3, 1.0, 0.9032961895114159, 0.7007193374841323, 0.7892156862745099\n",
    "1.3, 0.9, 0.8089301020805735, 0.5544813588291849, 0.6579622880684518\n",
    "1.3, 0.8, 0.8644899867529027, 0.5979303654198556, 0.7069168764138019\n",
    "1.3, 0.7, 0.830359230109873, 0.5684109457513202, 0.6748575047498416\n",
    "1.3, 0.6, 0.8501519519987533, 0.5878549490813083, 0.6950815494393476\n",
    "1.4, 1.0, 0.7789293228395543, 0.6637890962215287, 0.716764663702854\n",
    "1.4, 0.9, 0.7294475181173536, 0.513325290633911, 0.6025942257555763\n",
    "1.4, 0.8, 0.9659471674588951, 0.8493319630010278, 0.9038938311214818\n",
    "1.4, 0.7, 0.8359697654484533, 0.5765572096522814, 0.6824427480916031\n",
    "1.4, 0.6, 0.8521779786487961, 0.5818568768289438, 0.6915391425319337'''"
   ]
  },
  {
   "cell_type": "code",
   "execution_count": 3,
   "metadata": {},
   "outputs": [
    {
     "data": {
      "text/html": [
       "<div>\n",
       "<style scoped>\n",
       "    .dataframe tbody tr th:only-of-type {\n",
       "        vertical-align: middle;\n",
       "    }\n",
       "\n",
       "    .dataframe tbody tr th {\n",
       "        vertical-align: top;\n",
       "    }\n",
       "\n",
       "    .dataframe thead th {\n",
       "        text-align: right;\n",
       "    }\n",
       "</style>\n",
       "<table border=\"1\" class=\"dataframe\">\n",
       "  <thead>\n",
       "    <tr style=\"text-align: right;\">\n",
       "      <th></th>\n",
       "      <th>c1</th>\n",
       "      <th>c2</th>\n",
       "      <th>precision</th>\n",
       "      <th>recall</th>\n",
       "      <th>f1</th>\n",
       "    </tr>\n",
       "  </thead>\n",
       "  <tbody>\n",
       "    <tr>\n",
       "      <th>0</th>\n",
       "      <td>1.0</td>\n",
       "      <td>1.0</td>\n",
       "      <td>0.999844</td>\n",
       "      <td>0.999610</td>\n",
       "      <td>0.999727</td>\n",
       "    </tr>\n",
       "    <tr>\n",
       "      <th>1</th>\n",
       "      <td>1.0</td>\n",
       "      <td>0.9</td>\n",
       "      <td>0.968519</td>\n",
       "      <td>0.728803</td>\n",
       "      <td>0.831733</td>\n",
       "    </tr>\n",
       "    <tr>\n",
       "      <th>2</th>\n",
       "      <td>1.0</td>\n",
       "      <td>0.8</td>\n",
       "      <td>1.000000</td>\n",
       "      <td>1.000000</td>\n",
       "      <td>1.000000</td>\n",
       "    </tr>\n",
       "    <tr>\n",
       "      <th>3</th>\n",
       "      <td>1.0</td>\n",
       "      <td>0.7</td>\n",
       "      <td>0.803242</td>\n",
       "      <td>0.559761</td>\n",
       "      <td>0.659754</td>\n",
       "    </tr>\n",
       "    <tr>\n",
       "      <th>4</th>\n",
       "      <td>1.0</td>\n",
       "      <td>0.6</td>\n",
       "      <td>0.920206</td>\n",
       "      <td>0.687729</td>\n",
       "      <td>0.787162</td>\n",
       "    </tr>\n",
       "    <tr>\n",
       "      <th>5</th>\n",
       "      <td>1.1</td>\n",
       "      <td>1.0</td>\n",
       "      <td>0.878594</td>\n",
       "      <td>0.644396</td>\n",
       "      <td>0.743488</td>\n",
       "    </tr>\n",
       "    <tr>\n",
       "      <th>6</th>\n",
       "      <td>1.1</td>\n",
       "      <td>0.9</td>\n",
       "      <td>0.879529</td>\n",
       "      <td>0.626986</td>\n",
       "      <td>0.732090</td>\n",
       "    </tr>\n",
       "    <tr>\n",
       "      <th>7</th>\n",
       "      <td>1.1</td>\n",
       "      <td>0.8</td>\n",
       "      <td>0.942258</td>\n",
       "      <td>0.666079</td>\n",
       "      <td>0.780456</td>\n",
       "    </tr>\n",
       "    <tr>\n",
       "      <th>8</th>\n",
       "      <td>1.1</td>\n",
       "      <td>0.7</td>\n",
       "      <td>0.948180</td>\n",
       "      <td>0.692465</td>\n",
       "      <td>0.800395</td>\n",
       "    </tr>\n",
       "    <tr>\n",
       "      <th>9</th>\n",
       "      <td>1.1</td>\n",
       "      <td>0.6</td>\n",
       "      <td>0.982545</td>\n",
       "      <td>0.762887</td>\n",
       "      <td>0.858894</td>\n",
       "    </tr>\n",
       "    <tr>\n",
       "      <th>10</th>\n",
       "      <td>1.2</td>\n",
       "      <td>1.0</td>\n",
       "      <td>0.878984</td>\n",
       "      <td>0.610026</td>\n",
       "      <td>0.720215</td>\n",
       "    </tr>\n",
       "    <tr>\n",
       "      <th>11</th>\n",
       "      <td>1.2</td>\n",
       "      <td>0.9</td>\n",
       "      <td>0.873373</td>\n",
       "      <td>0.612058</td>\n",
       "      <td>0.719730</td>\n",
       "    </tr>\n",
       "    <tr>\n",
       "      <th>12</th>\n",
       "      <td>1.2</td>\n",
       "      <td>0.8</td>\n",
       "      <td>0.916933</td>\n",
       "      <td>0.643920</td>\n",
       "      <td>0.756550</td>\n",
       "    </tr>\n",
       "    <tr>\n",
       "      <th>13</th>\n",
       "      <td>1.2</td>\n",
       "      <td>0.7</td>\n",
       "      <td>0.922543</td>\n",
       "      <td>0.656373</td>\n",
       "      <td>0.767023</td>\n",
       "    </tr>\n",
       "    <tr>\n",
       "      <th>14</th>\n",
       "      <td>1.2</td>\n",
       "      <td>0.6</td>\n",
       "      <td>0.930725</td>\n",
       "      <td>0.672220</td>\n",
       "      <td>0.780628</td>\n",
       "    </tr>\n",
       "    <tr>\n",
       "      <th>15</th>\n",
       "      <td>1.3</td>\n",
       "      <td>1.0</td>\n",
       "      <td>0.903296</td>\n",
       "      <td>0.700719</td>\n",
       "      <td>0.789216</td>\n",
       "    </tr>\n",
       "    <tr>\n",
       "      <th>16</th>\n",
       "      <td>1.3</td>\n",
       "      <td>0.9</td>\n",
       "      <td>0.808930</td>\n",
       "      <td>0.554481</td>\n",
       "      <td>0.657962</td>\n",
       "    </tr>\n",
       "    <tr>\n",
       "      <th>17</th>\n",
       "      <td>1.3</td>\n",
       "      <td>0.8</td>\n",
       "      <td>0.864490</td>\n",
       "      <td>0.597930</td>\n",
       "      <td>0.706917</td>\n",
       "    </tr>\n",
       "    <tr>\n",
       "      <th>18</th>\n",
       "      <td>1.3</td>\n",
       "      <td>0.7</td>\n",
       "      <td>0.830359</td>\n",
       "      <td>0.568411</td>\n",
       "      <td>0.674858</td>\n",
       "    </tr>\n",
       "    <tr>\n",
       "      <th>19</th>\n",
       "      <td>1.3</td>\n",
       "      <td>0.6</td>\n",
       "      <td>0.850152</td>\n",
       "      <td>0.587855</td>\n",
       "      <td>0.695082</td>\n",
       "    </tr>\n",
       "    <tr>\n",
       "      <th>20</th>\n",
       "      <td>1.4</td>\n",
       "      <td>1.0</td>\n",
       "      <td>0.778929</td>\n",
       "      <td>0.663789</td>\n",
       "      <td>0.716765</td>\n",
       "    </tr>\n",
       "    <tr>\n",
       "      <th>21</th>\n",
       "      <td>1.4</td>\n",
       "      <td>0.9</td>\n",
       "      <td>0.729448</td>\n",
       "      <td>0.513325</td>\n",
       "      <td>0.602594</td>\n",
       "    </tr>\n",
       "    <tr>\n",
       "      <th>22</th>\n",
       "      <td>1.4</td>\n",
       "      <td>0.8</td>\n",
       "      <td>0.965947</td>\n",
       "      <td>0.849332</td>\n",
       "      <td>0.903894</td>\n",
       "    </tr>\n",
       "    <tr>\n",
       "      <th>23</th>\n",
       "      <td>1.4</td>\n",
       "      <td>0.7</td>\n",
       "      <td>0.835970</td>\n",
       "      <td>0.576557</td>\n",
       "      <td>0.682443</td>\n",
       "    </tr>\n",
       "    <tr>\n",
       "      <th>24</th>\n",
       "      <td>1.4</td>\n",
       "      <td>0.6</td>\n",
       "      <td>0.852178</td>\n",
       "      <td>0.581857</td>\n",
       "      <td>0.691539</td>\n",
       "    </tr>\n",
       "  </tbody>\n",
       "</table>\n",
       "</div>"
      ],
      "text/plain": [
       "     c1   c2  precision    recall        f1\n",
       "0   1.0  1.0   0.999844  0.999610  0.999727\n",
       "1   1.0  0.9   0.968519  0.728803  0.831733\n",
       "2   1.0  0.8   1.000000  1.000000  1.000000\n",
       "3   1.0  0.7   0.803242  0.559761  0.659754\n",
       "4   1.0  0.6   0.920206  0.687729  0.787162\n",
       "5   1.1  1.0   0.878594  0.644396  0.743488\n",
       "6   1.1  0.9   0.879529  0.626986  0.732090\n",
       "7   1.1  0.8   0.942258  0.666079  0.780456\n",
       "8   1.1  0.7   0.948180  0.692465  0.800395\n",
       "9   1.1  0.6   0.982545  0.762887  0.858894\n",
       "10  1.2  1.0   0.878984  0.610026  0.720215\n",
       "11  1.2  0.9   0.873373  0.612058  0.719730\n",
       "12  1.2  0.8   0.916933  0.643920  0.756550\n",
       "13  1.2  0.7   0.922543  0.656373  0.767023\n",
       "14  1.2  0.6   0.930725  0.672220  0.780628\n",
       "15  1.3  1.0   0.903296  0.700719  0.789216\n",
       "16  1.3  0.9   0.808930  0.554481  0.657962\n",
       "17  1.3  0.8   0.864490  0.597930  0.706917\n",
       "18  1.3  0.7   0.830359  0.568411  0.674858\n",
       "19  1.3  0.6   0.850152  0.587855  0.695082\n",
       "20  1.4  1.0   0.778929  0.663789  0.716765\n",
       "21  1.4  0.9   0.729448  0.513325  0.602594\n",
       "22  1.4  0.8   0.965947  0.849332  0.903894\n",
       "23  1.4  0.7   0.835970  0.576557  0.682443\n",
       "24  1.4  0.6   0.852178  0.581857  0.691539"
      ]
     },
     "execution_count": 3,
     "metadata": {},
     "output_type": "execute_result"
    }
   ],
   "source": [
    "dataframe = pd.read_csv(StringIO(data), header=0)\n",
    "dataframe"
   ]
  },
  {
   "cell_type": "code",
   "execution_count": 4,
   "metadata": {},
   "outputs": [
    {
     "data": {
      "text/plain": [
       "<matplotlib.collections.PathCollection at 0x1feb5096890>"
      ]
     },
     "execution_count": 4,
     "metadata": {},
     "output_type": "execute_result"
    },
    {
     "data": {
      "image/png": "[encoded data removed]",
      "text/plain": [
       "<Figure size 640x480 with 1 Axes>"
      ]
     },
     "metadata": {},
     "output_type": "display_data"
    }
   ],
   "source": [
    "plt.scatter(dataframe['c1'], dataframe['c2'], c=dataframe['f1'])"
   ]
  },
  {
   "cell_type": "code",
   "execution_count": 7,
   "metadata": {},
   "outputs": [
    {
     "data": {
      "text/plain": [
       "0.8906070287539939"
      ]
     },
     "execution_count": 7,
     "metadata": {},
     "output_type": "execute_result"
    }
   ],
   "source": [
    "sum(dataframe['precision']) / len(dataframe['precision'])"
   ]
  },
  {
   "cell_type": "code",
   "execution_count": 8,
   "metadata": {},
   "outputs": [
    {
     "data": {
      "text/plain": [
       "0.6703028707668275"
      ]
     },
     "execution_count": 8,
     "metadata": {},
     "output_type": "execute_result"
    }
   ],
   "source": [
    "sum(dataframe['recall']) / len(dataframe['recall'])"
   ]
  },
  {
   "cell_type": "code",
   "execution_count": 9,
   "metadata": {},
   "outputs": [
    {
     "data": {
      "text/plain": [
       "0.7623645755671185"
      ]
     },
     "execution_count": 9,
     "metadata": {},
     "output_type": "execute_result"
    },
    {
     "ename": "",
     "evalue": "",
     "output_type": "error",
     "traceback": [
      "\u001b[1;31mThe Kernel crashed while executing code in the the current cell or a previous cell. Please review the code in the cell(s) to identify a possible cause of the failure. Click <a href='https://aka.ms/vscodeJupyterKernelCrash'>here</a> for more info. View Jupyter <a href='command:jupyter.viewOutput'>log</a> for further details."
     ]
    }
   ],
   "source": [
    "sum(dataframe['f1']) / len(dataframe['f1'])"
   ]
  },
  {
   "cell_type": "code",
   "execution_count": null,
   "metadata": {},
   "outputs": [],
   "source": []
  }
 ],
 "metadata": {
  "kernelspec": {
   "display_name": "Python 3",
   "language": "python",
   "name": "python3"
  },
  "language_info": {
   "codemirror_mode": {
    "name": "ipython",
    "version": 3
   },
   "file_extension": ".py",
   "mimetype": "text/x-python",
   "name": "python",
   "nbconvert_exporter": "python",
   "pygments_lexer": "ipython3",
   "version": "3.10.9"
  },
  "orig_nbformat": 4,
  "vscode": {
   "interpreter": {
    "hash": "e97064513f0d268e2f073204e543b8077386c7433ee9f7232070081c2302a999"
   }
  }
 },
 "nbformat": 4,
 "nbformat_minor": 2
}
