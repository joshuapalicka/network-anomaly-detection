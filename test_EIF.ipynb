{
 "cells": [
  {
   "cell_type": "code",
   "execution_count": null,
   "metadata": {},
   "outputs": [],
   "source": [
    "import pandas as pd\n",
    "from turtleIsolationForests.extendedIsolationForest import IsolationForest, ExtendedIsolationForest\n",
    "from sklearn.preprocessing import StandardScaler"
   ]
  },
  {
   "cell_type": "code",
   "execution_count": null,
   "metadata": {},
   "outputs": [],
   "source": [
    "dataframe = pd.read_csv(\"./eda_simple_classification/network_data_mod_train.csv\", index_col=0)\n",
    "test_dataframe = pd.read_csv(\"./eda_simple_classification/network_data_mod_test.csv\", index_col=0)\n",
    "dataframe"
   ]
  },
  {
   "cell_type": "code",
   "execution_count": null,
   "metadata": {},
   "outputs": [],
   "source": [
    "train_labels = dataframe.xs('class', axis='columns')\n",
    "\n",
    "for column in dataframe.columns:\n",
    "    if (column[0:5] == 'class'):\n",
    "        dataframe.drop(column, axis='columns', inplace=True)\n",
    "\n",
    "test_labels = test_dataframe.xs('class', axis='columns')\n",
    "\n",
    "for column in test_dataframe.columns:\n",
    "    if (column[0:5] == 'class'):\n",
    "        test_dataframe.drop(column, axis='columns', inplace=True)"
   ]
  },
  {
   "cell_type": "code",
   "execution_count": null,
   "metadata": {},
   "outputs": [],
   "source": [
    "X_train = dataframe\n",
    "X_test = test_dataframe\n",
    "scaler = StandardScaler()\n",
    "X_train = pd.DataFrame(scaler.fit_transform(X_train), columns = X_train.columns)\n",
    "X_test = pd.DataFrame(scaler.transform(X_test), columns = X_test.columns)\n",
    "X_train"
   ]
  },
  {
   "cell_type": "code",
   "execution_count": null,
   "metadata": {},
   "outputs": [],
   "source": [
    "contamination = sum(train_labels == 0) / len(train_labels)\n",
    "contamination"
   ]
  },
  {
   "cell_type": "code",
   "execution_count": null,
   "metadata": {},
   "outputs": [],
   "source": [
    "model = ExtendedIsolationForest(contamination = contamination, random_state = None)\n",
    "model.fit(X_train)\n",
    "model"
   ]
  },
  {
   "cell_type": "code",
   "execution_count": null,
   "metadata": {},
   "outputs": [],
   "source": [
    "model.threshold"
   ]
  },
  {
   "cell_type": "code",
   "execution_count": null,
   "metadata": {},
   "outputs": [],
   "source": [
    "predictions = model.predict(X_test)"
   ]
  },
  {
   "cell_type": "code",
   "execution_count": null,
   "metadata": {},
   "outputs": [],
   "source": [
    "predictions['is_normal'] = test_labels\n",
    "predictions"
   ]
  },
  {
   "cell_type": "code",
   "execution_count": null,
   "metadata": {},
   "outputs": [],
   "source": [
    "predictions.describe()"
   ]
  },
  {
   "cell_type": "code",
   "execution_count": null,
   "metadata": {},
   "outputs": [],
   "source": [
    "true_anomaly = len(predictions[predictions['is_normal'] == 0 & (predictions['predicted_as_anomaly'] == True)])\n",
    "false_anomaly = len(predictions[predictions['is_normal'] == 0 & (predictions['predicted_as_anomaly'] == False)])\n",
    "false_normal = len(predictions[predictions['is_normal'] == 1 & (predictions['predicted_as_anomaly'] == True)])\n",
    "true_normal = len(predictions[predictions['is_normal'] == 1 & (predictions['predicted_as_anomaly'] == False)])\n",
    "\n",
    "precision = true_anomaly / (true_anomaly + false_anomaly)\n",
    "recall = true_anomaly / (true_anomaly + false_normal)\n",
    "f1 = 2 * precision * recall / (precision + recall)\n",
    "\n",
    "print(\"precision: \" + str(precision))\n",
    "print(\"recall: \" + str(recall))\n",
    "print(\"f1-score: \" + str(f1))"
   ]
  },
  {
   "cell_type": "code",
   "execution_count": null,
   "metadata": {},
   "outputs": [],
   "source": [
    "#beat f1 of .59?"
   ]
  }
 ],
 "metadata": {
  "kernelspec": {
   "display_name": "Python 3",
   "language": "python",
   "name": "python3"
  },
  "language_info": {
   "codemirror_mode": {
    "name": "ipython",
    "version": 3
   },
   "file_extension": ".py",
   "mimetype": "text/x-python",
   "name": "python",
   "nbconvert_exporter": "python",
   "pygments_lexer": "ipython3",
   "version": "3.10.9"
  },
  "orig_nbformat": 4,
  "vscode": {
   "interpreter": {
    "hash": "e97064513f0d268e2f073204e543b8077386c7433ee9f7232070081c2302a999"
   }
  }
 },
 "nbformat": 4,
 "nbformat_minor": 2
}
