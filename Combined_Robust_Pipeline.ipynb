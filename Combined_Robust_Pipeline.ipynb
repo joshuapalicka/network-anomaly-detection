{
 "cells": [
  {
   "cell_type": "code",
   "execution_count": null,
   "metadata": {},
   "outputs": [],
   "source": [
    "from pandas import read_csv, DataFrame\n",
    "from autoencoder.autoencoder import AnomalyDetector\n",
    "from turtleIsolationForests.isolationForest import IsolationForest\n",
    "from turtleIsolationForests.extendedIsolationForest import ExtendedIsolationForest\n",
    "from turtleIsolationForests.sciForest import SCIsolationForest\n",
    "from turtleIsolationForests.FBIF import FBIsolationForest\n",
    "from turtleIsolationForests.preprocessFeatures import minmax_preprocess_features, minmax_preprocess_denoised_features, minmax_preprocess_z_features\n",
    "from turtleIsolationForests.printResults import calc_confusion, calc_f1, print_by_result, get_auroc_value\n",
    "from pipelineUtils.runPipeline import addZToData\n",
    "from time import time"
   ]
  },
  {
   "cell_type": "code",
   "execution_count": null,
   "metadata": {},
   "outputs": [],
   "source": [
    "train_dataframe = read_csv(\"./eda_simple_classification/network_data_mod_train.csv\", index_col=0)\n",
    "test_dataframe = read_csv(\"./eda_simple_classification/network_data_mod_test.csv\", index_col=0)\n",
    "robust_ae_train_dataframe = read_csv('./Robust_Autoencoder_Cleaned_Training_Normals.csv', index_col=0)\n",
    "X_train, X_test, train_labels, test_labels = minmax_preprocess_features(train_dataframe, test_dataframe)\n",
    "X_train_ae = minmax_preprocess_denoised_features(robust_ae_train_dataframe)\n",
    "train_labels_np = train_labels.to_numpy()\n",
    "test_labels_np = test_labels.to_numpy()\n",
    "contamination = sum(train_labels) / len(train_labels)\n",
    "contamination"
   ]
  },
  {
   "cell_type": "code",
   "execution_count": null,
   "metadata": {},
   "outputs": [],
   "source": [
    "epochs = 1200\n",
    "repeats = 3"
   ]
  },
  {
   "cell_type": "code",
   "execution_count": null,
   "metadata": {},
   "outputs": [],
   "source": [
    "def initAutoenc():\n",
    "    autoenc = AnomalyDetector()\n",
    "    autoenc.compile(optimizer='adam', loss='mae')\n",
    "    return autoenc\n",
    "\n",
    "autoencs = [initAutoenc() for i in range(repeats)]\n",
    "for autoenc in autoencs:\n",
    "    autoenc.pipeline_fit(X_train_ae, epochs=epochs)\n",
    "\n",
    "\n"
   ]
  },
  {
   "cell_type": "code",
   "execution_count": null,
   "metadata": {},
   "outputs": [],
   "source": [
    "from tensorflow.keras.losses import mae\n",
    "from tensorflow.math import less\n",
    "import numpy as np\n",
    "def pipeline_predict(autoenc, test_data, contamination):\n",
    "        reconstructions = autoenc.predict(test_data)\n",
    "        test_loss = mae(test_data, reconstructions) # 1 = anomaly (same as data)\n",
    "        contamination = contamination + 0.3 * (1 - contamination) #corrective factor to contamination to increase autoencoder recall\n",
    "        threshold = np.percentile(test_loss, 100 - 100 * contamination)\n",
    "        predictions = less(threshold, test_loss) # if threshold < loss, then we return a 1, as it's an anomaly, else return 0\n",
    "        return test_loss.numpy(), predictions.numpy()\n",
    "\n",
    "def timed_pipeline_predict(autoenc):\n",
    "    start_time = time()\n",
    "    ae_scores, ae_predictions = pipeline_predict(autoenc, X_test, contamination=contamination)\n",
    "    ae_time = time() - start_time\n",
    "    return ae_scores, ae_predictions, ae_time\n",
    "\n",
    "autoenc_score_predictions_time = [timed_pipeline_predict(autoenc) for autoenc in autoencs]\n",
    "\n",
    "pre_Z_cols = X_train.shape[1]\n",
    "def addZAndScale(i):\n",
    "    autoenc = autoencs[i]\n",
    "    ae_predictions = autoenc_score_predictions_time[i][1]\n",
    "    X_train_forest = addZToData(X_train, autoenc)\n",
    "    X_train_forest.iloc[:,pre_Z_cols:] = minmax_preprocess_z_features(X_train_forest.iloc[:,pre_Z_cols:])\n",
    "    X_test_forest = addZToData(X_test[ae_predictions], autoenc)\n",
    "    X_test_forest.iloc[:,pre_Z_cols:] = minmax_preprocess_z_features(X_test_forest.iloc[:,pre_Z_cols:])\n",
    "    return X_train_forest, X_test_forest\n",
    "\n",
    "X_data_forests = [addZAndScale(i) for i in range(repeats)]"
   ]
  },
  {
   "cell_type": "code",
   "execution_count": null,
   "metadata": {},
   "outputs": [],
   "source": [
    "def run_pipeline_with_pretrained_autoenc(i, iForest, intermediatePrint = True):\n",
    "    ae_scores, ae_predictions, ae_time = autoenc_score_predictions_time[i]\n",
    "    ae_TA, ae_FA, ae_FN, ae_TN = calc_confusion(ae_predictions, test_labels_np)\n",
    "    if intermediatePrint:\n",
    "        ae_auroc = get_auroc_value(ae_scores, test_labels_np)\n",
    "        ae_precision, ae_recall, ae_f1 = calc_f1(ae_TA, ae_FA, ae_FN, ae_TN)\n",
    "        print(\"Autoencoder Results\")\n",
    "        print_by_result(ae_TA, ae_FA, ae_FN, ae_TN, ae_precision, ae_recall, ae_f1)\n",
    "        print(\"auroc: \" + str(ae_auroc))\n",
    "        print(\"test set prediction time: \" + str(ae_time))\n",
    "        print(\"\")\n",
    "    X_train_forest, X_test_forest = X_data_forests[i]\n",
    "    iForest.fit(X_train_forest, train_labels_np)\n",
    "    test_labels_forest_np = test_labels_np[ae_predictions]\n",
    "    start_time = time()\n",
    "    if_scores, if_predictions = iForest.predict(X_test_forest, test_labels_forest_np)\n",
    "    if_time = time() - start_time\n",
    "    if_TA, if_FA, if_FN, if_TN = calc_confusion(if_predictions, test_labels_forest_np)\n",
    "    if intermediatePrint:\n",
    "        print(\"Isolation Forest Results\")\n",
    "        if_precision, if_recall, if_f1 = calc_f1(if_TA, if_FA, if_FN, if_TN)\n",
    "        if_auroc = get_auroc_value(if_scores, test_labels_forest_np)\n",
    "        print_by_result(if_TA, if_FA, if_FN, if_TN, if_precision, if_recall, if_f1)\n",
    "        print(\"auroc: \" + str(if_auroc))\n",
    "        print(\"test set prediction time: \" + str(if_time))\n",
    "        print(\"\")\n",
    "    TA = if_TA\n",
    "    FA = if_FA\n",
    "    FN = ae_FN + if_FN\n",
    "    TN = ae_TN + if_TN\n",
    "    precision, recall, f1 = calc_f1(TA, FA, FN, TN)\n",
    "    print(\"Pipeline Results:\")\n",
    "    print_by_result(TA, FA, FN, TN, precision, recall, f1)\n",
    "    print(\"Stage 1 prediction time: \" + str(ae_time))\n",
    "    print(\"Percentage of data passed to stage 2: \" + str(sum(ae_predictions) / len(ae_predictions)))\n",
    "    print(\"Stage 2 prediction time: \" + str(if_time))"
   ]
  },
  {
   "cell_type": "code",
   "execution_count": null,
   "metadata": {},
   "outputs": [],
   "source": [
    "def run_pipelines_with_pretrained_autoencs(runs, iForest):\n",
    "    for i in range(runs):\n",
    "        run_pipeline_with_pretrained_autoenc(i, iForest)"
   ]
  },
  {
   "cell_type": "code",
   "execution_count": null,
   "metadata": {},
   "outputs": [],
   "source": [
    "iForest = IsolationForest(contamination = contamination, random_state = None)\n",
    "run_pipelines_with_pretrained_autoencs(repeats, iForest)"
   ]
  },
  {
   "cell_type": "code",
   "execution_count": null,
   "metadata": {},
   "outputs": [],
   "source": [
    "eif = ExtendedIsolationForest(contamination = contamination, random_state = None)\n",
    "run_pipelines_with_pretrained_autoencs(repeats, eif)"
   ]
  },
  {
   "cell_type": "code",
   "execution_count": null,
   "metadata": {},
   "outputs": [],
   "source": [
    "scif = SCIsolationForest(num_hyperplanes_per_split = 10, num_attributes_per_split = 5, contamination = contamination, random_state = None)\n",
    "run_pipelines_with_pretrained_autoencs(repeats, scif)"
   ]
  },
  {
   "cell_type": "code",
   "execution_count": null,
   "metadata": {},
   "outputs": [],
   "source": [
    "fbif = FBIsolationForest(c1 = 1.0, c2 = 1.0, contamination = contamination, random_state = None)\n",
    "run_pipelines_with_pretrained_autoencs(repeats, fbif)"
   ]
  },
  {
   "cell_type": "code",
   "execution_count": null,
   "metadata": {},
   "outputs": [],
   "source": []
  }
 ],
 "metadata": {
  "kernelspec": {
   "display_name": "Python 3",
   "language": "python",
   "name": "python3"
  },
  "language_info": {
   "codemirror_mode": {
    "name": "ipython",
    "version": 3
   },
   "file_extension": ".py",
   "mimetype": "text/x-python",
   "name": "python",
   "nbconvert_exporter": "python",
   "pygments_lexer": "ipython3",
   "version": "3.10.9"
  },
  "orig_nbformat": 4
 },
 "nbformat": 4,
 "nbformat_minor": 2
}
