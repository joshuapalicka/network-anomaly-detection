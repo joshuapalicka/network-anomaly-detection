{
 "cells": [
  {
   "cell_type": "code",
   "execution_count": 1,
   "metadata": {},
   "outputs": [],
   "source": [
    "import pandas as pd\n",
    "from turtleIsolationForests.isolationForest import IsolationForest\n",
    "from turtleIsolationForests.preprocessFeatures import preprocess_features\n",
    "from turtleIsolationForests.printResults import notebook_visual_printout, csv_printout"
   ]
  },
  {
   "cell_type": "code",
   "execution_count": 2,
   "metadata": {},
   "outputs": [],
   "source": [
    "train_dataframe = pd.read_csv(\"./eda_simple_classification/network_data_mod_train.csv\", index_col=0)\n",
    "test_dataframe = pd.read_csv(\"./eda_simple_classification/network_data_mod_test.csv\", index_col=0)\n",
    "X_train, X_test, train_labels, test_labels = preprocess_features(train_dataframe, test_dataframe)"
   ]
  },
  {
   "cell_type": "code",
   "execution_count": 3,
   "metadata": {},
   "outputs": [
    {
     "name": "stdout",
     "output_type": "stream",
     "text": [
      "run,precision,recall,f1,auroc,test_predict_time\n",
      "0,0.9278836304036058,0.7058365152341619,0.8017703031644168,0.9132499523777093,14.08599853515625\n",
      "1,0.9231496360714623,0.7610067793968674,0.8342730223816845,0.8829078429416977,11.41800332069397\n",
      "2,0.9223443942666405,0.7320969375827944,0.8162822016594986,0.8813812976682799,13.181981801986694\n",
      "3,0.9180312441182006,0.7601496142756955,0.8316637537831961,0.8818139926891931,11.933998107910156\n",
      "4,0.9234449760765551,0.6918101768877114,0.7910188443890053,0.8661620930611176,8.540015459060669\n",
      "5,0.9196559476102043,0.7331878750097405,0.8159035726673604,0.8828949197858796,8.304996490478516\n",
      "6,0.9209501557632399,0.7371620042079015,0.8188703743778404,0.8880748263641013,8.57900595664978\n",
      "7,0.9030874064103642,0.8365152341619263,0.868527508090615,0.900092903889122,8.095999240875244\n",
      "8,0.9108645399907536,0.7676303280604692,0.8331359945872803,0.8628154250049609,8.475000143051147\n",
      "9,0.9122664500406173,0.7875788981531988,0.8453496152559384,0.8775010970639897,8.77197790145874\n",
      "10,0.9058496819851295,0.7879685186628224,0.8428071345224204,0.8901609470929532,13.12000298500061\n",
      "11,0.9112136333678561,0.7541494584274916,0.8252750063954974,0.8931408759675306,12.203001260757446\n",
      "12,0.9003799071338118,0.8310605470271956,0.8643326039387309,0.9025978375776852,12.120000839233398\n",
      "13,0.9046569059798907,0.7992675134419076,0.848702991187787,0.8787582661555917,14.968003273010254\n",
      "14,0.9260450160771704,0.6957063819839476,0.7945181098157872,0.8943996659703248,12.280986070632935\n",
      "15,0.9152207792207793,0.6864334138549053,0.784486597203669,0.8580638963673478,9.1549813747406\n",
      "16,0.8525375558262281,0.8181251461076912,0.8349769365357086,0.8429579148142642,8.10601806640625\n",
      "17,0.9137599560560286,0.7777604613106834,0.8402929786159286,0.902381859185619,8.593005418777466\n",
      "18,0.917955615332885,0.7445647938907504,0.8222183977282506,0.8956280959855143,9.157001733779907\n",
      "19,0.9139509697745397,0.7233694381672251,0.807568508046977,0.8630176778099256,6.984004735946655\n"
     ]
    }
   ],
   "source": [
    "model = IsolationForest(random_state = None)\n",
    "#notebook_visual_printout(X_train, X_test, train_labels, test_labels, model)\n",
    "csv_printout(20, X_train, X_test, train_labels, test_labels, model)"
   ]
  },
  {
   "cell_type": "code",
   "execution_count": null,
   "metadata": {},
   "outputs": [],
   "source": []
  }
 ],
 "metadata": {
  "kernelspec": {
   "display_name": "Python 3",
   "language": "python",
   "name": "python3"
  },
  "language_info": {
   "codemirror_mode": {
    "name": "ipython",
    "version": 3
   },
   "file_extension": ".py",
   "mimetype": "text/x-python",
   "name": "python",
   "nbconvert_exporter": "python",
   "pygments_lexer": "ipython3",
   "version": "3.10.9"
  },
  "orig_nbformat": 4,
  "vscode": {
   "interpreter": {
    "hash": "e97064513f0d268e2f073204e543b8077386c7433ee9f7232070081c2302a999"
   }
  }
 },
 "nbformat": 4,
 "nbformat_minor": 2
}
