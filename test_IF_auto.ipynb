{
 "cells": [
  {
   "cell_type": "code",
   "execution_count": null,
   "metadata": {},
   "outputs": [],
   "source": [
    "import pandas as pd\n",
    "from turtleIsolationForests.isolationForest import IsolationForest\n",
    "from turtleIsolationForests.preprocessFeatures import preprocess_features\n",
    "from turtleIsolationForests.printResults import print_results"
   ]
  },
  {
   "cell_type": "code",
   "execution_count": null,
   "metadata": {},
   "outputs": [],
   "source": [
    "train_dataframe = pd.read_csv(\"./eda_simple_classification/network_data_mod_train.csv\", index_col=0)\n",
    "test_dataframe = pd.read_csv(\"./eda_simple_classification/network_data_mod_test.csv\", index_col=0)\n",
    "train_dataframe"
   ]
  },
  {
   "cell_type": "code",
   "execution_count": null,
   "metadata": {},
   "outputs": [],
   "source": [
    "X_train, X_test, train_labels, test_labels = preprocess_features(train_dataframe, test_dataframe)\n",
    "model = IsolationForest(random_state = None)\n",
    "model.fit(X_train, train_labels)\n",
    "print(\"Threshold: \" + str(model.threshold))\n",
    "print(\"\\nTraining set results:\")\n",
    "train_predictions = model.train_scores\n",
    "train_predictions['is_normal'] = train_labels\n",
    "print_results(train_predictions)\n",
    "print(\"\\nTest set results:\")\n",
    "predictions = automodel.predict(X_test)\n",
    "predictions['is_normal'] = test_labels\n",
    "print_results(predictions)\n",
    "print(\"\\n\")"
   ]
  },
  {
   "attachments": {},
   "cell_type": "markdown",
   "metadata": {},
   "source": [
    "Best auto f1 so far: 0.616"
   ]
  },
  {
   "cell_type": "code",
   "execution_count": null,
   "metadata": {},
   "outputs": [],
   "source": [
    "X_train, X_test, train_labels, test_labels = minmax_preprocess_features(train_dataframe, test_dataframe)\n",
    "model = IsolationForest(random_state = None)\n",
    "model.fit(X_train, train_labels)\n",
    "print(\"Threshold: \" + str(model.threshold))\n",
    "print(\"\\nTraining set results:\")\n",
    "train_predictions = model.train_scores\n",
    "train_predictions['is_normal'] = train_labels\n",
    "print_results(train_predictions)\n",
    "print(\"\\nTest set results:\")\n",
    "predictions = automodel.predict(X_test)\n",
    "predictions['is_normal'] = test_labels\n",
    "print_results(predictions)"
   ]
  },
  {
   "cell_type": "code",
   "execution_count": null,
   "metadata": {},
   "outputs": [],
   "source": []
  }
 ],
 "metadata": {
  "kernelspec": {
   "display_name": "Python 3",
   "language": "python",
   "name": "python3"
  },
  "language_info": {
   "codemirror_mode": {
    "name": "ipython",
    "version": 3
   },
   "file_extension": ".py",
   "mimetype": "text/x-python",
   "name": "python",
   "nbconvert_exporter": "python",
   "pygments_lexer": "ipython3",
   "version": "3.10.9"
  },
  "orig_nbformat": 4,
  "vscode": {
   "interpreter": {
    "hash": "e97064513f0d268e2f073204e543b8077386c7433ee9f7232070081c2302a999"
   }
  }
 },
 "nbformat": 4,
 "nbformat_minor": 2
}
