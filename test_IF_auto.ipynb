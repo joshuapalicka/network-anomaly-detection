{
 "cells": [
  {
   "cell_type": "code",
   "execution_count": 1,
   "metadata": {},
   "outputs": [],
   "source": [
    "import pandas as pd\n",
    "from turtleIsolationForests.isolationForest import IsolationForest\n",
    "from turtleIsolationForests.preprocessFeatures import preprocess_features\n",
    "from turtleIsolationForests.printResults import notebook_visual_printout, csv_printout"
   ]
  },
  {
   "cell_type": "code",
   "execution_count": 2,
   "metadata": {},
   "outputs": [],
   "source": [
    "train_dataframe = pd.read_csv(\"./eda_simple_classification/network_data_mod_train.csv\", index_col=0)\n",
    "test_dataframe = pd.read_csv(\"./eda_simple_classification/network_data_mod_test.csv\", index_col=0)\n",
    "X_train, X_test, train_labels, test_labels = preprocess_features(train_dataframe, test_dataframe)"
   ]
  },
  {
   "cell_type": "code",
   "execution_count": 3,
   "metadata": {},
   "outputs": [
    {
     "name": "stdout",
     "output_type": "stream",
     "text": [
      "Time to fit model: 46.81501388549805\n",
      "Threshold: 0.3703782247493765\n",
      "\n",
      "Training set results:\n",
      "true anomalies: 17354.0\n",
      "false anomalies: 22515.0\n",
      "false normals: 0.0\n",
      "true normals: 6.0\n",
      "precision: 0.43527552735207803\n",
      "recall: 1.0\n",
      "f1-score: 0.6065393285916502\n",
      "auroc: 0.8400235398594545\n",
      "\n",
      "Time to predict test data: 7.416001796722412\n",
      "Test set results:\n",
      "true anomalies: 2994.0\n",
      "false anomalies: 2536.0\n",
      "false normals: 0.0\n",
      "true normals: 0.0\n",
      "precision: 0.5414104882459313\n",
      "recall: 1.0\n",
      "f1-score: 0.7024870952604412\n",
      "auroc: 0.8445878373099139\n",
      "\n",
      "\n"
     ]
    }
   ],
   "source": [
    "model = IsolationForest(random_state = None)\n",
    "notebook_visual_printout(X_train, X_test, train_labels, test_labels, model)\n",
    "#csv_printout(20, X_train, X_test, train_labels, test_labels, model)"
   ]
  },
  {
   "cell_type": "code",
   "execution_count": null,
   "metadata": {},
   "outputs": [],
   "source": []
  }
 ],
 "metadata": {
  "kernelspec": {
   "display_name": "Python 3",
   "language": "python",
   "name": "python3"
  },
  "language_info": {
   "codemirror_mode": {
    "name": "ipython",
    "version": 3
   },
   "file_extension": ".py",
   "mimetype": "text/x-python",
   "name": "python",
   "nbconvert_exporter": "python",
   "pygments_lexer": "ipython3",
   "version": "3.10.9"
  },
  "orig_nbformat": 4,
  "vscode": {
   "interpreter": {
    "hash": "e97064513f0d268e2f073204e543b8077386c7433ee9f7232070081c2302a999"
   }
  }
 },
 "nbformat": 4,
 "nbformat_minor": 2
}
