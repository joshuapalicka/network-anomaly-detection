{
 "cells": [
  {
   "cell_type": "code",
   "execution_count": 38,
   "metadata": {
    "pycharm": {
     "name": "#%%\n"
    }
   },
   "outputs": [],
   "source": [
    "import pandas as pd\n",
    "from turtleIsolationForests.isolationForest import IsolationForest\n",
    "from sklearn.preprocessing import StandardScaler"
   ]
  },
  {
   "cell_type": "code",
   "execution_count": 39,
   "metadata": {
    "pycharm": {
     "name": "#%%\n"
    }
   },
   "outputs": [
    {
     "data": {
      "text/plain": "        protocol_type_icmp  protocol_type_tcp  protocol_type_udp  service_IRC  \\\n0                      0.0                1.0                0.0          0.0   \n1                      0.0                0.0                1.0          0.0   \n2                      0.0                1.0                0.0          0.0   \n3                      0.0                1.0                0.0          0.0   \n4                      0.0                1.0                0.0          0.0   \n...                    ...                ...                ...          ...   \n125968                 0.0                1.0                0.0          0.0   \n125969                 0.0                0.0                1.0          0.0   \n125970                 0.0                1.0                0.0          0.0   \n125971                 0.0                1.0                0.0          0.0   \n125972                 0.0                1.0                0.0          0.0   \n\n        service_X11  service_Z39_50  service_aol  service_auth  service_bgp  \\\n0               0.0             0.0          0.0           0.0          0.0   \n1               0.0             0.0          0.0           0.0          0.0   \n2               0.0             0.0          0.0           0.0          0.0   \n3               0.0             0.0          0.0           0.0          0.0   \n4               0.0             0.0          0.0           0.0          0.0   \n...             ...             ...          ...           ...          ...   \n125968          0.0             0.0          0.0           0.0          0.0   \n125969          0.0             0.0          0.0           0.0          0.0   \n125970          0.0             0.0          0.0           0.0          0.0   \n125971          0.0             0.0          0.0           0.0          0.0   \n125972          0.0             0.0          0.0           0.0          0.0   \n\n        service_courier  ...  dst_host_count  dst_host_srv_count  \\\n0                   0.0  ...             150                  25   \n1                   0.0  ...             255                   1   \n2                   0.0  ...             255                  26   \n3                   0.0  ...              30                 255   \n4                   0.0  ...             255                 255   \n...                 ...  ...             ...                 ...   \n125968              0.0  ...             255                  25   \n125969              0.0  ...             255                 244   \n125970              0.0  ...             255                  30   \n125971              0.0  ...             255                   8   \n125972              0.0  ...             255                  77   \n\n        dst_host_same_srv_rate  dst_host_diff_srv_rate  \\\n0                         0.17                    0.03   \n1                         0.00                    0.60   \n2                         0.10                    0.05   \n3                         1.00                    0.00   \n4                         1.00                    0.00   \n...                        ...                     ...   \n125968                    0.10                    0.06   \n125969                    0.96                    0.01   \n125970                    0.12                    0.06   \n125971                    0.03                    0.05   \n125972                    0.30                    0.03   \n\n        dst_host_same_src_port_rate  dst_host_srv_diff_host_rate  \\\n0                              0.17                         0.00   \n1                              0.88                         0.00   \n2                              0.00                         0.00   \n3                              0.03                         0.04   \n4                              0.00                         0.00   \n...                             ...                          ...   \n125968                         0.00                         0.00   \n125969                         0.01                         0.00   \n125970                         0.00                         0.00   \n125971                         0.00                         0.00   \n125972                         0.30                         0.00   \n\n        dst_host_serror_rate  dst_host_srv_serror_rate  dst_host_rerror_rate  \\\n0                       0.00                      0.00                  0.05   \n1                       0.00                      0.00                  0.00   \n2                       1.00                      1.00                  0.00   \n3                       0.03                      0.01                  0.00   \n4                       0.00                      0.00                  0.00   \n...                      ...                       ...                   ...   \n125968                  1.00                      1.00                  0.00   \n125969                  0.00                      0.00                  0.00   \n125970                  0.72                      0.00                  0.01   \n125971                  1.00                      1.00                  0.00   \n125972                  0.00                      0.00                  0.00   \n\n        dst_host_srv_rerror_rate  \n0                           0.00  \n1                           0.00  \n2                           0.00  \n3                           0.01  \n4                           0.00  \n...                          ...  \n125968                      0.00  \n125969                      0.00  \n125970                      0.00  \n125971                      0.00  \n125972                      0.00  \n\n[125973 rows x 162 columns]",
      "text/html": "<div>\n<style scoped>\n    .dataframe tbody tr th:only-of-type {\n        vertical-align: middle;\n    }\n\n    .dataframe tbody tr th {\n        vertical-align: top;\n    }\n\n    .dataframe thead th {\n        text-align: right;\n    }\n</style>\n<table border=\"1\" class=\"dataframe\">\n  <thead>\n    <tr style=\"text-align: right;\">\n      <th></th>\n      <th>protocol_type_icmp</th>\n      <th>protocol_type_tcp</th>\n      <th>protocol_type_udp</th>\n      <th>service_IRC</th>\n      <th>service_X11</th>\n      <th>service_Z39_50</th>\n      <th>service_aol</th>\n      <th>service_auth</th>\n      <th>service_bgp</th>\n      <th>service_courier</th>\n      <th>...</th>\n      <th>dst_host_count</th>\n      <th>dst_host_srv_count</th>\n      <th>dst_host_same_srv_rate</th>\n      <th>dst_host_diff_srv_rate</th>\n      <th>dst_host_same_src_port_rate</th>\n      <th>dst_host_srv_diff_host_rate</th>\n      <th>dst_host_serror_rate</th>\n      <th>dst_host_srv_serror_rate</th>\n      <th>dst_host_rerror_rate</th>\n      <th>dst_host_srv_rerror_rate</th>\n    </tr>\n  </thead>\n  <tbody>\n    <tr>\n      <th>0</th>\n      <td>0.0</td>\n      <td>1.0</td>\n      <td>0.0</td>\n      <td>0.0</td>\n      <td>0.0</td>\n      <td>0.0</td>\n      <td>0.0</td>\n      <td>0.0</td>\n      <td>0.0</td>\n      <td>0.0</td>\n      <td>...</td>\n      <td>150</td>\n      <td>25</td>\n      <td>0.17</td>\n      <td>0.03</td>\n      <td>0.17</td>\n      <td>0.00</td>\n      <td>0.00</td>\n      <td>0.00</td>\n      <td>0.05</td>\n      <td>0.00</td>\n    </tr>\n    <tr>\n      <th>1</th>\n      <td>0.0</td>\n      <td>0.0</td>\n      <td>1.0</td>\n      <td>0.0</td>\n      <td>0.0</td>\n      <td>0.0</td>\n      <td>0.0</td>\n      <td>0.0</td>\n      <td>0.0</td>\n      <td>0.0</td>\n      <td>...</td>\n      <td>255</td>\n      <td>1</td>\n      <td>0.00</td>\n      <td>0.60</td>\n      <td>0.88</td>\n      <td>0.00</td>\n      <td>0.00</td>\n      <td>0.00</td>\n      <td>0.00</td>\n      <td>0.00</td>\n    </tr>\n    <tr>\n      <th>2</th>\n      <td>0.0</td>\n      <td>1.0</td>\n      <td>0.0</td>\n      <td>0.0</td>\n      <td>0.0</td>\n      <td>0.0</td>\n      <td>0.0</td>\n      <td>0.0</td>\n      <td>0.0</td>\n      <td>0.0</td>\n      <td>...</td>\n      <td>255</td>\n      <td>26</td>\n      <td>0.10</td>\n      <td>0.05</td>\n      <td>0.00</td>\n      <td>0.00</td>\n      <td>1.00</td>\n      <td>1.00</td>\n      <td>0.00</td>\n      <td>0.00</td>\n    </tr>\n    <tr>\n      <th>3</th>\n      <td>0.0</td>\n      <td>1.0</td>\n      <td>0.0</td>\n      <td>0.0</td>\n      <td>0.0</td>\n      <td>0.0</td>\n      <td>0.0</td>\n      <td>0.0</td>\n      <td>0.0</td>\n      <td>0.0</td>\n      <td>...</td>\n      <td>30</td>\n      <td>255</td>\n      <td>1.00</td>\n      <td>0.00</td>\n      <td>0.03</td>\n      <td>0.04</td>\n      <td>0.03</td>\n      <td>0.01</td>\n      <td>0.00</td>\n      <td>0.01</td>\n    </tr>\n    <tr>\n      <th>4</th>\n      <td>0.0</td>\n      <td>1.0</td>\n      <td>0.0</td>\n      <td>0.0</td>\n      <td>0.0</td>\n      <td>0.0</td>\n      <td>0.0</td>\n      <td>0.0</td>\n      <td>0.0</td>\n      <td>0.0</td>\n      <td>...</td>\n      <td>255</td>\n      <td>255</td>\n      <td>1.00</td>\n      <td>0.00</td>\n      <td>0.00</td>\n      <td>0.00</td>\n      <td>0.00</td>\n      <td>0.00</td>\n      <td>0.00</td>\n      <td>0.00</td>\n    </tr>\n    <tr>\n      <th>...</th>\n      <td>...</td>\n      <td>...</td>\n      <td>...</td>\n      <td>...</td>\n      <td>...</td>\n      <td>...</td>\n      <td>...</td>\n      <td>...</td>\n      <td>...</td>\n      <td>...</td>\n      <td>...</td>\n      <td>...</td>\n      <td>...</td>\n      <td>...</td>\n      <td>...</td>\n      <td>...</td>\n      <td>...</td>\n      <td>...</td>\n      <td>...</td>\n      <td>...</td>\n      <td>...</td>\n    </tr>\n    <tr>\n      <th>125968</th>\n      <td>0.0</td>\n      <td>1.0</td>\n      <td>0.0</td>\n      <td>0.0</td>\n      <td>0.0</td>\n      <td>0.0</td>\n      <td>0.0</td>\n      <td>0.0</td>\n      <td>0.0</td>\n      <td>0.0</td>\n      <td>...</td>\n      <td>255</td>\n      <td>25</td>\n      <td>0.10</td>\n      <td>0.06</td>\n      <td>0.00</td>\n      <td>0.00</td>\n      <td>1.00</td>\n      <td>1.00</td>\n      <td>0.00</td>\n      <td>0.00</td>\n    </tr>\n    <tr>\n      <th>125969</th>\n      <td>0.0</td>\n      <td>0.0</td>\n      <td>1.0</td>\n      <td>0.0</td>\n      <td>0.0</td>\n      <td>0.0</td>\n      <td>0.0</td>\n      <td>0.0</td>\n      <td>0.0</td>\n      <td>0.0</td>\n      <td>...</td>\n      <td>255</td>\n      <td>244</td>\n      <td>0.96</td>\n      <td>0.01</td>\n      <td>0.01</td>\n      <td>0.00</td>\n      <td>0.00</td>\n      <td>0.00</td>\n      <td>0.00</td>\n      <td>0.00</td>\n    </tr>\n    <tr>\n      <th>125970</th>\n      <td>0.0</td>\n      <td>1.0</td>\n      <td>0.0</td>\n      <td>0.0</td>\n      <td>0.0</td>\n      <td>0.0</td>\n      <td>0.0</td>\n      <td>0.0</td>\n      <td>0.0</td>\n      <td>0.0</td>\n      <td>...</td>\n      <td>255</td>\n      <td>30</td>\n      <td>0.12</td>\n      <td>0.06</td>\n      <td>0.00</td>\n      <td>0.00</td>\n      <td>0.72</td>\n      <td>0.00</td>\n      <td>0.01</td>\n      <td>0.00</td>\n    </tr>\n    <tr>\n      <th>125971</th>\n      <td>0.0</td>\n      <td>1.0</td>\n      <td>0.0</td>\n      <td>0.0</td>\n      <td>0.0</td>\n      <td>0.0</td>\n      <td>0.0</td>\n      <td>0.0</td>\n      <td>0.0</td>\n      <td>0.0</td>\n      <td>...</td>\n      <td>255</td>\n      <td>8</td>\n      <td>0.03</td>\n      <td>0.05</td>\n      <td>0.00</td>\n      <td>0.00</td>\n      <td>1.00</td>\n      <td>1.00</td>\n      <td>0.00</td>\n      <td>0.00</td>\n    </tr>\n    <tr>\n      <th>125972</th>\n      <td>0.0</td>\n      <td>1.0</td>\n      <td>0.0</td>\n      <td>0.0</td>\n      <td>0.0</td>\n      <td>0.0</td>\n      <td>0.0</td>\n      <td>0.0</td>\n      <td>0.0</td>\n      <td>0.0</td>\n      <td>...</td>\n      <td>255</td>\n      <td>77</td>\n      <td>0.30</td>\n      <td>0.03</td>\n      <td>0.30</td>\n      <td>0.00</td>\n      <td>0.00</td>\n      <td>0.00</td>\n      <td>0.00</td>\n      <td>0.00</td>\n    </tr>\n  </tbody>\n</table>\n<p>125973 rows × 162 columns</p>\n</div>"
     },
     "execution_count": 39,
     "metadata": {},
     "output_type": "execute_result"
    }
   ],
   "source": [
    "dataframe = pd.read_csv(\"./data_OHE.csv\", index_col=0)\n",
    "dataframe"
   ]
  },
  {
   "cell_type": "code",
   "execution_count": 40,
   "metadata": {
    "pycharm": {
     "name": "#%%\n"
    }
   },
   "outputs": [
    {
     "data": {
      "text/plain": "       protocol_type_icmp  protocol_type_tcp  protocol_type_udp  service_IRC  \\\n0                     0.0                1.0                0.0          0.0   \n1                     0.0                1.0                0.0          0.0   \n2                     0.0                1.0                0.0          0.0   \n3                     1.0                0.0                0.0          0.0   \n4                     0.0                1.0                0.0          0.0   \n...                   ...                ...                ...          ...   \n22539                 0.0                1.0                0.0          0.0   \n22540                 0.0                1.0                0.0          0.0   \n22541                 0.0                1.0                0.0          0.0   \n22542                 0.0                0.0                1.0          0.0   \n22543                 0.0                1.0                0.0          0.0   \n\n       service_X11  service_Z39_50  service_aol  service_auth  service_bgp  \\\n0              0.0             0.0          0.0           0.0          0.0   \n1              0.0             0.0          0.0           0.0          0.0   \n2              0.0             0.0          0.0           0.0          0.0   \n3              0.0             0.0          0.0           0.0          0.0   \n4              0.0             0.0          0.0           0.0          0.0   \n...            ...             ...          ...           ...          ...   \n22539          0.0             0.0          0.0           0.0          0.0   \n22540          0.0             0.0          0.0           0.0          0.0   \n22541          0.0             0.0          0.0           0.0          0.0   \n22542          0.0             0.0          0.0           0.0          0.0   \n22543          0.0             0.0          0.0           0.0          0.0   \n\n       service_courier  ...  dst_host_count  dst_host_srv_count  \\\n0                  0.0  ...             255                  10   \n1                  0.0  ...             255                   1   \n2                  0.0  ...             134                  86   \n3                  0.0  ...               3                  57   \n4                  0.0  ...              29                  86   \n...                ...  ...             ...                 ...   \n22539              0.0  ...             100                 141   \n22540              0.0  ...             197                 255   \n22541              0.0  ...             255                 255   \n22542              0.0  ...             255                 252   \n22543              0.0  ...             255                  21   \n\n       dst_host_same_srv_rate  dst_host_diff_srv_rate  \\\n0                        0.04                    0.06   \n1                        0.00                    0.06   \n2                        0.61                    0.04   \n3                        1.00                    0.00   \n4                        0.31                    0.17   \n...                       ...                     ...   \n22539                    0.72                    0.06   \n22540                    1.00                    0.00   \n22541                    1.00                    0.00   \n22542                    0.99                    0.01   \n22543                    0.08                    0.03   \n\n       dst_host_same_src_port_rate  dst_host_srv_diff_host_rate  \\\n0                             0.00                         0.00   \n1                             0.00                         0.00   \n2                             0.61                         0.02   \n3                             1.00                         0.28   \n4                             0.03                         0.02   \n...                            ...                          ...   \n22539                         0.01                         0.01   \n22540                         0.01                         0.01   \n22541                         0.00                         0.00   \n22542                         0.00                         0.00   \n22543                         0.00                         0.00   \n\n       dst_host_serror_rate  dst_host_srv_serror_rate  dst_host_rerror_rate  \\\n0                      0.00                       0.0                  1.00   \n1                      0.00                       0.0                  1.00   \n2                      0.00                       0.0                  0.00   \n3                      0.00                       0.0                  0.00   \n4                      0.00                       0.0                  0.83   \n...                     ...                       ...                   ...   \n22539                  0.01                       0.0                  0.00   \n22540                  0.01                       0.0                  0.00   \n22541                  0.00                       0.0                  0.07   \n22542                  0.00                       0.0                  0.00   \n22543                  0.00                       0.0                  0.44   \n\n       dst_host_srv_rerror_rate  \n0                          1.00  \n1                          1.00  \n2                          0.00  \n3                          0.00  \n4                          0.71  \n...                         ...  \n22539                      0.00  \n22540                      0.00  \n22541                      0.07  \n22542                      0.00  \n22543                      1.00  \n\n[22544 rows x 162 columns]",
      "text/html": "<div>\n<style scoped>\n    .dataframe tbody tr th:only-of-type {\n        vertical-align: middle;\n    }\n\n    .dataframe tbody tr th {\n        vertical-align: top;\n    }\n\n    .dataframe thead th {\n        text-align: right;\n    }\n</style>\n<table border=\"1\" class=\"dataframe\">\n  <thead>\n    <tr style=\"text-align: right;\">\n      <th></th>\n      <th>protocol_type_icmp</th>\n      <th>protocol_type_tcp</th>\n      <th>protocol_type_udp</th>\n      <th>service_IRC</th>\n      <th>service_X11</th>\n      <th>service_Z39_50</th>\n      <th>service_aol</th>\n      <th>service_auth</th>\n      <th>service_bgp</th>\n      <th>service_courier</th>\n      <th>...</th>\n      <th>dst_host_count</th>\n      <th>dst_host_srv_count</th>\n      <th>dst_host_same_srv_rate</th>\n      <th>dst_host_diff_srv_rate</th>\n      <th>dst_host_same_src_port_rate</th>\n      <th>dst_host_srv_diff_host_rate</th>\n      <th>dst_host_serror_rate</th>\n      <th>dst_host_srv_serror_rate</th>\n      <th>dst_host_rerror_rate</th>\n      <th>dst_host_srv_rerror_rate</th>\n    </tr>\n  </thead>\n  <tbody>\n    <tr>\n      <th>0</th>\n      <td>0.0</td>\n      <td>1.0</td>\n      <td>0.0</td>\n      <td>0.0</td>\n      <td>0.0</td>\n      <td>0.0</td>\n      <td>0.0</td>\n      <td>0.0</td>\n      <td>0.0</td>\n      <td>0.0</td>\n      <td>...</td>\n      <td>255</td>\n      <td>10</td>\n      <td>0.04</td>\n      <td>0.06</td>\n      <td>0.00</td>\n      <td>0.00</td>\n      <td>0.00</td>\n      <td>0.0</td>\n      <td>1.00</td>\n      <td>1.00</td>\n    </tr>\n    <tr>\n      <th>1</th>\n      <td>0.0</td>\n      <td>1.0</td>\n      <td>0.0</td>\n      <td>0.0</td>\n      <td>0.0</td>\n      <td>0.0</td>\n      <td>0.0</td>\n      <td>0.0</td>\n      <td>0.0</td>\n      <td>0.0</td>\n      <td>...</td>\n      <td>255</td>\n      <td>1</td>\n      <td>0.00</td>\n      <td>0.06</td>\n      <td>0.00</td>\n      <td>0.00</td>\n      <td>0.00</td>\n      <td>0.0</td>\n      <td>1.00</td>\n      <td>1.00</td>\n    </tr>\n    <tr>\n      <th>2</th>\n      <td>0.0</td>\n      <td>1.0</td>\n      <td>0.0</td>\n      <td>0.0</td>\n      <td>0.0</td>\n      <td>0.0</td>\n      <td>0.0</td>\n      <td>0.0</td>\n      <td>0.0</td>\n      <td>0.0</td>\n      <td>...</td>\n      <td>134</td>\n      <td>86</td>\n      <td>0.61</td>\n      <td>0.04</td>\n      <td>0.61</td>\n      <td>0.02</td>\n      <td>0.00</td>\n      <td>0.0</td>\n      <td>0.00</td>\n      <td>0.00</td>\n    </tr>\n    <tr>\n      <th>3</th>\n      <td>1.0</td>\n      <td>0.0</td>\n      <td>0.0</td>\n      <td>0.0</td>\n      <td>0.0</td>\n      <td>0.0</td>\n      <td>0.0</td>\n      <td>0.0</td>\n      <td>0.0</td>\n      <td>0.0</td>\n      <td>...</td>\n      <td>3</td>\n      <td>57</td>\n      <td>1.00</td>\n      <td>0.00</td>\n      <td>1.00</td>\n      <td>0.28</td>\n      <td>0.00</td>\n      <td>0.0</td>\n      <td>0.00</td>\n      <td>0.00</td>\n    </tr>\n    <tr>\n      <th>4</th>\n      <td>0.0</td>\n      <td>1.0</td>\n      <td>0.0</td>\n      <td>0.0</td>\n      <td>0.0</td>\n      <td>0.0</td>\n      <td>0.0</td>\n      <td>0.0</td>\n      <td>0.0</td>\n      <td>0.0</td>\n      <td>...</td>\n      <td>29</td>\n      <td>86</td>\n      <td>0.31</td>\n      <td>0.17</td>\n      <td>0.03</td>\n      <td>0.02</td>\n      <td>0.00</td>\n      <td>0.0</td>\n      <td>0.83</td>\n      <td>0.71</td>\n    </tr>\n    <tr>\n      <th>...</th>\n      <td>...</td>\n      <td>...</td>\n      <td>...</td>\n      <td>...</td>\n      <td>...</td>\n      <td>...</td>\n      <td>...</td>\n      <td>...</td>\n      <td>...</td>\n      <td>...</td>\n      <td>...</td>\n      <td>...</td>\n      <td>...</td>\n      <td>...</td>\n      <td>...</td>\n      <td>...</td>\n      <td>...</td>\n      <td>...</td>\n      <td>...</td>\n      <td>...</td>\n      <td>...</td>\n    </tr>\n    <tr>\n      <th>22539</th>\n      <td>0.0</td>\n      <td>1.0</td>\n      <td>0.0</td>\n      <td>0.0</td>\n      <td>0.0</td>\n      <td>0.0</td>\n      <td>0.0</td>\n      <td>0.0</td>\n      <td>0.0</td>\n      <td>0.0</td>\n      <td>...</td>\n      <td>100</td>\n      <td>141</td>\n      <td>0.72</td>\n      <td>0.06</td>\n      <td>0.01</td>\n      <td>0.01</td>\n      <td>0.01</td>\n      <td>0.0</td>\n      <td>0.00</td>\n      <td>0.00</td>\n    </tr>\n    <tr>\n      <th>22540</th>\n      <td>0.0</td>\n      <td>1.0</td>\n      <td>0.0</td>\n      <td>0.0</td>\n      <td>0.0</td>\n      <td>0.0</td>\n      <td>0.0</td>\n      <td>0.0</td>\n      <td>0.0</td>\n      <td>0.0</td>\n      <td>...</td>\n      <td>197</td>\n      <td>255</td>\n      <td>1.00</td>\n      <td>0.00</td>\n      <td>0.01</td>\n      <td>0.01</td>\n      <td>0.01</td>\n      <td>0.0</td>\n      <td>0.00</td>\n      <td>0.00</td>\n    </tr>\n    <tr>\n      <th>22541</th>\n      <td>0.0</td>\n      <td>1.0</td>\n      <td>0.0</td>\n      <td>0.0</td>\n      <td>0.0</td>\n      <td>0.0</td>\n      <td>0.0</td>\n      <td>0.0</td>\n      <td>0.0</td>\n      <td>0.0</td>\n      <td>...</td>\n      <td>255</td>\n      <td>255</td>\n      <td>1.00</td>\n      <td>0.00</td>\n      <td>0.00</td>\n      <td>0.00</td>\n      <td>0.00</td>\n      <td>0.0</td>\n      <td>0.07</td>\n      <td>0.07</td>\n    </tr>\n    <tr>\n      <th>22542</th>\n      <td>0.0</td>\n      <td>0.0</td>\n      <td>1.0</td>\n      <td>0.0</td>\n      <td>0.0</td>\n      <td>0.0</td>\n      <td>0.0</td>\n      <td>0.0</td>\n      <td>0.0</td>\n      <td>0.0</td>\n      <td>...</td>\n      <td>255</td>\n      <td>252</td>\n      <td>0.99</td>\n      <td>0.01</td>\n      <td>0.00</td>\n      <td>0.00</td>\n      <td>0.00</td>\n      <td>0.0</td>\n      <td>0.00</td>\n      <td>0.00</td>\n    </tr>\n    <tr>\n      <th>22543</th>\n      <td>0.0</td>\n      <td>1.0</td>\n      <td>0.0</td>\n      <td>0.0</td>\n      <td>0.0</td>\n      <td>0.0</td>\n      <td>0.0</td>\n      <td>0.0</td>\n      <td>0.0</td>\n      <td>0.0</td>\n      <td>...</td>\n      <td>255</td>\n      <td>21</td>\n      <td>0.08</td>\n      <td>0.03</td>\n      <td>0.00</td>\n      <td>0.00</td>\n      <td>0.00</td>\n      <td>0.0</td>\n      <td>0.44</td>\n      <td>1.00</td>\n    </tr>\n  </tbody>\n</table>\n<p>22544 rows × 162 columns</p>\n</div>"
     },
     "execution_count": 40,
     "metadata": {},
     "output_type": "execute_result"
    }
   ],
   "source": [
    "test_dataframe = pd.read_csv(\"./test_data_OHE.csv\", index_col=0)\n",
    "test_dataframe"
   ]
  },
  {
   "cell_type": "code",
   "execution_count": 41,
   "metadata": {
    "pycharm": {
     "name": "#%%\n"
    }
   },
   "outputs": [],
   "source": [
    "for column in dataframe.columns:\n",
    "    if (column[0:6] == 'class_'):\n",
    "        dataframe.drop(column, axis='columns', inplace=True)\n",
    "\n",
    "test_labels = test_dataframe.xs('class_normal', axis='columns')\n",
    "\n",
    "for column in test_dataframe.columns:\n",
    "    if (column[0:6] == 'class_'):\n",
    "        test_dataframe.drop(column, axis='columns', inplace=True)"
   ]
  },
  {
   "cell_type": "code",
   "execution_count": 42,
   "metadata": {
    "pycharm": {
     "name": "#%%\n"
    }
   },
   "outputs": [],
   "source": [
    "X_train = dataframe\n",
    "X_test = test_dataframe"
   ]
  },
  {
   "cell_type": "code",
   "execution_count": 43,
   "metadata": {
    "pycharm": {
     "name": "#%%\n"
    }
   },
   "outputs": [
    {
     "data": {
      "text/plain": "        protocol_type_icmp  protocol_type_tcp  protocol_type_udp  service_IRC  \\\n0                -0.265429           0.476175          -0.367555    -0.038557   \n1                -0.265429          -2.100067           2.720684    -0.038557   \n2                -0.265429           0.476175          -0.367555    -0.038557   \n3                -0.265429           0.476175          -0.367555    -0.038557   \n4                -0.265429           0.476175          -0.367555    -0.038557   \n...                    ...                ...                ...          ...   \n125968           -0.265429           0.476175          -0.367555    -0.038557   \n125969           -0.265429          -2.100067           2.720684    -0.038557   \n125970           -0.265429           0.476175          -0.367555    -0.038557   \n125971           -0.265429           0.476175          -0.367555    -0.038557   \n125972           -0.265429           0.476175          -0.367555    -0.038557   \n\n        service_X11  service_Z39_50  service_aol  service_auth  service_bgp  \\\n0          -0.02408       -0.083005    -0.003985     -0.087401    -0.075287   \n1          -0.02408       -0.083005    -0.003985     -0.087401    -0.075287   \n2          -0.02408       -0.083005    -0.003985     -0.087401    -0.075287   \n3          -0.02408       -0.083005    -0.003985     -0.087401    -0.075287   \n4          -0.02408       -0.083005    -0.003985     -0.087401    -0.075287   \n...             ...             ...          ...           ...          ...   \n125968     -0.02408       -0.083005    -0.003985     -0.087401    -0.075287   \n125969     -0.02408       -0.083005    -0.003985     -0.087401    -0.075287   \n125970     -0.02408       -0.083005    -0.003985     -0.087401    -0.075287   \n125971     -0.02408       -0.083005    -0.003985     -0.087401    -0.075287   \n125972     -0.02408       -0.083005    -0.003985     -0.087401    -0.075287   \n\n        service_courier  ...  dst_host_count  dst_host_srv_count  \\\n0             -0.076556  ...       -0.324063           -0.818890   \n1             -0.076556  ...        0.734343           -1.035688   \n2             -0.076556  ...        0.734343           -0.809857   \n3             -0.076556  ...       -1.533670            1.258754   \n4             -0.076556  ...        0.734343            1.258754   \n...                 ...  ...             ...                 ...   \n125968        -0.076556  ...        0.734343           -0.818890   \n125969        -0.076556  ...        0.734343            1.159389   \n125970        -0.076556  ...        0.734343           -0.773724   \n125971        -0.076556  ...        0.734343           -0.972455   \n125972        -0.076556  ...        0.734343           -0.349162   \n\n        dst_host_same_srv_rate  dst_host_diff_srv_rate  \\\n0                    -0.782367               -0.280282   \n1                    -1.161030                2.736852   \n2                    -0.938287               -0.174417   \n3                     1.066401               -0.439078   \n4                     1.066401               -0.439078   \n...                        ...                     ...   \n125968               -0.938287               -0.121485   \n125969                0.977304               -0.386146   \n125970               -0.893738               -0.121485   \n125971               -1.094207               -0.174417   \n125972               -0.492801               -0.280282   \n\n        dst_host_same_src_port_rate  dst_host_srv_diff_host_rate  \\\n0                          0.069972                    -0.289103   \n1                          2.367737                    -0.289103   \n2                         -0.480197                    -0.289103   \n3                         -0.383108                     0.066252   \n4                         -0.480197                    -0.289103   \n...                             ...                          ...   \n125968                    -0.480197                    -0.289103   \n125969                    -0.447834                    -0.289103   \n125970                    -0.480197                    -0.289103   \n125971                    -0.480197                    -0.289103   \n125972                     0.490690                    -0.289103   \n\n        dst_host_serror_rate  dst_host_srv_serror_rate  dst_host_rerror_rate  \\\n0                  -0.639532                 -0.624871             -0.224532   \n1                  -0.639532                 -0.624871             -0.387635   \n2                   1.608759                  1.618955             -0.387635   \n3                  -0.572083                 -0.602433             -0.387635   \n4                  -0.639532                 -0.624871             -0.387635   \n...                      ...                       ...                   ...   \n125968              1.608759                  1.618955             -0.387635   \n125969             -0.639532                 -0.624871             -0.387635   \n125970              0.979238                 -0.624871             -0.355014   \n125971              1.608759                  1.618955             -0.387635   \n125972             -0.639532                 -0.624871             -0.387635   \n\n        dst_host_srv_rerror_rate  \n0                      -0.376387  \n1                      -0.376387  \n2                      -0.376387  \n3                      -0.345084  \n4                      -0.376387  \n...                          ...  \n125968                 -0.376387  \n125969                 -0.376387  \n125970                 -0.376387  \n125971                 -0.376387  \n125972                 -0.376387  \n\n[125973 rows x 122 columns]",
      "text/html": "<div>\n<style scoped>\n    .dataframe tbody tr th:only-of-type {\n        vertical-align: middle;\n    }\n\n    .dataframe tbody tr th {\n        vertical-align: top;\n    }\n\n    .dataframe thead th {\n        text-align: right;\n    }\n</style>\n<table border=\"1\" class=\"dataframe\">\n  <thead>\n    <tr style=\"text-align: right;\">\n      <th></th>\n      <th>protocol_type_icmp</th>\n      <th>protocol_type_tcp</th>\n      <th>protocol_type_udp</th>\n      <th>service_IRC</th>\n      <th>service_X11</th>\n      <th>service_Z39_50</th>\n      <th>service_aol</th>\n      <th>service_auth</th>\n      <th>service_bgp</th>\n      <th>service_courier</th>\n      <th>...</th>\n      <th>dst_host_count</th>\n      <th>dst_host_srv_count</th>\n      <th>dst_host_same_srv_rate</th>\n      <th>dst_host_diff_srv_rate</th>\n      <th>dst_host_same_src_port_rate</th>\n      <th>dst_host_srv_diff_host_rate</th>\n      <th>dst_host_serror_rate</th>\n      <th>dst_host_srv_serror_rate</th>\n      <th>dst_host_rerror_rate</th>\n      <th>dst_host_srv_rerror_rate</th>\n    </tr>\n  </thead>\n  <tbody>\n    <tr>\n      <th>0</th>\n      <td>-0.265429</td>\n      <td>0.476175</td>\n      <td>-0.367555</td>\n      <td>-0.038557</td>\n      <td>-0.02408</td>\n      <td>-0.083005</td>\n      <td>-0.003985</td>\n      <td>-0.087401</td>\n      <td>-0.075287</td>\n      <td>-0.076556</td>\n      <td>...</td>\n      <td>-0.324063</td>\n      <td>-0.818890</td>\n      <td>-0.782367</td>\n      <td>-0.280282</td>\n      <td>0.069972</td>\n      <td>-0.289103</td>\n      <td>-0.639532</td>\n      <td>-0.624871</td>\n      <td>-0.224532</td>\n      <td>-0.376387</td>\n    </tr>\n    <tr>\n      <th>1</th>\n      <td>-0.265429</td>\n      <td>-2.100067</td>\n      <td>2.720684</td>\n      <td>-0.038557</td>\n      <td>-0.02408</td>\n      <td>-0.083005</td>\n      <td>-0.003985</td>\n      <td>-0.087401</td>\n      <td>-0.075287</td>\n      <td>-0.076556</td>\n      <td>...</td>\n      <td>0.734343</td>\n      <td>-1.035688</td>\n      <td>-1.161030</td>\n      <td>2.736852</td>\n      <td>2.367737</td>\n      <td>-0.289103</td>\n      <td>-0.639532</td>\n      <td>-0.624871</td>\n      <td>-0.387635</td>\n      <td>-0.376387</td>\n    </tr>\n    <tr>\n      <th>2</th>\n      <td>-0.265429</td>\n      <td>0.476175</td>\n      <td>-0.367555</td>\n      <td>-0.038557</td>\n      <td>-0.02408</td>\n      <td>-0.083005</td>\n      <td>-0.003985</td>\n      <td>-0.087401</td>\n      <td>-0.075287</td>\n      <td>-0.076556</td>\n      <td>...</td>\n      <td>0.734343</td>\n      <td>-0.809857</td>\n      <td>-0.938287</td>\n      <td>-0.174417</td>\n      <td>-0.480197</td>\n      <td>-0.289103</td>\n      <td>1.608759</td>\n      <td>1.618955</td>\n      <td>-0.387635</td>\n      <td>-0.376387</td>\n    </tr>\n    <tr>\n      <th>3</th>\n      <td>-0.265429</td>\n      <td>0.476175</td>\n      <td>-0.367555</td>\n      <td>-0.038557</td>\n      <td>-0.02408</td>\n      <td>-0.083005</td>\n      <td>-0.003985</td>\n      <td>-0.087401</td>\n      <td>-0.075287</td>\n      <td>-0.076556</td>\n      <td>...</td>\n      <td>-1.533670</td>\n      <td>1.258754</td>\n      <td>1.066401</td>\n      <td>-0.439078</td>\n      <td>-0.383108</td>\n      <td>0.066252</td>\n      <td>-0.572083</td>\n      <td>-0.602433</td>\n      <td>-0.387635</td>\n      <td>-0.345084</td>\n    </tr>\n    <tr>\n      <th>4</th>\n      <td>-0.265429</td>\n      <td>0.476175</td>\n      <td>-0.367555</td>\n      <td>-0.038557</td>\n      <td>-0.02408</td>\n      <td>-0.083005</td>\n      <td>-0.003985</td>\n      <td>-0.087401</td>\n      <td>-0.075287</td>\n      <td>-0.076556</td>\n      <td>...</td>\n      <td>0.734343</td>\n      <td>1.258754</td>\n      <td>1.066401</td>\n      <td>-0.439078</td>\n      <td>-0.480197</td>\n      <td>-0.289103</td>\n      <td>-0.639532</td>\n      <td>-0.624871</td>\n      <td>-0.387635</td>\n      <td>-0.376387</td>\n    </tr>\n    <tr>\n      <th>...</th>\n      <td>...</td>\n      <td>...</td>\n      <td>...</td>\n      <td>...</td>\n      <td>...</td>\n      <td>...</td>\n      <td>...</td>\n      <td>...</td>\n      <td>...</td>\n      <td>...</td>\n      <td>...</td>\n      <td>...</td>\n      <td>...</td>\n      <td>...</td>\n      <td>...</td>\n      <td>...</td>\n      <td>...</td>\n      <td>...</td>\n      <td>...</td>\n      <td>...</td>\n      <td>...</td>\n    </tr>\n    <tr>\n      <th>125968</th>\n      <td>-0.265429</td>\n      <td>0.476175</td>\n      <td>-0.367555</td>\n      <td>-0.038557</td>\n      <td>-0.02408</td>\n      <td>-0.083005</td>\n      <td>-0.003985</td>\n      <td>-0.087401</td>\n      <td>-0.075287</td>\n      <td>-0.076556</td>\n      <td>...</td>\n      <td>0.734343</td>\n      <td>-0.818890</td>\n      <td>-0.938287</td>\n      <td>-0.121485</td>\n      <td>-0.480197</td>\n      <td>-0.289103</td>\n      <td>1.608759</td>\n      <td>1.618955</td>\n      <td>-0.387635</td>\n      <td>-0.376387</td>\n    </tr>\n    <tr>\n      <th>125969</th>\n      <td>-0.265429</td>\n      <td>-2.100067</td>\n      <td>2.720684</td>\n      <td>-0.038557</td>\n      <td>-0.02408</td>\n      <td>-0.083005</td>\n      <td>-0.003985</td>\n      <td>-0.087401</td>\n      <td>-0.075287</td>\n      <td>-0.076556</td>\n      <td>...</td>\n      <td>0.734343</td>\n      <td>1.159389</td>\n      <td>0.977304</td>\n      <td>-0.386146</td>\n      <td>-0.447834</td>\n      <td>-0.289103</td>\n      <td>-0.639532</td>\n      <td>-0.624871</td>\n      <td>-0.387635</td>\n      <td>-0.376387</td>\n    </tr>\n    <tr>\n      <th>125970</th>\n      <td>-0.265429</td>\n      <td>0.476175</td>\n      <td>-0.367555</td>\n      <td>-0.038557</td>\n      <td>-0.02408</td>\n      <td>-0.083005</td>\n      <td>-0.003985</td>\n      <td>-0.087401</td>\n      <td>-0.075287</td>\n      <td>-0.076556</td>\n      <td>...</td>\n      <td>0.734343</td>\n      <td>-0.773724</td>\n      <td>-0.893738</td>\n      <td>-0.121485</td>\n      <td>-0.480197</td>\n      <td>-0.289103</td>\n      <td>0.979238</td>\n      <td>-0.624871</td>\n      <td>-0.355014</td>\n      <td>-0.376387</td>\n    </tr>\n    <tr>\n      <th>125971</th>\n      <td>-0.265429</td>\n      <td>0.476175</td>\n      <td>-0.367555</td>\n      <td>-0.038557</td>\n      <td>-0.02408</td>\n      <td>-0.083005</td>\n      <td>-0.003985</td>\n      <td>-0.087401</td>\n      <td>-0.075287</td>\n      <td>-0.076556</td>\n      <td>...</td>\n      <td>0.734343</td>\n      <td>-0.972455</td>\n      <td>-1.094207</td>\n      <td>-0.174417</td>\n      <td>-0.480197</td>\n      <td>-0.289103</td>\n      <td>1.608759</td>\n      <td>1.618955</td>\n      <td>-0.387635</td>\n      <td>-0.376387</td>\n    </tr>\n    <tr>\n      <th>125972</th>\n      <td>-0.265429</td>\n      <td>0.476175</td>\n      <td>-0.367555</td>\n      <td>-0.038557</td>\n      <td>-0.02408</td>\n      <td>-0.083005</td>\n      <td>-0.003985</td>\n      <td>-0.087401</td>\n      <td>-0.075287</td>\n      <td>-0.076556</td>\n      <td>...</td>\n      <td>0.734343</td>\n      <td>-0.349162</td>\n      <td>-0.492801</td>\n      <td>-0.280282</td>\n      <td>0.490690</td>\n      <td>-0.289103</td>\n      <td>-0.639532</td>\n      <td>-0.624871</td>\n      <td>-0.387635</td>\n      <td>-0.376387</td>\n    </tr>\n  </tbody>\n</table>\n<p>125973 rows × 122 columns</p>\n</div>"
     },
     "execution_count": 43,
     "metadata": {},
     "output_type": "execute_result"
    }
   ],
   "source": [
    "scaler = StandardScaler()\n",
    "X_train = pd.DataFrame(scaler.fit_transform(X_train), columns = X_train.columns)\n",
    "X_test = pd.DataFrame(scaler.transform(X_test), columns = X_test.columns)\n",
    "X_train"
   ]
  },
  {
   "cell_type": "code",
   "execution_count": 44,
   "metadata": {
    "pycharm": {
     "name": "#%%\n"
    }
   },
   "outputs": [
    {
     "data": {
      "text/plain": "<turtleIsolationForests.isolationForest.IsolationForest at 0x1c56c3c7f10>"
     },
     "execution_count": 44,
     "metadata": {},
     "output_type": "execute_result"
    }
   ],
   "source": [
    "model = IsolationForest(random_state = None)\n",
    "model.fit(X_train)\n",
    "model"
   ]
  },
  {
   "cell_type": "code",
   "execution_count": 45,
   "metadata": {
    "pycharm": {
     "name": "#%%\n"
    }
   },
   "outputs": [],
   "source": [
    "predictions = model.predict(X_test)"
   ]
  },
  {
   "cell_type": "code",
   "execution_count": 46,
   "metadata": {
    "pycharm": {
     "name": "#%%\n"
    }
   },
   "outputs": [
    {
     "data": {
      "text/plain": "       anomaly_score\n0               5.78\n1               5.76\n2               6.36\n3               5.43\n4               5.69\n...              ...\n22539           6.73\n22540           6.52\n22541           6.34\n22542           6.40\n22543           5.53\n\n[22544 rows x 1 columns]",
      "text/html": "<div>\n<style scoped>\n    .dataframe tbody tr th:only-of-type {\n        vertical-align: middle;\n    }\n\n    .dataframe tbody tr th {\n        vertical-align: top;\n    }\n\n    .dataframe thead th {\n        text-align: right;\n    }\n</style>\n<table border=\"1\" class=\"dataframe\">\n  <thead>\n    <tr style=\"text-align: right;\">\n      <th></th>\n      <th>anomaly_score</th>\n    </tr>\n  </thead>\n  <tbody>\n    <tr>\n      <th>0</th>\n      <td>5.78</td>\n    </tr>\n    <tr>\n      <th>1</th>\n      <td>5.76</td>\n    </tr>\n    <tr>\n      <th>2</th>\n      <td>6.36</td>\n    </tr>\n    <tr>\n      <th>3</th>\n      <td>5.43</td>\n    </tr>\n    <tr>\n      <th>4</th>\n      <td>5.69</td>\n    </tr>\n    <tr>\n      <th>...</th>\n      <td>...</td>\n    </tr>\n    <tr>\n      <th>22539</th>\n      <td>6.73</td>\n    </tr>\n    <tr>\n      <th>22540</th>\n      <td>6.52</td>\n    </tr>\n    <tr>\n      <th>22541</th>\n      <td>6.34</td>\n    </tr>\n    <tr>\n      <th>22542</th>\n      <td>6.40</td>\n    </tr>\n    <tr>\n      <th>22543</th>\n      <td>5.53</td>\n    </tr>\n  </tbody>\n</table>\n<p>22544 rows × 1 columns</p>\n</div>"
     },
     "execution_count": 46,
     "metadata": {},
     "output_type": "execute_result"
    }
   ],
   "source": [
    "predictions"
   ]
  },
  {
   "cell_type": "code",
   "execution_count": 47,
   "metadata": {
    "pycharm": {
     "name": "#%%\n"
    }
   },
   "outputs": [
    {
     "data": {
      "text/plain": "       anomaly_score  is_normal\n0               5.78        0.0\n1               5.76        0.0\n2               6.36        1.0\n3               5.43        0.0\n4               5.69        0.0\n...              ...        ...\n22539           6.73        1.0\n22540           6.52        1.0\n22541           6.34        0.0\n22542           6.40        1.0\n22543           5.53        0.0\n\n[22544 rows x 2 columns]",
      "text/html": "<div>\n<style scoped>\n    .dataframe tbody tr th:only-of-type {\n        vertical-align: middle;\n    }\n\n    .dataframe tbody tr th {\n        vertical-align: top;\n    }\n\n    .dataframe thead th {\n        text-align: right;\n    }\n</style>\n<table border=\"1\" class=\"dataframe\">\n  <thead>\n    <tr style=\"text-align: right;\">\n      <th></th>\n      <th>anomaly_score</th>\n      <th>is_normal</th>\n    </tr>\n  </thead>\n  <tbody>\n    <tr>\n      <th>0</th>\n      <td>5.78</td>\n      <td>0.0</td>\n    </tr>\n    <tr>\n      <th>1</th>\n      <td>5.76</td>\n      <td>0.0</td>\n    </tr>\n    <tr>\n      <th>2</th>\n      <td>6.36</td>\n      <td>1.0</td>\n    </tr>\n    <tr>\n      <th>3</th>\n      <td>5.43</td>\n      <td>0.0</td>\n    </tr>\n    <tr>\n      <th>4</th>\n      <td>5.69</td>\n      <td>0.0</td>\n    </tr>\n    <tr>\n      <th>...</th>\n      <td>...</td>\n      <td>...</td>\n    </tr>\n    <tr>\n      <th>22539</th>\n      <td>6.73</td>\n      <td>1.0</td>\n    </tr>\n    <tr>\n      <th>22540</th>\n      <td>6.52</td>\n      <td>1.0</td>\n    </tr>\n    <tr>\n      <th>22541</th>\n      <td>6.34</td>\n      <td>0.0</td>\n    </tr>\n    <tr>\n      <th>22542</th>\n      <td>6.40</td>\n      <td>1.0</td>\n    </tr>\n    <tr>\n      <th>22543</th>\n      <td>5.53</td>\n      <td>0.0</td>\n    </tr>\n  </tbody>\n</table>\n<p>22544 rows × 2 columns</p>\n</div>"
     },
     "execution_count": 47,
     "metadata": {},
     "output_type": "execute_result"
    }
   ],
   "source": [
    "evaluate = pd.DataFrame()\n",
    "evaluate['anomaly_score'] = predictions\n",
    "evaluate['is_normal'] = test_labels\n",
    "evaluate"
   ]
  },
  {
   "cell_type": "code",
   "execution_count": 48,
   "metadata": {
    "pycharm": {
     "name": "#%%\n"
    }
   },
   "outputs": [
    {
     "data": {
      "text/plain": "       anomaly_score     is_normal\ncount   22544.000000  22544.000000\nmean        6.213274      0.430758\nstd         0.382313      0.495193\nmin         5.000000      0.000000\n25%         5.850000      0.000000\n50%         6.370000      0.000000\n75%         6.510000      1.000000\nmax         6.920000      1.000000",
      "text/html": "<div>\n<style scoped>\n    .dataframe tbody tr th:only-of-type {\n        vertical-align: middle;\n    }\n\n    .dataframe tbody tr th {\n        vertical-align: top;\n    }\n\n    .dataframe thead th {\n        text-align: right;\n    }\n</style>\n<table border=\"1\" class=\"dataframe\">\n  <thead>\n    <tr style=\"text-align: right;\">\n      <th></th>\n      <th>anomaly_score</th>\n      <th>is_normal</th>\n    </tr>\n  </thead>\n  <tbody>\n    <tr>\n      <th>count</th>\n      <td>22544.000000</td>\n      <td>22544.000000</td>\n    </tr>\n    <tr>\n      <th>mean</th>\n      <td>6.213274</td>\n      <td>0.430758</td>\n    </tr>\n    <tr>\n      <th>std</th>\n      <td>0.382313</td>\n      <td>0.495193</td>\n    </tr>\n    <tr>\n      <th>min</th>\n      <td>5.000000</td>\n      <td>0.000000</td>\n    </tr>\n    <tr>\n      <th>25%</th>\n      <td>5.850000</td>\n      <td>0.000000</td>\n    </tr>\n    <tr>\n      <th>50%</th>\n      <td>6.370000</td>\n      <td>0.000000</td>\n    </tr>\n    <tr>\n      <th>75%</th>\n      <td>6.510000</td>\n      <td>1.000000</td>\n    </tr>\n    <tr>\n      <th>max</th>\n      <td>6.920000</td>\n      <td>1.000000</td>\n    </tr>\n  </tbody>\n</table>\n</div>"
     },
     "execution_count": 48,
     "metadata": {},
     "output_type": "execute_result"
    }
   ],
   "source": [
    "evaluate.describe()"
   ]
  },
  {
   "cell_type": "code",
   "execution_count": 49,
   "metadata": {
    "pycharm": {
     "name": "#%%\n"
    }
   },
   "outputs": [
    {
     "data": {
      "text/plain": "       anomaly_score  is_normal  predicted_anomaly\n0               5.78        0.0               True\n1               5.76        0.0               True\n2               6.36        1.0              False\n3               5.43        0.0               True\n4               5.69        0.0               True\n...              ...        ...                ...\n22539           6.73        1.0              False\n22540           6.52        1.0              False\n22541           6.34        0.0              False\n22542           6.40        1.0              False\n22543           5.53        0.0               True\n\n[22544 rows x 3 columns]",
      "text/html": "<div>\n<style scoped>\n    .dataframe tbody tr th:only-of-type {\n        vertical-align: middle;\n    }\n\n    .dataframe tbody tr th {\n        vertical-align: top;\n    }\n\n    .dataframe thead th {\n        text-align: right;\n    }\n</style>\n<table border=\"1\" class=\"dataframe\">\n  <thead>\n    <tr style=\"text-align: right;\">\n      <th></th>\n      <th>anomaly_score</th>\n      <th>is_normal</th>\n      <th>predicted_anomaly</th>\n    </tr>\n  </thead>\n  <tbody>\n    <tr>\n      <th>0</th>\n      <td>5.78</td>\n      <td>0.0</td>\n      <td>True</td>\n    </tr>\n    <tr>\n      <th>1</th>\n      <td>5.76</td>\n      <td>0.0</td>\n      <td>True</td>\n    </tr>\n    <tr>\n      <th>2</th>\n      <td>6.36</td>\n      <td>1.0</td>\n      <td>False</td>\n    </tr>\n    <tr>\n      <th>3</th>\n      <td>5.43</td>\n      <td>0.0</td>\n      <td>True</td>\n    </tr>\n    <tr>\n      <th>4</th>\n      <td>5.69</td>\n      <td>0.0</td>\n      <td>True</td>\n    </tr>\n    <tr>\n      <th>...</th>\n      <td>...</td>\n      <td>...</td>\n      <td>...</td>\n    </tr>\n    <tr>\n      <th>22539</th>\n      <td>6.73</td>\n      <td>1.0</td>\n      <td>False</td>\n    </tr>\n    <tr>\n      <th>22540</th>\n      <td>6.52</td>\n      <td>1.0</td>\n      <td>False</td>\n    </tr>\n    <tr>\n      <th>22541</th>\n      <td>6.34</td>\n      <td>0.0</td>\n      <td>False</td>\n    </tr>\n    <tr>\n      <th>22542</th>\n      <td>6.40</td>\n      <td>1.0</td>\n      <td>False</td>\n    </tr>\n    <tr>\n      <th>22543</th>\n      <td>5.53</td>\n      <td>0.0</td>\n      <td>True</td>\n    </tr>\n  </tbody>\n</table>\n<p>22544 rows × 3 columns</p>\n</div>"
     },
     "execution_count": 49,
     "metadata": {},
     "output_type": "execute_result"
    }
   ],
   "source": [
    "evaluate['predicted_anomaly'] = evaluate['anomaly_score'] < 6.1\n",
    "evaluate"
   ]
  },
  {
   "cell_type": "code",
   "execution_count": 50,
   "metadata": {
    "pycharm": {
     "name": "#%%\n"
    }
   },
   "outputs": [
    {
     "name": "stdout",
     "output_type": "stream",
     "text": [
      "precision: 0.5\n",
      "recall: 0.6709714524730733\n",
      "f1-score: 0.5730041078764064\n"
     ]
    }
   ],
   "source": [
    "true_anomaly = len(evaluate[evaluate['is_normal'] == 0 & (evaluate['predicted_anomaly'] == True)])\n",
    "false_anomaly = len(evaluate[evaluate['is_normal'] == 0 & (evaluate['predicted_anomaly'] == False)])\n",
    "false_normal = len(evaluate[evaluate['is_normal'] == 1 & (evaluate['predicted_anomaly'] == True)])\n",
    "true_normal = len(evaluate[evaluate['is_normal'] == 1 & (evaluate['predicted_anomaly'] == False)])\n",
    "\n",
    "precision = true_anomaly / (true_anomaly + false_anomaly)\n",
    "recall = true_anomaly / (true_anomaly + false_normal)\n",
    "f1 = 2 * precision * recall / (precision + recall)\n",
    "\n",
    "print(\"precision: \" + str(precision))\n",
    "print(\"recall: \" + str(recall))\n",
    "print(\"f1-score: \" + str(f1))"
   ]
  },
  {
   "cell_type": "code",
   "execution_count": 51,
   "outputs": [
    {
     "data": {
      "text/plain": "       anomaly_score  is_normal  predicted_anomaly\n0               5.78        0.0               True\n1               5.76        0.0               True\n2               6.36        1.0              False\n3               5.43        0.0               True\n4               5.69        0.0               True\n...              ...        ...                ...\n22539           6.73        1.0              False\n22540           6.52        1.0              False\n22541           6.34        0.0              False\n22542           6.40        1.0              False\n22543           5.53        0.0               True\n\n[22544 rows x 3 columns]",
      "text/html": "<div>\n<style scoped>\n    .dataframe tbody tr th:only-of-type {\n        vertical-align: middle;\n    }\n\n    .dataframe tbody tr th {\n        vertical-align: top;\n    }\n\n    .dataframe thead th {\n        text-align: right;\n    }\n</style>\n<table border=\"1\" class=\"dataframe\">\n  <thead>\n    <tr style=\"text-align: right;\">\n      <th></th>\n      <th>anomaly_score</th>\n      <th>is_normal</th>\n      <th>predicted_anomaly</th>\n    </tr>\n  </thead>\n  <tbody>\n    <tr>\n      <th>0</th>\n      <td>5.78</td>\n      <td>0.0</td>\n      <td>True</td>\n    </tr>\n    <tr>\n      <th>1</th>\n      <td>5.76</td>\n      <td>0.0</td>\n      <td>True</td>\n    </tr>\n    <tr>\n      <th>2</th>\n      <td>6.36</td>\n      <td>1.0</td>\n      <td>False</td>\n    </tr>\n    <tr>\n      <th>3</th>\n      <td>5.43</td>\n      <td>0.0</td>\n      <td>True</td>\n    </tr>\n    <tr>\n      <th>4</th>\n      <td>5.69</td>\n      <td>0.0</td>\n      <td>True</td>\n    </tr>\n    <tr>\n      <th>...</th>\n      <td>...</td>\n      <td>...</td>\n      <td>...</td>\n    </tr>\n    <tr>\n      <th>22539</th>\n      <td>6.73</td>\n      <td>1.0</td>\n      <td>False</td>\n    </tr>\n    <tr>\n      <th>22540</th>\n      <td>6.52</td>\n      <td>1.0</td>\n      <td>False</td>\n    </tr>\n    <tr>\n      <th>22541</th>\n      <td>6.34</td>\n      <td>0.0</td>\n      <td>False</td>\n    </tr>\n    <tr>\n      <th>22542</th>\n      <td>6.40</td>\n      <td>1.0</td>\n      <td>False</td>\n    </tr>\n    <tr>\n      <th>22543</th>\n      <td>5.53</td>\n      <td>0.0</td>\n      <td>True</td>\n    </tr>\n  </tbody>\n</table>\n<p>22544 rows × 3 columns</p>\n</div>"
     },
     "execution_count": 51,
     "metadata": {},
     "output_type": "execute_result"
    }
   ],
   "source": [
    "evaluate"
   ],
   "metadata": {
    "collapsed": false,
    "pycharm": {
     "name": "#%%\n"
    }
   }
  },
  {
   "cell_type": "code",
   "execution_count": 52,
   "outputs": [],
   "source": [
    "predicted_list = list(evaluate[\"predicted_anomaly\"])\n",
    "test_list = list(evaluate[\"is_normal\"])"
   ],
   "metadata": {
    "collapsed": false,
    "pycharm": {
     "name": "#%%\n"
    }
   }
  }
 ],
 "metadata": {
  "kernelspec": {
   "display_name": "Python 3",
   "language": "python",
   "name": "python3"
  },
  "language_info": {
   "codemirror_mode": {
    "name": "ipython",
    "version": 3
   },
   "file_extension": ".py",
   "mimetype": "text/x-python",
   "name": "python",
   "nbconvert_exporter": "python",
   "pygments_lexer": "ipython3",
   "version": "3.10.9"
  },
  "orig_nbformat": 4,
  "vscode": {
   "interpreter": {
    "hash": "e97064513f0d268e2f073204e543b8077386c7433ee9f7232070081c2302a999"
   }
  }
 },
 "nbformat": 4,
 "nbformat_minor": 2
}