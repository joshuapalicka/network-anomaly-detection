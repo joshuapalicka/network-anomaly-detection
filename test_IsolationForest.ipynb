{
 "cells": [
  {
   "cell_type": "code",
   "execution_count": 1,
   "metadata": {
    "pycharm": {
     "name": "#%%\n"
    }
   },
   "outputs": [],
   "source": [
    "import pandas as pd\n",
    "from turtleIsolationForests.isolationForest import IsolationForest\n",
    "from turtleIsolationForests.preprocessFeatures import preprocess_features\n",
    "from turtleIsolationForests.printResults import notebook_visual_printout, csv_printout"
   ]
  },
  {
   "cell_type": "code",
   "execution_count": 2,
   "metadata": {
    "pycharm": {
     "name": "#%%\n"
    }
   },
   "outputs": [
    {
     "data": {
      "text/plain": [
       "0.4654171925730117"
      ]
     },
     "execution_count": 2,
     "metadata": {},
     "output_type": "execute_result"
    }
   ],
   "source": [
    "train_dataframe = pd.read_csv(\"./eda_simple_classification/network_data_mod_train.csv\", index_col=0)\n",
    "test_dataframe = pd.read_csv(\"./eda_simple_classification/network_data_mod_test.csv\", index_col=0)\n",
    "X_train, X_test, train_labels, test_labels = preprocess_features(train_dataframe, test_dataframe)\n",
    "contamination = sum(train_labels) / len(train_labels)\n",
    "contamination"
   ]
  },
  {
   "cell_type": "code",
   "execution_count": 3,
   "metadata": {
    "collapsed": false,
    "pycharm": {
     "name": "#%%\n"
    }
   },
   "outputs": [
    {
     "name": "stdout",
     "output_type": "stream",
     "text": [
      "run,precision,recall,f1,auroc,test_predict_time\n",
      "0,0.9107636571646487,0.744408945686901,0.8192264814338394,0.8769400371106815,12.60499882698059\n",
      "1,0.92089407191448,0.7384087898386971,0.8196168317259871,0.8670602303236167,11.579999446868896\n",
      "2,0.9238478923061806,0.7326424062962674,0.8172099087353325,0.8463833896467571,12.00199818611145\n",
      "3,0.9106306306306307,0.7876568222551235,0.844691430242761,0.8762187396544038,11.572998285293579\n",
      "4,0.9184176778139489,0.7254733889191927,0.8106225511536786,0.8679508969508679,12.499995946884155\n",
      "5,0.9191385615603413,0.7050572742149147,0.7979891520042335,0.8902879559164794,8.025000095367432\n",
      "6,0.9101757023395659,0.7548507753448142,0.8252683591753279,0.8637100034847183,7.789980411529541\n",
      "7,0.899124407150675,0.7681757967739422,0.8285077951002228,0.871010069926831,7.706020355224609\n",
      "8,0.9213559322033898,0.7412919816099119,0.8215735383020987,0.880641452012888,8.252999544143677\n",
      "9,0.9194202898550725,0.7415257539156861,0.8209463831255661,0.8924801099151113,8.505002975463867\n",
      "10,0.8475268626232129,0.7437076287695784,0.7922304308126503,0.839035722980917,8.251997709274292\n",
      "11,0.883427797986634,0.8137613963999065,0.8471647602823071,0.8521472455306444,11.236999750137329\n",
      "12,0.9172834566913383,0.7146419387516559,0.8033813674390083,0.8674132639788765,13.234995603561401\n",
      "13,0.916305081477196,0.7405127405906647,0.8190829167384935,0.8975845558554483,14.511013984680176\n",
      "14,0.9151142692529287,0.7426166913426323,0.8198907385899256,0.8614535827646042,13.192980766296387\n",
      "15,0.9239214175654854,0.7476038338658147,0.8264633673601242,0.9096951216101862,13.250012874603271\n",
      "16,0.9159214618973561,0.7342788124366867,0.8151031529778122,0.8558782861958317,8.976999759674072\n",
      "17,0.9219415271075788,0.7592924491545235,0.8327493376634476,0.8746411878364609,9.17401671409607\n",
      "18,0.9205706574127627,0.7441751733811268,0.8230275347955358,0.8797076386555318,8.738005638122559\n",
      "19,0.9224617185214083,0.7370061560040521,0.8193710473880274,0.9111420576759843,8.75198483467102\n"
     ]
    }
   ],
   "source": [
    "model = IsolationForest(contamination = contamination, random_state = None)\n",
    "#notebook_visual_printout(X_train, X_test, train_labels, test_labels, model)\n",
    "csv_printout(20, X_train, X_test, train_labels, test_labels, model)"
   ]
  },
  {
   "cell_type": "code",
   "execution_count": null,
   "metadata": {},
   "outputs": [],
   "source": []
  }
 ],
 "metadata": {
  "kernelspec": {
   "display_name": "Python 3",
   "language": "python",
   "name": "python3"
  },
  "language_info": {
   "codemirror_mode": {
    "name": "ipython",
    "version": 3
   },
   "file_extension": ".py",
   "mimetype": "text/x-python",
   "name": "python",
   "nbconvert_exporter": "python",
   "pygments_lexer": "ipython3",
   "version": "3.10.9"
  },
  "orig_nbformat": 4,
  "vscode": {
   "interpreter": {
    "hash": "e97064513f0d268e2f073204e543b8077386c7433ee9f7232070081c2302a999"
   }
  }
 },
 "nbformat": 4,
 "nbformat_minor": 2
}
