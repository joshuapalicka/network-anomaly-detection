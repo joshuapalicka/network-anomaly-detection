{
 "cells": [
  {
   "cell_type": "code",
   "execution_count": 5,
   "metadata": {
    "pycharm": {
     "name": "#%%\n"
    }
   },
   "outputs": [],
   "source": [
    "import pandas as pd\n",
    "from turtleIsolationForests.isolationForest import IsolationForest\n",
    "from turtleIsolationForests.preprocessFeatures import preprocess_features\n",
    "from turtleIsolationForests.printResults import notebook_visual_printout, csv_printout"
   ]
  },
  {
   "cell_type": "code",
   "execution_count": 6,
   "metadata": {
    "pycharm": {
     "name": "#%%\n"
    }
   },
   "outputs": [
    {
     "data": {
      "text/plain": [
       "0.4654171925730117"
      ]
     },
     "execution_count": 6,
     "metadata": {},
     "output_type": "execute_result"
    }
   ],
   "source": [
    "train_dataframe = pd.read_csv(\"./eda_simple_classification/network_data_mod_train.csv\", index_col=0)\n",
    "test_dataframe = pd.read_csv(\"./eda_simple_classification/network_data_mod_test.csv\", index_col=0)\n",
    "X_train, X_test, train_labels, test_labels = preprocess_features(train_dataframe, test_dataframe)\n",
    "contamination = sum(train_labels) / len(train_labels)\n",
    "contamination"
   ]
  },
  {
   "cell_type": "code",
   "execution_count": 7,
   "metadata": {
    "collapsed": false,
    "pycharm": {
     "name": "#%%\n"
    }
   },
   "outputs": [
    {
     "name": "stdout",
     "output_type": "stream",
     "text": [
      "run,precision,recall,f1,auroc,test_predict_time\n",
      "0,0.9110695292495569,0.7208758669056339,0.804889720276678,0.9116405681107563,8.633143901824951\n",
      "1,0.9185341925555449,0.7441751733811268,0.8222126560482136,0.8911651778075785,8.824243307113647\n",
      "2,0.921655437921078,0.7462012000311696,0.8246996512078543,0.8850307471205776,9.116861343383789\n",
      "3,0.916010760187307,0.7164341930959246,0.8040227372103192,0.8973533232446858,8.985573768615723\n",
      "4,0.923173197265813,0.7472142133561911,0.825925925925926,0.8906139556618039,9.282220363616943\n",
      "5,0.8888165845495957,0.7450323385022988,0.8105977108944469,0.8567915212029267,9.23456072807312\n",
      "6,0.9139003156988424,0.744408945686901,0.8204930000858887,0.8825586007742515,8.589173078536987\n",
      "7,0.9046055717099709,0.751500038962051,0.8209755682301865,0.8585757271614235,9.837826013565063\n",
      "8,0.9169534083511578,0.7683316449777916,0.8360892054608666,0.8847200978857034,9.012724876403809\n",
      "9,0.8809584285835238,0.8108002805267669,0.8444246063950658,0.8695258729643913,9.208282947540283\n",
      "10,0.9201919310614963,0.7322527857866438,0.8155348231720547,0.8646596367748255,9.411566972732544\n",
      "11,0.9161670663469225,0.7144860905478064,0.8028545160019264,0.8751128970663697,9.111391305923462\n",
      "12,0.9154648956356736,0.7518896594716746,0.8256535318529928,0.90075240611227,9.694580793380737\n",
      "13,0.9221993833504625,0.6992129665705603,0.7953729557239729,0.8665668313761192,9.861783742904663\n",
      "14,0.8953959484346224,0.757733967116029,0.8208331574726713,0.8594176821976198,9.626350164413452\n",
      "15,0.9080459770114943,0.7325644821943427,0.8109203829897351,0.8822797679397616,9.385416746139526\n",
      "16,0.90980921179418,0.7357593703732564,0.8135797682133471,0.8754540065927594,9.25485634803772\n",
      "17,0.9181326781326782,0.7279669601807839,0.8120653685674548,0.8990683556144027,9.307778358459473\n",
      "18,0.8634853003834683,0.7896049248032416,0.8248941712797134,0.8638670874327441,9.397308111190796\n",
      "19,0.880600925845052,0.7856307956050806,0.8304093567251462,0.8815488212473019,8.465596914291382\n"
     ]
    }
   ],
   "source": [
    "model = IsolationForest(contamination = contamination, random_state = None)\n",
    "#notebook_visual_printout(X_train, X_test, train_labels, test_labels, model)\n",
    "csv_printout(20, X_train, X_test, train_labels, test_labels, model)"
   ]
  },
  {
   "cell_type": "code",
   "execution_count": null,
   "metadata": {},
   "outputs": [],
   "source": []
  }
 ],
 "metadata": {
  "kernelspec": {
   "display_name": "Python 3",
   "language": "python",
   "name": "python3"
  },
  "language_info": {
   "codemirror_mode": {
    "name": "ipython",
    "version": 3
   },
   "file_extension": ".py",
   "mimetype": "text/x-python",
   "name": "python",
   "nbconvert_exporter": "python",
   "pygments_lexer": "ipython3",
   "version": "3.10.9"
  },
  "orig_nbformat": 4,
  "vscode": {
   "interpreter": {
    "hash": "e97064513f0d268e2f073204e543b8077386c7433ee9f7232070081c2302a999"
   }
  }
 },
 "nbformat": 4,
 "nbformat_minor": 2
}
