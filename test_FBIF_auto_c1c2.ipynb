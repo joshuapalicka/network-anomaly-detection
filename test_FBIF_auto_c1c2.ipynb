{
 "cells": [
  {
   "cell_type": "code",
   "execution_count": 1,
   "metadata": {},
   "outputs": [],
   "source": [
    "import pandas as pd\n",
    "from turtleIsolationForests.FBIF import FBIsolationForest\n",
    "from turtleIsolationForests.printResults import print_results, print_by_result, return_results, calc_f1\n",
    "from turtleIsolationForests.preprocessFeatures import preprocess_features"
   ]
  },
  {
   "cell_type": "code",
   "execution_count": 2,
   "metadata": {},
   "outputs": [],
   "source": [
    "train_dataframe = pd.read_csv(\"./eda_simple_classification/network_data_mod_train.csv\", index_col=0)\n",
    "test_dataframe = pd.read_csv(\"./eda_simple_classification/network_data_mod_test.csv\", index_col=0)\n",
    "X_train, X_test, train_labels, test_labels = preprocess_features(train_dataframe, test_dataframe)"
   ]
  },
  {
   "cell_type": "code",
   "execution_count": 3,
   "metadata": {},
   "outputs": [
    {
     "name": "stdout",
     "output_type": "stream",
     "text": [
      "run,c1,c2,precision,recall,f1\n",
      "\n",
      "1.0,1.0,0.8909090909090909,0.8132938517883581,0.8503340394329476\n",
      "\n",
      "1.0,0.9,0.7463885469974736,0.8978415023766851,0.8151397240891404\n",
      "\n",
      "1.0,0.8,0.7814516665557847,0.9152965012078236,0.8430950330175135\n",
      "\n",
      "1.0,0.7,0.735364926507856,0.9044650510402867,0.8111961421532655\n",
      "\n",
      "1.0,0.6,0.7171849038689769,0.9417906958622302,0.8142833080680477\n",
      "\n",
      "1.1,1.0,0.8018250208971859,0.8969843372555131,0.8467394902350216\n",
      "\n",
      "1.1,0.9,0.7442717611646907,0.9441284189199719,0.8323715306402858\n",
      "\n",
      "1.1,0.8,0.7504419191919192,0.9262837995792098,0.8291423987723642\n",
      "\n",
      "1.1,0.7,0.6891105569409809,0.9689862074339594,0.8054278126821686\n",
      "\n",
      "1.1,0.6,0.6876698652171501,0.9661030156627445,0.8034476054695093\n",
      "\n",
      "1.2,1.0,0.8420651262106307,0.8604379334528169,0.8511523934325136\n",
      "\n",
      "1.2,0.9,0.803932951164647,0.8633211252240318,0.8325693244157211\n",
      "\n",
      "1.2,0.8,0.8091703056768559,0.8663601651990961,0.8367892221427765\n",
      "\n",
      "1.2,0.7,0.7663701985047693,0.9265954959869087,0.8389008430632474\n",
      "\n",
      "1.2,0.6,0.758496297702677,0.933920361567833,0.837116714395474\n",
      "\n",
      "1.3,1.0,0.8398629176727159,0.8402555910543131,0.8400592084761608\n",
      "\n",
      "1.3,0.9,0.846404191141451,0.830904698823346,0.8385828319767213\n",
      "\n",
      "1.3,0.8,0.8698875468554769,0.8137613963999065,0.8408889604638055\n",
      "\n",
      "1.3,0.7,0.8551209269772144,0.8568534247642796,0.8559862992371166\n",
      "\n",
      "1.3,0.6,0.8159567472784394,0.8702563702953323,0.8422322775263952\n",
      "\n",
      "1.4,1.0,0.5384800500553497,0.8718148523338268,0.6657542398095804\n",
      "\n"
     ]
    },
    {
     "ename": "KeyboardInterrupt",
     "evalue": "",
     "output_type": "error",
     "traceback": [
      "\u001b[1;31m---------------------------------------------------------------------------\u001b[0m",
      "\u001b[1;31mKeyboardInterrupt\u001b[0m                         Traceback (most recent call last)",
      "Cell \u001b[1;32mIn[3], line 14\u001b[0m\n\u001b[0;32m     12\u001b[0m \u001b[39mprint\u001b[39m(\u001b[39m\"\u001b[39m\u001b[39mrun,c1,c2,precision,recall,f1\u001b[39m\u001b[39m\\n\u001b[39;00m\u001b[39m\"\u001b[39m)\n\u001b[0;32m     13\u001b[0m \u001b[39mfor\u001b[39;00m c1, c2 \u001b[39min\u001b[39;00m c_vals:\n\u001b[1;32m---> 14\u001b[0m     \u001b[39mprint\u001b[39m(testc1c2(c1, c2))\n",
      "Cell \u001b[1;32mIn[3], line 3\u001b[0m, in \u001b[0;36mtestc1c2\u001b[1;34m(c1, c2)\u001b[0m\n\u001b[0;32m      1\u001b[0m \u001b[39mdef\u001b[39;00m \u001b[39mtestc1c2\u001b[39m(c1, c2):\n\u001b[0;32m      2\u001b[0m     model \u001b[39m=\u001b[39m FBIsolationForest(c1 \u001b[39m=\u001b[39m c1, c2 \u001b[39m=\u001b[39m c2, random_state \u001b[39m=\u001b[39m \u001b[39mNone\u001b[39;00m)\n\u001b[1;32m----> 3\u001b[0m     model\u001b[39m.\u001b[39;49mfit(X_train, train_labels)\n\u001b[0;32m      4\u001b[0m     predictions \u001b[39m=\u001b[39m model\u001b[39m.\u001b[39mpredict(X_test)\n\u001b[0;32m      5\u001b[0m     predictions[\u001b[39m'\u001b[39m\u001b[39mis_normal\u001b[39m\u001b[39m'\u001b[39m] \u001b[39m=\u001b[39m test_labels\n",
      "File \u001b[1;32md:\\James\\Documents\\Seattle U\\Winter_23\\Capstone\\Python\\network-anomaly-detection\\turtleIsolationForests\\isolationForest.py:83\u001b[0m, in \u001b[0;36mIsolationForest.fit\u001b[1;34m(self, train_data, train_labels)\u001b[0m\n\u001b[0;32m     81\u001b[0m \u001b[39mif\u001b[39;00m (\u001b[39mself\u001b[39m\u001b[39m.\u001b[39mverbose):\n\u001b[0;32m     82\u001b[0m     \u001b[39mprint\u001b[39m(\u001b[39m\"\u001b[39m\u001b[39mFinished building forest\u001b[39m\u001b[39m\"\u001b[39m)\n\u001b[1;32m---> 83\u001b[0m \u001b[39mself\u001b[39m\u001b[39m.\u001b[39mthreshold \u001b[39m=\u001b[39m \u001b[39mself\u001b[39;49m\u001b[39m.\u001b[39;49m_calculate_anomaly_score_threshold(train_data, train_labels)\n\u001b[0;32m     84\u001b[0m \u001b[39mif\u001b[39;00m (\u001b[39mself\u001b[39m\u001b[39m.\u001b[39mverbose):\n\u001b[0;32m     85\u001b[0m     \u001b[39mprint\u001b[39m(\u001b[39m\"\u001b[39m\u001b[39mFinished calculating threshold\u001b[39m\u001b[39m\"\u001b[39m)\n",
      "File \u001b[1;32md:\\James\\Documents\\Seattle U\\Winter_23\\Capstone\\Python\\network-anomaly-detection\\turtleIsolationForests\\isolationForest.py:106\u001b[0m, in \u001b[0;36mIsolationForest._calculate_anomaly_score_threshold\u001b[1;34m(self, train_data, train_labels)\u001b[0m\n\u001b[0;32m    105\u001b[0m \u001b[39mdef\u001b[39;00m \u001b[39m_calculate_anomaly_score_threshold\u001b[39m(\u001b[39mself\u001b[39m, train_data: pd\u001b[39m.\u001b[39mDataFrame, train_labels: pd\u001b[39m.\u001b[39mDataFrame) \u001b[39m-\u001b[39m\u001b[39m>\u001b[39m \u001b[39mfloat\u001b[39m:\n\u001b[1;32m--> 106\u001b[0m     \u001b[39mself\u001b[39m\u001b[39m.\u001b[39mtrain_scores \u001b[39m=\u001b[39m \u001b[39mself\u001b[39;49m\u001b[39m.\u001b[39;49m_score(train_data)\n\u001b[0;32m    107\u001b[0m     \u001b[39mif\u001b[39;00m \u001b[39mself\u001b[39m\u001b[39m.\u001b[39mcontamination \u001b[39m==\u001b[39m \u001b[39m'\u001b[39m\u001b[39mauto\u001b[39m\u001b[39m'\u001b[39m:\n\u001b[0;32m    108\u001b[0m         \u001b[39mself\u001b[39m\u001b[39m.\u001b[39mtrain_scores[\u001b[39m'\u001b[39m\u001b[39mis_normal\u001b[39m\u001b[39m'\u001b[39m] \u001b[39m=\u001b[39m train_labels\n",
      "File \u001b[1;32md:\\James\\Documents\\Seattle U\\Winter_23\\Capstone\\Python\\network-anomaly-detection\\turtleIsolationForests\\isolationForest.py:135\u001b[0m, in \u001b[0;36mIsolationForest._score\u001b[1;34m(self, data)\u001b[0m\n\u001b[0;32m    133\u001b[0m \u001b[39mdef\u001b[39;00m \u001b[39m_score\u001b[39m(\u001b[39mself\u001b[39m, data: pd\u001b[39m.\u001b[39mDataFrame) \u001b[39m-\u001b[39m\u001b[39m>\u001b[39m pd\u001b[39m.\u001b[39mDataFrame:\n\u001b[0;32m    134\u001b[0m     scoreframe \u001b[39m=\u001b[39m pd\u001b[39m.\u001b[39mDataFrame(index\u001b[39m=\u001b[39mdata\u001b[39m.\u001b[39mindex)\n\u001b[1;32m--> 135\u001b[0m     scoreframe[\u001b[39m'\u001b[39m\u001b[39manomaly_score\u001b[39m\u001b[39m'\u001b[39m] \u001b[39m=\u001b[39m \u001b[39mself\u001b[39;49m\u001b[39m.\u001b[39;49m_calculate_anomaly_scores(data)\n\u001b[0;32m    136\u001b[0m     \u001b[39mreturn\u001b[39;00m scoreframe\n",
      "File \u001b[1;32md:\\James\\Documents\\Seattle U\\Winter_23\\Capstone\\Python\\network-anomaly-detection\\turtleIsolationForests\\isolationForest.py:140\u001b[0m, in \u001b[0;36mIsolationForest._calculate_anomaly_scores\u001b[1;34m(self, data)\u001b[0m\n\u001b[0;32m    138\u001b[0m \u001b[39mdef\u001b[39;00m \u001b[39m_calculate_anomaly_scores\u001b[39m(\u001b[39mself\u001b[39m, data: pd\u001b[39m.\u001b[39mDataFrame) \u001b[39m-\u001b[39m\u001b[39m>\u001b[39m pd\u001b[39m.\u001b[39mDataFrame:\n\u001b[0;32m    139\u001b[0m     \u001b[39mself\u001b[39m\u001b[39m.\u001b[39mlen_data \u001b[39m=\u001b[39m \u001b[39mlen\u001b[39m(data)\n\u001b[1;32m--> 140\u001b[0m     anomaly_scores \u001b[39m=\u001b[39m data\u001b[39m.\u001b[39;49mapply(\u001b[39mself\u001b[39;49m\u001b[39m.\u001b[39;49m_calculate_anomaly_score, axis\u001b[39m=\u001b[39;49m\u001b[39m1\u001b[39;49m, result_type\u001b[39m=\u001b[39;49m\u001b[39m'\u001b[39;49m\u001b[39mreduce\u001b[39;49m\u001b[39m'\u001b[39;49m)\n\u001b[0;32m    141\u001b[0m     \u001b[39mdel\u001b[39;00m \u001b[39mself\u001b[39m\u001b[39m.\u001b[39mlen_data\n\u001b[0;32m    142\u001b[0m     \u001b[39mreturn\u001b[39;00m anomaly_scores\n",
      "File \u001b[1;32mc:\\Users\\James\\AppData\\Local\\Programs\\Python\\Python310\\lib\\site-packages\\pandas\\core\\frame.py:9568\u001b[0m, in \u001b[0;36mDataFrame.apply\u001b[1;34m(self, func, axis, raw, result_type, args, **kwargs)\u001b[0m\n\u001b[0;32m   9557\u001b[0m \u001b[39mfrom\u001b[39;00m \u001b[39mpandas\u001b[39;00m\u001b[39m.\u001b[39;00m\u001b[39mcore\u001b[39;00m\u001b[39m.\u001b[39;00m\u001b[39mapply\u001b[39;00m \u001b[39mimport\u001b[39;00m frame_apply\n\u001b[0;32m   9559\u001b[0m op \u001b[39m=\u001b[39m frame_apply(\n\u001b[0;32m   9560\u001b[0m     \u001b[39mself\u001b[39m,\n\u001b[0;32m   9561\u001b[0m     func\u001b[39m=\u001b[39mfunc,\n\u001b[1;32m   (...)\u001b[0m\n\u001b[0;32m   9566\u001b[0m     kwargs\u001b[39m=\u001b[39mkwargs,\n\u001b[0;32m   9567\u001b[0m )\n\u001b[1;32m-> 9568\u001b[0m \u001b[39mreturn\u001b[39;00m op\u001b[39m.\u001b[39;49mapply()\u001b[39m.\u001b[39m__finalize__(\u001b[39mself\u001b[39m, method\u001b[39m=\u001b[39m\u001b[39m\"\u001b[39m\u001b[39mapply\u001b[39m\u001b[39m\"\u001b[39m)\n",
      "File \u001b[1;32mc:\\Users\\James\\AppData\\Local\\Programs\\Python\\Python310\\lib\\site-packages\\pandas\\core\\apply.py:764\u001b[0m, in \u001b[0;36mFrameApply.apply\u001b[1;34m(self)\u001b[0m\n\u001b[0;32m    761\u001b[0m \u001b[39melif\u001b[39;00m \u001b[39mself\u001b[39m\u001b[39m.\u001b[39mraw:\n\u001b[0;32m    762\u001b[0m     \u001b[39mreturn\u001b[39;00m \u001b[39mself\u001b[39m\u001b[39m.\u001b[39mapply_raw()\n\u001b[1;32m--> 764\u001b[0m \u001b[39mreturn\u001b[39;00m \u001b[39mself\u001b[39;49m\u001b[39m.\u001b[39;49mapply_standard()\n",
      "File \u001b[1;32mc:\\Users\\James\\AppData\\Local\\Programs\\Python\\Python310\\lib\\site-packages\\pandas\\core\\apply.py:891\u001b[0m, in \u001b[0;36mFrameApply.apply_standard\u001b[1;34m(self)\u001b[0m\n\u001b[0;32m    890\u001b[0m \u001b[39mdef\u001b[39;00m \u001b[39mapply_standard\u001b[39m(\u001b[39mself\u001b[39m):\n\u001b[1;32m--> 891\u001b[0m     results, res_index \u001b[39m=\u001b[39m \u001b[39mself\u001b[39;49m\u001b[39m.\u001b[39;49mapply_series_generator()\n\u001b[0;32m    893\u001b[0m     \u001b[39m# wrap results\u001b[39;00m\n\u001b[0;32m    894\u001b[0m     \u001b[39mreturn\u001b[39;00m \u001b[39mself\u001b[39m\u001b[39m.\u001b[39mwrap_results(results, res_index)\n",
      "File \u001b[1;32mc:\\Users\\James\\AppData\\Local\\Programs\\Python\\Python310\\lib\\site-packages\\pandas\\core\\apply.py:907\u001b[0m, in \u001b[0;36mFrameApply.apply_series_generator\u001b[1;34m(self)\u001b[0m\n\u001b[0;32m    904\u001b[0m \u001b[39mwith\u001b[39;00m option_context(\u001b[39m\"\u001b[39m\u001b[39mmode.chained_assignment\u001b[39m\u001b[39m\"\u001b[39m, \u001b[39mNone\u001b[39;00m):\n\u001b[0;32m    905\u001b[0m     \u001b[39mfor\u001b[39;00m i, v \u001b[39min\u001b[39;00m \u001b[39menumerate\u001b[39m(series_gen):\n\u001b[0;32m    906\u001b[0m         \u001b[39m# ignore SettingWithCopy here in case the user mutates\u001b[39;00m\n\u001b[1;32m--> 907\u001b[0m         results[i] \u001b[39m=\u001b[39m \u001b[39mself\u001b[39;49m\u001b[39m.\u001b[39;49mf(v)\n\u001b[0;32m    908\u001b[0m         \u001b[39mif\u001b[39;00m \u001b[39misinstance\u001b[39m(results[i], ABCSeries):\n\u001b[0;32m    909\u001b[0m             \u001b[39m# If we have a view on v, we need to make a copy because\u001b[39;00m\n\u001b[0;32m    910\u001b[0m             \u001b[39m#  series_generator will swap out the underlying data\u001b[39;00m\n\u001b[0;32m    911\u001b[0m             results[i] \u001b[39m=\u001b[39m results[i]\u001b[39m.\u001b[39mcopy(deep\u001b[39m=\u001b[39m\u001b[39mFalse\u001b[39;00m)\n",
      "File \u001b[1;32md:\\James\\Documents\\Seattle U\\Winter_23\\Capstone\\Python\\network-anomaly-detection\\turtleIsolationForests\\isolationForest.py:148\u001b[0m, in \u001b[0;36mIsolationForest._calculate_anomaly_score\u001b[1;34m(self, point)\u001b[0m\n\u001b[0;32m    146\u001b[0m count \u001b[39m=\u001b[39m \u001b[39m0\u001b[39m\n\u001b[0;32m    147\u001b[0m \u001b[39mfor\u001b[39;00m tree \u001b[39min\u001b[39;00m \u001b[39mself\u001b[39m\u001b[39m.\u001b[39mforest:\n\u001b[1;32m--> 148\u001b[0m     running_total \u001b[39m+\u001b[39m\u001b[39m=\u001b[39m tree\u001b[39m.\u001b[39;49mpath_length(point)\n\u001b[0;32m    149\u001b[0m     count \u001b[39m+\u001b[39m\u001b[39m=\u001b[39m \u001b[39m1\u001b[39m\n\u001b[0;32m    150\u001b[0m path_length \u001b[39m=\u001b[39m running_total \u001b[39m/\u001b[39m count\n",
      "File \u001b[1;32md:\\James\\Documents\\Seattle U\\Winter_23\\Capstone\\Python\\network-anomaly-detection\\turtleIsolationForests\\isolationForest.py:31\u001b[0m, in \u001b[0;36mIsolationTree.path_length\u001b[1;34m(self, point)\u001b[0m\n\u001b[0;32m     29\u001b[0m \u001b[39mwhile\u001b[39;00m (tree_pointer\u001b[39m.\u001b[39mdecision \u001b[39mis\u001b[39;00m \u001b[39mnot\u001b[39;00m \u001b[39mNone\u001b[39;00m):  \u001b[39m#only leaves have None decision\u001b[39;00m\n\u001b[0;32m     30\u001b[0m     path_length \u001b[39m+\u001b[39m\u001b[39m=\u001b[39m \u001b[39m1\u001b[39m\n\u001b[1;32m---> 31\u001b[0m     \u001b[39mif\u001b[39;00m (tree_pointer\u001b[39m.\u001b[39;49mdecision\u001b[39m.\u001b[39;49mgo_left(point)):\n\u001b[0;32m     32\u001b[0m         tree_pointer \u001b[39m=\u001b[39m tree_pointer\u001b[39m.\u001b[39mleft\n\u001b[0;32m     33\u001b[0m     \u001b[39melse\u001b[39;00m:\n",
      "File \u001b[1;32md:\\James\\Documents\\Seattle U\\Winter_23\\Capstone\\Python\\network-anomaly-detection\\turtleIsolationForests\\FBIF.py:20\u001b[0m, in \u001b[0;36mHypersphereDecision.go_left\u001b[1;34m(self, point_of_interest)\u001b[0m\n\u001b[0;32m     19\u001b[0m \u001b[39mdef\u001b[39;00m \u001b[39mgo_left\u001b[39m(\u001b[39mself\u001b[39m, point_of_interest: pd\u001b[39m.\u001b[39mSeries) \u001b[39m-\u001b[39m\u001b[39m>\u001b[39m \u001b[39mbool\u001b[39m:\n\u001b[1;32m---> 20\u001b[0m     \u001b[39mreturn\u001b[39;00m euclidean_distance_sq(np\u001b[39m.\u001b[39;49marray(point_of_interest), \u001b[39mself\u001b[39;49m\u001b[39m.\u001b[39;49mcenter) \u001b[39m<\u001b[39m\u001b[39m=\u001b[39m \u001b[39mself\u001b[39m\u001b[39m.\u001b[39mradiusSq\n",
      "File \u001b[1;32md:\\James\\Documents\\Seattle U\\Winter_23\\Capstone\\Python\\network-anomaly-detection\\turtleIsolationForests\\FBIF.py:11\u001b[0m, in \u001b[0;36meuclidean_distance_sq\u001b[1;34m(point1, point2)\u001b[0m\n\u001b[0;32m      9\u001b[0m \u001b[39mdef\u001b[39;00m \u001b[39meuclidean_distance_sq\u001b[39m(point1: np\u001b[39m.\u001b[39mndarray, point2: np\u001b[39m.\u001b[39mndarray) \u001b[39m-\u001b[39m\u001b[39m>\u001b[39m np\u001b[39m.\u001b[39mfloat64:\n\u001b[0;32m     10\u001b[0m     diff \u001b[39m=\u001b[39m point1 \u001b[39m-\u001b[39m point2\n\u001b[1;32m---> 11\u001b[0m     \u001b[39mreturn\u001b[39;00m np\u001b[39m.\u001b[39;49mdot(diff, diff)\n",
      "File \u001b[1;32m<__array_function__ internals>:200\u001b[0m, in \u001b[0;36mdot\u001b[1;34m(*args, **kwargs)\u001b[0m\n",
      "\u001b[1;31mKeyboardInterrupt\u001b[0m: "
     ]
    }
   ],
   "source": [
    "def testc1c2(c1, c2):\n",
    "    model = FBIsolationForest(c1 = c1, c2 = c2, random_state = None)\n",
    "    model.fit(X_train, train_labels)\n",
    "    predictions = model.predict(X_test)\n",
    "    predictions['is_normal'] = test_labels\n",
    "    TA, FA, FN, TN = return_results(predictions)\n",
    "    precision, recall, f1 = calc_f1(TA, FA, FN, TN)\n",
    "    return (str(c1) + \",\" + str(c2) + \",\" + str(precision) + \",\" + str(recall) + \",\" + str(f1))\n",
    "\n",
    "c_vals = [(c1, c2) for c1 in [1.0, 1.1, 1.2, 1.3, 1.4] for c2 in [1.0, 0.9, 0.8, 0.7, 0.6]]\n",
    "\n",
    "print(\"run,c1,c2,precision,recall,f1\")\n",
    "for c1, c2 in c_vals:\n",
    "    print(testc1c2(c1, c2))"
   ]
  }
 ],
 "metadata": {
  "kernelspec": {
   "display_name": "Python 3",
   "language": "python",
   "name": "python3"
  },
  "language_info": {
   "codemirror_mode": {
    "name": "ipython",
    "version": 3
   },
   "file_extension": ".py",
   "mimetype": "text/x-python",
   "name": "python",
   "nbconvert_exporter": "python",
   "pygments_lexer": "ipython3",
   "version": "3.10.9"
  },
  "orig_nbformat": 4,
  "vscode": {
   "interpreter": {
    "hash": "e97064513f0d268e2f073204e543b8077386c7433ee9f7232070081c2302a999"
   }
  }
 },
 "nbformat": 4,
 "nbformat_minor": 2
}
