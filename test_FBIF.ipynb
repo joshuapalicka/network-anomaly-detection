{
 "cells": [
  {
   "cell_type": "code",
   "execution_count": null,
   "metadata": {},
   "outputs": [],
   "source": [
    "import pandas as pd\n",
    "from turtleIsolationForests.FBIF import FBIsolationForest\n",
    "from turtleIsolationForests.printResults import print_results\n",
    "from turtleIsolationForests.preprocessFeatures import preprocess_features"
   ]
  },
  {
   "cell_type": "code",
   "execution_count": null,
   "metadata": {},
   "outputs": [],
   "source": [
    "train_dataframe = pd.read_csv(\"./eda_simple_classification/network_data_mod_train.csv\", index_col=0)\n",
    "test_dataframe = pd.read_csv(\"./eda_simple_classification/network_data_mod_test.csv\", index_col=0)\n",
    "train_dataframe"
   ]
  },
  {
   "cell_type": "code",
   "execution_count": null,
   "metadata": {},
   "outputs": [],
   "source": [
    "X_train, X_test, train_labels, test_labels = standard_preprocess_features(train_dataframe, test_dataframe)"
   ]
  },
  {
   "cell_type": "code",
   "execution_count": null,
   "metadata": {},
   "outputs": [],
   "source": [
    "contamination = sum(train_labels == 0) / len(train_labels)\n",
    "contamination"
   ]
  },
  {
   "cell_type": "code",
   "execution_count": null,
   "metadata": {},
   "outputs": [],
   "source": [
    "model = FBIsolationForest(contamination = contamination, random_state = None)\n",
    "model.fit(X_train, train_labels)\n",
    "print(\"Threshold: \" + str(model.threshold))\n",
    "predictions = model.predict(X_test)\n",
    "predictions['is_normal'] = test_labels\n",
    "print_results(predictions)"
   ]
  },
  {
   "attachments": {},
   "cell_type": "markdown",
   "metadata": {},
   "source": [
    "best f1 so far: 0.674\n",
    "\n",
    "Threshold: 0.35029892368921356\n",
    "\n",
    "true anomalies: 10341\n",
    "\n",
    "false anomalies: 2492\n",
    "\n",
    "false normals: 7513\n",
    "\n",
    "true normals: 2198\n",
    "\n",
    "precision: 0.8058131380035846\n",
    "\n",
    "recall: 0.5791979388372354\n",
    "\n",
    "f1-score: 0.6739661746016228"
   ]
  },
  {
   "cell_type": "code",
   "execution_count": null,
   "metadata": {},
   "outputs": [],
   "source": []
  }
 ],
 "metadata": {
  "kernelspec": {
   "display_name": "Python 3",
   "language": "python",
   "name": "python3"
  },
  "language_info": {
   "codemirror_mode": {
    "name": "ipython",
    "version": 3
   },
   "file_extension": ".py",
   "mimetype": "text/x-python",
   "name": "python",
   "nbconvert_exporter": "python",
   "pygments_lexer": "ipython3",
   "version": "3.10.9"
  },
  "orig_nbformat": 4,
  "vscode": {
   "interpreter": {
    "hash": "e97064513f0d268e2f073204e543b8077386c7433ee9f7232070081c2302a999"
   }
  }
 },
 "nbformat": 4,
 "nbformat_minor": 2
}
