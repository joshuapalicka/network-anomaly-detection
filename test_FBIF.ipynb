{
 "cells": [
  {
   "cell_type": "code",
   "execution_count": 6,
   "metadata": {},
   "outputs": [],
   "source": [
    "import pandas as pd\n",
    "from turtleIsolationForests.FBIF import FBIsolationForest\n",
    "from turtleIsolationForests.printResults import notebook_visual_printout, csv_printout\n",
    "from turtleIsolationForests.preprocessFeatures import preprocess_features"
   ]
  },
  {
   "cell_type": "code",
   "execution_count": 7,
   "metadata": {},
   "outputs": [
    {
     "data": {
      "text/plain": [
       "0.4654171925730117"
      ]
     },
     "execution_count": 7,
     "metadata": {},
     "output_type": "execute_result"
    }
   ],
   "source": [
    "train_dataframe = pd.read_csv(\"./eda_simple_classification/network_data_mod_train.csv\", index_col=0)\n",
    "test_dataframe = pd.read_csv(\"./eda_simple_classification/network_data_mod_test.csv\", index_col=0)\n",
    "X_train, X_test, train_labels, test_labels = preprocess_features(train_dataframe, test_dataframe)\n",
    "contamination = sum(train_labels) / len(train_labels)\n",
    "contamination"
   ]
  },
  {
   "cell_type": "code",
   "execution_count": 8,
   "metadata": {},
   "outputs": [
    {
     "name": "stdout",
     "output_type": "stream",
     "text": [
      "run,precision,recall,f1,auroc,test_predict_time\n",
      "0,0.8344072665165748,0.8375282474869478,0.8359648440538229,0.8770353258255776,68.66411185264587\n",
      "1,0.8172831632653061,0.798877892932284,0.8079757260511488,0.8540332880433092,70.8190803527832\n",
      "2,0.8908831145638003,0.7774487649029845,0.830309587217044,0.8382542431783891,60.70790505409241\n",
      "3,0.8357193147148557,0.8324631808618406,0.8340880699562773,0.8505960094466385,60.87561249732971\n",
      "4,0.8237547892720306,0.7706693680355334,0.7963283546036476,0.8464489884041699,58.4839026927948\n",
      "5,0.7907197719534405,0.778150081820307,0.7843845730893094,0.8325388260589206,53.82232189178467\n",
      "6,0.7816363913906273,0.798020727811112,0.7897435897435898,0.8311782877693993,54.366838693618774\n",
      "7,0.8826265879405976,0.76879918958934,0.8217900129107493,0.8590123821807197,53.90702939033508\n",
      "8,0.80068777761857,0.8708797631107301,0.8343100294875145,0.8807386705750206,55.84247064590454\n",
      "9,0.8547088242773586,0.7857087197070054,0.8187576126674787,0.8502004188482667,54.31449007987976\n",
      "10,0.7730739626338254,0.8609054780643653,0.8146291107506267,0.854526787294717,54.10817623138428\n",
      "11,0.7729839620510504,0.7999688303592302,0.7862449260932834,0.8464636568480293,54.20617413520813\n",
      "12,0.7045423262216105,0.7977090314034131,0.7482366699557798,0.7845595137324198,53.87722086906433\n",
      "13,0.6921641791044776,0.7805657289799736,0.733711774400293,0.8003597949412533,54.05153036117554\n",
      "14,0.7181549150797736,0.8698667497857088,0.7867639285336716,0.8285427624016297,54.4031765460968\n",
      "15,0.7662471480091264,0.8112678251383153,0.7881150643451931,0.8331379453279976,54.2743558883667\n",
      "16,0.7757521861568104,0.8157094989480246,0.7952292323470201,0.8375344783658628,54.231247901916504\n",
      "17,0.8304427021461946,0.8171121327826697,0.8237234878240378,0.8689200895035063,54.087305545806885\n",
      "18,0.8337768038816716,0.8302033819060235,0.8319862559056656,0.8642598815580934,54.36852264404297\n",
      "19,0.8622383252818036,0.8344892075118834,0.8481368550271254,0.8778811646291853,53.91272330284119\n"
     ]
    }
   ],
   "source": [
    "model = FBIsolationForest(contamination = contamination, random_state = None)\n",
    "#notebook_visual_printout(X_train, X_test, train_labels, test_labels, model)\n",
    "csv_printout(20, X_train, X_test, train_labels, test_labels, model)"
   ]
  },
  {
   "cell_type": "code",
   "execution_count": 9,
   "metadata": {},
   "outputs": [
    {
     "name": "stdout",
     "output_type": "stream",
     "text": [
      "run,precision,recall,f1,auroc,test_predict_time\n",
      "0,0.8149783088515108,0.8344112834099587,0.8245803172647468,0.8561167928461775,72.29751110076904\n",
      "1,0.7816083558542108,0.8338658146964856,0.8068918715125922,0.8572920096308124,72.31597423553467\n",
      "2,0.8535711377147976,0.816722512273046,0.8347403631729852,0.8794699224000001,72.44023442268372\n",
      "3,0.8422705314009662,0.8151640302345515,0.8284956242822635,0.8847338756308384,62.78722429275513\n",
      "4,0.7024342473419138,0.7825138315280916,0.7403147922886949,0.7766543579324822,61.74076700210571\n"
     ]
    }
   ],
   "source": [
    "csv_printout(5, X_train, X_test, train_labels, test_labels, model)"
   ]
  },
  {
   "cell_type": "code",
   "execution_count": 10,
   "metadata": {},
   "outputs": [
    {
     "name": "stdout",
     "output_type": "stream",
     "text": [
      "run,precision,recall,f1,auroc,test_predict_time\n",
      "0,0.7639130763988794,0.7861762643185537,0.774884792626728,0.8233324918236465,59.443742990493774\n",
      "1,0.781413331424071,0.8504636484064522,0.8144776119402986,0.8567433753259266,62.692755937576294\n",
      "2,0.864390243902439,0.7594482973583729,0.8085282893645263,0.8188412076998449,62.00902462005615\n",
      "3,0.8760811852359339,0.79716356268994,0.8347613219094246,0.8650588062167207,60.396625995635986\n",
      "4,0.7588862151942248,0.860126237045118,0.806340857622909,0.8491718303320356,60.646353244781494\n"
     ]
    }
   ],
   "source": [
    "csv_printout(5, X_train, X_test, train_labels, test_labels, model)"
   ]
  },
  {
   "cell_type": "code",
   "execution_count": null,
   "metadata": {},
   "outputs": [],
   "source": []
  }
 ],
 "metadata": {
  "kernelspec": {
   "display_name": "Python 3",
   "language": "python",
   "name": "python3"
  },
  "language_info": {
   "codemirror_mode": {
    "name": "ipython",
    "version": 3
   },
   "file_extension": ".py",
   "mimetype": "text/x-python",
   "name": "python",
   "nbconvert_exporter": "python",
   "pygments_lexer": "ipython3",
   "version": "3.10.9"
  },
  "orig_nbformat": 4,
  "vscode": {
   "interpreter": {
    "hash": "e97064513f0d268e2f073204e543b8077386c7433ee9f7232070081c2302a999"
   }
  }
 },
 "nbformat": 4,
 "nbformat_minor": 2
}
